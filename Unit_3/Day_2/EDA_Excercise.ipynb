{
 "cells": [
  {
   "cell_type": "markdown",
   "metadata": {},
   "source": [
    "# Exploratory Data Analysis \n",
    "---"
   ]
  },
  {
   "cell_type": "code",
   "execution_count": 1,
   "metadata": {},
   "outputs": [],
   "source": [
    "import pandas as pd\n",
    "import numpy as np\n",
    "import seaborn as sns                       #visualisation\n",
    "import matplotlib.pyplot as plt             #visualisation\n",
    "%matplotlib inline     \n",
    "sns.set(color_codes=True)"
   ]
  },
  {
   "attachments": {},
   "cell_type": "markdown",
   "metadata": {},
   "source": [
    "As you may have noticed, the JSON files have a lot of information. What we decide to include in our dataframe should be informed by the questions we want to answer.\n",
    "\n",
    "Consider all the companies listed on the NASDAQ in the folder for the year 2020. We are interested in finding out answers to the following questions:\n",
    "\n",
    "- How much stock do we have?\n",
    "- Which stock has the highest price and when it was observed?\n",
    "- Which stock has the lowest price and when it was observed?\n",
    "- Which stock is the most popular in 2021? (has the highest traded volume in 2021)\n"
   ]
  },
  {
   "attachments": {},
   "cell_type": "markdown",
   "metadata": {},
   "source": [
    "> Now, we have to pick a single stock to act as our prototype.\n",
    "\n",
    "Load the JSON files for the stock of your choice, write code to parse the file, and transform it into a Pandas DataFrame with the following columns:\n",
    "\n",
    "- stock acronym\n",
    "- day (should be extracted from timestamp value in the data)\n",
    "- open - price when the trading opened that day\n",
    "- high - the highest price of the day\n",
    "- close - price when the trading closed that day\n",
    "- low - the lowest price of the day\n",
    "- splits - number of splits of the stock (look for the value splits in the events key of the JSON file).\n",
    "- volume - what was the value of shares traded on that day\n",
    "- These columns will help us answer the questions above."
   ]
  },
  {
   "cell_type": "code",
   "execution_count": 159,
   "metadata": {},
   "outputs": [],
   "source": [
    "import json\n",
    "import os\n",
    "import pandas as pd"
   ]
  },
  {
   "cell_type": "code",
   "execution_count": 14,
   "metadata": {},
   "outputs": [
    {
     "ename": "TypeError",
     "evalue": "read_json() got an unexpected keyword argument 'index_col'",
     "output_type": "error",
     "traceback": [
      "\u001b[0;31m---------------------------------------------------------------------------\u001b[0m",
      "\u001b[0;31mTypeError\u001b[0m                                 Traceback (most recent call last)",
      "Cell \u001b[0;32mIn[14], line 7\u001b[0m\n\u001b[1;32m      5\u001b[0m \u001b[39mfor\u001b[39;00m file \u001b[39min\u001b[39;00m json_files:\n\u001b[1;32m      6\u001b[0m     \u001b[39mwith\u001b[39;00m \u001b[39mopen\u001b[39m(os\u001b[39m.\u001b[39mpath\u001b[39m.\u001b[39mjoin(path_to_json, file)) \u001b[39mas\u001b[39;00m f:\n\u001b[0;32m----> 7\u001b[0m         data \u001b[39m=\u001b[39m pd\u001b[39m.\u001b[39;49mread_json(\u001b[39m'\u001b[39;49m\u001b[39mf\u001b[39;49m\u001b[39m'\u001b[39;49m, index_col \u001b[39m=\u001b[39;49m \u001b[39m'\u001b[39;49m\u001b[39mmeta\u001b[39;49m\u001b[39m'\u001b[39;49m)\n\u001b[1;32m      8\u001b[0m         dfs\u001b[39m.\u001b[39mappend(data)\n\u001b[1;32m     10\u001b[0m df \u001b[39m=\u001b[39m pd\u001b[39m.\u001b[39mconcat(dfs, ignore_index\u001b[39m=\u001b[39m\u001b[39mTrue\u001b[39;00m)\n",
      "File \u001b[0;32m~/opt/anaconda3/envs/THE_ONE/lib/python3.8/site-packages/pandas/util/_decorators.py:211\u001b[0m, in \u001b[0;36mdeprecate_kwarg.<locals>._deprecate_kwarg.<locals>.wrapper\u001b[0;34m(*args, **kwargs)\u001b[0m\n\u001b[1;32m    209\u001b[0m     \u001b[39melse\u001b[39;00m:\n\u001b[1;32m    210\u001b[0m         kwargs[new_arg_name] \u001b[39m=\u001b[39m new_arg_value\n\u001b[0;32m--> 211\u001b[0m \u001b[39mreturn\u001b[39;00m func(\u001b[39m*\u001b[39;49margs, \u001b[39m*\u001b[39;49m\u001b[39m*\u001b[39;49mkwargs)\n",
      "File \u001b[0;32m~/opt/anaconda3/envs/THE_ONE/lib/python3.8/site-packages/pandas/util/_decorators.py:331\u001b[0m, in \u001b[0;36mdeprecate_nonkeyword_arguments.<locals>.decorate.<locals>.wrapper\u001b[0;34m(*args, **kwargs)\u001b[0m\n\u001b[1;32m    325\u001b[0m \u001b[39mif\u001b[39;00m \u001b[39mlen\u001b[39m(args) \u001b[39m>\u001b[39m num_allow_args:\n\u001b[1;32m    326\u001b[0m     warnings\u001b[39m.\u001b[39mwarn(\n\u001b[1;32m    327\u001b[0m         msg\u001b[39m.\u001b[39mformat(arguments\u001b[39m=\u001b[39m_format_argument_list(allow_args)),\n\u001b[1;32m    328\u001b[0m         \u001b[39mFutureWarning\u001b[39;00m,\n\u001b[1;32m    329\u001b[0m         stacklevel\u001b[39m=\u001b[39mfind_stack_level(),\n\u001b[1;32m    330\u001b[0m     )\n\u001b[0;32m--> 331\u001b[0m \u001b[39mreturn\u001b[39;00m func(\u001b[39m*\u001b[39;49margs, \u001b[39m*\u001b[39;49m\u001b[39m*\u001b[39;49mkwargs)\n",
      "\u001b[0;31mTypeError\u001b[0m: read_json() got an unexpected keyword argument 'index_col'"
     ]
    }
   ],
   "source": [
    "path_to_json = 'stock_market_data/nasdaq/json'\n",
    "json_files = [pos_json for pos_json in os.listdir(path_to_json) if pos_json.endswith('.json')]\n",
    "\n"
   ]
  },
  {
   "cell_type": "code",
   "execution_count": 24,
   "metadata": {},
   "outputs": [],
   "source": [
    "data = pd.read_json('stock_market_data/nasdaq/json/YOSN.json', orient='index')"
   ]
  },
  {
   "cell_type": "code",
   "execution_count": 22,
   "metadata": {},
   "outputs": [
    {
     "data": {
      "text/html": [
       "<div>\n",
       "<style scoped>\n",
       "    .dataframe tbody tr th:only-of-type {\n",
       "        vertical-align: middle;\n",
       "    }\n",
       "\n",
       "    .dataframe tbody tr th {\n",
       "        vertical-align: top;\n",
       "    }\n",
       "\n",
       "    .dataframe thead th {\n",
       "        text-align: right;\n",
       "    }\n",
       "</style>\n",
       "<table border=\"1\" class=\"dataframe\">\n",
       "  <thead>\n",
       "    <tr style=\"text-align: right;\">\n",
       "      <th></th>\n",
       "      <th>result</th>\n",
       "      <th>error</th>\n",
       "    </tr>\n",
       "  </thead>\n",
       "  <tbody>\n",
       "    <tr>\n",
       "      <th>chart</th>\n",
       "      <td>[{'meta': {'currency': None, 'symbol': 'YOSN',...</td>\n",
       "      <td>NaN</td>\n",
       "    </tr>\n",
       "  </tbody>\n",
       "</table>\n",
       "</div>"
      ],
      "text/plain": [
       "                                                  result  error\n",
       "chart  [{'meta': {'currency': None, 'symbol': 'YOSN',...    NaN"
      ]
     },
     "execution_count": 22,
     "metadata": {},
     "output_type": "execute_result"
    }
   ],
   "source": [
    "data.head()"
   ]
  },
  {
   "cell_type": "code",
   "execution_count": 150,
   "metadata": {},
   "outputs": [
    {
     "ename": "ValueError",
     "evalue": "invalid mode: 'TCB.json'",
     "output_type": "error",
     "traceback": [
      "\u001b[0;31m---------------------------------------------------------------------------\u001b[0m",
      "\u001b[0;31mValueError\u001b[0m                                Traceback (most recent call last)",
      "Cell \u001b[0;32mIn[150], line 8\u001b[0m\n\u001b[1;32m      6\u001b[0m dfs \u001b[39m=\u001b[39m []\n\u001b[1;32m      7\u001b[0m \u001b[39mfor\u001b[39;00m file \u001b[39min\u001b[39;00m json_files:\n\u001b[0;32m----> 8\u001b[0m     \u001b[39mwith\u001b[39;00m \u001b[39mopen\u001b[39;49m(\u001b[39m'\u001b[39;49m\u001b[39mstock_market_data/nasdaq/json\u001b[39;49m\u001b[39m'\u001b[39;49m, file) \u001b[39mas\u001b[39;00m f: \n\u001b[1;32m      9\u001b[0m         data \u001b[39m=\u001b[39m json\u001b[39m.\u001b[39mload(f)\n\u001b[1;32m     10\u001b[0m         \u001b[39mfor\u001b[39;00m instance \u001b[39min\u001b[39;00m data:\n",
      "File \u001b[0;32m~/opt/anaconda3/envs/THE_ONE/lib/python3.8/site-packages/IPython/core/interactiveshell.py:284\u001b[0m, in \u001b[0;36m_modified_open\u001b[0;34m(file, *args, **kwargs)\u001b[0m\n\u001b[1;32m    277\u001b[0m \u001b[39mif\u001b[39;00m file \u001b[39min\u001b[39;00m {\u001b[39m0\u001b[39m, \u001b[39m1\u001b[39m, \u001b[39m2\u001b[39m}:\n\u001b[1;32m    278\u001b[0m     \u001b[39mraise\u001b[39;00m \u001b[39mValueError\u001b[39;00m(\n\u001b[1;32m    279\u001b[0m         \u001b[39mf\u001b[39m\u001b[39m\"\u001b[39m\u001b[39mIPython won\u001b[39m\u001b[39m'\u001b[39m\u001b[39mt let you open fd=\u001b[39m\u001b[39m{\u001b[39;00mfile\u001b[39m}\u001b[39;00m\u001b[39m by default \u001b[39m\u001b[39m\"\u001b[39m\n\u001b[1;32m    280\u001b[0m         \u001b[39m\"\u001b[39m\u001b[39mas it is likely to crash IPython. If you know what you are doing, \u001b[39m\u001b[39m\"\u001b[39m\n\u001b[1;32m    281\u001b[0m         \u001b[39m\"\u001b[39m\u001b[39myou can use builtins\u001b[39m\u001b[39m'\u001b[39m\u001b[39m open.\u001b[39m\u001b[39m\"\u001b[39m\n\u001b[1;32m    282\u001b[0m     )\n\u001b[0;32m--> 284\u001b[0m \u001b[39mreturn\u001b[39;00m io_open(file, \u001b[39m*\u001b[39;49margs, \u001b[39m*\u001b[39;49m\u001b[39m*\u001b[39;49mkwargs)\n",
      "\u001b[0;31mValueError\u001b[0m: invalid mode: 'TCB.json'"
     ]
    }
   ],
   "source": [
    "\n",
    "# Load the JSON file into a dictionary \n",
    "import os\n",
    "\n",
    "# data_paths = [os.path.join(pth, f) \n",
    "#     for pth, dirs, files in os.walk('stock_market_data/nasdaq') for f in files]\n",
    "dfs = []\n",
    "for file in json_files:\n",
    "    with open('stock_market_data/nasdaq/json', file) as f: \n",
    "        show_version_output = json.load(f)\n",
    "        for instance in data:\n",
    "            new= data.get('chart')\n",
    "            new1 = new.get('result')\n",
    "            new2 = new1[0]\n",
    "            new3 = new2.get('meta')\n",
    "            dfs.append(new3)\n",
    "dfs\n",
    "\n",
    "\n",
    "\n",
    "# dfs = []\n",
    "# for file in json_files:\n",
    "#     with open(os.path.join(path_to_json, file)) as f:\n",
    "#         data = pd.read_json('f', index_col = 'meta')\n",
    "#         dfs.append(data)\n",
    "\n",
    "# df = pd.concat(dfs, ignore_index=True)\n",
    "\n",
    "# pp('stock_market_data/nasdaq/json/YOSN.json')\n",
    "# with open('stock_market_data/nasdaq/json/YOSN.json', 'r') as f:\n",
    "#     show_version_output = json.loads(f.read())\n"
   ]
  },
  {
   "cell_type": "code",
   "execution_count": 239,
   "metadata": {},
   "outputs": [
    {
     "ename": "SyntaxError",
     "evalue": "invalid syntax (1489736243.py, line 2)",
     "output_type": "error",
     "traceback": [
      "\u001b[0;36m  Cell \u001b[0;32mIn[239], line 2\u001b[0;36m\u001b[0m\n\u001b[0;31m    del data[]\u001b[0m\n\u001b[0m             ^\u001b[0m\n\u001b[0;31mSyntaxError\u001b[0m\u001b[0;31m:\u001b[0m invalid syntax\n"
     ]
    }
   ],
   "source": [
    "# Remove the entry you want to exclude \n",
    "del data[] \n",
    " \n",
    "# # Do something with the remaining entries \n",
    "# for key, value in data.items(): \n",
    "#     # Do something with key and value \n",
    "\n",
    "new = \n",
    "\n",
    "\n",
    "df = pd.DataFrame.from_dict(new3, orient='index', columns=['currency', 'symbol', 'exchangeName', 'instrumentType'])\n",
    "df"
   ]
  },
  {
   "cell_type": "code",
   "execution_count": 242,
   "metadata": {},
   "outputs": [
    {
     "data": {
      "text/html": [
       "<div>\n",
       "<style scoped>\n",
       "    .dataframe tbody tr th:only-of-type {\n",
       "        vertical-align: middle;\n",
       "    }\n",
       "\n",
       "    .dataframe tbody tr th {\n",
       "        vertical-align: top;\n",
       "    }\n",
       "\n",
       "    .dataframe thead th {\n",
       "        text-align: right;\n",
       "    }\n",
       "</style>\n",
       "<table border=\"1\" class=\"dataframe\">\n",
       "  <thead>\n",
       "    <tr style=\"text-align: right;\">\n",
       "      <th></th>\n",
       "      <th>0</th>\n",
       "    </tr>\n",
       "  </thead>\n",
       "  <tbody>\n",
       "    <tr>\n",
       "      <th>0</th>\n",
       "      <td>1127827800</td>\n",
       "    </tr>\n",
       "    <tr>\n",
       "      <th>1</th>\n",
       "      <td>1127914200</td>\n",
       "    </tr>\n",
       "    <tr>\n",
       "      <th>2</th>\n",
       "      <td>1128000600</td>\n",
       "    </tr>\n",
       "    <tr>\n",
       "      <th>3</th>\n",
       "      <td>1128087000</td>\n",
       "    </tr>\n",
       "    <tr>\n",
       "      <th>4</th>\n",
       "      <td>1128346200</td>\n",
       "    </tr>\n",
       "    <tr>\n",
       "      <th>...</th>\n",
       "      <td>...</td>\n",
       "    </tr>\n",
       "    <tr>\n",
       "      <th>3969</th>\n",
       "      <td>1625578200</td>\n",
       "    </tr>\n",
       "    <tr>\n",
       "      <th>3970</th>\n",
       "      <td>1625664600</td>\n",
       "    </tr>\n",
       "    <tr>\n",
       "      <th>3971</th>\n",
       "      <td>1625751000</td>\n",
       "    </tr>\n",
       "    <tr>\n",
       "      <th>3972</th>\n",
       "      <td>1625837400</td>\n",
       "    </tr>\n",
       "    <tr>\n",
       "      <th>3973</th>\n",
       "      <td>1626120002</td>\n",
       "    </tr>\n",
       "  </tbody>\n",
       "</table>\n",
       "<p>3974 rows × 1 columns</p>\n",
       "</div>"
      ],
      "text/plain": [
       "               0\n",
       "0     1127827800\n",
       "1     1127914200\n",
       "2     1128000600\n",
       "3     1128087000\n",
       "4     1128346200\n",
       "...          ...\n",
       "3969  1625578200\n",
       "3970  1625664600\n",
       "3971  1625751000\n",
       "3972  1625837400\n",
       "3973  1626120002\n",
       "\n",
       "[3974 rows x 1 columns]"
      ]
     },
     "execution_count": 242,
     "metadata": {},
     "output_type": "execute_result"
    }
   ],
   "source": [
    "\n",
    "#stock\n",
    "pd.DataFrame(show_version_output['chart']['result'][0]['indicators']['quote'][0])\n",
    "\n",
    "# time\n",
    "\n",
    "pd.DataFrame(show_version_output['chart']['result'][0]['timestamp'])\n",
    "\n",
    "#pd.to_datetime on the data frame\n",
    "\n"
   ]
  },
  {
   "cell_type": "code",
   "execution_count": 224,
   "metadata": {},
   "outputs": [
    {
     "ename": "KeyError",
     "evalue": "\"Key 'result' not found. If specifying a record_path, all elements of data should have the path.\"",
     "output_type": "error",
     "traceback": [
      "\u001b[0;31m---------------------------------------------------------------------------\u001b[0m",
      "\u001b[0;31mKeyError\u001b[0m                                  Traceback (most recent call last)",
      "File \u001b[0;32m~/opt/anaconda3/envs/THE_ONE/lib/python3.8/site-packages/pandas/io/json/_normalize.py:399\u001b[0m, in \u001b[0;36m_json_normalize.<locals>._pull_field\u001b[0;34m(js, spec, extract_record)\u001b[0m\n\u001b[1;32m    398\u001b[0m     \u001b[39melse\u001b[39;00m:\n\u001b[0;32m--> 399\u001b[0m         result \u001b[39m=\u001b[39m result[spec]\n\u001b[1;32m    400\u001b[0m \u001b[39mexcept\u001b[39;00m \u001b[39mKeyError\u001b[39;00m \u001b[39mas\u001b[39;00m e:\n",
      "\u001b[0;31mKeyError\u001b[0m: 'result'",
      "\nThe above exception was the direct cause of the following exception:\n",
      "\u001b[0;31mKeyError\u001b[0m                                  Traceback (most recent call last)",
      "Cell \u001b[0;32mIn[224], line 2\u001b[0m\n\u001b[1;32m      1\u001b[0m pd\u001b[39m.\u001b[39mjson_normalize(show_version_output, max_level\u001b[39m=\u001b[39m\u001b[39m0\u001b[39m)\n\u001b[0;32m----> 2\u001b[0m pd\u001b[39m.\u001b[39;49mjson_normalize(show_version_output, record_path \u001b[39m=\u001b[39;49m\u001b[39m'\u001b[39;49m\u001b[39mresult\u001b[39;49m\u001b[39m'\u001b[39;49m)\n",
      "File \u001b[0;32m~/opt/anaconda3/envs/THE_ONE/lib/python3.8/site-packages/pandas/io/json/_normalize.py:518\u001b[0m, in \u001b[0;36m_json_normalize\u001b[0;34m(data, record_path, meta, meta_prefix, record_prefix, errors, sep, max_level)\u001b[0m\n\u001b[1;32m    515\u001b[0m                 meta_vals[key]\u001b[39m.\u001b[39mappend(meta_val)\n\u001b[1;32m    516\u001b[0m             records\u001b[39m.\u001b[39mextend(recs)\n\u001b[0;32m--> 518\u001b[0m _recursive_extract(data, record_path, {}, level\u001b[39m=\u001b[39;49m\u001b[39m0\u001b[39;49m)\n\u001b[1;32m    520\u001b[0m result \u001b[39m=\u001b[39m DataFrame(records)\n\u001b[1;32m    522\u001b[0m \u001b[39mif\u001b[39;00m record_prefix \u001b[39mis\u001b[39;00m \u001b[39mnot\u001b[39;00m \u001b[39mNone\u001b[39;00m:\n",
      "File \u001b[0;32m~/opt/anaconda3/envs/THE_ONE/lib/python3.8/site-packages/pandas/io/json/_normalize.py:500\u001b[0m, in \u001b[0;36m_json_normalize.<locals>._recursive_extract\u001b[0;34m(data, path, seen_meta, level)\u001b[0m\n\u001b[1;32m    498\u001b[0m \u001b[39melse\u001b[39;00m:\n\u001b[1;32m    499\u001b[0m     \u001b[39mfor\u001b[39;00m obj \u001b[39min\u001b[39;00m data:\n\u001b[0;32m--> 500\u001b[0m         recs \u001b[39m=\u001b[39m _pull_records(obj, path[\u001b[39m0\u001b[39;49m])\n\u001b[1;32m    501\u001b[0m         recs \u001b[39m=\u001b[39m [\n\u001b[1;32m    502\u001b[0m             nested_to_record(r, sep\u001b[39m=\u001b[39msep, max_level\u001b[39m=\u001b[39mmax_level)\n\u001b[1;32m    503\u001b[0m             \u001b[39mif\u001b[39;00m \u001b[39misinstance\u001b[39m(r, \u001b[39mdict\u001b[39m)\n\u001b[1;32m    504\u001b[0m             \u001b[39melse\u001b[39;00m r\n\u001b[1;32m    505\u001b[0m             \u001b[39mfor\u001b[39;00m r \u001b[39min\u001b[39;00m recs\n\u001b[1;32m    506\u001b[0m         ]\n\u001b[1;32m    508\u001b[0m         \u001b[39m# For repeating the metadata later\u001b[39;00m\n",
      "File \u001b[0;32m~/opt/anaconda3/envs/THE_ONE/lib/python3.8/site-packages/pandas/io/json/_normalize.py:422\u001b[0m, in \u001b[0;36m_json_normalize.<locals>._pull_records\u001b[0;34m(js, spec)\u001b[0m\n\u001b[1;32m    416\u001b[0m \u001b[39mdef\u001b[39;00m \u001b[39m_pull_records\u001b[39m(js: \u001b[39mdict\u001b[39m[\u001b[39mstr\u001b[39m, Any], spec: \u001b[39mlist\u001b[39m \u001b[39m|\u001b[39m \u001b[39mstr\u001b[39m) \u001b[39m-\u001b[39m\u001b[39m>\u001b[39m \u001b[39mlist\u001b[39m:\n\u001b[1;32m    417\u001b[0m     \u001b[39m\"\"\"\u001b[39;00m\n\u001b[1;32m    418\u001b[0m \u001b[39m    Internal function to pull field for records, and similar to\u001b[39;00m\n\u001b[1;32m    419\u001b[0m \u001b[39m    _pull_field, but require to return list. And will raise error\u001b[39;00m\n\u001b[1;32m    420\u001b[0m \u001b[39m    if has non iterable value.\u001b[39;00m\n\u001b[1;32m    421\u001b[0m \u001b[39m    \"\"\"\u001b[39;00m\n\u001b[0;32m--> 422\u001b[0m     result \u001b[39m=\u001b[39m _pull_field(js, spec, extract_record\u001b[39m=\u001b[39;49m\u001b[39mTrue\u001b[39;49;00m)\n\u001b[1;32m    424\u001b[0m     \u001b[39m# GH 31507 GH 30145, GH 26284 if result is not list, raise TypeError if not\u001b[39;00m\n\u001b[1;32m    425\u001b[0m     \u001b[39m# null, otherwise return an empty list\u001b[39;00m\n\u001b[1;32m    426\u001b[0m     \u001b[39mif\u001b[39;00m \u001b[39mnot\u001b[39;00m \u001b[39misinstance\u001b[39m(result, \u001b[39mlist\u001b[39m):\n",
      "File \u001b[0;32m~/opt/anaconda3/envs/THE_ONE/lib/python3.8/site-packages/pandas/io/json/_normalize.py:402\u001b[0m, in \u001b[0;36m_json_normalize.<locals>._pull_field\u001b[0;34m(js, spec, extract_record)\u001b[0m\n\u001b[1;32m    400\u001b[0m \u001b[39mexcept\u001b[39;00m \u001b[39mKeyError\u001b[39;00m \u001b[39mas\u001b[39;00m e:\n\u001b[1;32m    401\u001b[0m     \u001b[39mif\u001b[39;00m extract_record:\n\u001b[0;32m--> 402\u001b[0m         \u001b[39mraise\u001b[39;00m \u001b[39mKeyError\u001b[39;00m(\n\u001b[1;32m    403\u001b[0m             \u001b[39mf\u001b[39m\u001b[39m\"\u001b[39m\u001b[39mKey \u001b[39m\u001b[39m{\u001b[39;00me\u001b[39m}\u001b[39;00m\u001b[39m not found. If specifying a record_path, all elements of \u001b[39m\u001b[39m\"\u001b[39m\n\u001b[1;32m    404\u001b[0m             \u001b[39mf\u001b[39m\u001b[39m\"\u001b[39m\u001b[39mdata should have the path.\u001b[39m\u001b[39m\"\u001b[39m\n\u001b[1;32m    405\u001b[0m         ) \u001b[39mfrom\u001b[39;00m \u001b[39me\u001b[39;00m\n\u001b[1;32m    406\u001b[0m     \u001b[39melif\u001b[39;00m errors \u001b[39m==\u001b[39m \u001b[39m\"\u001b[39m\u001b[39mignore\u001b[39m\u001b[39m\"\u001b[39m:\n\u001b[1;32m    407\u001b[0m         \u001b[39mreturn\u001b[39;00m np\u001b[39m.\u001b[39mnan\n",
      "\u001b[0;31mKeyError\u001b[0m: \"Key 'result' not found. If specifying a record_path, all elements of data should have the path.\""
     ]
    }
   ],
   "source": [
    "pd.json_normalize(show_version_output, max_level=0)\n",
    "pd.json_normalize(show_version_output, record_path ='result')"
   ]
  },
  {
   "cell_type": "code",
   "execution_count": 257,
   "metadata": {},
   "outputs": [
    {
     "ename": "TypeError",
     "evalue": "argument for open() given by name ('mode') and position (2)",
     "output_type": "error",
     "traceback": [
      "\u001b[0;31m---------------------------------------------------------------------------\u001b[0m",
      "\u001b[0;31mTypeError\u001b[0m                                 Traceback (most recent call last)",
      "Cell \u001b[0;32mIn[257], line 4\u001b[0m\n\u001b[1;32m      2\u001b[0m json_files \u001b[39m=\u001b[39m (\u001b[39m'\u001b[39m\u001b[39mstock_market_data/nasdaq/json\u001b[39m\u001b[39m'\u001b[39m)\n\u001b[1;32m      3\u001b[0m \u001b[39mfor\u001b[39;00m fil \u001b[39min\u001b[39;00m json_files:\n\u001b[0;32m----> 4\u001b[0m     \u001b[39mwith\u001b[39;00m \u001b[39mopen\u001b[39;49m(json_files, file, mode \u001b[39m=\u001b[39;49m \u001b[39m'\u001b[39;49m\u001b[39mr\u001b[39;49m\u001b[39m'\u001b[39;49m) \u001b[39mas\u001b[39;00m f:\n\u001b[1;32m      5\u001b[0m         show_version_output \u001b[39m=\u001b[39m json\u001b[39m.\u001b[39mload(f)\n",
      "File \u001b[0;32m~/opt/anaconda3/envs/THE_ONE/lib/python3.8/site-packages/IPython/core/interactiveshell.py:284\u001b[0m, in \u001b[0;36m_modified_open\u001b[0;34m(file, *args, **kwargs)\u001b[0m\n\u001b[1;32m    277\u001b[0m \u001b[39mif\u001b[39;00m file \u001b[39min\u001b[39;00m {\u001b[39m0\u001b[39m, \u001b[39m1\u001b[39m, \u001b[39m2\u001b[39m}:\n\u001b[1;32m    278\u001b[0m     \u001b[39mraise\u001b[39;00m \u001b[39mValueError\u001b[39;00m(\n\u001b[1;32m    279\u001b[0m         \u001b[39mf\u001b[39m\u001b[39m\"\u001b[39m\u001b[39mIPython won\u001b[39m\u001b[39m'\u001b[39m\u001b[39mt let you open fd=\u001b[39m\u001b[39m{\u001b[39;00mfile\u001b[39m}\u001b[39;00m\u001b[39m by default \u001b[39m\u001b[39m\"\u001b[39m\n\u001b[1;32m    280\u001b[0m         \u001b[39m\"\u001b[39m\u001b[39mas it is likely to crash IPython. If you know what you are doing, \u001b[39m\u001b[39m\"\u001b[39m\n\u001b[1;32m    281\u001b[0m         \u001b[39m\"\u001b[39m\u001b[39myou can use builtins\u001b[39m\u001b[39m'\u001b[39m\u001b[39m open.\u001b[39m\u001b[39m\"\u001b[39m\n\u001b[1;32m    282\u001b[0m     )\n\u001b[0;32m--> 284\u001b[0m \u001b[39mreturn\u001b[39;00m io_open(file, \u001b[39m*\u001b[39;49margs, \u001b[39m*\u001b[39;49m\u001b[39m*\u001b[39;49mkwargs)\n",
      "\u001b[0;31mTypeError\u001b[0m: argument for open() given by name ('mode') and position (2)"
     ]
    }
   ],
   "source": [
    "dfs = []\n",
    "json_files = ('stock_market_data/nasdaq/json')\n",
    "for fil in json_files:\n",
    "    with open(json_files, file, mode = 'r') as f:\n",
    "        show_version_output = json.load(f)"
   ]
  },
  {
   "cell_type": "code",
   "execution_count": 268,
   "metadata": {},
   "outputs": [],
   "source": [
    "\n",
    "with open('stock_market_data/nasdaq/json/AAL.json') as f:\n",
    "         show_version_output = json.load(f)\n",
    "         pd.DataFrame(show_version_output['chart']['result'][0]['indicators']['quote'][0])\n",
    "         df.append((pd.DataFrame(show_version_output['chart']['result'][0]['timestamp'])))"
   ]
  },
  {
   "cell_type": "code",
   "execution_count": 270,
   "metadata": {},
   "outputs": [
    {
     "ename": "AttributeError",
     "evalue": "'list' object has no attribute 'head'",
     "output_type": "error",
     "traceback": [
      "\u001b[0;31m---------------------------------------------------------------------------\u001b[0m",
      "\u001b[0;31mAttributeError\u001b[0m                            Traceback (most recent call last)",
      "Cell \u001b[0;32mIn[270], line 1\u001b[0m\n\u001b[0;32m----> 1\u001b[0m df\u001b[39m.\u001b[39;49mhead()\n",
      "\u001b[0;31mAttributeError\u001b[0m: 'list' object has no attribute 'head'"
     ]
    }
   ],
   "source": [
    "df.head()"
   ]
  },
  {
   "cell_type": "code",
   "execution_count": null,
   "metadata": {},
   "outputs": [],
   "source": []
  }
 ],
 "metadata": {
  "kernelspec": {
   "display_name": "THE_ONE",
   "language": "python",
   "name": "python3"
  },
  "language_info": {
   "codemirror_mode": {
    "name": "ipython",
    "version": 3
   },
   "file_extension": ".py",
   "mimetype": "text/x-python",
   "name": "python",
   "nbconvert_exporter": "python",
   "pygments_lexer": "ipython3",
   "version": "3.8.16"
  },
  "orig_nbformat": 4
 },
 "nbformat": 4,
 "nbformat_minor": 2
}
