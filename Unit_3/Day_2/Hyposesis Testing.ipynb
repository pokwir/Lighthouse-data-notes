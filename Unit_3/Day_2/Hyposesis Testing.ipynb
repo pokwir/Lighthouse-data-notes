{
 "cells": [
  {
   "attachments": {},
   "cell_type": "markdown",
   "id": "6fccf3f6-1592-492c-9adb-f73b2450d7cc",
   "metadata": {},
   "source": [
    "# Hypothesis Testing\n",
    "---"
   ]
  },
  {
   "attachments": {},
   "cell_type": "markdown",
   "id": "73c1ad4f-ab51-4b42-956d-4d667fa292a6",
   "metadata": {},
   "source": [
    "> Simulation"
   ]
  },
  {
   "cell_type": "code",
   "execution_count": 1,
   "id": "c2107f43-3844-4d98-b703-b99f36eb6a7d",
   "metadata": {},
   "outputs": [],
   "source": [
    "import numpy as np\n",
    "\n",
    "# select a random seed to replicate the results\n",
    "np.random.seed(42)"
   ]
  },
  {
   "cell_type": "code",
   "execution_count": 4,
   "id": "1703cae4-ba46-43c0-841e-51a3dfbbec01",
   "metadata": {},
   "outputs": [],
   "source": [
    "# sales history\n",
    "\n",
    "history = 365\n",
    "\n",
    "# generate a one-year sale from store A\n",
    "\n",
    "mean_A = 20\n",
    "std_A = 5\n",
    "shop_A_sales = np.random.normal(mean_A, std_A, history)\n",
    "\n",
    "# generate one-year sales for store B\n",
    "mean_B = 19.5\n",
    "std_B = 5\n",
    "shop_B_sales = np.random.normal(mean_B, std_B, history)"
   ]
  },
  {
   "cell_type": "markdown",
   "id": "a5b36948-33f4-474c-af9e-2dff17dd3bb9",
   "metadata": {},
   "source": [
    "> We will be testing the following hypothesis: * H0 = the mean of sales of shop A equals the mean of sales of shop B (i.e. the difference between the sales is equal to zero) * HA = the means are not equal"
   ]
  },
  {
   "cell_type": "code",
   "execution_count": 2,
   "id": "473afdae-10b9-425b-95d3-ced8c4e458f2",
   "metadata": {},
   "outputs": [],
   "source": [
    "# set the significance level\n",
    "alpha = 0.05"
   ]
  },
  {
   "cell_type": "code",
   "execution_count": 7,
   "id": "9a3e1c79",
   "metadata": {},
   "outputs": [
    {
     "name": "stdout",
     "output_type": "stream",
     "text": [
      "shop_A_sales mean: 20.04973201106029\n",
      "shop_B_sales mean: 19.309929401404304\n",
      "observed_means_diff: 0.7398026096559853\n"
     ]
    }
   ],
   "source": [
    "# print the store A mean\n",
    "print('shop_A_sales mean:', shop_A_sales.mean())\n",
    "\n",
    "# print the store B mean\n",
    "print('shop_B_sales mean:', shop_B_sales.mean())\n",
    "\n",
    "# the difference in the means\n",
    "observed_means_diff = shop_A_sales.mean() - shop_B_sales.mean()\n",
    "print('observed_means_diff:', observed_means_diff)"
   ]
  },
  {
   "attachments": {},
   "cell_type": "markdown",
   "id": "4043e555",
   "metadata": {},
   "source": [
    "Because the mean of sales in store A is not so far from the mean of sales in store B, and their standard deviations are equal, it is tough to decide if the sales are equal."
   ]
  },
  {
   "cell_type": "code",
   "execution_count": 9,
   "id": "eb136e51",
   "metadata": {},
   "outputs": [],
   "source": [
    "both_sales = np.concatenate((shop_A_sales, shop_B_sales))\n",
    "\n",
    "# permutation\n",
    "sales_perm = np.random.permutation(both_sales)\n",
    "\n",
    "# permutation replicates \n",
    "perm_shop_A_sales = sales_perm[:len(shop_A_sales)]\n",
    "perm_shop_B_sales = sales_perm[len(shop_A_sales):]"
   ]
  },
  {
   "cell_type": "code",
   "execution_count": 10,
   "id": "72499052",
   "metadata": {},
   "outputs": [
    {
     "name": "stdout",
     "output_type": "stream",
     "text": [
      "0.21098789154327235\n"
     ]
    }
   ],
   "source": [
    "# After this step, we have to compute the difference between the permutation replicates means.\n",
    "print(perm_shop_A_sales.mean() - perm_shop_B_sales.mean())"
   ]
  },
  {
   "cell_type": "code",
   "execution_count": 11,
   "id": "678d4cd6",
   "metadata": {},
   "outputs": [],
   "source": [
    "# create an empty list to store the permutation replicates means\n",
    "perm_repl_means = []\n",
    "\n",
    "for _ in range(1000):\n",
    "    # permutation \n",
    "    sales_perm = np.random.permutation(both_sales)\n",
    "\n",
    "    # permutation replicates \n",
    "    perm_shop_A_sales = sales_perm[:len(shop_A_sales)]\n",
    "    perm_shop_B_sales = sales_perm[len(shop_A_sales):]\n",
    "\n",
    "    # permutation replicates mean\n",
    "    perm_repl_mean = perm_shop_A_sales.mean() - perm_shop_B_sales.mean()\n",
    "\n",
    "    # append perm_repl_mean to list\n",
    "    perm_repl_means.append(perm_repl_mean)"
   ]
  },
  {
   "attachments": {},
   "cell_type": "markdown",
   "id": "4db8f1e5",
   "metadata": {},
   "source": [
    "> Note\n",
    "> \n",
    ">The p-value is the probability of observing a test statistic as extreme or more extreme than >the one you've observed, given that the null hypothesis is true."
   ]
  },
  {
   "cell_type": "markdown",
   "id": "aa315bf3",
   "metadata": {},
   "source": []
  },
  {
   "cell_type": "code",
   "execution_count": 12,
   "id": "b13d442d",
   "metadata": {},
   "outputs": [
    {
     "name": "stdout",
     "output_type": "stream",
     "text": [
      "p-value = 0.043\n"
     ]
    }
   ],
   "source": [
    "# compute the p-value\n",
    "p = np.sum(np.abs(perm_repl_means) >= observed_means_diff) / len(perm_repl_means)\n",
    "\n",
    "# print the result\n",
    "print('p-value =', p)"
   ]
  },
  {
   "attachments": {},
   "cell_type": "markdown",
   "id": "98aab55b",
   "metadata": {},
   "source": [
    "> The p-value tells us that there is about a 4.2% chance that we would get the difference of means observed in the experiment if sales were exactly the same."
   ]
  },
  {
   "cell_type": "code",
   "execution_count": 13,
   "id": "146e5f4d",
   "metadata": {},
   "outputs": [
    {
     "name": "stdout",
     "output_type": "stream",
     "text": [
      "H0 is rejected.\n"
     ]
    }
   ],
   "source": [
    "# final decision\n",
    "if p < alpha:\n",
    "    print('H0 is rejected.')\n",
    "else:\n",
    "    print('H0 is not rejected.')\n"
   ]
  },
  {
   "attachments": {},
   "cell_type": "markdown",
   "id": "829ede62",
   "metadata": {},
   "source": [
    "> Because the p_value is smaller than our significance level alpha we reject the null hypothesis that our cell phone sales are equal in both stores."
   ]
  },
  {
   "cell_type": "code",
   "execution_count": null,
   "id": "67bbd8a8",
   "metadata": {},
   "outputs": [],
   "source": []
  }
 ],
 "metadata": {
  "kernelspec": {
   "display_name": "THE_ONE",
   "language": "python",
   "name": "python3"
  },
  "language_info": {
   "codemirror_mode": {
    "name": "ipython",
    "version": 3
   },
   "file_extension": ".py",
   "mimetype": "text/x-python",
   "name": "python",
   "nbconvert_exporter": "python",
   "pygments_lexer": "ipython3",
   "version": "3.8.16"
  }
 },
 "nbformat": 4,
 "nbformat_minor": 5
}
