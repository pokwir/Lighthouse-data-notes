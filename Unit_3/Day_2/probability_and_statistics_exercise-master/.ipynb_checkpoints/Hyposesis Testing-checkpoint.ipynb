{
 "cells": [
  {
   "cell_type": "markdown",
   "id": "6fccf3f6-1592-492c-9adb-f73b2450d7cc",
   "metadata": {},
   "source": [
    "> ## Hypothesis Testing\n",
    "---"
   ]
  },
  {
   "cell_type": "markdown",
   "id": "73c1ad4f-ab51-4b42-956d-4d667fa292a6",
   "metadata": {},
   "source": [
    "Simulation"
   ]
  },
  {
   "cell_type": "code",
   "execution_count": 2,
   "id": "c2107f43-3844-4d98-b703-b99f36eb6a7d",
   "metadata": {},
   "outputs": [],
   "source": [
    "import numpy as np\n",
    "\n",
    "# select a random seed to replicate the results\n",
    "np.random.seed(42)"
   ]
  },
  {
   "cell_type": "code",
   "execution_count": 4,
   "id": "1703cae4-ba46-43c0-841e-51a3dfbbec01",
   "metadata": {},
   "outputs": [],
   "source": [
    "# sales history\n",
    "\n",
    "history = 365\n",
    "\n",
    "# generate a one-year sale from store A\n",
    "\n",
    "mean_A = 20\n",
    "std_A = 5\n",
    "shop_A_sales = np.random.normal(mean_A, std_A, history)\n",
    "\n",
    "# generate one-year sales for store B\n",
    "mean_B = 19.5\n",
    "std_B = 5\n",
    "shop_B_sales = np.random.normal(mean_B, std_B, history)"
   ]
  },
  {
   "cell_type": "markdown",
   "id": "a5b36948-33f4-474c-af9e-2dff17dd3bb9",
   "metadata": {},
   "source": [
    "> We will be testing the following hypothesis: * H0 = the mean of sales of shop A equals the mean of sales of shop B (i.e. the difference between the sales is equal to zero) * HA = the means are not equal"
   ]
  },
  {
   "cell_type": "code",
   "execution_count": null,
   "id": "473afdae-10b9-425b-95d3-ced8c4e458f2",
   "metadata": {},
   "outputs": [],
   "source": []
  }
 ],
 "metadata": {
  "kernelspec": {
   "display_name": "THE_ONE",
   "language": "python",
   "name": "the_one"
  },
  "language_info": {
   "codemirror_mode": {
    "name": "ipython",
    "version": 3
   },
   "file_extension": ".py",
   "mimetype": "text/x-python",
   "name": "python",
   "nbconvert_exporter": "python",
   "pygments_lexer": "ipython3",
   "version": "3.8.16"
  }
 },
 "nbformat": 4,
 "nbformat_minor": 5
}
