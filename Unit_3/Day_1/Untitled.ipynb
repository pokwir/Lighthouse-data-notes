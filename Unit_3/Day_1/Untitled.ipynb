{
 "cells": [
  {
   "cell_type": "markdown",
   "id": "abb35e26-88e9-4665-a4d5-68d9a1489e24",
   "metadata": {},
   "source": [
    "# Introduction to Seaborn\n",
    "---"
   ]
  },
  {
   "cell_type": "markdown",
   "id": "56638ee3-720a-410f-a393-08957610d2da",
   "metadata": {},
   "source": [
    "> Seaborn is a Python data visualization library based on Matplotlib. It provides a high-level interface for drawing attractive and informative statistical graphics."
   ]
  },
  {
   "cell_type": "markdown",
   "id": "59eb3307-493d-4533-9fbc-3dc77468d741",
   "metadata": {},
   "source": [
    "[Link to documentation here -->](https://seaborn.pydata.org/introduction.html)"
   ]
  },
  {
   "cell_type": "code",
   "execution_count": null,
   "id": "3b6d7dbc-3fd4-4488-8294-4f2254628401",
   "metadata": {},
   "outputs": [],
   "source": []
  }
 ],
 "metadata": {
  "kernelspec": {
   "display_name": "THE_ONE",
   "language": "python",
   "name": "the_one"
  },
  "language_info": {
   "codemirror_mode": {
    "name": "ipython",
    "version": 3
   },
   "file_extension": ".py",
   "mimetype": "text/x-python",
   "name": "python",
   "nbconvert_exporter": "python",
   "pygments_lexer": "ipython3",
   "version": "3.8.16"
  }
 },
 "nbformat": 4,
 "nbformat_minor": 5
}
