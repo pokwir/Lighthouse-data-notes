{
 "cells": [
  {
   "cell_type": "markdown",
   "id": "1a66e1f9-d93e-4594-804a-5fa248ff484d",
   "metadata": {},
   "source": [
    "# DataViz in Python\n",
    "---"
   ]
  },
  {
   "cell_type": "markdown",
   "id": "688ebe75-be0e-4ae2-935f-9e2b0380283f",
   "metadata": {},
   "source": [
    "[https://analyticsindiamag.com/top-5-python-libraries-for-data-visualization/]"
   ]
  },
  {
   "cell_type": "code",
   "execution_count": null,
   "id": "cc4286e4-a0bd-47cc-ac56-9426deb0cc4e",
   "metadata": {},
   "outputs": [],
   "source": []
  }
 ],
 "metadata": {
  "kernelspec": {
   "display_name": "THE_ONE",
   "language": "python",
   "name": "the_one"
  },
  "language_info": {
   "codemirror_mode": {
    "name": "ipython",
    "version": 3
   },
   "file_extension": ".py",
   "mimetype": "text/x-python",
   "name": "python",
   "nbconvert_exporter": "python",
   "pygments_lexer": "ipython3",
   "version": "3.8.16"
  }
 },
 "nbformat": 4,
 "nbformat_minor": 5
}
