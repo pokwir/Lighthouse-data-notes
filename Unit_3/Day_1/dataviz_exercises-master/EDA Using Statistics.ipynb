{
 "cells": [
  {
   "cell_type": "markdown",
   "id": "03595d74-01f7-41ad-af6e-ff920cc76c0b",
   "metadata": {},
   "source": [
    "# EDA using Statistics\n",
    "---"
   ]
  },
  {
   "cell_type": "code",
   "execution_count": null,
   "id": "53af6484-8924-44fa-a1bd-2df7c8e0ea2c",
   "metadata": {},
   "outputs": [],
   "source": []
  },
  {
   "cell_type": "markdown",
   "id": "dbddaaf2-f27d-4fd7-957b-1985c9eec93f",
   "metadata": {},
   "source": [
    "Statistics play a huge role in the data exploration process. The types of data exploration can be broadly categorized as follows:\n",
    "\n",
    "1. Univariate exploration - exploring one variable at a time:\n",
    "\n",
    "        - Explanatory variables (variables that are used for modeling)\n",
    "        - Target variable (if applicable)\n",
    "2. Multivariate exploration - exploring more than one variable at the same time:\n",
    "\n",
    "        - Manual – using domain knowledge\n",
    "        - Automatical – using Math"
   ]
  },
  {
   "cell_type": "code",
   "execution_count": null,
   "id": "7beda650-42bf-49ee-a26b-e129702d171e",
   "metadata": {},
   "outputs": [],
   "source": []
  }
 ],
 "metadata": {
  "kernelspec": {
   "display_name": "THE_ONE",
   "language": "python",
   "name": "the_one"
  },
  "language_info": {
   "codemirror_mode": {
    "name": "ipython",
    "version": 3
   },
   "file_extension": ".py",
   "mimetype": "text/x-python",
   "name": "python",
   "nbconvert_exporter": "python",
   "pygments_lexer": "ipython3",
   "version": "3.8.16"
  }
 },
 "nbformat": 4,
 "nbformat_minor": 5
}
