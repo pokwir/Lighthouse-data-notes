{
 "cells": [
  {
   "cell_type": "markdown",
   "metadata": {},
   "source": [
    "### Stationarity Exercise"
   ]
  },
  {
   "cell_type": "code",
   "execution_count": 2,
   "metadata": {
    "ExecuteTime": {
     "end_time": "2020-04-29T13:07:08.619172Z",
     "start_time": "2020-04-29T13:07:08.347363Z"
    }
   },
   "outputs": [],
   "source": [
    "# import matplotlib\n",
    "import matplotlib.pyplot as plt\n",
    "\n",
    "# import random\n",
    "import random\n",
    "import numpy as np\n",
    "\n",
    "# set a random seed\n",
    "random.seed(5)"
   ]
  },
  {
   "cell_type": "markdown",
   "metadata": {},
   "source": [
    "* generate a NON stationary time-series"
   ]
  },
  {
   "cell_type": "code",
   "execution_count": 8,
   "metadata": {
    "ExecuteTime": {
     "end_time": "2020-04-29T13:07:08.793530Z",
     "start_time": "2020-04-29T13:07:08.789414Z"
    }
   },
   "outputs": [],
   "source": [
    "series = 'https://raw.githubusercontent.com/jbrownlee/Datasets/master/airline-passengers.csv'\n",
    "series = pd.read_csv(series, header=0, index_col=0)"
   ]
  },
  {
   "cell_type": "markdown",
   "metadata": {},
   "source": [
    "* plot the NON stationary series generated above"
   ]
  },
  {
   "cell_type": "code",
   "execution_count": 10,
   "metadata": {},
   "outputs": [
    {
     "data": {
      "image/png": "[encoded data removed]",
      "text/plain": [
       "<Figure size 432x288 with 1 Axes>"
      ]
     },
     "metadata": {
      "needs_background": "light"
     },
     "output_type": "display_data"
    }
   ],
   "source": [
    "X = series.values\n",
    "\n",
    "series.plot()\n",
    "plt.show()"
   ]
  },
  {
   "cell_type": "markdown",
   "metadata": {},
   "source": [
    "* generate a stationary time-series"
   ]
  },
  {
   "cell_type": "code",
   "execution_count": null,
   "metadata": {
    "ExecuteTime": {
     "end_time": "2020-04-29T13:07:09.617860Z",
     "start_time": "2020-04-29T13:07:09.613005Z"
    }
   },
   "outputs": [],
   "source": []
  },
  {
   "cell_type": "markdown",
   "metadata": {
    "ExecuteTime": {
     "end_time": "2020-04-29T13:02:41.410367Z",
     "start_time": "2020-04-29T13:02:41.403787Z"
    }
   },
   "source": [
    "* plot the stationary series generated above"
   ]
  },
  {
   "cell_type": "code",
   "execution_count": null,
   "metadata": {
    "ExecuteTime": {
     "end_time": "2020-04-29T13:07:10.191810Z",
     "start_time": "2020-04-29T13:07:09.991413Z"
    }
   },
   "outputs": [],
   "source": []
  },
  {
   "cell_type": "code",
   "execution_count": null,
   "metadata": {
    "ExecuteTime": {
     "end_time": "2020-04-29T13:07:10.954173Z",
     "start_time": "2020-04-29T13:07:10.281056Z"
    }
   },
   "outputs": [],
   "source": []
  },
  {
   "cell_type": "markdown",
   "metadata": {},
   "source": [
    "* Create a function `'ADF_Stationarity_Test'` with the input parameters `timeseries` and `significance_level` which: \n",
    "    * prints the adfuller test results\n",
    "    * prints the conclusion stating whether timeseries is stationary based on the siginificance level (input parameter of function)\n"
   ]
  },
  {
   "cell_type": "code",
   "execution_count": 11,
   "metadata": {
    "ExecuteTime": {
     "end_time": "2020-04-29T13:07:11.022255Z",
     "start_time": "2020-04-29T13:07:11.010743Z"
    }
   },
   "outputs": [
    {
     "name": "stdout",
     "output_type": "stream",
     "text": [
      "ADF Statistic: 0.815369\n",
      "p-value: 0.991880\n",
      "Critical Values:\n",
      "\t1%: -3.482\n",
      "\t5%: -2.884\n",
      "\t10%: -2.579\n"
     ]
    }
   ],
   "source": [
    "from statsmodels.tsa.stattools import adfuller\n",
    "result = adfuller(X)\n",
    "print('ADF Statistic: %f' % result[0])\n",
    "print('p-value: %f' % result[1])\n",
    "print('Critical Values:')\n",
    "for key, value in result[4].items():\n",
    " print('\\t%s: %.3f' % (key, value))"
   ]
  },
  {
   "attachments": {},
   "cell_type": "markdown",
   "metadata": {},
   "source": [
    "Our statistic is 0.8, more than -3.482. We fail to reject the null, data is not stationary. "
   ]
  },
  {
   "cell_type": "code",
   "execution_count": null,
   "metadata": {},
   "outputs": [],
   "source": []
  },
  {
   "cell_type": "markdown",
   "metadata": {},
   "source": [
    "* Apply the function `'ADF_Stationarity_Test'` to find out whether the timeseries generated above are stationary."
   ]
  },
  {
   "cell_type": "code",
   "execution_count": null,
   "metadata": {
    "ExecuteTime": {
     "end_time": "2020-04-29T13:07:11.132517Z",
     "start_time": "2020-04-29T13:07:11.096792Z"
    }
   },
   "outputs": [],
   "source": []
  },
  {
   "cell_type": "markdown",
   "metadata": {},
   "source": [
    "* Apply a suitable transformation to make the NON stationary time series stationary."
   ]
  },
  {
   "cell_type": "code",
   "execution_count": 12,
   "metadata": {
    "ExecuteTime": {
     "end_time": "2020-04-29T13:07:11.747926Z",
     "start_time": "2020-04-29T13:07:11.743645Z"
    }
   },
   "outputs": [],
   "source": [
    "X = np.log(X)"
   ]
  },
  {
   "cell_type": "code",
   "execution_count": 13,
   "metadata": {},
   "outputs": [
    {
     "name": "stdout",
     "output_type": "stream",
     "text": [
      "ADF Statistic: -1.717017\n",
      "p-value: 0.422367\n",
      "Critical Values:\n",
      "\t1%: -3.482\n",
      "\t5%: -2.884\n",
      "\t10%: -2.579\n"
     ]
    }
   ],
   "source": [
    "result = adfuller(X)\n",
    "print('ADF Statistic: %f' % result[0])\n",
    "print('p-value: %f' % result[1])\n",
    "print('Critical Values:')\n",
    "for key, value in result[4].items():\n",
    " print('\\t%s: %.3f' % (key, value))"
   ]
  },
  {
   "cell_type": "code",
   "execution_count": null,
   "metadata": {},
   "outputs": [],
   "source": []
  },
  {
   "cell_type": "markdown",
   "metadata": {},
   "source": [
    "* plot the transformed time series"
   ]
  },
  {
   "cell_type": "code",
   "execution_count": 15,
   "metadata": {
    "ExecuteTime": {
     "end_time": "2020-04-29T13:07:12.324715Z",
     "start_time": "2020-04-29T13:07:12.093597Z"
    }
   },
   "outputs": [
    {
     "ename": "AttributeError",
     "evalue": "'numpy.ndarray' object has no attribute 'values'",
     "output_type": "error",
     "traceback": [
      "\u001b[0;31m---------------------------------------------------------------------------\u001b[0m",
      "\u001b[0;31mAttributeError\u001b[0m                            Traceback (most recent call last)",
      "\u001b[1;32m/Users/patrickokwir/Desktop/Lighthouse-data-notes/Unit_9/Day_4/time_series_exercise/stationarity_exercise.ipynb Cell 23\u001b[0m in \u001b[0;36m<cell line: 1>\u001b[0;34m()\u001b[0m\n\u001b[0;32m----> <a href='vscode-notebook-cell:/Users/patrickokwir/Desktop/Lighthouse-data-notes/Unit_9/Day_4/time_series_exercise/stationarity_exercise.ipynb#X26sZmlsZQ%3D%3D?line=0'>1</a>\u001b[0m X\u001b[39m.\u001b[39;49mvalues\u001b[39m.\u001b[39mplot(\n\u001b[1;32m      <a href='vscode-notebook-cell:/Users/patrickokwir/Desktop/Lighthouse-data-notes/Unit_9/Day_4/time_series_exercise/stationarity_exercise.ipynb#X26sZmlsZQ%3D%3D?line=1'>2</a>\u001b[0m     title\u001b[39m=\u001b[39m\u001b[39m'\u001b[39m\u001b[39mLog Transformed Series\u001b[39m\u001b[39m'\u001b[39m\n\u001b[1;32m      <a href='vscode-notebook-cell:/Users/patrickokwir/Desktop/Lighthouse-data-notes/Unit_9/Day_4/time_series_exercise/stationarity_exercise.ipynb#X26sZmlsZQ%3D%3D?line=2'>3</a>\u001b[0m     )\n\u001b[1;32m      <a href='vscode-notebook-cell:/Users/patrickokwir/Desktop/Lighthouse-data-notes/Unit_9/Day_4/time_series_exercise/stationarity_exercise.ipynb#X26sZmlsZQ%3D%3D?line=3'>4</a>\u001b[0m plt\u001b[39m.\u001b[39mshow()\n",
      "\u001b[0;31mAttributeError\u001b[0m: 'numpy.ndarray' object has no attribute 'values'"
     ]
    }
   ],
   "source": [
    "X.values.plot(\n",
    "    title='Log Transformed Series'\n",
    "    )\n",
    "plt.show()"
   ]
  },
  {
   "cell_type": "markdown",
   "metadata": {},
   "source": [
    "* Apply the function `'ADF_Stationarity_Test'` to find out whether the transformed timeseries is stationary."
   ]
  },
  {
   "cell_type": "code",
   "execution_count": null,
   "metadata": {
    "ExecuteTime": {
     "end_time": "2020-04-29T13:07:12.573185Z",
     "start_time": "2020-04-29T13:07:12.546067Z"
    }
   },
   "outputs": [],
   "source": []
  }
 ],
 "metadata": {
  "kernelspec": {
   "display_name": "Python 3",
   "language": "python",
   "name": "python3"
  },
  "language_info": {
   "codemirror_mode": {
    "name": "ipython",
    "version": 3
   },
   "file_extension": ".py",
   "mimetype": "text/x-python",
   "name": "python",
   "nbconvert_exporter": "python",
   "pygments_lexer": "ipython3",
   "version": "3.9.7"
  },
  "toc": {
   "base_numbering": 1,
   "nav_menu": {},
   "number_sections": true,
   "sideBar": true,
   "skip_h1_title": false,
   "title_cell": "Table of Contents",
   "title_sidebar": "Contents",
   "toc_cell": false,
   "toc_position": {},
   "toc_section_display": true,
   "toc_window_display": false
  },
  "varInspector": {
   "cols": {
    "lenName": 16,
    "lenType": 16,
    "lenVar": 40
   },
   "kernels_config": {
    "python": {
     "delete_cmd_postfix": "",
     "delete_cmd_prefix": "del ",
     "library": "var_list.py",
     "varRefreshCmd": "print(var_dic_list())"
    },
    "r": {
     "delete_cmd_postfix": ") ",
     "delete_cmd_prefix": "rm(",
     "library": "var_list.r",
     "varRefreshCmd": "cat(var_dic_list()) "
    }
   },
   "types_to_exclude": [
    "module",
    "function",
    "builtin_function_or_method",
    "instance",
    "_Feature"
   ],
   "window_display": false
  }
 },
 "nbformat": 4,
 "nbformat_minor": 4
}
