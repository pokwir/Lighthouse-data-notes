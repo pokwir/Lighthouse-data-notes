{
 "cells": [
  {
   "attachments": {},
   "cell_type": "markdown",
   "metadata": {},
   "source": [
    "**Box-Jenkins Method for Time Series Forecasting**\n",
    "---"
   ]
  },
  {
   "attachments": {},
   "cell_type": "markdown",
   "metadata": {},
   "source": [
    "An ARIMA model is a class of statistical model for analyzing and forecasting time series data.\n",
    "\n",
    "Along with its development, the authors Box and Jenkins also suggest a process for identifying, estimating, and checking models for a specific time series dataset. `This process is now referred to as the Box-Jenkins Method.`\n",
    "\n",
    "`ARIMA is an acronym that stands for AutoRegressive Integrated Moving Average.` It is a generalization of the simpler AutoRegressive Moving Average and adds the notion of integration.\n",
    "\n",
    "This acronym is descriptive, capturing the key aspects of the model itself. Briefly, they are:\n",
    "\n",
    "`AR: Autoregression.` A model that uses the dependent relationship between an observation and some number of lagged observations.\\\n",
    "`I: Integrated.` The use of differencing of raw observations (i.e. subtracting an observation from an observation at the previous time step) in order to make the time series stationary.\\\n",
    "`MA: Moving Average.` A model that uses the dependency between an observation and residual errors from a moving average model applied to lagged observations.\n",
    "Each of these components are explicitly specified in the model as a parameter.\n",
    "\n",
    "A standard notation is used of `ARIMA(p,d,q)` where the parameters are substituted with integer values to quickly indicate the specific ARIMA model being used.\n",
    "\n",
    "The parameters of the ARIMA model are defined as follows:\n",
    "\n",
    "`p:` The number of lag observations included in the model, also called the lag order.\\\n",
    "`d:` The number of times that the raw observations are differenced, also called the degree of differencing.\\\n",
    "`q:` The size of the moving average window, also called the order of moving average."
   ]
  },
  {
   "attachments": {},
   "cell_type": "markdown",
   "metadata": {},
   "source": [
    "##### **Box-Jenkins Method**"
   ]
  },
  {
   "attachments": {},
   "cell_type": "markdown",
   "metadata": {},
   "source": [
    "The approach starts with the `assumption that the process that generated the time series can be approximated using an ARMA model if it is stationary or an ARIMA model if it is non-stationary.`\n",
    "\n",
    "The 2016 5th edition of the textbook (Part Two, page 177) refers to `the process as a stochastic model building and that it is an iterative approach that consists of the following 3 steps:`\n",
    "\n",
    "`Identification.` Use the data and all related information to help select a sub-class of model that may best summarize the data.\\\n",
    "`Estimation.` Use the data to train the parameters of the model (i.e. the coefficients).\\\n",
    "`Diagnostic Checking`. Evaluate the fitted model in the context of the available data and check for areas where the model may be improved.\\\n",
    "\n",
    "It is an iterative process, so that as new information is gained during diagnostics, you can circle back to step 1 and incorporate that into new model classes."
   ]
  },
  {
   "attachments": {},
   "cell_type": "markdown",
   "metadata": {},
   "source": [
    "**`a. Identification`**\n",
    "Assess whether the time series is stationary, and if not, how many differences are required to make it stationary.\n",
    "Identify the parameters of an ARMA model for the data.\n",
    "\n",
    "_Below are some tips during identification._\n",
    "\n",
    "`Unit Root Tests`. Use unit root statistical tests on the time series to determine whether or not it is stationary. Repeat after each round of differencing.\\\n",
    "`Avoid over differencing.` Differencing the time series more than is required can result in the addition of extra serial correlation and additional complexity.\n",
    "\n",
    "_Two diagnostic plots can be used to help choose the p and q parameters of the ARMA or ARIMA. They are:_\n",
    "\n",
    "`Autocorrelation Function (ACF).` The plot summarizes the correlation of an observation with lag values. The x-axis shows the lag and the y-axis shows the correlation coefficient between -1 and 1 for negative and positive correlation.\\\n",
    "`Partial Autocorrelation Function (PACF).` The plot summarizes the correlations for an observation with lag values that is not accounted for by prior lagged observations.\n",
    "\n",
    "The model is AR if the ACF trails off after a lag and has a hard cut-off in the PACF after a lag. This lag is taken as the value for p.\\\n",
    "The model is MA if the PACF trails off after a lag and has a hard cut-off in the ACF after the lag. This lag value is taken as the value for q.\\\n",
    "The model is a mix of AR and MA if both the ACF and PACF trail off.\n",
    "\n",
    "**`b. Estimation`**\n",
    "\n",
    "Estimation involves using numerical methods to minimize a loss or error term.\n",
    "\n",
    "We will not go into the details of estimating model parameters as these details are handled by the chosen library or tool.\n",
    "\n",
    "\n",
    "**`c. Diagnostic Checking`**\n",
    "\n",
    "The idea of diagnostic checking is to look for evidence that the model is not a good fit for the data.\n",
    "\n",
    "Two useful areas to investigate diagnostics are:\n",
    "\n",
    "`Overfitting\n",
    "Residual Errors.`\n",
    "\n"
   ]
  },
  {
   "cell_type": "code",
   "execution_count": null,
   "metadata": {},
   "outputs": [],
   "source": []
  },
  {
   "cell_type": "code",
   "execution_count": null,
   "metadata": {},
   "outputs": [],
   "source": []
  },
  {
   "cell_type": "code",
   "execution_count": null,
   "metadata": {},
   "outputs": [],
   "source": []
  }
 ],
 "metadata": {
  "language_info": {
   "name": "python"
  },
  "orig_nbformat": 4
 },
 "nbformat": 4,
 "nbformat_minor": 2
}
