{
 "cells": [
  {
   "cell_type": "markdown",
   "metadata": {},
   "source": [
    "# Training and Evaluation - W05D1\n",
    "### Instructor: Eithar Elbasheer\n",
    "#### Lecture Notes Credit: Eric Elmoznino"
   ]
  },
  {
   "cell_type": "markdown",
   "metadata": {},
   "source": [
    "## Overview\n",
    "- Training models\n",
    "    - Overfitting\n",
    "    - Train-test split\n",
    "    - Sampling bias\n",
    "    - Cross-validation\n",
    "    - Hyperparameter tuning\n",
    "        - Grid search\n",
    "- Model evaluation\n",
    "    - Regression\n",
    "    - Classification"
   ]
  },
  {
   "cell_type": "markdown",
   "metadata": {},
   "source": [
    "## Learning Objectives\n",
    "- General Understaning of Overfitting and Underfitting\n",
    "- train_test split in Sklearn\n",
    "- What is sampling bias? and intuition behind it\n",
    "- Why to use cross-validation and code using sklearn\n",
    "- Hyperparameter tuning to avoid sampling error and how to use use Sklearn for Gridsearch\n",
    "- Genral understaning for model evaluation metrics"
   ]
  },
  {
   "cell_type": "code",
   "execution_count": 1,
   "metadata": {},
   "outputs": [],
   "source": [
    "import pandas as pd\n",
    "import numpy as np\n",
    "import seaborn as sns; sns.set(style='darkgrid', context='talk')\n",
    "import matplotlib.pyplot as plt\n",
    "\n",
    "# Suppress some warnings that sklearn is returning when a model doesn't perform well\n",
    "from warnings import simplefilter\n",
    "from sklearn.exceptions import ConvergenceWarning\n",
    "simplefilter(\"ignore\", category=ConvergenceWarning)\n",
    "import warnings\n",
    "warnings.filterwarnings('ignore')"
   ]
  },
  {
   "cell_type": "markdown",
   "metadata": {},
   "source": [
    "---\n",
    "# Training models"
   ]
  },
  {
   "cell_type": "markdown",
   "metadata": {},
   "source": [
    "## Overfitting\n",
    "\n",
    "#### Intuition\n",
    "- Imagine studying for an exam using a set of practice questions\n",
    "- If you do well on the practice questions, are you guaranteed to do well on the real exam?\n",
    "- Goal is to *learn the underlying concepts* rather than *memorize the questions/answers*\n",
    "- This is called **generalization**\n",
    "\n",
    "\n",
    "#### Theory\n",
    "![](images/overfitting.png)\n",
    "\n",
    "- Data has two components components: signal (pattern) + noise\n",
    "- Example: predicting house prices from # of bedrooms, area, age, etc.\n",
    "    - Signal: degree to which these features influence the price\n",
    "    - Noise: random variation, or variation due to unknown features\n",
    "- Goal of machine learning: model the pattern, ignore the noise\n",
    "- When the model is fitting (trying to predict) the noise, we say that it is overfitting\n",
    "- Overfitting is undesirable, because the noise is random and therefore won’t be the same on new data seen out in the real world\n",
    "- Fitting noise is like relying on random coincidences in the dataset\n",
    "- **Why** does overfitting happen? Model has too many degrees of freedom (complexity). In the extreme, a complex enough model can simply memorize the data (signal + noise) rather than learn the underlying concepts (signal)."
   ]
  },
  {
   "cell_type": "markdown",
   "metadata": {},
   "source": [
    "## Test/train split\n",
    "\n",
    "#### Intuition\n",
    "- If you were studying from practice exams, what would you do to get an idea of how you will perform on the real one?\n",
    "- Idea:\n",
    "    1. Learn from some practice exams that you do again and again (training data)\n",
    "    2. Write a *new* practice exam that you left to the side (test data)\n",
    "- This strategy will give you an idea of how well you will generalize\n",
    "\n",
    "#### Theory\n",
    "- With more powerful models, we can always arbitrarily fit the training data better and better (lower training error)\n",
    "- What we're actually trying to achieve is good performance on **new data that our model was never trained on**\n",
    "- We can train our model on just a subset of our whole dataset (**train set**) and evaluate its performance on the rest (**test set**)\n",
    "\n",
    "<img src=\"images/test_set.png\" style=\"width: 800px;\"/>\n",
    "\n",
    "![](images/overfitting_training.png)"
   ]
  },
  {
   "cell_type": "markdown",
   "metadata": {},
   "source": [
    "### Train/test split example"
   ]
  },
  {
   "cell_type": "code",
   "execution_count": 2,
   "metadata": {},
   "outputs": [
    {
     "name": "stdout",
     "output_type": "stream",
     "text": [
      "Dataset has 506 data points and 13 features\n"
     ]
    }
   ],
   "source": [
    "# Load the dataset\n",
    "# load_boston from sklearn 1.1.3\n",
    "from sklearn.datasets import load_boston\n",
    "from sklearn.utils import shuffle\n",
    "\n",
    "boston_data = load_boston()\n",
    "X, y = boston_data['data'], boston_data['target']\n",
    "\n",
    "# It is good practice to shuffle your data, since it\n",
    "# may be ordered in a particular way (e.g. increasing target)\n",
    "X, y = shuffle(X, y, random_state=27)\n",
    "\n",
    "print(f'Dataset has {X.shape[0]} data points and {X.shape[1]} features')"
   ]
  },
  {
   "cell_type": "code",
   "execution_count": 3,
   "metadata": {},
   "outputs": [
    {
     "name": "stdout",
     "output_type": "stream",
     "text": [
      "354 training samples and 152 test samples\n"
     ]
    }
   ],
   "source": [
    "# Make train/test split\n",
    "# Let's use 70% of the data for training and evaluate on the remaining 30%\n",
    "train_ratio = 0.7\n",
    "\n",
    "X_train, X_test = X[:int(train_ratio * len(X))], X[int(train_ratio * len(X)):]\n",
    "y_train, y_test = y[:int(train_ratio * len(y))], y[int(train_ratio * len(y)):]\n",
    "\n",
    "print(f'{len(X_train)} training samples and {len(X_test)} test samples')"
   ]
  },
  {
   "cell_type": "code",
   "execution_count": 4,
   "metadata": {},
   "outputs": [
    {
     "name": "stdout",
     "output_type": "stream",
     "text": [
      "354 training samples and 152 test samples\n"
     ]
    }
   ],
   "source": [
    "# In practice, we can just use sklearn's convenience function for making the above split instead\n",
    "from sklearn.model_selection import train_test_split\n",
    "\n",
    "X_train, X_test, y_train, y_test = train_test_split(X, y, shuffle=False, train_size=train_ratio) #shuffle is False because we shuffled above\n",
    "\n",
    "print(f'{len(X_train)} training samples and {len(X_test)} test samples')"
   ]
  },
  {
   "cell_type": "code",
   "execution_count": 5,
   "metadata": {},
   "outputs": [
    {
     "data": {
      "text/html": [
       "<style>#sk-container-id-1 {color: black;background-color: white;}#sk-container-id-1 pre{padding: 0;}#sk-container-id-1 div.sk-toggleable {background-color: white;}#sk-container-id-1 label.sk-toggleable__label {cursor: pointer;display: block;width: 100%;margin-bottom: 0;padding: 0.3em;box-sizing: border-box;text-align: center;}#sk-container-id-1 label.sk-toggleable__label-arrow:before {content: \"▸\";float: left;margin-right: 0.25em;color: #696969;}#sk-container-id-1 label.sk-toggleable__label-arrow:hover:before {color: black;}#sk-container-id-1 div.sk-estimator:hover label.sk-toggleable__label-arrow:before {color: black;}#sk-container-id-1 div.sk-toggleable__content {max-height: 0;max-width: 0;overflow: hidden;text-align: left;background-color: #f0f8ff;}#sk-container-id-1 div.sk-toggleable__content pre {margin: 0.2em;color: black;border-radius: 0.25em;background-color: #f0f8ff;}#sk-container-id-1 input.sk-toggleable__control:checked~div.sk-toggleable__content {max-height: 200px;max-width: 100%;overflow: auto;}#sk-container-id-1 input.sk-toggleable__control:checked~label.sk-toggleable__label-arrow:before {content: \"▾\";}#sk-container-id-1 div.sk-estimator input.sk-toggleable__control:checked~label.sk-toggleable__label {background-color: #d4ebff;}#sk-container-id-1 div.sk-label input.sk-toggleable__control:checked~label.sk-toggleable__label {background-color: #d4ebff;}#sk-container-id-1 input.sk-hidden--visually {border: 0;clip: rect(1px 1px 1px 1px);clip: rect(1px, 1px, 1px, 1px);height: 1px;margin: -1px;overflow: hidden;padding: 0;position: absolute;width: 1px;}#sk-container-id-1 div.sk-estimator {font-family: monospace;background-color: #f0f8ff;border: 1px dotted black;border-radius: 0.25em;box-sizing: border-box;margin-bottom: 0.5em;}#sk-container-id-1 div.sk-estimator:hover {background-color: #d4ebff;}#sk-container-id-1 div.sk-parallel-item::after {content: \"\";width: 100%;border-bottom: 1px solid gray;flex-grow: 1;}#sk-container-id-1 div.sk-label:hover label.sk-toggleable__label {background-color: #d4ebff;}#sk-container-id-1 div.sk-serial::before {content: \"\";position: absolute;border-left: 1px solid gray;box-sizing: border-box;top: 0;bottom: 0;left: 50%;z-index: 0;}#sk-container-id-1 div.sk-serial {display: flex;flex-direction: column;align-items: center;background-color: white;padding-right: 0.2em;padding-left: 0.2em;position: relative;}#sk-container-id-1 div.sk-item {position: relative;z-index: 1;}#sk-container-id-1 div.sk-parallel {display: flex;align-items: stretch;justify-content: center;background-color: white;position: relative;}#sk-container-id-1 div.sk-item::before, #sk-container-id-1 div.sk-parallel-item::before {content: \"\";position: absolute;border-left: 1px solid gray;box-sizing: border-box;top: 0;bottom: 0;left: 50%;z-index: -1;}#sk-container-id-1 div.sk-parallel-item {display: flex;flex-direction: column;z-index: 1;position: relative;background-color: white;}#sk-container-id-1 div.sk-parallel-item:first-child::after {align-self: flex-end;width: 50%;}#sk-container-id-1 div.sk-parallel-item:last-child::after {align-self: flex-start;width: 50%;}#sk-container-id-1 div.sk-parallel-item:only-child::after {width: 0;}#sk-container-id-1 div.sk-dashed-wrapped {border: 1px dashed gray;margin: 0 0.4em 0.5em 0.4em;box-sizing: border-box;padding-bottom: 0.4em;background-color: white;}#sk-container-id-1 div.sk-label label {font-family: monospace;font-weight: bold;display: inline-block;line-height: 1.2em;}#sk-container-id-1 div.sk-label-container {text-align: center;}#sk-container-id-1 div.sk-container {/* jupyter's `normalize.less` sets `[hidden] { display: none; }` but bootstrap.min.css set `[hidden] { display: none !important; }` so we also need the `!important` here to be able to override the default hidden behavior on the sphinx rendered scikit-learn.org. See: https://github.com/scikit-learn/scikit-learn/issues/21755 */display: inline-block !important;position: relative;}#sk-container-id-1 div.sk-text-repr-fallback {display: none;}</style><div id=\"sk-container-id-1\" class=\"sk-top-container\"><div class=\"sk-text-repr-fallback\"><pre>LinearRegression()</pre><b>In a Jupyter environment, please rerun this cell to show the HTML representation or trust the notebook. <br />On GitHub, the HTML representation is unable to render, please try loading this page with nbviewer.org.</b></div><div class=\"sk-container\" hidden><div class=\"sk-item\"><div class=\"sk-estimator sk-toggleable\"><input class=\"sk-toggleable__control sk-hidden--visually\" id=\"sk-estimator-id-1\" type=\"checkbox\" checked><label for=\"sk-estimator-id-1\" class=\"sk-toggleable__label sk-toggleable__label-arrow\">LinearRegression</label><div class=\"sk-toggleable__content\"><pre>LinearRegression()</pre></div></div></div></div></div>"
      ],
      "text/plain": [
       "LinearRegression()"
      ]
     },
     "execution_count": 5,
     "metadata": {},
     "output_type": "execute_result"
    }
   ],
   "source": [
    "# Train our model\n",
    "from sklearn.linear_model import LinearRegression\n",
    "\n",
    "reg = LinearRegression()\n",
    "reg.fit(X_train, y_train)"
   ]
  },
  {
   "cell_type": "code",
   "execution_count": 6,
   "metadata": {},
   "outputs": [
    {
     "name": "stdout",
     "output_type": "stream",
     "text": [
      "Train R^2:\t0.7278481991105032\n",
      "Test R^2:\t0.7500070318143857\n"
     ]
    }
   ],
   "source": [
    "# Check performance on train and test set\n",
    "from sklearn.metrics import r2_score\n",
    "\n",
    "y_train_pred = reg.predict(X_train)\n",
    "y_test_pred = reg.predict(X_test)\n",
    "\n",
    "r2_train = r2_score(y_train, y_train_pred)\n",
    "r2_test = r2_score(y_test, y_test_pred)\n",
    "\n",
    "print(f'Train R^2:\\t{r2_train}\\nTest R^2:\\t{r2_test}')"
   ]
  },
  {
   "cell_type": "markdown",
   "metadata": {},
   "source": [
    "#### Debrief\n",
    "The test set performance is actually *higher* than on the train set. Our model isn't overfitting! Maybe it's underfitting?\n",
    "Perhaps we can use a more complex model and get even better performance on the test set. Let's try polynomial regression."
   ]
  },
  {
   "cell_type": "code",
   "execution_count": 7,
   "metadata": {},
   "outputs": [
    {
     "name": "stdout",
     "output_type": "stream",
     "text": [
      "Number of polynomial features: 105\n",
      "Train R^2:\t0.9295292898014884\n",
      "Test R^2:\t0.834384245823088\n"
     ]
    }
   ],
   "source": [
    "from sklearn.preprocessing import PolynomialFeatures\n",
    "\n",
    "# Create polynomial feature set and train model\n",
    "Xpoly_train = PolynomialFeatures(degree=2).fit_transform(X_train)\n",
    "Xpoly_test = PolynomialFeatures(degree=2).fit_transform(X_test)\n",
    "print(f'Number of polynomial features: {Xpoly_train.shape[1]}')\n",
    "\n",
    "# Train our model\n",
    "reg.fit(Xpoly_train, y_train)\n",
    "ypoly_train_pred = reg.predict(Xpoly_train)\n",
    "ypoly_test_pred = reg.predict(Xpoly_test)\n",
    "\n",
    "# Check performance on train and test set\n",
    "r2poly_train = r2_score(y_train, ypoly_train_pred)\n",
    "r2poly_test = r2_score(y_test, ypoly_test_pred)\n",
    "print(f'Train R^2:\\t{r2poly_train}\\nTest R^2:\\t{r2poly_test}')"
   ]
  },
  {
   "cell_type": "markdown",
   "metadata": {},
   "source": [
    "#### Debrief\n",
    "Our more complex second-order polynomial regression model performed even better on the test set.\n",
    "Our model might be overfitting, but we are not sure yet.\n",
    "Let's bump up the complexity one more time and try third-order polynomial regression."
   ]
  },
  {
   "cell_type": "code",
   "execution_count": 8,
   "metadata": {},
   "outputs": [
    {
     "name": "stdout",
     "output_type": "stream",
     "text": [
      "Number of polynomial features: 560\n",
      "Train R^2:\t1.0\n",
      "Test R^2:\t-680.1136964121504\n"
     ]
    }
   ],
   "source": [
    "# Create polynomial feature set and train model\n",
    "Xpoly3_train = PolynomialFeatures(degree=3).fit_transform(X_train)\n",
    "Xpoly3_test = PolynomialFeatures(degree=3).fit_transform(X_test)\n",
    "print(f'Number of polynomial features: {Xpoly3_train.shape[1]}')\n",
    "\n",
    "# Train our model\n",
    "reg.fit(Xpoly3_train, y_train)\n",
    "ypoly3_train_pred = reg.predict(Xpoly3_train)\n",
    "ypoly3_test_pred = reg.predict(Xpoly3_test)\n",
    "\n",
    "# Check performance on train and test set\n",
    "r2poly3_train = r2_score(y_train, ypoly3_train_pred)\n",
    "r2poly3_test = r2_score(y_test, ypoly3_test_pred)\n",
    "print(f'Train R^2:\\t{r2poly3_train}\\nTest R^2:\\t{r2poly3_test}')"
   ]
  },
  {
   "cell_type": "markdown",
   "metadata": {},
   "source": [
    "#### Debrief\n",
    "Our even more complex third-order polynomial regression model did horribly on the test set. Notice that it overfit the training set completly (perfect prediction). This can always happen in linear regression when we have more features than data points (which is the case here)."
   ]
  },
  {
   "cell_type": "code",
   "execution_count": 29,
   "metadata": {},
   "outputs": [
    {
     "data": {
      "image/png": "[encoded data removed]",
      "text/plain": [
       "<Figure size 864x432 with 1 Axes>"
      ]
     },
     "metadata": {},
     "output_type": "display_data"
    }
   ],
   "source": [
    "# Show performance of all models on train and test set\n",
    "df = pd.DataFrame({'Model Complexity': ['linear', 'linear', '2nd-order', '2nd-order', '3rd-order', '3rd-order'],\n",
    "                  'R^2': [r2_train, r2_test, r2poly_train, r2poly_test, r2poly3_train, r2poly3_test],\n",
    "                  'Set': ['train', 'test', 'train', 'test', 'train', 'test']})\n",
    "df['R^2'] = df['R^2'].clip(lower=0)    # Threshold minimum R^2 to 0 for nicer display of results (if it's 0, we already know it learned nothing)\n",
    "\n",
    "plt.figure(figsize=(12, 6))\n",
    "sns.lineplot(x='Model Complexity', y='R^2', hue='Set', data=df, sort=False)\n",
    "plt.ylim(ymin=0, ymax=1)\n",
    "plt.ylabel('R^2 (higher is better)')\n",
    "plt.show()"
   ]
  },
  {
   "cell_type": "markdown",
   "metadata": {},
   "source": [
    "## Sampling bias\n",
    "\n",
    "#### Intuition\n",
    "- Imagine you learned from some practice exams (training data) and evaluated on a new one (test data)\n",
    "- What if a new professor is teaching the course? Is our strategy still going to tell us what mark to expect on the real exam?\n",
    "- This is called **sampling bias**. Our data (both training and evaluation, in this case) come from a *different distribution* (old professor question style) from our the data we actually care about performing well on (new professor question style)\n",
    "\n",
    "#### Theory\n",
    "- In machine learning, remember that the model just learns patterns in the data you give it\n",
    "- What if our dataset isn't representative of the type of data we want our model to handle afterwards?\n",
    "- Most machine learning models fail dramatically for **out of distribution** data that is very different from what we've trained on\n",
    "\n",
    "<!--\n",
    "import numpy as np\n",
    "plt.figure(figsize=(16, 8))\n",
    "noise = np.random.normal(scale=0.07, size=1000)\n",
    "x = np.linspace(1, 10, 1000)\n",
    "y = np.log(x)\n",
    "samples = y[400:600] + noise[400:600]\n",
    "plt.plot(x, y, label='true distribution')\n",
    "plt.scatter(x[400:600], samples, color='r', alpha=0.5, s=20, label='data')\n",
    "plt.plot(x, x * 1/x[500] + (y[500] - 1), label='model')\n",
    "plt.xlabel('x')\n",
    "plt.ylabel('y')\n",
    "plt.legend()\n",
    "plt.savefig('images/sampling_bias.png', dpi=200)\n",
    "plt.show()\n",
    "-->\n",
    "<img src=\"images/sampling_bias.png\" style=\"width: 1200px;\"/>\n",
    "\n",
    "### Activity\n",
    "Think of a **dataset** and machine learning **task** where:\n",
    "- Our data was collected within a certain distribution (e.g. house prices in Toronto)\n",
    "- We evaluate it on out of distribution data where it would fail (e.g. house prices in Tokyo)\n",
    "\n",
    "Essentially **all** datasets are biased one way or another. Train yourself to think of different ways\n",
    "that they could be biased and different reasons why. Understanding the conditions under which your model\n",
    "will work and fail is essential when deploying it in the real world.\n",
    "\n",
    "*Try and think creatively about real scenarios where the dataset would be biased because of where it came from!\n",
    "(e.g. don't just say it only had house prices from Toronto, give a realistic explanation for why that might happen)*\n",
    "\n",
    "<!--\n",
    "- Old dataset from another decade\n",
    "- One data-source (e.g. Creg's list). Very common problem which will cause bias from multiple sources. Instagram selfie example from ModiFace\n",
    "- Different data processing (e.g. you forget to standardize the new data coming in like you did with your training data)\n",
    "- Different data formats or devices. For images, different cameras. For audio, different microphones. For text, different writing medium\n",
    "- Dataset too small (most common problem, since statistically small dataset is bound to be biased). Problem gets worse the more features we have\n",
    "-->"
   ]
  },
  {
   "cell_type": "markdown",
   "metadata": {},
   "source": [
    "## Cross-validation\n",
    "- We wish to evaluate our model on a dataset with little sampling bias, so that we know how it will perform in the real world\n",
    "- Smaller datasets are far more likely to suffer from sampling bias\n",
    "- This creates a conflict:\n",
    "    - We want to have a big test set to get a realistic estimate of our model's performance without sampling bias\n",
    "    - We want to have a big training set so that our model can learn without sampling bias\n",
    "- How can we reconcile these goals?\n",
    "- **One answer:** cross-validation. Even if any single fold suffers from sampling bias, at least we are averaging the results from many\n",
    "\n",
    "<img src=\"images/cross_validation.png\" style=\"width: 1000px;\"/>"
   ]
  },
  {
   "cell_type": "markdown",
   "metadata": {},
   "source": [
    "### Cross-validation example"
   ]
  },
  {
   "cell_type": "code",
   "execution_count": 9,
   "metadata": {},
   "outputs": [
    {
     "name": "stdout",
     "output_type": "stream",
     "text": [
      "The folds are of type <class 'list'> and contain 102, 101, 101, 101, 101 data points\n"
     ]
    }
   ],
   "source": [
    "# Make the folds\n",
    "k_folds = 5\n",
    "\n",
    "X_folds, y_folds = np.array_split(X, k_folds), np.array_split(y, k_folds)\n",
    "\n",
    "fold_sizes = ', '.join([str(len(f)) for f in X_folds])\n",
    "print(f'The folds are of type {type(X_folds)} and contain {fold_sizes} data points')"
   ]
  },
  {
   "cell_type": "code",
   "execution_count": 10,
   "metadata": {},
   "outputs": [
    {
     "name": "stdout",
     "output_type": "stream",
     "text": [
      "[0.7057189451172964, 0.6566041936444869, 0.7203026852522949, 0.7898705155348582, 0.7287877060675576]\n"
     ]
    }
   ],
   "source": [
    "# List that will accumulate test performance on each fold\n",
    "cv_r2 = []\n",
    "\n",
    "for i in range(k_folds):\n",
    "    # Make the train/test set for this fold\n",
    "    X_test = X_folds[i]\n",
    "    y_test = y_folds[i]\n",
    "    X_train = [X_folds[j] for j in range(k_folds) if j != i]\n",
    "    y_train = [y_folds[j] for j in range(k_folds) if j != i]\n",
    "    X_train = np.concatenate(X_train)\n",
    "    y_train = np.concatenate(y_train)\n",
    "    \n",
    "    # Train the model\n",
    "    reg.fit(X_train, y_train)\n",
    "    \n",
    "    # Evaluate the model on the test set\n",
    "    y_pred = reg.predict(X_test)\n",
    "    r2 = r2_score(y_test, y_pred)\n",
    "    \n",
    "    cv_r2.append(r2)\n",
    "    \n",
    "print(cv_r2)"
   ]
  },
  {
   "cell_type": "code",
   "execution_count": 11,
   "metadata": {},
   "outputs": [
    {
     "name": "stdout",
     "output_type": "stream",
     "text": [
      "Cross-validated R^2\n",
      "Mean:\t0.7202568091232988\n",
      "Std.:\t0.04285289109219604\n"
     ]
    }
   ],
   "source": [
    "# Get the mean and standard deviation of the cross-validation test set performance across folds\n",
    "cv_r2 = np.array(cv_r2)\n",
    "print(f'Cross-validated R^2\\nMean:\\t{cv_r2.mean()}\\nStd.:\\t{cv_r2.std()}')"
   ]
  },
  {
   "cell_type": "markdown",
   "metadata": {},
   "source": [
    "#### Debrief\n",
    "Notice that this test set performance is actually lower than in our initial example when we split the\n",
    "dataset once into a train/test set. We should trust this estimate more, because it was computed\n",
    "from 5 different train/test splits rather than a single one."
   ]
  },
  {
   "cell_type": "markdown",
   "metadata": {},
   "source": [
    "#### sklearn provides an easier way to do cross-validation"
   ]
  },
  {
   "cell_type": "code",
   "execution_count": 12,
   "metadata": {},
   "outputs": [
    {
     "name": "stdout",
     "output_type": "stream",
     "text": [
      "Cross-validated R^2\n",
      "Mean:\t0.7202568091232988\n",
      "Std.:\t0.04285289109219604\n"
     ]
    }
   ],
   "source": [
    "from sklearn.model_selection import KFold\n",
    "\n",
    "# List that will accumulate test performance on each fold\n",
    "cv_r2 = []\n",
    "\n",
    "kf = KFold(n_splits=k_folds)\n",
    "\n",
    "for train_idx, test_idx in kf.split(X):\n",
    "    X_train, X_test, y_train, y_test = X[train_idx], X[test_idx], y[train_idx], y[test_idx]\n",
    "    \n",
    "    # Train the model\n",
    "    reg.fit(X_train, y_train)\n",
    "    \n",
    "    # Evaluate the model on the test set\n",
    "    y_pred = reg.predict(X_test)\n",
    "    r2 = r2_score(y_test, y_pred)\n",
    "    \n",
    "    cv_r2.append(r2)\n",
    "    \n",
    "# Get the mean and standard deviation of the cross-validation test set performance across folds\n",
    "cv_r2 = np.array(cv_r2)\n",
    "print(f'Cross-validated R^2\\nMean:\\t{cv_r2.mean()}\\nStd.:\\t{cv_r2.std()}')"
   ]
  },
  {
   "cell_type": "markdown",
   "metadata": {},
   "source": [
    "#### And sklearn provides an even easier way if all we're interested in is the scores"
   ]
  },
  {
   "cell_type": "code",
   "execution_count": 13,
   "metadata": {},
   "outputs": [
    {
     "name": "stdout",
     "output_type": "stream",
     "text": [
      "Cross-validated R^2\n",
      "Mean:\t0.7202568091232988\n",
      "Std.:\t0.04285289109219604\n"
     ]
    }
   ],
   "source": [
    "from sklearn.model_selection import cross_val_score\n",
    "\n",
    "cv_r2 = cross_val_score(reg, X, y, cv=k_folds, scoring='r2')\n",
    "print(f'Cross-validated R^2\\nMean:\\t{cv_r2.mean()}\\nStd.:\\t{cv_r2.std()}')"
   ]
  },
  {
   "attachments": {},
   "cell_type": "markdown",
   "metadata": {},
   "source": [
    "### What to do after cross-validation?\n",
    "**Question**: Cross-validation will give us a more robust estimate of the true out of sample error. However, we have ended up training several models. Which do we pick to finally deploy?\n",
    "\n",
    "**Answer**: None of them! Cross-validation has served its purpose by giving us a robust estimate of how our model will perform out in the real world. Now, we train our model on the entire dataset, since more data almost always means a better model."
   ]
  },
  {
   "cell_type": "markdown",
   "metadata": {},
   "source": [
    "## Hyperparameter tuning\n",
    "- Most models often have parameters that we must set, which are not learned during training. We call these **hyperparameters**\n",
    "- For instance, Ridge Regression, which uses L2 regularization to prevent overfitting, requires us to set a λ parameter that balances the weight penalty vs. prediction error in the loss term\n",
    "- If these hyperparameters are not learned during training, how do we learn them?\n",
    "- The most common method amounts to, disappointingly, guess-and-check... We try a bunch of values for the hyperparameters and set them to whatever achieves the lowest loss\n",
    "    - Common techniques: grid search, random search\n",
    "    - More advanced techniques (that we won't look at): Bayesian optimization, genetic algorithms"
   ]
  },
  {
   "cell_type": "markdown",
   "metadata": {},
   "source": [
    "### Grid search with cross-validation\n",
    "- For each hyperparameter, specify a list of values we want to try\n",
    "- Train a version of the model using each *combination* of hyperparameters\n",
    "- Whichever combination achieves the lowest loss will be picked\n",
    "\n",
    "<img src=\"images/grid_search.png\" style=\"width: 1000px;\"/>\n",
    "\n",
    "- Our hyperparameters are often selected to prevent overfitting (e.g. λ for L2 regularization, learning rate, etc.)\n",
    "- To select the best hyperparameters that prevent overfitting, we should be selecting the ones that give the best performance on some held out data\n",
    "- For that reason, grid search is frequently combined with cross-validation, and we pick the hyperparameters that gave the best average validation performance across folds"
   ]
  },
  {
   "cell_type": "markdown",
   "metadata": {},
   "source": [
    "### Grid search with cross-validation example"
   ]
  },
  {
   "cell_type": "code",
   "execution_count": 14,
   "metadata": {},
   "outputs": [
    {
     "name": "stdout",
     "output_type": "stream",
     "text": [
      "The best hyperparameter settings achieve a cross-validated R^2 of: 0.7206816828526259\n",
      "Alpha:\t0.01\n",
      "L1 ratio:\t0\n"
     ]
    }
   ],
   "source": [
    "from sklearn.linear_model import ElasticNet\n",
    "from sklearn.preprocessing import StandardScaler\n",
    "\n",
    "# Scale features since weight magnitudes will effect regularization weight penalties\n",
    "X_scaled = StandardScaler().fit_transform(X)\n",
    "\n",
    "# Hyperparameter settings we want to try\n",
    "alphas = [0.001, 0.01, 0.1, 1]\n",
    "l1_ratios = [0, 0.25, 0.5, 0.75, 1]\n",
    "\n",
    "# Keep track of the best hyperparameters found so far\n",
    "best_r2 = -np.inf\n",
    "best_alpha = None\n",
    "best_l1_ratio = None\n",
    "\n",
    "for alpha in alphas:\n",
    "    for l1_ratio in l1_ratios:\n",
    "        model = ElasticNet(alpha=alpha, l1_ratio=l1_ratio, random_state=27, max_iter=2000)\n",
    "        cv_r2 = cross_val_score(model, X_scaled, y, cv=k_folds, scoring='r2')\n",
    "        if cv_r2.mean() > best_r2:\n",
    "            best_r2 = cv_r2.mean()\n",
    "            best_alpha = alpha\n",
    "            best_l1_ratio = l1_ratio\n",
    "            \n",
    "print(f'The best hyperparameter settings achieve a cross-validated R^2 of: {best_r2}\\nAlpha:\\t{best_alpha}\\nL1 ratio:\\t{best_l1_ratio}')"
   ]
  },
  {
   "cell_type": "markdown",
   "metadata": {},
   "source": [
    "**Question**: How many models were trained?"
   ]
  },
  {
   "cell_type": "markdown",
   "metadata": {},
   "source": [
    "#### As always, sklearn provides an easier way"
   ]
  },
  {
   "cell_type": "code",
   "execution_count": 20,
   "metadata": {},
   "outputs": [
    {
     "name": "stdout",
     "output_type": "stream",
     "text": [
      "The best hyperparameter settings achieve a cross-validated R^2 of: 0.7206816828526259\n",
      "Alpha:\t0.01\n",
      "L1 ratio:\t0\n"
     ]
    }
   ],
   "source": [
    "from sklearn.model_selection import GridSearchCV\n",
    "\n",
    "# Make a dictionary with model arguments as keys and lists of grid settings as values\n",
    "param_grid = {\n",
    "    'alpha': [0.001, 0.01, 0.1, 1],\n",
    "    'l1_ratio': [0, 0.25, 0.5, 0.75, 1]\n",
    "}\n",
    "\n",
    "grid = GridSearchCV(estimator=model, param_grid=param_grid, cv=k_folds, scoring='r2') # verbose=1 -> print results, n_jobs=-1 -> use all processors in parallel\n",
    "grid_result = grid.fit(X_scaled, y)\n",
    "\n",
    "best_r2 = grid_result.best_score_\n",
    "best_alpha = grid_result.best_params_['alpha']\n",
    "best_l1_ratio = grid_result.best_params_['l1_ratio']\n",
    "print(f'The best hyperparameter settings achieve a cross-validated R^2 of: {best_r2}\\nAlpha:\\t{best_alpha}\\nL1 ratio:\\t{best_l1_ratio}')"
   ]
  },
  {
   "cell_type": "code",
   "execution_count": 21,
   "metadata": {},
   "outputs": [
    {
     "data": {
      "text/html": [
       "<style>#sk-container-id-2 {color: black;background-color: white;}#sk-container-id-2 pre{padding: 0;}#sk-container-id-2 div.sk-toggleable {background-color: white;}#sk-container-id-2 label.sk-toggleable__label {cursor: pointer;display: block;width: 100%;margin-bottom: 0;padding: 0.3em;box-sizing: border-box;text-align: center;}#sk-container-id-2 label.sk-toggleable__label-arrow:before {content: \"▸\";float: left;margin-right: 0.25em;color: #696969;}#sk-container-id-2 label.sk-toggleable__label-arrow:hover:before {color: black;}#sk-container-id-2 div.sk-estimator:hover label.sk-toggleable__label-arrow:before {color: black;}#sk-container-id-2 div.sk-toggleable__content {max-height: 0;max-width: 0;overflow: hidden;text-align: left;background-color: #f0f8ff;}#sk-container-id-2 div.sk-toggleable__content pre {margin: 0.2em;color: black;border-radius: 0.25em;background-color: #f0f8ff;}#sk-container-id-2 input.sk-toggleable__control:checked~div.sk-toggleable__content {max-height: 200px;max-width: 100%;overflow: auto;}#sk-container-id-2 input.sk-toggleable__control:checked~label.sk-toggleable__label-arrow:before {content: \"▾\";}#sk-container-id-2 div.sk-estimator input.sk-toggleable__control:checked~label.sk-toggleable__label {background-color: #d4ebff;}#sk-container-id-2 div.sk-label input.sk-toggleable__control:checked~label.sk-toggleable__label {background-color: #d4ebff;}#sk-container-id-2 input.sk-hidden--visually {border: 0;clip: rect(1px 1px 1px 1px);clip: rect(1px, 1px, 1px, 1px);height: 1px;margin: -1px;overflow: hidden;padding: 0;position: absolute;width: 1px;}#sk-container-id-2 div.sk-estimator {font-family: monospace;background-color: #f0f8ff;border: 1px dotted black;border-radius: 0.25em;box-sizing: border-box;margin-bottom: 0.5em;}#sk-container-id-2 div.sk-estimator:hover {background-color: #d4ebff;}#sk-container-id-2 div.sk-parallel-item::after {content: \"\";width: 100%;border-bottom: 1px solid gray;flex-grow: 1;}#sk-container-id-2 div.sk-label:hover label.sk-toggleable__label {background-color: #d4ebff;}#sk-container-id-2 div.sk-serial::before {content: \"\";position: absolute;border-left: 1px solid gray;box-sizing: border-box;top: 0;bottom: 0;left: 50%;z-index: 0;}#sk-container-id-2 div.sk-serial {display: flex;flex-direction: column;align-items: center;background-color: white;padding-right: 0.2em;padding-left: 0.2em;position: relative;}#sk-container-id-2 div.sk-item {position: relative;z-index: 1;}#sk-container-id-2 div.sk-parallel {display: flex;align-items: stretch;justify-content: center;background-color: white;position: relative;}#sk-container-id-2 div.sk-item::before, #sk-container-id-2 div.sk-parallel-item::before {content: \"\";position: absolute;border-left: 1px solid gray;box-sizing: border-box;top: 0;bottom: 0;left: 50%;z-index: -1;}#sk-container-id-2 div.sk-parallel-item {display: flex;flex-direction: column;z-index: 1;position: relative;background-color: white;}#sk-container-id-2 div.sk-parallel-item:first-child::after {align-self: flex-end;width: 50%;}#sk-container-id-2 div.sk-parallel-item:last-child::after {align-self: flex-start;width: 50%;}#sk-container-id-2 div.sk-parallel-item:only-child::after {width: 0;}#sk-container-id-2 div.sk-dashed-wrapped {border: 1px dashed gray;margin: 0 0.4em 0.5em 0.4em;box-sizing: border-box;padding-bottom: 0.4em;background-color: white;}#sk-container-id-2 div.sk-label label {font-family: monospace;font-weight: bold;display: inline-block;line-height: 1.2em;}#sk-container-id-2 div.sk-label-container {text-align: center;}#sk-container-id-2 div.sk-container {/* jupyter's `normalize.less` sets `[hidden] { display: none; }` but bootstrap.min.css set `[hidden] { display: none !important; }` so we also need the `!important` here to be able to override the default hidden behavior on the sphinx rendered scikit-learn.org. See: https://github.com/scikit-learn/scikit-learn/issues/21755 */display: inline-block !important;position: relative;}#sk-container-id-2 div.sk-text-repr-fallback {display: none;}</style><div id=\"sk-container-id-2\" class=\"sk-top-container\"><div class=\"sk-text-repr-fallback\"><pre>ElasticNet(alpha=0.01, l1_ratio=0, max_iter=2000, random_state=27)</pre><b>In a Jupyter environment, please rerun this cell to show the HTML representation or trust the notebook. <br />On GitHub, the HTML representation is unable to render, please try loading this page with nbviewer.org.</b></div><div class=\"sk-container\" hidden><div class=\"sk-item\"><div class=\"sk-estimator sk-toggleable\"><input class=\"sk-toggleable__control sk-hidden--visually\" id=\"sk-estimator-id-2\" type=\"checkbox\" checked><label for=\"sk-estimator-id-2\" class=\"sk-toggleable__label sk-toggleable__label-arrow\">ElasticNet</label><div class=\"sk-toggleable__content\"><pre>ElasticNet(alpha=0.01, l1_ratio=0, max_iter=2000, random_state=27)</pre></div></div></div></div></div>"
      ],
      "text/plain": [
       "ElasticNet(alpha=0.01, l1_ratio=0, max_iter=2000, random_state=27)"
      ]
     },
     "execution_count": 21,
     "metadata": {},
     "output_type": "execute_result"
    }
   ],
   "source": [
    "grid_result.best_estimator_"
   ]
  },
  {
   "cell_type": "markdown",
   "metadata": {},
   "source": [
    "### Train/validation/test split\n",
    "**Question**: Have you noticed anything wrong with what we are doing? Should we trust our cross-validation score as a true estimate of performance on out-of-sample data?\n",
    "\n",
    "**Answer**: No, we cannot trust it. We have been using the cross-validation score to select hyperparameters. You can think of this as having used the validation data in each fold to train our model in a way. So, our model will be biased to the dataset and our cross-validation score will be overly-optimistic.\n",
    "\n",
    "**Solution**:\n",
    "1. Split the dataset into a train/test set\n",
    "2. Perform grid search with cross-validation on the training set. Each fold, the training set will be split into a train/validation set\n",
    "3. Using the hyperparameters that obtained the best cross-validation score, retrain the model on the entire training set (not just training folds within this training set)\n",
    "4. Evaluate the model on the test set to get a true estimate of the out-of-sample error\n",
    "\n",
    "<img src=\"images/cross_validation_with_test.png\" style=\"width: 1000px;\"/>\n",
    "\n",
    "*Note*: Instead of splitting the dataset into a train/test set once and doing cross-validation on that single train set, we can perform a nested cross-validation. This gives us an even better estimate of how well our model, training scheme, and hyperparameter search scheme will perform out in the real world. See [here](https://scikit-learn.org/stable/auto_examples/model_selection/plot_nested_cross_validation_iris.html) for an example."
   ]
  },
  {
   "cell_type": "code",
   "execution_count": 22,
   "metadata": {},
   "outputs": [
    {
     "name": "stdout",
     "output_type": "stream",
     "text": [
      "The best hyperparameter settings achieve a cross-validated R^2 of: 0.717152216621121\n",
      "Alpha:\t0.01\n",
      "L1 ratio:\t0\n",
      "R^2 on the test set:\t0.7254939323079763\n"
     ]
    }
   ],
   "source": [
    "# Split data into a train and test set\n",
    "X_train, X_test, y_train, y_test = train_test_split(X, y, shuffle=False, train_size=0.8)\n",
    "\n",
    "# Standardize the data using only statistics from the training set\n",
    "# (always assume no knowledge of the test set for most unbiased performance estimate)\n",
    "scaler = StandardScaler()\n",
    "scaler.fit(X_train)\n",
    "X_train = scaler.transform(X_train)\n",
    "X_test = scaler.transform(X_test)\n",
    "\n",
    "grid = GridSearchCV(estimator=model, param_grid=param_grid, cv=k_folds, scoring='r2') # verbose=1 -> print results, n_jobs=-1 -> use all processors in parallel\n",
    "grid_result = grid.fit(X_train, y_train)\n",
    "\n",
    "best_r2 = grid_result.best_score_\n",
    "best_alpha = grid_result.best_params_['alpha']\n",
    "best_l1_ratio = grid_result.best_params_['l1_ratio']\n",
    "print(f'The best hyperparameter settings achieve a cross-validated R^2 of: {best_r2}\\nAlpha:\\t{best_alpha}\\nL1 ratio:\\t{best_l1_ratio}')\n",
    "\n",
    "# Using the best hyperparameters, retrain on the entire train set and evaluate on the test set\n",
    "best_model = grid_result.best_estimator_    # Sklearn automatically retrains the model on the whole training set following cross-validation using the best hyperparameters\n",
    "y_pred = best_model.predict(X_test)\n",
    "r2_test = r2_score(y_test, y_pred)\n",
    "print(f'R^2 on the test set:\\t{r2_test}')"
   ]
  },
  {
   "cell_type": "markdown",
   "metadata": {},
   "source": [
    "---\n",
    "# Model evaluation"
   ]
  },
  {
   "cell_type": "markdown",
   "metadata": {},
   "source": [
    "## Regression\n",
    "\n",
    "### Mean Squared Error (L2)\n",
    "- Commonly used (especially as training loss)\n",
    "- Large errors (from outliers) have disproportionate impact\n",
    "- Units not intuitive\n",
    "- Task-dependent (i.e. no maximum bound)\n",
    "\n",
    "\\begin{align}\n",
    "    MSE &= \\frac{1}{n} \\sum_{i=0}^n (y_i - \\hat{y}_i)^2 \\\\\n",
    "        &= \\frac{1}{n} (\\mathbf{y} - \\mathbf{\\hat{y}})^T (\\mathbf{y} - \\mathbf{\\hat{y}})\n",
    "\\end{align}\n",
    "\n",
    "\n",
    "### Root Mean Squared Error\n",
    "- Commonly used for evaluation, but not for training loss\n",
    "- Large errors (from outliers) have disproportionate impact\n",
    "- Units are intuitive\n",
    "- Task-dependent (i.e. no maximum bound)\n",
    "\n",
    "\\begin{align}\n",
    "    RMSE &= \\sqrt{\\frac{1}{n} \\sum_{i=0}^n (y_i - \\hat{y}_i)^2} \\\\\n",
    "         &= \\sqrt{\\frac{1}{n} (\\mathbf{y} - \\mathbf{\\hat{y}})^T (\\mathbf{y} - \\mathbf{\\hat{y}})}\n",
    "\\end{align}\n",
    "\n",
    "### Mean Absolute Error (L1)\n",
    "- Commonly used (especially as training loss, but less than Mean Squared Error)\n",
    "- Outliers have less impact\n",
    "- Units are intuitive\n",
    "- Task-dependent (i.e. no maximum bound)\n",
    "\n",
    "\\begin{align}\n",
    "    MAE &= \\frac{1}{n} \\sum_{i=0}^n |y_i - \\hat{y}_i|\n",
    "\\end{align}\n",
    "\n",
    "### Coefficient of Determination ($R^2$)\n",
    "- Measures the proportion of the variation in your dependent variable (Y) explained by your independent variables (X)\n",
    "- Commonly used for evaluation, but not for training loss\n",
    "- Intuitive interpretation\n",
    "- Task-independent (ranges from 0 to 1, although negative values can mean worse than most naive solution)\n",
    "- *Adjusted $R^2$* variant adjusts the statistic based on the number of independent variables in the model\n",
    "\n",
    "\\begin{align}\n",
    "    R^2 &= 1 - \\frac{\\text{Unexplained variance}}{\\text{Total variance}} \\\\\n",
    "        &= 1 - \\frac{MSE_{model}}{MSE_{baseline}} \\\\\n",
    "        &= 1 - \\frac{(\\mathbf{y} - \\mathbf{\\hat{y}})^T (\\mathbf{y} - \\mathbf{\\hat{y}})}{(\\mathbf{y} - \\mathbf{y}_{avg})^T (\\mathbf{y} - \\mathbf{y}_{avg})}\n",
    "\\end{align}"
   ]
  },
  {
   "cell_type": "markdown",
   "metadata": {},
   "source": [
    "## Classification\n",
    "- **Goal**: Predict between two or more discrete classes. For between two classes, called *binary* classification\n",
    "- **Example**: Predict whether or not someone has cancer (binary), predict what object is shown in an image (multiclass)"
   ]
  },
  {
   "cell_type": "markdown",
   "metadata": {},
   "source": [
    "### Accuracy\n",
    "$$acc = \\frac{\\text{# of times correct}}{\\text{# of predictions made}}$$\n",
    "\n",
    "### Confusion matrix\n",
    "Full detail about how model fails\n",
    "\n",
    "| | Actual + | Actual - |\n",
    "|-|-|-|\n",
    "|Predicted + | True Positive | False Positive | \n",
    "|Predicted - | False Negative | True Negative |\n",
    "\n",
    "<img src=\"images/multiclass_confusion_matrix.png\" style=\"width: 300px; display: block; margin-left: auto; margin-right: auto\"/>\n",
    "\n",
    "#### In a binary case of 100 examples (50+, 50-), 95% accuracy:\n",
    "\n",
    "| | Actual + | Actual - |\n",
    "|-|-|-|\n",
    "|Predicted + | 50| 5 | \n",
    "|Predicted - |0 | 45|\n",
    "\n",
    "| | Actual + | Actual - |\n",
    "|-|-|-|\n",
    "|Predicted + | 45| 0 | \n",
    "|Predicted - |5 | 50|\n",
    "\n",
    "- Which model would you rather have predicting...\n",
    "    - **cancer diagnosis**? (positive means \"has cancer\")\n",
    "    - **spam filtering**? (positive means \"is spam\")\n",
    "    \n",
    "**Conclusion**: How your model fails matters\n",
    "\n",
    "### Metrics computed from binary confusion matrix\n",
    "\n",
    "#### Recall: True positives / Condition positive\n",
    "- We want high recall when we don't want to miss any positive conditions\n",
    "- Good for something like cancer diagnosis\n",
    "\n",
    "#### Precision: True positives / Detected or predicted positives\n",
    "- We want high precision if the machine learning model is going to trigger some automated process\n",
    "- Good for something like spam detection\n",
    "- Low precision may be okay in cancer diagnosis, just run another test\n",
    "\n",
    "#### F1 score: 2 * (Precision * Recall) / (Precision + Recall)\n",
    "- Combine both precision and recall into a single general-purpose metric\n",
    "- Useful for quickly comparing models\n",
    "- There are variations that weight precision/recall unequally"
   ]
  },
  {
   "cell_type": "markdown",
   "metadata": {},
   "source": [
    "### Example"
   ]
  },
  {
   "cell_type": "code",
   "execution_count": 23,
   "metadata": {},
   "outputs": [
    {
     "data": {
      "image/png": "[encoded data removed]",
      "text/plain": [
       "<Figure size 1100x800 with 2 Axes>"
      ]
     },
     "metadata": {},
     "output_type": "display_data"
    },
    {
     "name": "stdout",
     "output_type": "stream",
     "text": [
      "              precision    recall  f1-score   support\n",
      "\n",
      "           0       1.00      1.00      1.00         9\n",
      "           1       0.92      0.79      0.85        14\n",
      "           2       0.82      0.93      0.87        15\n",
      "\n",
      "    accuracy                           0.89        38\n",
      "   macro avg       0.91      0.91      0.91        38\n",
      "weighted avg       0.90      0.89      0.89        38\n",
      "\n"
     ]
    }
   ],
   "source": [
    "from sklearn.metrics import plot_confusion_matrix\n",
    "from sklearn.metrics import classification_report\n",
    "from sklearn.datasets import load_iris\n",
    "from sklearn.svm import SVC\n",
    "\n",
    "# Load a classification dataset\n",
    "iris = load_iris()\n",
    "X = iris.data\n",
    "y = iris.target\n",
    "class_names = iris.target_names\n",
    "X_train, X_test, y_train, y_test = train_test_split(X, y, random_state=27)\n",
    "\n",
    "# Using a sample model (we will dive into details another day)\n",
    "classifier = SVC(kernel='linear', C=0.01)\n",
    "classifier.fit(X_train, y_train)\n",
    "\n",
    "# Plot confusion matrix\n",
    "plot_confusion_matrix(classifier, X_test, y_test,\n",
    "                      display_labels=class_names, cmap=plt.cm.Blues, normalize='true')\n",
    "plt.grid(False)\n",
    "fig = plt.gcf()\n",
    "fig.set_size_inches(11,8)\n",
    "plt.show()\n",
    "\n",
    "# Get a classification report with multiple statistics\n",
    "y_pred = classifier.predict(X_test)\n",
    "print(classification_report(y_test, y_pred))"
   ]
  },
  {
   "cell_type": "code",
   "execution_count": null,
   "metadata": {},
   "outputs": [],
   "source": []
  }
 ],
 "metadata": {
  "kernelspec": {
   "display_name": "Python 3 (ipykernel)",
   "language": "python",
   "name": "python3"
  },
  "language_info": {
   "codemirror_mode": {
    "name": "ipython",
    "version": 3
   },
   "file_extension": ".py",
   "mimetype": "text/x-python",
   "name": "python",
   "nbconvert_exporter": "python",
   "pygments_lexer": "ipython3",
   "version": "3.9.16"
  }
 },
 "nbformat": 4,
 "nbformat_minor": 4
}
