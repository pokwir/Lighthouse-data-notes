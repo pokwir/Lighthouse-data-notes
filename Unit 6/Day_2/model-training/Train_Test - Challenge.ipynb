{
 "cells": [
  {
   "cell_type": "markdown",
   "metadata": {},
   "source": [
    "## Train Test Frameworks\n",
    "\n",
    "The following exercise is to practice the syntax of the various functions from sklearn that split data into train and test sets. The goal of this exercise is to get familiar with these different splitting methods before engaging with the more complex activities at the end of the day. "
   ]
  },
  {
   "cell_type": "code",
   "execution_count": 1,
   "metadata": {
    "ExecuteTime": {
     "end_time": "2020-04-27T07:17:19.733929Z",
     "start_time": "2020-04-27T07:17:19.730983Z"
    }
   },
   "outputs": [],
   "source": [
    "# import numpy\n",
    "import numpy as np"
   ]
  },
  {
   "cell_type": "code",
   "execution_count": 2,
   "metadata": {
    "ExecuteTime": {
     "end_time": "2020-04-27T07:17:20.442277Z",
     "start_time": "2020-04-27T07:17:20.436036Z"
    }
   },
   "outputs": [],
   "source": [
    "X = np.random.normal(0,1,20).reshape(10,2)\n",
    "y = np.random.normal(0,1,10)"
   ]
  },
  {
   "cell_type": "markdown",
   "metadata": {},
   "source": [
    "* print X"
   ]
  },
  {
   "cell_type": "code",
   "execution_count": 3,
   "metadata": {
    "ExecuteTime": {
     "end_time": "2020-02-25T10:10:05.516072Z",
     "start_time": "2020-02-25T10:10:05.507842Z"
    }
   },
   "outputs": [
    {
     "name": "stdout",
     "output_type": "stream",
     "text": [
      "[[ 1.08881477e+00  2.22694147e-01]\n",
      " [ 1.01627152e-03 -1.02068596e+00]\n",
      " [-7.03799520e-01 -8.92483276e-01]\n",
      " [-1.91559797e+00  1.25669814e-02]\n",
      " [-5.40307657e-01  3.53645517e-01]\n",
      " [-7.98893507e-01 -1.57217137e+00]\n",
      " [ 4.51386976e-01 -4.08586348e-01]\n",
      " [-2.19665228e+00 -6.39243448e-01]\n",
      " [-1.24786238e+00  3.09257261e-01]\n",
      " [-5.65443169e-01  5.28739896e-01]]\n"
     ]
    }
   ],
   "source": [
    "# print X\n",
    "print (X)"
   ]
  },
  {
   "cell_type": "markdown",
   "metadata": {},
   "source": [
    "* print y"
   ]
  },
  {
   "cell_type": "code",
   "execution_count": 4,
   "metadata": {
    "ExecuteTime": {
     "end_time": "2020-02-25T10:10:06.238921Z",
     "start_time": "2020-02-25T10:10:06.228202Z"
    }
   },
   "outputs": [
    {
     "name": "stdout",
     "output_type": "stream",
     "text": [
      "[-0.59012587  0.15430381 -0.05352965  0.3014196   0.24058661  0.67283493\n",
      "  0.54030159  0.23502545  0.37874257  0.36138157]\n"
     ]
    }
   ],
   "source": [
    "print(y)"
   ]
  },
  {
   "cell_type": "markdown",
   "metadata": {},
   "source": [
    "_____________________________\n",
    "### Holdout split"
   ]
  },
  {
   "cell_type": "markdown",
   "metadata": {},
   "source": [
    "* import the **train_test_split** function from sklearn"
   ]
  },
  {
   "cell_type": "code",
   "execution_count": 5,
   "metadata": {
    "ExecuteTime": {
     "end_time": "2020-04-27T07:19:36.229754Z",
     "start_time": "2020-04-27T07:19:36.224380Z"
    }
   },
   "outputs": [],
   "source": [
    "# import train_test_split\n",
    "from sklearn.model_selection import train_test_split\n"
   ]
  },
  {
   "cell_type": "markdown",
   "metadata": {},
   "source": [
    "* split the data to train set and test set, use a 70:30 ratio or a 80:20 ratio."
   ]
  },
  {
   "cell_type": "code",
   "execution_count": 7,
   "metadata": {
    "ExecuteTime": {
     "end_time": "2020-04-27T07:19:36.690033Z",
     "start_time": "2020-04-27T07:19:36.679323Z"
    }
   },
   "outputs": [],
   "source": [
    "# spit the data into train test split of 67:33 without shuffles. \n",
    "X_train, X_test, y_train, y_test = train_test_split(X, y, test_size=0.33, random_state=4, shuffle=False)"
   ]
  },
  {
   "cell_type": "markdown",
   "metadata": {},
   "source": [
    "* print X_train"
   ]
  },
  {
   "cell_type": "code",
   "execution_count": 8,
   "metadata": {
    "ExecuteTime": {
     "end_time": "2020-04-27T07:19:37.410555Z",
     "start_time": "2020-04-27T07:19:37.384346Z"
    }
   },
   "outputs": [
    {
     "name": "stdout",
     "output_type": "stream",
     "text": [
      "X_train: [[ 1.08881477e+00  2.22694147e-01]\n",
      " [ 1.01627152e-03 -1.02068596e+00]\n",
      " [-7.03799520e-01 -8.92483276e-01]\n",
      " [-1.91559797e+00  1.25669814e-02]\n",
      " [-5.40307657e-01  3.53645517e-01]\n",
      " [-7.98893507e-01 -1.57217137e+00]]\n"
     ]
    }
   ],
   "source": [
    "# print X_train.shape\n",
    "print(\"X_train:\", X_train)"
   ]
  },
  {
   "cell_type": "markdown",
   "metadata": {},
   "source": [
    "* split the data again but now with the parameter shuffle = False"
   ]
  },
  {
   "cell_type": "code",
   "execution_count": 9,
   "metadata": {
    "ExecuteTime": {
     "end_time": "2020-04-27T07:19:38.392368Z",
     "start_time": "2020-04-27T07:19:38.387406Z"
    }
   },
   "outputs": [],
   "source": [
    "X_train, X_test, y_train, y_test = train_test_split(X, y, test_size=0.33, random_state=4)"
   ]
  },
  {
   "cell_type": "markdown",
   "metadata": {},
   "source": [
    "* print X_train"
   ]
  },
  {
   "cell_type": "code",
   "execution_count": 10,
   "metadata": {
    "ExecuteTime": {
     "end_time": "2020-04-27T07:19:56.965372Z",
     "start_time": "2020-04-27T07:19:56.954696Z"
    }
   },
   "outputs": [
    {
     "name": "stdout",
     "output_type": "stream",
     "text": [
      "X_train: [[-7.03799520e-01 -8.92483276e-01]\n",
      " [ 4.51386976e-01 -4.08586348e-01]\n",
      " [ 1.08881477e+00  2.22694147e-01]\n",
      " [ 1.01627152e-03 -1.02068596e+00]\n",
      " [-7.98893507e-01 -1.57217137e+00]\n",
      " [-2.19665228e+00 -6.39243448e-01]]\n"
     ]
    }
   ],
   "source": [
    "print(\"X_train:\", X_train)"
   ]
  },
  {
   "cell_type": "markdown",
   "metadata": {},
   "source": [
    "* print the shape of X_train and X_test"
   ]
  },
  {
   "cell_type": "code",
   "execution_count": 13,
   "metadata": {},
   "outputs": [
    {
     "name": "stdout",
     "output_type": "stream",
     "text": [
      "X-train [[-7.03799520e-01 -8.92483276e-01]\n",
      " [ 4.51386976e-01 -4.08586348e-01]\n",
      " [ 1.08881477e+00  2.22694147e-01]\n",
      " [ 1.01627152e-03 -1.02068596e+00]\n",
      " [-7.98893507e-01 -1.57217137e+00]\n",
      " [-2.19665228e+00 -6.39243448e-01]]\n",
      "X-test [[-1.91559797  0.01256698]\n",
      " [-1.24786238  0.30925726]\n",
      " [-0.54030766  0.35364552]\n",
      " [-0.56544317  0.5287399 ]]\n"
     ]
    }
   ],
   "source": [
    "# print X_train and X_test\n",
    "print('X-train',X_train)\n",
    "print('X-test',X_test)"
   ]
  },
  {
   "cell_type": "code",
   "execution_count": null,
   "metadata": {},
   "outputs": [],
   "source": []
  },
  {
   "cell_type": "markdown",
   "metadata": {},
   "source": [
    "_________________________________\n",
    "### K-fold split "
   ]
  },
  {
   "cell_type": "markdown",
   "metadata": {},
   "source": [
    "* import the **KFold** function from sklearn"
   ]
  },
  {
   "cell_type": "code",
   "execution_count": 14,
   "metadata": {
    "ExecuteTime": {
     "end_time": "2020-04-27T07:20:20.040524Z",
     "start_time": "2020-04-27T07:20:20.034774Z"
    }
   },
   "outputs": [],
   "source": [
    "# import kfold from sklearn\n",
    "from sklearn.model_selection import KFold"
   ]
  },
  {
   "cell_type": "markdown",
   "metadata": {},
   "source": [
    "* instantiate KFold with k=5"
   ]
  },
  {
   "cell_type": "code",
   "execution_count": 15,
   "metadata": {
    "ExecuteTime": {
     "end_time": "2020-04-27T07:21:02.886273Z",
     "start_time": "2020-04-27T07:21:02.882100Z"
    }
   },
   "outputs": [],
   "source": [
    "# instanciate kfold with K=5\n",
    "kf = KFold(n_splits=5, shuffle=True, random_state=42)"
   ]
  },
  {
   "cell_type": "markdown",
   "metadata": {},
   "source": [
    "* iterate over train_index and test_index in kf.split(X) and print them"
   ]
  },
  {
   "cell_type": "code",
   "execution_count": 18,
   "metadata": {
    "ExecuteTime": {
     "end_time": "2020-04-27T07:21:30.570119Z",
     "start_time": "2020-04-27T07:21:30.560118Z"
    }
   },
   "outputs": [
    {
     "name": "stdout",
     "output_type": "stream",
     "text": [
      "TRAIN: [0 2 3 4 5 6 7 9]\n",
      "TEST: [1 8]\n",
      "TRAIN: [1 2 3 4 6 7 8 9]\n",
      "TEST: [0 5]\n",
      "TRAIN: [0 1 3 4 5 6 8 9]\n",
      "TEST: [2 7]\n",
      "TRAIN: [0 1 2 3 5 6 7 8]\n",
      "TEST: [4 9]\n",
      "TRAIN: [0 1 2 4 5 7 8 9]\n",
      "TEST: [3 6]\n"
     ]
    }
   ],
   "source": [
    "for train_index, test_index in kf.split(X):\n",
    "    print(\"TRAIN:\", train_index)\n",
    "    print(\"TEST:\", test_index)\n",
    "    # X_train, X_test = X[train_index], X[test_index]\n",
    "    # y_train, y_test = y[train_index], y[test_index]\n",
    "    # print(X_train.shape, y_train.shape)\n",
    "    # print(X_test.shape, y_test.shape)"
   ]
  },
  {
   "cell_type": "markdown",
   "metadata": {},
   "source": [
    "* instantiate KFold with k=5 and shuffle=True"
   ]
  },
  {
   "cell_type": "code",
   "execution_count": 21,
   "metadata": {
    "ExecuteTime": {
     "end_time": "2020-04-27T07:21:52.693825Z",
     "start_time": "2020-04-27T07:21:52.687089Z"
    }
   },
   "outputs": [],
   "source": [
    "kf = KFold(n_splits=5, shuffle=False)"
   ]
  },
  {
   "cell_type": "markdown",
   "metadata": {},
   "source": [
    "* iterate over train_index and test_index in kf.split(X) and print them"
   ]
  },
  {
   "cell_type": "code",
   "execution_count": 22,
   "metadata": {
    "ExecuteTime": {
     "end_time": "2020-02-25T10:19:37.219179Z",
     "start_time": "2020-02-25T10:19:37.210814Z"
    }
   },
   "outputs": [
    {
     "name": "stdout",
     "output_type": "stream",
     "text": [
      "TRAIN: [2 3 4 5 6 7 8 9]\n",
      "TEST: [0 1]\n",
      "TRAIN: [0 1 4 5 6 7 8 9]\n",
      "TEST: [2 3]\n",
      "TRAIN: [0 1 2 3 6 7 8 9]\n",
      "TEST: [4 5]\n",
      "TRAIN: [0 1 2 3 4 5 8 9]\n",
      "TEST: [6 7]\n",
      "TRAIN: [0 1 2 3 4 5 6 7]\n",
      "TEST: [8 9]\n"
     ]
    }
   ],
   "source": [
    "for train_index, test_index in kf.split(X):\n",
    "    print(\"TRAIN:\", train_index)\n",
    "    print(\"TEST:\", test_index)"
   ]
  },
  {
   "cell_type": "code",
   "execution_count": null,
   "metadata": {},
   "outputs": [],
   "source": []
  },
  {
   "cell_type": "markdown",
   "metadata": {
    "ExecuteTime": {
     "end_time": "2020-02-25T10:20:50.997776Z",
     "start_time": "2020-02-25T10:20:50.991967Z"
    }
   },
   "source": [
    "_______________________________________\n",
    "### Leave-One-Out split\n",
    "This is a similar technique to the Leave-p-out in the previous readings, with p=1. Each observation is used as test set separately.\n",
    "- This is a popular method for tiny datasets.\n",
    "- It takes a lot of time with bigger datasets and can lead to overfitting on a final model."
   ]
  },
  {
   "cell_type": "code",
   "execution_count": null,
   "metadata": {},
   "outputs": [],
   "source": []
  },
  {
   "cell_type": "markdown",
   "metadata": {},
   "source": [
    "* import the **LeaveOneOut** function from sklearn"
   ]
  },
  {
   "cell_type": "code",
   "execution_count": 23,
   "metadata": {
    "ExecuteTime": {
     "end_time": "2020-04-27T07:22:57.562338Z",
     "start_time": "2020-04-27T07:22:57.557038Z"
    }
   },
   "outputs": [],
   "source": [
    "# import leaveoneout from sklearn\n",
    "from sklearn.model_selection import LeaveOneOut"
   ]
  },
  {
   "cell_type": "markdown",
   "metadata": {},
   "source": [
    "* instantiate LeaveOneOut"
   ]
  },
  {
   "cell_type": "code",
   "execution_count": 25,
   "metadata": {
    "ExecuteTime": {
     "end_time": "2020-04-27T07:22:58.073776Z",
     "start_time": "2020-04-27T07:22:58.069381Z"
    }
   },
   "outputs": [],
   "source": [
    "# instanciate LeaveOneOut\n",
    "loo = LeaveOneOut()"
   ]
  },
  {
   "cell_type": "markdown",
   "metadata": {},
   "source": [
    "* iterate over train_index and test_index in loo.split(X) and print them"
   ]
  },
  {
   "cell_type": "code",
   "execution_count": 33,
   "metadata": {
    "ExecuteTime": {
     "end_time": "2020-04-27T07:23:15.893291Z",
     "start_time": "2020-04-27T07:23:15.882373Z"
    }
   },
   "outputs": [
    {
     "name": "stdout",
     "output_type": "stream",
     "text": [
      "[1 2 3 4 5 6 7 8 9]\n",
      "[0]\n",
      "[0 2 3 4 5 6 7 8 9]\n",
      "[1]\n",
      "[0 1 3 4 5 6 7 8 9]\n",
      "[2]\n",
      "[0 1 2 4 5 6 7 8 9]\n",
      "[3]\n",
      "[0 1 2 3 5 6 7 8 9]\n",
      "[4]\n",
      "[0 1 2 3 4 6 7 8 9]\n",
      "[5]\n",
      "[0 1 2 3 4 5 7 8 9]\n",
      "[6]\n",
      "[0 1 2 3 4 5 6 8 9]\n",
      "[7]\n",
      "[0 1 2 3 4 5 6 7 9]\n",
      "[8]\n",
      "[0 1 2 3 4 5 6 7 8]\n",
      "[9]\n"
     ]
    }
   ],
   "source": [
    "# iterate through train_index and test_index in loo.split(X) and print out the train and test indices\n",
    "for train_index, test_index in loo.split(X):\n",
    "    n_splits = len(train_index)\n",
    "    print(train_index)\n",
    "    print(test_index)\n",
    "\n",
    "\n",
    "# print out the train and test indices\n"
   ]
  },
  {
   "cell_type": "code",
   "execution_count": 34,
   "metadata": {},
   "outputs": [
    {
     "name": "stdout",
     "output_type": "stream",
     "text": [
      "9\n"
     ]
    }
   ],
   "source": []
  },
  {
   "cell_type": "markdown",
   "metadata": {
    "ExecuteTime": {
     "end_time": "2020-04-27T07:23:32.091854Z",
     "start_time": "2020-04-27T07:23:32.084557Z"
    }
   },
   "source": [
    "* print the number of splits"
   ]
  },
  {
   "cell_type": "code",
   "execution_count": 35,
   "metadata": {
    "ExecuteTime": {
     "end_time": "2020-04-27T07:23:44.088113Z",
     "start_time": "2020-04-27T07:23:44.079901Z"
    }
   },
   "outputs": [
    {
     "name": "stdout",
     "output_type": "stream",
     "text": [
      "9\n"
     ]
    }
   ],
   "source": [
    "# print number of splits\n",
    "print (n_splits)"
   ]
  },
  {
   "cell_type": "code",
   "execution_count": null,
   "metadata": {},
   "outputs": [],
   "source": []
  }
 ],
 "metadata": {
  "kernelspec": {
   "display_name": "Python 3",
   "language": "python",
   "name": "python3"
  },
  "language_info": {
   "codemirror_mode": {
    "name": "ipython",
    "version": 3
   },
   "file_extension": ".py",
   "mimetype": "text/x-python",
   "name": "python",
   "nbconvert_exporter": "python",
   "pygments_lexer": "ipython3",
   "version": "3.9.16"
  },
  "toc": {
   "base_numbering": 1,
   "nav_menu": {},
   "number_sections": true,
   "sideBar": true,
   "skip_h1_title": false,
   "title_cell": "Table of Contents",
   "title_sidebar": "Contents",
   "toc_cell": false,
   "toc_position": {},
   "toc_section_display": true,
   "toc_window_display": false
  },
  "varInspector": {
   "cols": {
    "lenName": 16,
    "lenType": 16,
    "lenVar": 40
   },
   "kernels_config": {
    "python": {
     "delete_cmd_postfix": "",
     "delete_cmd_prefix": "del ",
     "library": "var_list.py",
     "varRefreshCmd": "print(var_dic_list())"
    },
    "r": {
     "delete_cmd_postfix": ") ",
     "delete_cmd_prefix": "rm(",
     "library": "var_list.r",
     "varRefreshCmd": "cat(var_dic_list()) "
    }
   },
   "types_to_exclude": [
    "module",
    "function",
    "builtin_function_or_method",
    "instance",
    "_Feature"
   ],
   "window_display": false
  }
 },
 "nbformat": 4,
 "nbformat_minor": 4
}
