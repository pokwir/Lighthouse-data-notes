{
 "cells": [
  {
   "attachments": {},
   "cell_type": "markdown",
   "metadata": {},
   "source": [
    "# Xgboost\n",
    "---"
   ]
  },
  {
   "cell_type": "code",
   "execution_count": 26,
   "metadata": {},
   "outputs": [
    {
     "data": {
      "text/html": [
       "<div>\n",
       "<style scoped>\n",
       "    .dataframe tbody tr th:only-of-type {\n",
       "        vertical-align: middle;\n",
       "    }\n",
       "\n",
       "    .dataframe tbody tr th {\n",
       "        vertical-align: top;\n",
       "    }\n",
       "\n",
       "    .dataframe thead th {\n",
       "        text-align: right;\n",
       "    }\n",
       "</style>\n",
       "<table border=\"1\" class=\"dataframe\">\n",
       "  <thead>\n",
       "    <tr style=\"text-align: right;\">\n",
       "      <th></th>\n",
       "      <th>carat</th>\n",
       "      <th>cut</th>\n",
       "      <th>color</th>\n",
       "      <th>clarity</th>\n",
       "      <th>depth</th>\n",
       "      <th>table</th>\n",
       "      <th>price</th>\n",
       "      <th>x</th>\n",
       "      <th>y</th>\n",
       "      <th>z</th>\n",
       "    </tr>\n",
       "  </thead>\n",
       "  <tbody>\n",
       "    <tr>\n",
       "      <th>0</th>\n",
       "      <td>0.23</td>\n",
       "      <td>Ideal</td>\n",
       "      <td>E</td>\n",
       "      <td>SI2</td>\n",
       "      <td>61.5</td>\n",
       "      <td>55.0</td>\n",
       "      <td>326</td>\n",
       "      <td>3.95</td>\n",
       "      <td>3.98</td>\n",
       "      <td>2.43</td>\n",
       "    </tr>\n",
       "    <tr>\n",
       "      <th>1</th>\n",
       "      <td>0.21</td>\n",
       "      <td>Premium</td>\n",
       "      <td>E</td>\n",
       "      <td>SI1</td>\n",
       "      <td>59.8</td>\n",
       "      <td>61.0</td>\n",
       "      <td>326</td>\n",
       "      <td>3.89</td>\n",
       "      <td>3.84</td>\n",
       "      <td>2.31</td>\n",
       "    </tr>\n",
       "    <tr>\n",
       "      <th>2</th>\n",
       "      <td>0.23</td>\n",
       "      <td>Good</td>\n",
       "      <td>E</td>\n",
       "      <td>VS1</td>\n",
       "      <td>56.9</td>\n",
       "      <td>65.0</td>\n",
       "      <td>327</td>\n",
       "      <td>4.05</td>\n",
       "      <td>4.07</td>\n",
       "      <td>2.31</td>\n",
       "    </tr>\n",
       "    <tr>\n",
       "      <th>3</th>\n",
       "      <td>0.29</td>\n",
       "      <td>Premium</td>\n",
       "      <td>I</td>\n",
       "      <td>VS2</td>\n",
       "      <td>62.4</td>\n",
       "      <td>58.0</td>\n",
       "      <td>334</td>\n",
       "      <td>4.20</td>\n",
       "      <td>4.23</td>\n",
       "      <td>2.63</td>\n",
       "    </tr>\n",
       "    <tr>\n",
       "      <th>4</th>\n",
       "      <td>0.31</td>\n",
       "      <td>Good</td>\n",
       "      <td>J</td>\n",
       "      <td>SI2</td>\n",
       "      <td>63.3</td>\n",
       "      <td>58.0</td>\n",
       "      <td>335</td>\n",
       "      <td>4.34</td>\n",
       "      <td>4.35</td>\n",
       "      <td>2.75</td>\n",
       "    </tr>\n",
       "  </tbody>\n",
       "</table>\n",
       "</div>"
      ],
      "text/plain": [
       "   carat      cut color clarity  depth  table  price     x     y     z\n",
       "0   0.23    Ideal     E     SI2   61.5   55.0    326  3.95  3.98  2.43\n",
       "1   0.21  Premium     E     SI1   59.8   61.0    326  3.89  3.84  2.31\n",
       "2   0.23     Good     E     VS1   56.9   65.0    327  4.05  4.07  2.31\n",
       "3   0.29  Premium     I     VS2   62.4   58.0    334  4.20  4.23  2.63\n",
       "4   0.31     Good     J     SI2   63.3   58.0    335  4.34  4.35  2.75"
      ]
     },
     "execution_count": 26,
     "metadata": {},
     "output_type": "execute_result"
    }
   ],
   "source": [
    "# load the data\n",
    "import seaborn as sns\n",
    "\n",
    "import pandas as pd\n",
    "\n",
    "import numpy as np\n",
    "\n",
    "import matplotlib.pyplot as plt\n",
    "\n",
    "import warnings\n",
    "\n",
    "warnings.filterwarnings(\"ignore\")\n",
    "\n",
    "diamonds = sns.load_dataset(\"diamonds\")\n",
    "\n",
    "diamonds.head()"
   ]
  },
  {
   "cell_type": "code",
   "execution_count": 27,
   "metadata": {},
   "outputs": [
    {
     "data": {
      "text/plain": [
       "(53940, 10)"
      ]
     },
     "execution_count": 27,
     "metadata": {},
     "output_type": "execute_result"
    }
   ],
   "source": [
    "diamonds.shape # (53940, 10)"
   ]
  },
  {
   "cell_type": "code",
   "execution_count": 3,
   "metadata": {},
   "outputs": [
    {
     "data": {
      "text/html": [
       "<div>\n",
       "<style scoped>\n",
       "    .dataframe tbody tr th:only-of-type {\n",
       "        vertical-align: middle;\n",
       "    }\n",
       "\n",
       "    .dataframe tbody tr th {\n",
       "        vertical-align: top;\n",
       "    }\n",
       "\n",
       "    .dataframe thead th {\n",
       "        text-align: right;\n",
       "    }\n",
       "</style>\n",
       "<table border=\"1\" class=\"dataframe\">\n",
       "  <thead>\n",
       "    <tr style=\"text-align: right;\">\n",
       "      <th></th>\n",
       "      <th>carat</th>\n",
       "      <th>depth</th>\n",
       "      <th>table</th>\n",
       "      <th>price</th>\n",
       "      <th>x</th>\n",
       "      <th>y</th>\n",
       "      <th>z</th>\n",
       "    </tr>\n",
       "  </thead>\n",
       "  <tbody>\n",
       "    <tr>\n",
       "      <th>count</th>\n",
       "      <td>53940.000000</td>\n",
       "      <td>53940.000000</td>\n",
       "      <td>53940.000000</td>\n",
       "      <td>53940.000000</td>\n",
       "      <td>53940.000000</td>\n",
       "      <td>53940.000000</td>\n",
       "      <td>53940.000000</td>\n",
       "    </tr>\n",
       "    <tr>\n",
       "      <th>mean</th>\n",
       "      <td>0.797940</td>\n",
       "      <td>61.749405</td>\n",
       "      <td>57.457184</td>\n",
       "      <td>3932.799722</td>\n",
       "      <td>5.731157</td>\n",
       "      <td>5.734526</td>\n",
       "      <td>3.538734</td>\n",
       "    </tr>\n",
       "    <tr>\n",
       "      <th>std</th>\n",
       "      <td>0.474011</td>\n",
       "      <td>1.432621</td>\n",
       "      <td>2.234491</td>\n",
       "      <td>3989.439738</td>\n",
       "      <td>1.121761</td>\n",
       "      <td>1.142135</td>\n",
       "      <td>0.705699</td>\n",
       "    </tr>\n",
       "    <tr>\n",
       "      <th>min</th>\n",
       "      <td>0.200000</td>\n",
       "      <td>43.000000</td>\n",
       "      <td>43.000000</td>\n",
       "      <td>326.000000</td>\n",
       "      <td>0.000000</td>\n",
       "      <td>0.000000</td>\n",
       "      <td>0.000000</td>\n",
       "    </tr>\n",
       "    <tr>\n",
       "      <th>25%</th>\n",
       "      <td>0.400000</td>\n",
       "      <td>61.000000</td>\n",
       "      <td>56.000000</td>\n",
       "      <td>950.000000</td>\n",
       "      <td>4.710000</td>\n",
       "      <td>4.720000</td>\n",
       "      <td>2.910000</td>\n",
       "    </tr>\n",
       "    <tr>\n",
       "      <th>50%</th>\n",
       "      <td>0.700000</td>\n",
       "      <td>61.800000</td>\n",
       "      <td>57.000000</td>\n",
       "      <td>2401.000000</td>\n",
       "      <td>5.700000</td>\n",
       "      <td>5.710000</td>\n",
       "      <td>3.530000</td>\n",
       "    </tr>\n",
       "    <tr>\n",
       "      <th>75%</th>\n",
       "      <td>1.040000</td>\n",
       "      <td>62.500000</td>\n",
       "      <td>59.000000</td>\n",
       "      <td>5324.250000</td>\n",
       "      <td>6.540000</td>\n",
       "      <td>6.540000</td>\n",
       "      <td>4.040000</td>\n",
       "    </tr>\n",
       "    <tr>\n",
       "      <th>max</th>\n",
       "      <td>5.010000</td>\n",
       "      <td>79.000000</td>\n",
       "      <td>95.000000</td>\n",
       "      <td>18823.000000</td>\n",
       "      <td>10.740000</td>\n",
       "      <td>58.900000</td>\n",
       "      <td>31.800000</td>\n",
       "    </tr>\n",
       "  </tbody>\n",
       "</table>\n",
       "</div>"
      ],
      "text/plain": [
       "              carat         depth         table         price             x  \\\n",
       "count  53940.000000  53940.000000  53940.000000  53940.000000  53940.000000   \n",
       "mean       0.797940     61.749405     57.457184   3932.799722      5.731157   \n",
       "std        0.474011      1.432621      2.234491   3989.439738      1.121761   \n",
       "min        0.200000     43.000000     43.000000    326.000000      0.000000   \n",
       "25%        0.400000     61.000000     56.000000    950.000000      4.710000   \n",
       "50%        0.700000     61.800000     57.000000   2401.000000      5.700000   \n",
       "75%        1.040000     62.500000     59.000000   5324.250000      6.540000   \n",
       "max        5.010000     79.000000     95.000000  18823.000000     10.740000   \n",
       "\n",
       "                  y             z  \n",
       "count  53940.000000  53940.000000  \n",
       "mean       5.734526      3.538734  \n",
       "std        1.142135      0.705699  \n",
       "min        0.000000      0.000000  \n",
       "25%        4.720000      2.910000  \n",
       "50%        5.710000      3.530000  \n",
       "75%        6.540000      4.040000  \n",
       "max       58.900000     31.800000  "
      ]
     },
     "execution_count": 3,
     "metadata": {},
     "output_type": "execute_result"
    }
   ],
   "source": [
    "diamonds.describe()"
   ]
  },
  {
   "cell_type": "code",
   "execution_count": 4,
   "metadata": {},
   "outputs": [
    {
     "name": "stdout",
     "output_type": "stream",
     "text": [
      "Statistics=0.798, p=0.000\n",
      "Sample does not look Gaussian (reject H0)\n"
     ]
    }
   ],
   "source": [
    "# shapiro wilk test for normality of price\n",
    "from scipy.stats import shapiro\n",
    "\n",
    "stat, p = shapiro(diamonds['price'])\n",
    "\n",
    "print('Statistics=%.3f, p=%.3f' % (stat, p))\n",
    "\n",
    "# interpret\n",
    "alpha = 0.05\n",
    "if p > alpha:  \n",
    "        print('Sample looks Gaussian (fail to reject H0)')\n",
    "else:\n",
    "            print('Sample does not look Gaussian (reject H0)')\n"
   ]
  },
  {
   "cell_type": "code",
   "execution_count": 5,
   "metadata": {},
   "outputs": [
    {
     "data": {
      "text/plain": [
       "<Axes: xlabel='price', ylabel='Density'>"
      ]
     },
     "execution_count": 5,
     "metadata": {},
     "output_type": "execute_result"
    },
    {
     "data": {
      "image/png": "[encoded data removed]",
      "text/plain": [
       "<Figure size 640x480 with 1 Axes>"
      ]
     },
     "metadata": {},
     "output_type": "display_data"
    }
   ],
   "source": [
    "# plot the distribution of price\n",
    "sns.distplot(diamonds['price'], hist=True, kde=True,\n",
    "                bins=int(180/5), color = 'darkblue',\n",
    "                hist_kws={'edgecolor':'black'},\n",
    "                kde_kws={'linewidth': 4})"
   ]
  },
  {
   "attachments": {},
   "cell_type": "markdown",
   "metadata": {},
   "source": [
    "How to Build an XGBoost DMatrix\n",
    "---"
   ]
  },
  {
   "attachments": {},
   "cell_type": "markdown",
   "metadata": {},
   "source": [
    "In this tutorial, we will first try to predict diamond prices using their physical measurements, so our target will be the price column."
   ]
  },
  {
   "cell_type": "code",
   "execution_count": 28,
   "metadata": {},
   "outputs": [],
   "source": [
    "from sklearn.model_selection import train_test_split\n",
    "\n",
    "# Extract feature and target arrays\n",
    "X, y = diamonds.drop('price', axis=1), diamonds[['price']]"
   ]
  },
  {
   "attachments": {},
   "cell_type": "markdown",
   "metadata": {},
   "source": [
    "The dataset has three categorical columns. Normally, you would encode them with ordinal or one-hot encoding, but XGBoost has the ability to internally deal with categoricals.\n",
    "\n",
    "The way to enable this feature is to cast the `categorical columns into Pandas category data type` (by default, they are treated as text columns):"
   ]
  },
  {
   "cell_type": "code",
   "execution_count": 29,
   "metadata": {},
   "outputs": [],
   "source": [
    "# Extract text features\n",
    "cats = X.select_dtypes(exclude=np.number).columns.tolist()\n",
    "\n",
    "# Convert to Pandas category\n",
    "for col in cats:\n",
    "   X[col] = X[col].astype('category')"
   ]
  },
  {
   "attachments": {},
   "cell_type": "markdown",
   "metadata": {},
   "source": [
    "Now, when you print the dtypes attribute, you'll see that we have three category features"
   ]
  },
  {
   "cell_type": "code",
   "execution_count": 9,
   "metadata": {},
   "outputs": [
    {
     "name": "stdout",
     "output_type": "stream",
     "text": [
      "carat       float64\n",
      "cut        category\n",
      "color      category\n",
      "clarity    category\n",
      "depth       float64\n",
      "table       float64\n",
      "x           float64\n",
      "y           float64\n",
      "z           float64\n",
      "dtype: object\n"
     ]
    }
   ],
   "source": [
    "print (X.dtypes)"
   ]
  },
  {
   "cell_type": "code",
   "execution_count": 30,
   "metadata": {},
   "outputs": [],
   "source": [
    "# Split the data\n",
    "X_train, X_test, y_train, y_test = train_test_split(X, y, random_state=1)"
   ]
  },
  {
   "cell_type": "code",
   "execution_count": 31,
   "metadata": {},
   "outputs": [],
   "source": [
    "# create regression matrices\n",
    "import xgboost as xgb\n",
    "\n",
    "# Create regression matrices\n",
    "dtrain_reg = xgb.DMatrix(X_train, y_train, enable_categorical=True)\n",
    "dtest_reg = xgb.DMatrix(X_test, y_test, enable_categorical=True)\n",
    "\n",
    "#The class accepts both the training features and the labels. \\\n",
    "# To enable automatic encoding of Pandas category columns, we also set enable_categorical to True.\n"
   ]
  },
  {
   "attachments": {},
   "cell_type": "markdown",
   "metadata": {},
   "source": [
    "After building the DMatrices, you `should choose a value for the objective parameter.`\n",
    "It tells XGBoost the machine learning problem you are trying to solve and what metrics or loss functions to use to solve that problem."
   ]
  },
  {
   "attachments": {},
   "cell_type": "markdown",
   "metadata": {},
   "source": [
    "### Training "
   ]
  },
  {
   "cell_type": "code",
   "execution_count": 33,
   "metadata": {},
   "outputs": [],
   "source": [
    "#define hyperparameters\n",
    "params = {\"objective\": \"reg:squarederror\", \"tree_method\": \"gpu_hist\"}\n",
    "\n",
    "#Inside this initial params, we are also setting tree_method to gpu_hist, which enables GPU acceleration."
   ]
  },
  {
   "attachments": {},
   "cell_type": "markdown",
   "metadata": {},
   "source": [
    "`Now, we set another parameter called num_boost_round, which stands for number of boosting rounds. Internally, XGBoost minimizes the loss function RMSE in small incremental rounds (more on this later). This parameter specifies the amount of those rounds.`\n",
    "\n",
    "`The ideal number of rounds is found through hyperparameter tuning. For now, we will just set it to 100:`"
   ]
  },
  {
   "cell_type": "code",
   "execution_count": 41,
   "metadata": {},
   "outputs": [
    {
     "name": "stdout",
     "output_type": "stream",
     "text": [
      "RMSE: 540.832117\n"
     ]
    }
   ],
   "source": [
    "# Define hyperparameters\n",
    "params = {\"objective\": \"reg:squarederror\"}\n",
    "\n",
    "n = 100\n",
    "model = xgb.train(params, dtrain_reg, n)\n",
    "\n",
    "# Predict the labels of the test set\n",
    "preds = model.predict(dtest_reg)\n",
    "\n",
    "# Evaluate the test set RMSE\n",
    "rmse = np.sqrt(mean_squared_error(y_test, preds))\n",
    "print(\"RMSE: %f\" % (rmse))"
   ]
  },
  {
   "attachments": {},
   "cell_type": "markdown",
   "metadata": {},
   "source": [
    "`We’ve got a base score ~540$, which was the performance of a base model with default parameters. There are two ways we can improve it— by performing cross-validation and hyperparameter tuning. But before that, let’s see a quicker way of evaluating XGBoost models.`"
   ]
  },
  {
   "attachments": {},
   "cell_type": "markdown",
   "metadata": {},
   "source": [
    "### Using Validation Sets During Training"
   ]
  },
  {
   "cell_type": "code",
   "execution_count": 42,
   "metadata": {},
   "outputs": [],
   "source": [
    "params = {\"objective\": \"reg:squarederror\", \"tree_method\": \"hist\"}\n",
    "n = 100"
   ]
  },
  {
   "cell_type": "code",
   "execution_count": 44,
   "metadata": {},
   "outputs": [],
   "source": [
    "evals = [(dtrain_reg, \"train\"), (dtest_reg, \"validation\")]"
   ]
  },
  {
   "cell_type": "code",
   "execution_count": 45,
   "metadata": {},
   "outputs": [
    {
     "name": "stdout",
     "output_type": "stream",
     "text": [
      "[0]\ttrain-rmse:3985.31595\tvalidation-rmse:3930.87087\n",
      "[1]\ttrain-rmse:2849.92126\tvalidation-rmse:2812.52945\n",
      "[2]\ttrain-rmse:2061.76472\tvalidation-rmse:2034.91266\n",
      "[3]\ttrain-rmse:1521.58802\tvalidation-rmse:1509.03801\n",
      "[4]\ttrain-rmse:1158.20689\tvalidation-rmse:1155.77477\n",
      "[5]\ttrain-rmse:918.95666\tvalidation-rmse:922.81058\n",
      "[6]\ttrain-rmse:765.71970\tvalidation-rmse:778.96367\n",
      "[7]\ttrain-rmse:671.73734\tvalidation-rmse:692.56259\n",
      "[8]\ttrain-rmse:612.92636\tvalidation-rmse:638.83852\n",
      "[9]\ttrain-rmse:578.33182\tvalidation-rmse:608.53984\n",
      "[10]\ttrain-rmse:557.19710\tvalidation-rmse:591.03042\n",
      "[11]\ttrain-rmse:542.58916\tvalidation-rmse:578.99646\n",
      "[12]\ttrain-rmse:534.88302\tvalidation-rmse:573.25964\n",
      "[13]\ttrain-rmse:527.20423\tvalidation-rmse:566.28647\n",
      "[14]\ttrain-rmse:520.90582\tvalidation-rmse:561.97563\n",
      "[15]\ttrain-rmse:515.69808\tvalidation-rmse:558.92935\n",
      "[16]\ttrain-rmse:512.45290\tvalidation-rmse:557.84167\n",
      "[17]\ttrain-rmse:507.50759\tvalidation-rmse:556.68519\n",
      "[18]\ttrain-rmse:504.04144\tvalidation-rmse:553.56230\n",
      "[19]\ttrain-rmse:499.18646\tvalidation-rmse:551.09108\n",
      "[20]\ttrain-rmse:495.31647\tvalidation-rmse:550.76666\n",
      "[21]\ttrain-rmse:491.79040\tvalidation-rmse:550.60082\n",
      "[22]\ttrain-rmse:487.77269\tvalidation-rmse:548.36432\n",
      "[23]\ttrain-rmse:486.55224\tvalidation-rmse:547.99883\n",
      "[24]\ttrain-rmse:485.06522\tvalidation-rmse:548.32492\n",
      "[25]\ttrain-rmse:481.40234\tvalidation-rmse:546.35318\n",
      "[26]\ttrain-rmse:475.79729\tvalidation-rmse:546.48934\n",
      "[27]\ttrain-rmse:474.35138\tvalidation-rmse:545.81126\n",
      "[28]\ttrain-rmse:471.78810\tvalidation-rmse:546.34150\n",
      "[29]\ttrain-rmse:469.57226\tvalidation-rmse:545.78579\n",
      "[30]\ttrain-rmse:467.13670\tvalidation-rmse:547.16647\n",
      "[31]\ttrain-rmse:465.60822\tvalidation-rmse:546.68017\n",
      "[32]\ttrain-rmse:463.18297\tvalidation-rmse:546.35900\n",
      "[33]\ttrain-rmse:461.03645\tvalidation-rmse:546.92292\n",
      "[34]\ttrain-rmse:459.11065\tvalidation-rmse:545.65415\n",
      "[35]\ttrain-rmse:455.58103\tvalidation-rmse:545.60024\n",
      "[36]\ttrain-rmse:453.61231\tvalidation-rmse:545.11648\n",
      "[37]\ttrain-rmse:451.70785\tvalidation-rmse:544.35182\n",
      "[38]\ttrain-rmse:450.80103\tvalidation-rmse:543.49648\n",
      "[39]\ttrain-rmse:447.46143\tvalidation-rmse:544.23386\n",
      "[40]\ttrain-rmse:447.26879\tvalidation-rmse:544.10422\n",
      "[41]\ttrain-rmse:445.31017\tvalidation-rmse:544.32107\n",
      "[42]\ttrain-rmse:443.57201\tvalidation-rmse:544.19011\n",
      "[43]\ttrain-rmse:441.65878\tvalidation-rmse:544.16246\n",
      "[44]\ttrain-rmse:440.49680\tvalidation-rmse:544.10014\n",
      "[45]\ttrain-rmse:439.46627\tvalidation-rmse:543.94863\n",
      "[46]\ttrain-rmse:437.09814\tvalidation-rmse:543.69954\n",
      "[47]\ttrain-rmse:435.52668\tvalidation-rmse:543.50496\n",
      "[48]\ttrain-rmse:433.53532\tvalidation-rmse:544.29780\n",
      "[49]\ttrain-rmse:432.63530\tvalidation-rmse:544.03805\n",
      "[50]\ttrain-rmse:432.51681\tvalidation-rmse:543.97371\n",
      "[51]\ttrain-rmse:432.34761\tvalidation-rmse:543.84972\n",
      "[52]\ttrain-rmse:432.29726\tvalidation-rmse:543.74148\n",
      "[53]\ttrain-rmse:429.82478\tvalidation-rmse:544.32619\n",
      "[54]\ttrain-rmse:428.05758\tvalidation-rmse:544.44648\n",
      "[55]\ttrain-rmse:427.29817\tvalidation-rmse:544.98653\n",
      "[56]\ttrain-rmse:425.98187\tvalidation-rmse:545.03108\n",
      "[57]\ttrain-rmse:423.33404\tvalidation-rmse:545.05312\n",
      "[58]\ttrain-rmse:422.41177\tvalidation-rmse:545.31690\n",
      "[59]\ttrain-rmse:421.42258\tvalidation-rmse:545.08016\n",
      "[60]\ttrain-rmse:420.72943\tvalidation-rmse:544.77874\n",
      "[61]\ttrain-rmse:420.07456\tvalidation-rmse:544.64864\n",
      "[62]\ttrain-rmse:418.52485\tvalidation-rmse:543.86081\n",
      "[63]\ttrain-rmse:416.56287\tvalidation-rmse:544.48380\n",
      "[64]\ttrain-rmse:415.38839\tvalidation-rmse:544.66277\n",
      "[65]\ttrain-rmse:413.79059\tvalidation-rmse:544.35353\n",
      "[66]\ttrain-rmse:412.29481\tvalidation-rmse:545.02371\n",
      "[67]\ttrain-rmse:411.09605\tvalidation-rmse:545.16844\n",
      "[68]\ttrain-rmse:409.60411\tvalidation-rmse:545.17511\n",
      "[69]\ttrain-rmse:409.52580\tvalidation-rmse:545.13299\n",
      "[70]\ttrain-rmse:408.72053\tvalidation-rmse:544.77491\n",
      "[71]\ttrain-rmse:407.41467\tvalidation-rmse:544.76693\n",
      "[72]\ttrain-rmse:406.22548\tvalidation-rmse:544.58523\n",
      "[73]\ttrain-rmse:405.13579\tvalidation-rmse:544.58790\n",
      "[74]\ttrain-rmse:403.21449\tvalidation-rmse:544.20643\n",
      "[75]\ttrain-rmse:401.49377\tvalidation-rmse:544.21367\n",
      "[76]\ttrain-rmse:400.26256\tvalidation-rmse:544.37858\n",
      "[77]\ttrain-rmse:399.13349\tvalidation-rmse:544.27528\n",
      "[78]\ttrain-rmse:398.41975\tvalidation-rmse:544.34434\n",
      "[79]\ttrain-rmse:397.02373\tvalidation-rmse:543.90283\n",
      "[80]\ttrain-rmse:395.88816\tvalidation-rmse:544.33808\n",
      "[81]\ttrain-rmse:394.50402\tvalidation-rmse:544.09663\n",
      "[82]\ttrain-rmse:392.17516\tvalidation-rmse:544.86751\n",
      "[83]\ttrain-rmse:390.77213\tvalidation-rmse:544.69666\n",
      "[84]\ttrain-rmse:389.19070\tvalidation-rmse:545.24559\n",
      "[85]\ttrain-rmse:389.13130\tvalidation-rmse:545.07051\n",
      "[86]\ttrain-rmse:387.77570\tvalidation-rmse:545.34295\n",
      "[87]\ttrain-rmse:386.38896\tvalidation-rmse:545.45681\n",
      "[88]\ttrain-rmse:385.79451\tvalidation-rmse:545.25177\n",
      "[89]\ttrain-rmse:385.18080\tvalidation-rmse:545.26247\n",
      "[90]\ttrain-rmse:383.62262\tvalidation-rmse:545.99682\n",
      "[91]\ttrain-rmse:383.32585\tvalidation-rmse:545.84979\n",
      "[92]\ttrain-rmse:382.91168\tvalidation-rmse:545.61669\n",
      "[93]\ttrain-rmse:381.20257\tvalidation-rmse:545.30431\n",
      "[94]\ttrain-rmse:380.88685\tvalidation-rmse:545.46579\n",
      "[95]\ttrain-rmse:380.83559\tvalidation-rmse:545.44038\n",
      "[96]\ttrain-rmse:380.68636\tvalidation-rmse:545.44898\n",
      "[97]\ttrain-rmse:380.48816\tvalidation-rmse:545.30215\n",
      "[98]\ttrain-rmse:379.68519\tvalidation-rmse:545.23124\n",
      "[99]\ttrain-rmse:378.37454\tvalidation-rmse:545.38842\n"
     ]
    }
   ],
   "source": [
    "evals = [(dtrain_reg, \"train\"), (dtest_reg, \"validation\")]\n",
    "\n",
    "model = xgb.train(\n",
    "   params=params,\n",
    "   dtrain=dtrain_reg,\n",
    "   num_boost_round=n,\n",
    "   evals=evals,\n",
    ")"
   ]
  },
  {
   "cell_type": "code",
   "execution_count": 46,
   "metadata": {},
   "outputs": [],
   "source": [
    "#Model scores from 39000's to just 5400's. This is a huge improvement!"
   ]
  },
  {
   "attachments": {},
   "cell_type": "markdown",
   "metadata": {},
   "source": [
    "In real-world projects, you usually train for thousands of boosting rounds, which means that many rows of output. To reduce them, you can use the verbose_eval parameter, which forces XGBoost to print performance updates every vebose_eval rounds:"
   ]
  },
  {
   "cell_type": "code",
   "execution_count": 48,
   "metadata": {},
   "outputs": [
    {
     "name": "stdout",
     "output_type": "stream",
     "text": [
      "[0]\tvalidation-rmse:3930.87087\ttrain-rmse:3985.31595\n",
      "[10]\tvalidation-rmse:591.03042\ttrain-rmse:557.19710\n",
      "[20]\tvalidation-rmse:550.76666\ttrain-rmse:495.31647\n",
      "[30]\tvalidation-rmse:547.16647\ttrain-rmse:467.13670\n",
      "[40]\tvalidation-rmse:544.10422\ttrain-rmse:447.26879\n",
      "[50]\tvalidation-rmse:543.97371\ttrain-rmse:432.51681\n",
      "[60]\tvalidation-rmse:544.77874\ttrain-rmse:420.72943\n",
      "[70]\tvalidation-rmse:544.77491\ttrain-rmse:408.72053\n",
      "[80]\tvalidation-rmse:544.33808\ttrain-rmse:395.88816\n",
      "[90]\tvalidation-rmse:545.99682\ttrain-rmse:383.62262\n",
      "[99]\tvalidation-rmse:545.38842\ttrain-rmse:378.37454\n"
     ]
    }
   ],
   "source": [
    "params = {\"objective\": \"reg:squarederror\", \"tree_method\": \"hist\"}\n",
    "n = 100\n",
    "\n",
    "evals = [(dtest_reg, \"validation\"), (dtrain_reg, \"train\")]\n",
    "\n",
    "\n",
    "model = xgb.train(\n",
    "   params=params,\n",
    "   dtrain=dtrain_reg,\n",
    "   num_boost_round=n,\n",
    "   evals=evals,\n",
    "   verbose_eval=10 # Every ten rounds\n",
    ")"
   ]
  },
  {
   "cell_type": "code",
   "execution_count": null,
   "metadata": {},
   "outputs": [],
   "source": []
  },
  {
   "attachments": {},
   "cell_type": "markdown",
   "metadata": {},
   "source": [
    "Generally, the more rounds there are, the more XGBoost tries to minimize the loss. But this doesn’t mean the loss will always go down. Let’s try with 5000 boosting rounds with the verbosity of 500:"
   ]
  },
  {
   "cell_type": "code",
   "execution_count": 49,
   "metadata": {},
   "outputs": [
    {
     "name": "stdout",
     "output_type": "stream",
     "text": [
      "[0]\tvalidation-rmse:3930.87087\ttrain-rmse:3985.31595\n",
      "[250]\tvalidation-rmse:557.68923\ttrain-rmse:282.14076\n",
      "[500]\tvalidation-rmse:567.09440\ttrain-rmse:202.29270\n",
      "[750]\tvalidation-rmse:571.09355\ttrain-rmse:153.40105\n",
      "[1000]\tvalidation-rmse:573.92496\ttrain-rmse:124.11251\n",
      "[1250]\tvalidation-rmse:575.80595\ttrain-rmse:102.84756\n",
      "[1500]\tvalidation-rmse:577.05346\ttrain-rmse:86.53817\n",
      "[1750]\tvalidation-rmse:578.72790\ttrain-rmse:74.95409\n",
      "[2000]\tvalidation-rmse:579.29924\ttrain-rmse:64.88654\n",
      "[2250]\tvalidation-rmse:580.10885\ttrain-rmse:56.54860\n",
      "[2500]\tvalidation-rmse:580.64166\ttrain-rmse:49.60797\n",
      "[2750]\tvalidation-rmse:581.06804\ttrain-rmse:43.65126\n",
      "[3000]\tvalidation-rmse:581.33497\ttrain-rmse:39.07501\n",
      "[3250]\tvalidation-rmse:581.68045\ttrain-rmse:35.19566\n",
      "[3500]\tvalidation-rmse:581.94197\ttrain-rmse:31.53707\n",
      "[3750]\tvalidation-rmse:582.01889\ttrain-rmse:28.69983\n",
      "[4000]\tvalidation-rmse:582.09487\ttrain-rmse:26.22932\n",
      "[4250]\tvalidation-rmse:582.27258\ttrain-rmse:24.02182\n",
      "[4500]\tvalidation-rmse:582.35214\ttrain-rmse:22.08176\n",
      "[4750]\tvalidation-rmse:582.38316\ttrain-rmse:20.46374\n",
      "[4999]\tvalidation-rmse:582.41460\ttrain-rmse:19.09406\n"
     ]
    }
   ],
   "source": [
    "params = {\"objective\": \"reg:squarederror\", \"tree_method\": \"hist\"}\n",
    "n = 5000\n",
    "\n",
    "evals = [(dtest_reg, \"validation\"), (dtrain_reg, \"train\")]\n",
    "\n",
    "\n",
    "model = xgb.train(\n",
    "   params=params,\n",
    "   dtrain=dtrain_reg,\n",
    "   num_boost_round=n,\n",
    "   evals=evals,\n",
    "   verbose_eval=250\n",
    ")\n"
   ]
  },
  {
   "attachments": {},
   "cell_type": "markdown",
   "metadata": {},
   "source": [
    "We get the lowest loss before round 500. After that, even though training loss keeps going down, the validation loss (the one we care about) keeps increasing.\n",
    "\n",
    "When given an unnecessary number of boosting rounds, XGBoost starts to overfit and memorize the dataset. This, in turn, leads to validation performance drop because the model is memorizing instead of generalizing."
   ]
  },
  {
   "attachments": {},
   "cell_type": "markdown",
   "metadata": {},
   "source": [
    "Remember, we want the `golden middle:` a model that learned just enough patterns in training that it gives the highest performance on the validation set. So, how do we find the perfect number of boosting rounds, then?\n",
    "\n",
    "We will use a technique called `early stopping.` Early stopping forces XGBoost to watch the validation loss, and if it stops improving for a specified number of rounds, it automatically stops training.\n",
    "\n",
    "This means we can set as high a number of boosting rounds as long as we set a sensible number of early stopping rounds.\n",
    "\n",
    "For example, let’s use 10000 boosting rounds and set the early_stopping_rounds parameter to 50. This way, XGBoost will automatically stop the training if validation loss doesn't improve for 50 consecutive rounds."
   ]
  },
  {
   "cell_type": "code",
   "execution_count": 50,
   "metadata": {},
   "outputs": [
    {
     "name": "stdout",
     "output_type": "stream",
     "text": [
      "[0]\tvalidation-rmse:3930.87087\ttrain-rmse:3985.31595\n",
      "[50]\tvalidation-rmse:543.97371\ttrain-rmse:432.51681\n",
      "[100]\tvalidation-rmse:545.56388\ttrain-rmse:377.95218\n",
      "[150]\tvalidation-rmse:550.39816\ttrain-rmse:337.94196\n",
      "[200]\tvalidation-rmse:554.85898\ttrain-rmse:309.24955\n",
      "[250]\tvalidation-rmse:557.68923\ttrain-rmse:282.14076\n",
      "[300]\tvalidation-rmse:562.06936\ttrain-rmse:260.56315\n",
      "[350]\tvalidation-rmse:563.10432\ttrain-rmse:241.85718\n",
      "[400]\tvalidation-rmse:564.23042\ttrain-rmse:228.55880\n",
      "[450]\tvalidation-rmse:565.91072\ttrain-rmse:214.04749\n",
      "[500]\tvalidation-rmse:567.09440\ttrain-rmse:202.29270\n",
      "[550]\tvalidation-rmse:567.97453\ttrain-rmse:190.05638\n",
      "[600]\tvalidation-rmse:568.63118\ttrain-rmse:179.81322\n",
      "[650]\tvalidation-rmse:569.04335\ttrain-rmse:170.49103\n",
      "[700]\tvalidation-rmse:569.82263\ttrain-rmse:162.18310\n",
      "[750]\tvalidation-rmse:571.09355\ttrain-rmse:153.40105\n",
      "[800]\tvalidation-rmse:571.55832\ttrain-rmse:146.51777\n",
      "[850]\tvalidation-rmse:572.45668\ttrain-rmse:140.40240\n",
      "[900]\tvalidation-rmse:573.03163\ttrain-rmse:134.76290\n",
      "[950]\tvalidation-rmse:573.36972\ttrain-rmse:129.41865\n",
      "[1000]\tvalidation-rmse:573.92496\ttrain-rmse:124.11251\n",
      "[1050]\tvalidation-rmse:574.25390\ttrain-rmse:118.66484\n",
      "[1100]\tvalidation-rmse:574.99063\ttrain-rmse:115.12676\n",
      "[1150]\tvalidation-rmse:574.99695\ttrain-rmse:110.45102\n",
      "[1200]\tvalidation-rmse:575.17781\ttrain-rmse:106.35001\n",
      "[1250]\tvalidation-rmse:575.80595\ttrain-rmse:102.84756\n",
      "[1300]\tvalidation-rmse:576.22607\ttrain-rmse:98.92870\n",
      "[1350]\tvalidation-rmse:576.50994\ttrain-rmse:95.57129\n",
      "[1400]\tvalidation-rmse:576.52550\ttrain-rmse:92.87394\n",
      "[1450]\tvalidation-rmse:576.71054\ttrain-rmse:89.54897\n",
      "[1500]\tvalidation-rmse:577.05346\ttrain-rmse:86.53817\n",
      "[1550]\tvalidation-rmse:577.48287\ttrain-rmse:83.77360\n",
      "[1600]\tvalidation-rmse:577.67782\ttrain-rmse:81.69339\n",
      "[1650]\tvalidation-rmse:578.02459\ttrain-rmse:79.54030\n",
      "[1700]\tvalidation-rmse:578.43809\ttrain-rmse:77.47407\n",
      "[1750]\tvalidation-rmse:578.72790\ttrain-rmse:74.95409\n",
      "[1800]\tvalidation-rmse:578.93009\ttrain-rmse:72.85875\n",
      "[1850]\tvalidation-rmse:579.00710\ttrain-rmse:70.50133\n",
      "[1900]\tvalidation-rmse:579.12501\ttrain-rmse:68.27937\n",
      "[1950]\tvalidation-rmse:579.28358\ttrain-rmse:66.45640\n",
      "[2000]\tvalidation-rmse:579.29924\ttrain-rmse:64.88654\n",
      "[2050]\tvalidation-rmse:579.54814\ttrain-rmse:63.07993\n",
      "[2100]\tvalidation-rmse:579.63977\ttrain-rmse:61.38127\n",
      "[2150]\tvalidation-rmse:579.67380\ttrain-rmse:59.97028\n",
      "[2200]\tvalidation-rmse:579.96606\ttrain-rmse:58.11002\n",
      "[2250]\tvalidation-rmse:580.10885\ttrain-rmse:56.54860\n",
      "[2300]\tvalidation-rmse:580.21950\ttrain-rmse:54.76125\n",
      "[2350]\tvalidation-rmse:580.36335\ttrain-rmse:53.41383\n",
      "[2400]\tvalidation-rmse:580.39685\ttrain-rmse:52.30002\n",
      "[2450]\tvalidation-rmse:580.54380\ttrain-rmse:51.08235\n",
      "[2500]\tvalidation-rmse:580.64166\ttrain-rmse:49.60797\n",
      "[2550]\tvalidation-rmse:580.76846\ttrain-rmse:48.24775\n",
      "[2600]\tvalidation-rmse:580.85853\ttrain-rmse:47.04598\n",
      "[2650]\tvalidation-rmse:580.90448\ttrain-rmse:46.04622\n",
      "[2700]\tvalidation-rmse:580.96790\ttrain-rmse:44.71654\n",
      "[2750]\tvalidation-rmse:581.06804\ttrain-rmse:43.65126\n",
      "[2800]\tvalidation-rmse:581.14178\ttrain-rmse:42.70197\n",
      "[2850]\tvalidation-rmse:581.22081\ttrain-rmse:41.79687\n",
      "[2900]\tvalidation-rmse:581.27733\ttrain-rmse:40.85099\n",
      "[2950]\tvalidation-rmse:581.33586\ttrain-rmse:40.01575\n",
      "[3000]\tvalidation-rmse:581.33497\ttrain-rmse:39.07501\n",
      "[3050]\tvalidation-rmse:581.42911\ttrain-rmse:38.20595\n",
      "[3100]\tvalidation-rmse:581.43480\ttrain-rmse:37.39248\n",
      "[3150]\tvalidation-rmse:581.55256\ttrain-rmse:36.56520\n",
      "[3200]\tvalidation-rmse:581.60618\ttrain-rmse:35.76794\n",
      "[3250]\tvalidation-rmse:581.68045\ttrain-rmse:35.19566\n",
      "[3300]\tvalidation-rmse:581.67001\ttrain-rmse:34.41374\n",
      "[3350]\tvalidation-rmse:581.72016\ttrain-rmse:33.78988\n",
      "[3400]\tvalidation-rmse:581.82317\ttrain-rmse:33.05849\n",
      "[3450]\tvalidation-rmse:581.87618\ttrain-rmse:32.26739\n",
      "[3500]\tvalidation-rmse:581.94197\ttrain-rmse:31.53707\n",
      "[3550]\tvalidation-rmse:581.92698\ttrain-rmse:30.88280\n",
      "[3600]\tvalidation-rmse:581.97321\ttrain-rmse:30.27719\n",
      "[3650]\tvalidation-rmse:582.02043\ttrain-rmse:29.70861\n",
      "[3700]\tvalidation-rmse:582.04550\ttrain-rmse:29.21620\n",
      "[3750]\tvalidation-rmse:582.01889\ttrain-rmse:28.69983\n",
      "[3800]\tvalidation-rmse:582.06351\ttrain-rmse:28.03094\n",
      "[3850]\tvalidation-rmse:582.05998\ttrain-rmse:27.47122\n",
      "[3900]\tvalidation-rmse:582.05526\ttrain-rmse:27.09376\n",
      "[3950]\tvalidation-rmse:582.09573\ttrain-rmse:26.67542\n",
      "[4000]\tvalidation-rmse:582.09487\ttrain-rmse:26.22932\n",
      "[4050]\tvalidation-rmse:582.14632\ttrain-rmse:25.78712\n",
      "[4100]\tvalidation-rmse:582.19889\ttrain-rmse:25.32762\n",
      "[4150]\tvalidation-rmse:582.20980\ttrain-rmse:24.85256\n",
      "[4200]\tvalidation-rmse:582.26342\ttrain-rmse:24.39326\n",
      "[4250]\tvalidation-rmse:582.27258\ttrain-rmse:24.02182\n",
      "[4300]\tvalidation-rmse:582.30325\ttrain-rmse:23.55437\n",
      "[4350]\tvalidation-rmse:582.32606\ttrain-rmse:23.17438\n",
      "[4400]\tvalidation-rmse:582.32343\ttrain-rmse:22.80314\n",
      "[4450]\tvalidation-rmse:582.34234\ttrain-rmse:22.44744\n",
      "[4500]\tvalidation-rmse:582.35214\ttrain-rmse:22.08176\n",
      "[4550]\tvalidation-rmse:582.36819\ttrain-rmse:21.83115\n",
      "[4600]\tvalidation-rmse:582.38026\ttrain-rmse:21.40072\n",
      "[4650]\tvalidation-rmse:582.39892\ttrain-rmse:21.08807\n",
      "[4700]\tvalidation-rmse:582.40574\ttrain-rmse:20.71754\n",
      "[4750]\tvalidation-rmse:582.38316\ttrain-rmse:20.46374\n",
      "[4800]\tvalidation-rmse:582.38752\ttrain-rmse:20.16590\n",
      "[4850]\tvalidation-rmse:582.35994\ttrain-rmse:19.88560\n",
      "[4900]\tvalidation-rmse:582.40017\ttrain-rmse:19.62636\n",
      "[4950]\tvalidation-rmse:582.41380\ttrain-rmse:19.34763\n",
      "[5000]\tvalidation-rmse:582.41462\ttrain-rmse:19.08765\n",
      "[5050]\tvalidation-rmse:582.46033\ttrain-rmse:18.83685\n",
      "[5100]\tvalidation-rmse:582.46577\ttrain-rmse:18.57817\n",
      "[5150]\tvalidation-rmse:582.48041\ttrain-rmse:18.33980\n",
      "[5200]\tvalidation-rmse:582.49754\ttrain-rmse:18.07869\n",
      "[5250]\tvalidation-rmse:582.53039\ttrain-rmse:17.89495\n",
      "[5300]\tvalidation-rmse:582.52176\ttrain-rmse:17.65957\n",
      "[5350]\tvalidation-rmse:582.52893\ttrain-rmse:17.45984\n",
      "[5400]\tvalidation-rmse:582.53736\ttrain-rmse:17.24943\n",
      "[5450]\tvalidation-rmse:582.54756\ttrain-rmse:17.06318\n",
      "[5500]\tvalidation-rmse:582.56436\ttrain-rmse:16.87082\n",
      "[5550]\tvalidation-rmse:582.57472\ttrain-rmse:16.70942\n",
      "[5600]\tvalidation-rmse:582.59555\ttrain-rmse:16.52532\n",
      "[5650]\tvalidation-rmse:582.62950\ttrain-rmse:16.33262\n",
      "[5700]\tvalidation-rmse:582.63402\ttrain-rmse:16.17588\n",
      "[5750]\tvalidation-rmse:582.64264\ttrain-rmse:16.01308\n",
      "[5800]\tvalidation-rmse:582.65336\ttrain-rmse:15.88007\n",
      "[5850]\tvalidation-rmse:582.67695\ttrain-rmse:15.72325\n",
      "[5900]\tvalidation-rmse:582.68517\ttrain-rmse:15.60092\n",
      "[5950]\tvalidation-rmse:582.69039\ttrain-rmse:15.46579\n",
      "[6000]\tvalidation-rmse:582.72423\ttrain-rmse:15.30486\n",
      "[6050]\tvalidation-rmse:582.74890\ttrain-rmse:15.16899\n",
      "[6100]\tvalidation-rmse:582.74741\ttrain-rmse:15.03859\n",
      "[6150]\tvalidation-rmse:582.75854\ttrain-rmse:14.91718\n",
      "[6200]\tvalidation-rmse:582.76864\ttrain-rmse:14.78960\n",
      "[6250]\tvalidation-rmse:582.77566\ttrain-rmse:14.67831\n",
      "[6300]\tvalidation-rmse:582.79547\ttrain-rmse:14.57174\n",
      "[6350]\tvalidation-rmse:582.80177\ttrain-rmse:14.47055\n",
      "[6400]\tvalidation-rmse:582.80427\ttrain-rmse:14.35916\n",
      "[6450]\tvalidation-rmse:582.81823\ttrain-rmse:14.25835\n",
      "[6500]\tvalidation-rmse:582.82163\ttrain-rmse:14.16511\n",
      "[6550]\tvalidation-rmse:582.82711\ttrain-rmse:14.06289\n",
      "[6600]\tvalidation-rmse:582.83472\ttrain-rmse:13.95060\n",
      "[6650]\tvalidation-rmse:582.85094\ttrain-rmse:13.83296\n",
      "[6700]\tvalidation-rmse:582.85517\ttrain-rmse:13.73981\n",
      "[6750]\tvalidation-rmse:582.85515\ttrain-rmse:13.65003\n",
      "[6800]\tvalidation-rmse:582.86522\ttrain-rmse:13.57120\n",
      "[6850]\tvalidation-rmse:582.87154\ttrain-rmse:13.49654\n",
      "[6900]\tvalidation-rmse:582.86787\ttrain-rmse:13.41024\n",
      "[6950]\tvalidation-rmse:582.87341\ttrain-rmse:13.33583\n",
      "[7000]\tvalidation-rmse:582.87103\ttrain-rmse:13.25924\n",
      "[7050]\tvalidation-rmse:582.87712\ttrain-rmse:13.18571\n",
      "[7100]\tvalidation-rmse:582.87542\ttrain-rmse:13.12601\n",
      "[7150]\tvalidation-rmse:582.88302\ttrain-rmse:13.05954\n",
      "[7200]\tvalidation-rmse:582.88748\ttrain-rmse:12.99980\n",
      "[7250]\tvalidation-rmse:582.90096\ttrain-rmse:12.93806\n",
      "[7300]\tvalidation-rmse:582.90701\ttrain-rmse:12.86605\n",
      "[7350]\tvalidation-rmse:582.92154\ttrain-rmse:12.81539\n",
      "[7400]\tvalidation-rmse:582.92816\ttrain-rmse:12.76803\n",
      "[7450]\tvalidation-rmse:582.93726\ttrain-rmse:12.70809\n",
      "[7500]\tvalidation-rmse:582.94118\ttrain-rmse:12.66087\n",
      "[7550]\tvalidation-rmse:582.95097\ttrain-rmse:12.59392\n",
      "[7600]\tvalidation-rmse:582.96126\ttrain-rmse:12.53703\n",
      "[7650]\tvalidation-rmse:582.95929\ttrain-rmse:12.49126\n",
      "[7700]\tvalidation-rmse:582.95837\ttrain-rmse:12.45270\n",
      "[7750]\tvalidation-rmse:582.96204\ttrain-rmse:12.40691\n",
      "[7800]\tvalidation-rmse:582.96713\ttrain-rmse:12.35944\n",
      "[7850]\tvalidation-rmse:582.97416\ttrain-rmse:12.30978\n",
      "[7900]\tvalidation-rmse:582.97973\ttrain-rmse:12.27664\n",
      "[7950]\tvalidation-rmse:582.98021\ttrain-rmse:12.24096\n",
      "[8000]\tvalidation-rmse:582.98235\ttrain-rmse:12.20416\n",
      "[8050]\tvalidation-rmse:582.98192\ttrain-rmse:12.16474\n",
      "[8100]\tvalidation-rmse:582.98969\ttrain-rmse:12.13305\n",
      "[8150]\tvalidation-rmse:582.99402\ttrain-rmse:12.09806\n",
      "[8200]\tvalidation-rmse:582.99143\ttrain-rmse:12.06442\n",
      "[8250]\tvalidation-rmse:582.98989\ttrain-rmse:12.02653\n",
      "[8300]\tvalidation-rmse:582.99379\ttrain-rmse:12.00285\n",
      "[8350]\tvalidation-rmse:582.99370\ttrain-rmse:11.96619\n",
      "[8400]\tvalidation-rmse:582.99386\ttrain-rmse:11.93896\n",
      "[8450]\tvalidation-rmse:582.99851\ttrain-rmse:11.91175\n",
      "[8500]\tvalidation-rmse:582.99876\ttrain-rmse:11.88114\n",
      "[8550]\tvalidation-rmse:583.00265\ttrain-rmse:11.85830\n",
      "[8600]\tvalidation-rmse:583.00855\ttrain-rmse:11.83435\n",
      "[8650]\tvalidation-rmse:583.01252\ttrain-rmse:11.81217\n",
      "[8700]\tvalidation-rmse:583.01070\ttrain-rmse:11.78285\n",
      "[8750]\tvalidation-rmse:583.01699\ttrain-rmse:11.75902\n",
      "[8800]\tvalidation-rmse:583.01767\ttrain-rmse:11.72988\n",
      "[8850]\tvalidation-rmse:583.02125\ttrain-rmse:11.70324\n",
      "[8900]\tvalidation-rmse:583.02550\ttrain-rmse:11.68226\n",
      "[8950]\tvalidation-rmse:583.02442\ttrain-rmse:11.65842\n",
      "[9000]\tvalidation-rmse:583.02525\ttrain-rmse:11.63787\n",
      "[9050]\tvalidation-rmse:583.03163\ttrain-rmse:11.62269\n",
      "[9100]\tvalidation-rmse:583.02994\ttrain-rmse:11.60292\n",
      "[9150]\tvalidation-rmse:583.03320\ttrain-rmse:11.58157\n",
      "[9200]\tvalidation-rmse:583.03504\ttrain-rmse:11.56743\n",
      "[9250]\tvalidation-rmse:583.03428\ttrain-rmse:11.55092\n",
      "[9300]\tvalidation-rmse:583.04290\ttrain-rmse:11.53730\n",
      "[9350]\tvalidation-rmse:583.04569\ttrain-rmse:11.52052\n",
      "[9400]\tvalidation-rmse:583.04591\ttrain-rmse:11.50639\n",
      "[9450]\tvalidation-rmse:583.04597\ttrain-rmse:11.49016\n",
      "[9500]\tvalidation-rmse:583.04567\ttrain-rmse:11.47504\n",
      "[9550]\tvalidation-rmse:583.04567\ttrain-rmse:11.45942\n",
      "[9600]\tvalidation-rmse:583.04850\ttrain-rmse:11.44474\n",
      "[9650]\tvalidation-rmse:583.05097\ttrain-rmse:11.43104\n",
      "[9700]\tvalidation-rmse:583.05351\ttrain-rmse:11.41640\n",
      "[9750]\tvalidation-rmse:583.05570\ttrain-rmse:11.40613\n",
      "[9800]\tvalidation-rmse:583.05921\ttrain-rmse:11.39409\n",
      "[9850]\tvalidation-rmse:583.05956\ttrain-rmse:11.38293\n",
      "[9900]\tvalidation-rmse:583.06150\ttrain-rmse:11.37188\n",
      "[9950]\tvalidation-rmse:583.06569\ttrain-rmse:11.36215\n",
      "[9999]\tvalidation-rmse:583.07067\ttrain-rmse:11.35267\n"
     ]
    }
   ],
   "source": [
    "n = 10000\n",
    "\n",
    "\n",
    "model = xgb.train(\n",
    "   params=params,\n",
    "   dtrain=dtrain_reg,\n",
    "   num_boost_round=n,\n",
    "   evals=evals,\n",
    "   verbose_eval=50,\n",
    "   # Activate early stopping\n",
    "   early_stopping_rounds=50\n",
    ")"
   ]
  },
  {
   "cell_type": "markdown",
   "metadata": {},
   "source": []
  },
  {
   "cell_type": "code",
   "execution_count": null,
   "metadata": {},
   "outputs": [],
   "source": []
  }
 ],
 "metadata": {
  "kernelspec": {
   "display_name": "Python-3.9",
   "language": "python",
   "name": "python3"
  },
  "language_info": {
   "codemirror_mode": {
    "name": "ipython",
    "version": 3
   },
   "file_extension": ".py",
   "mimetype": "text/x-python",
   "name": "python",
   "nbconvert_exporter": "python",
   "pygments_lexer": "ipython3",
   "version": "3.9.16"
  },
  "orig_nbformat": 4
 },
 "nbformat": 4,
 "nbformat_minor": 2
}
