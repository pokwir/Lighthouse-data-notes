{
 "cells": [
  {
   "cell_type": "markdown",
   "metadata": {},
   "source": [
    "## Deep Learning Challenge"
   ]
  },
  {
   "cell_type": "markdown",
   "metadata": {},
   "source": [
    "### Loading the CIFAR10 data\n",
    "The data can be loaded directly from keras (`keras.datasets.cifar10`).\n",
    "\n",
    "```python\n",
    "cifar10 = keras.datasets.cifar10\n",
    "(train_images, train_labels), (test_images, test_labels) = cifar10.load_data()\n",
    "```"
   ]
  },
  {
   "cell_type": "code",
   "execution_count": 1,
   "metadata": {},
   "outputs": [],
   "source": [
    "from tensorflow.keras.datasets import cifar10\n",
    "from tensorflow.keras import models\n",
    "from tensorflow.keras import layers\n",
    "from tensorflow import keras\n",
    "from tensorflow.keras.utils import to_categorical\n",
    "import numpy as np"
   ]
  },
  {
   "cell_type": "code",
   "execution_count": 2,
   "metadata": {},
   "outputs": [],
   "source": [
    "cifar10 = keras.datasets.cifar10\n",
    "(train_images, train_labels), (test_images, test_labels) = cifar10.load_data()"
   ]
  },
  {
   "cell_type": "code",
   "execution_count": 3,
   "metadata": {},
   "outputs": [
    {
     "name": "stdout",
     "output_type": "stream",
     "text": [
      "(50000, 32, 32, 3)\n",
      "(50000, 1)\n"
     ]
    }
   ],
   "source": [
    "# check the shape of the data\n",
    "print(train_images.shape)\n",
    "print(train_labels.shape)"
   ]
  },
  {
   "cell_type": "code",
   "execution_count": 4,
   "metadata": {},
   "outputs": [
    {
     "data": {
      "image/png": "[encoded data removed]",
      "text/plain": [
       "<Figure size 432x288 with 1 Axes>"
      ]
     },
     "metadata": {
      "needs_background": "light"
     },
     "output_type": "display_data"
    }
   ],
   "source": [
    "# print the first image in the training set\n",
    "\n",
    "import matplotlib.pyplot as plt\n",
    "import matplotlib.image as mpimg\n",
    "imgplot = plt.imshow(test_images[200])\n",
    "plt.show()"
   ]
  },
  {
   "cell_type": "code",
   "execution_count": 5,
   "metadata": {},
   "outputs": [
    {
     "name": "stdout",
     "output_type": "stream",
     "text": [
      "[[6]\n",
      " [9]\n",
      " [9]\n",
      " [4]\n",
      " [1]\n",
      " [1]\n",
      " [2]\n",
      " [7]\n",
      " [8]\n",
      " [3]] [[3]\n",
      " [8]\n",
      " [8]\n",
      " [0]\n",
      " [6]\n",
      " [6]\n",
      " [1]\n",
      " [6]\n",
      " [3]\n",
      " [1]]\n"
     ]
    }
   ],
   "source": [
    "# explore the labels\n",
    "print(train_labels[0:10],test_labels[0:10]) # [9 0 0 3 0 2 7 2 5 5]"
   ]
  },
  {
   "cell_type": "code",
   "execution_count": 6,
   "metadata": {},
   "outputs": [
    {
     "name": "stdout",
     "output_type": "stream",
     "text": [
      "Number of classes:  10\n"
     ]
    }
   ],
   "source": [
    "# get the number of classes and print the class names\n",
    "num_classes = len(np.unique(train_labels))\n",
    "print(\"Number of classes: \", num_classes)\n"
   ]
  },
  {
   "cell_type": "code",
   "execution_count": 7,
   "metadata": {},
   "outputs": [
    {
     "name": "stdout",
     "output_type": "stream",
     "text": [
      "{0: 'airplane', 1: 'automobile', 2: 'bird', 3: 'cat', 4: 'deer', 5: 'dog', 6: 'frog', 7: 'horse', 8: 'ship', 9: 'truck'}\n"
     ]
    }
   ],
   "source": [
    "# get class names\n",
    "class_names = ['airplane','automobile','bird','cat','deer', 'dog','frog','horse','ship','truck']\n",
    "# create a dict to map class names to class ids\n",
    "class_dict = {i:class_name for i,class_name in enumerate(class_names)}\n",
    "print(class_dict)"
   ]
  },
  {
   "cell_type": "markdown",
   "metadata": {},
   "source": [
    "#### Task: Build a convulution neural network (CNN) to predict the object in the images. \n",
    "\n",
    "Try to do it on your own first before consulting with peers or tutorials on the internet. If you are stuck early, reach out to a mentor who will point you in the right direction."
   ]
  },
  {
   "cell_type": "code",
   "execution_count": 8,
   "metadata": {},
   "outputs": [],
   "source": [
    "from tensorflow.keras.models import Sequential        # Helper to build a network from a sequence of layers\n",
    "from tensorflow.keras.layers import Dense             # Fully-connected layer\n",
    "from tensorflow.keras.callbacks import EarlyStopping  # To stop training early if val loss stops decreasing"
   ]
  },
  {
   "cell_type": "code",
   "execution_count": 9,
   "metadata": {},
   "outputs": [
    {
     "name": "stdout",
     "output_type": "stream",
     "text": [
      "(50000, 32, 32, 3)\n",
      "(50000, 1)\n"
     ]
    }
   ],
   "source": [
    "# scale the images to be between 0 and 1\n",
    "train_images = train_images.astype('float32') / 255\n",
    "test_images = test_images.astype('float32') / 255\n",
    "\n",
    "# check the shape of the data\n",
    "print(train_images.shape)\n",
    "print(train_labels.shape)"
   ]
  },
  {
   "cell_type": "code",
   "execution_count": 10,
   "metadata": {},
   "outputs": [],
   "source": [
    "# convert the class vectors to binary class matrices\n",
    "train_labels = keras.utils.to_categorical(train_labels, num_classes)\n",
    "test_labels = keras.utils.to_categorical(test_labels, num_classes)\n"
   ]
  },
  {
   "cell_type": "code",
   "execution_count": 14,
   "metadata": {},
   "outputs": [
    {
     "name": "stdout",
     "output_type": "stream",
     "text": [
      "Model: \"sequential_1\"\n",
      "_________________________________________________________________\n",
      " Layer (type)                Output Shape              Param #   \n",
      "=================================================================\n",
      " conv2d_3 (Conv2D)           (None, 30, 30, 32)        896       \n",
      "                                                                 \n",
      " max_pooling2d_3 (MaxPooling  (None, 15, 15, 32)       0         \n",
      " 2D)                                                             \n",
      "                                                                 \n",
      " conv2d_4 (Conv2D)           (None, 13, 13, 64)        18496     \n",
      "                                                                 \n",
      " max_pooling2d_4 (MaxPooling  (None, 6, 6, 64)         0         \n",
      " 2D)                                                             \n",
      "                                                                 \n",
      " conv2d_5 (Conv2D)           (None, 4, 4, 32)          18464     \n",
      "                                                                 \n",
      " max_pooling2d_5 (MaxPooling  (None, 2, 2, 32)         0         \n",
      " 2D)                                                             \n",
      "                                                                 \n",
      " flatten_1 (Flatten)         (None, 128)               0         \n",
      "                                                                 \n",
      " dropout_1 (Dropout)         (None, 128)               0         \n",
      "                                                                 \n",
      " dense_1 (Dense)             (None, 128)               16512     \n",
      "                                                                 \n",
      " dense_2 (Dense)             (None, 10)                1290      \n",
      "                                                                 \n",
      "=================================================================\n",
      "Total params: 55,658\n",
      "Trainable params: 55,658\n",
      "Non-trainable params: 0\n",
      "_________________________________________________________________\n"
     ]
    }
   ],
   "source": [
    "# build the model\n",
    "model = models.Sequential()\n",
    "model.add(layers.Conv2D(32, (3, 3), activation='relu', input_shape=(32, 32, 3))) # 32 filters, each 3x3\n",
    "model.add(layers.MaxPooling2D((2, 2))) # 2x2 max pooling\n",
    "model.add(layers.Conv2D(64, (3, 3), activation='relu')) # 64 filters, each 3x3\n",
    "model.add(layers.MaxPooling2D((2, 2))) # 2x2 max pooling\n",
    "model.add(layers.Conv2D(32, (3, 3), activation='relu')) # 96 filters, each 3x3\n",
    "model.add(layers.MaxPooling2D((2, 2))) # 2x2 max pooling\n",
    "model.add(layers.Flatten()) # flatten to 1D\n",
    "model.add(layers.Dropout(0.2)) # dropout 50% of the units\n",
    "model.add(layers.Dense(128, activation='relu')) # 128 units\n",
    "model.add(layers.Dense(10, activation='softmax')) # 10-way softmax classification\n",
    "model.summary()\n",
    "\n"
   ]
  },
  {
   "cell_type": "code",
   "execution_count": 16,
   "metadata": {},
   "outputs": [
    {
     "name": "stdout",
     "output_type": "stream",
     "text": [
      "Epoch 1/100\n",
      "1563/1563 [==============================] - 18s 11ms/step - loss: 1.3271 - accuracy: 0.5217 - val_loss: 1.1806 - val_accuracy: 0.5773\n",
      "Epoch 2/100\n",
      "1563/1563 [==============================] - 17s 11ms/step - loss: 1.1955 - accuracy: 0.5726 - val_loss: 1.1400 - val_accuracy: 0.5901\n",
      "Epoch 3/100\n",
      "1563/1563 [==============================] - 17s 11ms/step - loss: 1.1077 - accuracy: 0.6073 - val_loss: 1.0698 - val_accuracy: 0.6202\n",
      "Epoch 4/100\n",
      "1563/1563 [==============================] - 17s 11ms/step - loss: 1.0432 - accuracy: 0.6281 - val_loss: 1.0240 - val_accuracy: 0.6380\n",
      "Epoch 5/100\n",
      "1563/1563 [==============================] - 17s 11ms/step - loss: 0.9898 - accuracy: 0.6489 - val_loss: 1.0149 - val_accuracy: 0.6415\n",
      "Epoch 6/100\n",
      "1563/1563 [==============================] - 17s 11ms/step - loss: 0.9510 - accuracy: 0.6623 - val_loss: 0.9626 - val_accuracy: 0.6598\n",
      "Epoch 7/100\n",
      "1563/1563 [==============================] - 17s 11ms/step - loss: 0.9113 - accuracy: 0.6771 - val_loss: 0.9608 - val_accuracy: 0.6588\n",
      "Epoch 8/100\n",
      "1563/1563 [==============================] - 18s 11ms/step - loss: 0.8798 - accuracy: 0.6889 - val_loss: 0.9072 - val_accuracy: 0.6818\n",
      "Epoch 9/100\n",
      "1563/1563 [==============================] - 17s 11ms/step - loss: 0.8521 - accuracy: 0.6988 - val_loss: 0.9276 - val_accuracy: 0.6748\n",
      "Epoch 10/100\n",
      "1563/1563 [==============================] - 17s 11ms/step - loss: 0.8263 - accuracy: 0.7067 - val_loss: 0.9002 - val_accuracy: 0.6882\n",
      "Epoch 11/100\n",
      "1563/1563 [==============================] - 17s 11ms/step - loss: 0.8058 - accuracy: 0.7159 - val_loss: 0.8658 - val_accuracy: 0.6944\n",
      "Epoch 12/100\n",
      "1563/1563 [==============================] - 17s 11ms/step - loss: 0.7841 - accuracy: 0.7246 - val_loss: 0.8736 - val_accuracy: 0.6969\n",
      "Epoch 13/100\n",
      "1563/1563 [==============================] - 17s 11ms/step - loss: 0.7758 - accuracy: 0.7246 - val_loss: 0.8484 - val_accuracy: 0.7022\n",
      "Epoch 14/100\n",
      "1563/1563 [==============================] - 17s 11ms/step - loss: 0.7513 - accuracy: 0.7328 - val_loss: 0.8449 - val_accuracy: 0.7052\n",
      "Epoch 15/100\n",
      "1563/1563 [==============================] - 17s 11ms/step - loss: 0.7317 - accuracy: 0.7399 - val_loss: 0.8370 - val_accuracy: 0.7095\n",
      "Epoch 16/100\n",
      "1563/1563 [==============================] - 17s 11ms/step - loss: 0.7197 - accuracy: 0.7447 - val_loss: 0.8480 - val_accuracy: 0.7060\n",
      "Epoch 17/100\n",
      "1563/1563 [==============================] - 17s 11ms/step - loss: 0.7094 - accuracy: 0.7468 - val_loss: 0.8206 - val_accuracy: 0.7135\n",
      "Epoch 18/100\n",
      "1563/1563 [==============================] - 17s 11ms/step - loss: 0.6983 - accuracy: 0.7538 - val_loss: 0.8452 - val_accuracy: 0.7066\n",
      "Epoch 19/100\n",
      "1563/1563 [==============================] - 17s 11ms/step - loss: 0.6885 - accuracy: 0.7548 - val_loss: 0.8315 - val_accuracy: 0.7111\n",
      "Epoch 20/100\n",
      "1563/1563 [==============================] - 18s 11ms/step - loss: 0.6756 - accuracy: 0.7588 - val_loss: 0.8330 - val_accuracy: 0.7125\n",
      "Epoch 21/100\n",
      "1563/1563 [==============================] - 18s 12ms/step - loss: 0.6642 - accuracy: 0.7621 - val_loss: 0.8451 - val_accuracy: 0.7089\n",
      "Epoch 22/100\n",
      "1563/1563 [==============================] - 17s 11ms/step - loss: 0.6593 - accuracy: 0.7659 - val_loss: 0.8286 - val_accuracy: 0.7159\n",
      "Epoch 23/100\n",
      "1563/1563 [==============================] - 18s 11ms/step - loss: 0.6499 - accuracy: 0.7671 - val_loss: 0.8248 - val_accuracy: 0.7180\n",
      "Epoch 24/100\n",
      "1563/1563 [==============================] - 17s 11ms/step - loss: 0.6335 - accuracy: 0.7738 - val_loss: 0.8448 - val_accuracy: 0.7170\n",
      "Epoch 25/100\n",
      "1563/1563 [==============================] - 17s 11ms/step - loss: 0.6236 - accuracy: 0.7765 - val_loss: 0.8737 - val_accuracy: 0.7078\n",
      "Epoch 26/100\n",
      "1563/1563 [==============================] - 17s 11ms/step - loss: 0.6199 - accuracy: 0.7792 - val_loss: 0.8239 - val_accuracy: 0.7189\n",
      "Epoch 27/100\n",
      "1563/1563 [==============================] - 17s 11ms/step - loss: 0.6102 - accuracy: 0.7826 - val_loss: 0.8417 - val_accuracy: 0.7128\n",
      "Epoch 28/100\n",
      "1563/1563 [==============================] - 17s 11ms/step - loss: 0.6061 - accuracy: 0.7826 - val_loss: 0.8154 - val_accuracy: 0.7235\n",
      "Epoch 29/100\n",
      "1563/1563 [==============================] - 17s 11ms/step - loss: 0.6006 - accuracy: 0.7836 - val_loss: 0.8284 - val_accuracy: 0.7168\n",
      "Epoch 30/100\n",
      "1563/1563 [==============================] - 17s 11ms/step - loss: 0.5934 - accuracy: 0.7876 - val_loss: 0.8357 - val_accuracy: 0.7165\n",
      "Epoch 31/100\n",
      "1563/1563 [==============================] - 17s 11ms/step - loss: 0.5835 - accuracy: 0.7913 - val_loss: 0.8140 - val_accuracy: 0.7267\n",
      "Epoch 32/100\n",
      "1563/1563 [==============================] - 18s 11ms/step - loss: 0.5900 - accuracy: 0.7895 - val_loss: 0.8442 - val_accuracy: 0.7111\n",
      "Epoch 33/100\n",
      "1563/1563 [==============================] - 18s 11ms/step - loss: 0.5715 - accuracy: 0.7959 - val_loss: 0.8375 - val_accuracy: 0.7186\n",
      "Epoch 34/100\n",
      "1563/1563 [==============================] - 18s 11ms/step - loss: 0.5695 - accuracy: 0.7948 - val_loss: 0.8556 - val_accuracy: 0.7142\n",
      "Epoch 35/100\n",
      "1563/1563 [==============================] - 17s 11ms/step - loss: 0.5649 - accuracy: 0.7972 - val_loss: 0.8417 - val_accuracy: 0.7198\n",
      "Epoch 36/100\n",
      "1563/1563 [==============================] - 18s 11ms/step - loss: 0.5535 - accuracy: 0.8016 - val_loss: 0.8359 - val_accuracy: 0.7238\n",
      "Epoch 37/100\n",
      "1563/1563 [==============================] - 17s 11ms/step - loss: 0.5540 - accuracy: 0.8014 - val_loss: 0.8433 - val_accuracy: 0.7153\n",
      "Epoch 38/100\n",
      "1563/1563 [==============================] - 17s 11ms/step - loss: 0.5485 - accuracy: 0.8042 - val_loss: 0.8516 - val_accuracy: 0.7190\n",
      "Epoch 39/100\n",
      "1563/1563 [==============================] - 17s 11ms/step - loss: 0.5479 - accuracy: 0.8032 - val_loss: 0.8391 - val_accuracy: 0.7235\n",
      "Epoch 40/100\n",
      "1563/1563 [==============================] - 17s 11ms/step - loss: 0.5420 - accuracy: 0.8066 - val_loss: 0.8319 - val_accuracy: 0.7270\n",
      "Epoch 41/100\n",
      "1563/1563 [==============================] - 18s 11ms/step - loss: 0.5367 - accuracy: 0.8085 - val_loss: 0.8551 - val_accuracy: 0.7211\n",
      "Epoch 42/100\n",
      "1563/1563 [==============================] - 17s 11ms/step - loss: 0.5331 - accuracy: 0.8069 - val_loss: 0.8481 - val_accuracy: 0.7222\n",
      "Epoch 43/100\n",
      "1563/1563 [==============================] - 17s 11ms/step - loss: 0.5299 - accuracy: 0.8093 - val_loss: 0.8597 - val_accuracy: 0.7221\n",
      "Epoch 44/100\n",
      "1563/1563 [==============================] - 17s 11ms/step - loss: 0.5265 - accuracy: 0.8123 - val_loss: 0.8921 - val_accuracy: 0.7099\n",
      "Epoch 45/100\n",
      "1563/1563 [==============================] - 18s 11ms/step - loss: 0.5152 - accuracy: 0.8156 - val_loss: 0.8854 - val_accuracy: 0.7125\n",
      "Epoch 46/100\n",
      "1563/1563 [==============================] - 18s 11ms/step - loss: 0.5203 - accuracy: 0.8140 - val_loss: 0.8808 - val_accuracy: 0.7237\n",
      "Epoch 47/100\n",
      "1563/1563 [==============================] - 18s 11ms/step - loss: 0.5139 - accuracy: 0.8154 - val_loss: 0.8676 - val_accuracy: 0.7198\n",
      "Epoch 48/100\n",
      "1563/1563 [==============================] - 17s 11ms/step - loss: 0.5121 - accuracy: 0.8157 - val_loss: 0.8719 - val_accuracy: 0.7159\n",
      "Epoch 49/100\n",
      "1563/1563 [==============================] - 17s 11ms/step - loss: 0.5021 - accuracy: 0.8205 - val_loss: 0.8857 - val_accuracy: 0.7161\n",
      "Epoch 50/100\n",
      "1563/1563 [==============================] - 18s 11ms/step - loss: 0.5071 - accuracy: 0.8181 - val_loss: 0.8889 - val_accuracy: 0.7164\n",
      "Epoch 51/100\n",
      "1563/1563 [==============================] - 17s 11ms/step - loss: 0.4998 - accuracy: 0.8213 - val_loss: 0.8958 - val_accuracy: 0.7126\n",
      "Epoch 52/100\n",
      "1563/1563 [==============================] - 17s 11ms/step - loss: 0.4970 - accuracy: 0.8222 - val_loss: 0.9069 - val_accuracy: 0.7063\n",
      "Epoch 53/100\n",
      "1563/1563 [==============================] - 17s 11ms/step - loss: 0.4899 - accuracy: 0.8239 - val_loss: 0.8927 - val_accuracy: 0.7195\n",
      "Epoch 54/100\n",
      "1563/1563 [==============================] - 18s 12ms/step - loss: 0.4903 - accuracy: 0.8238 - val_loss: 0.8593 - val_accuracy: 0.7225\n",
      "Epoch 55/100\n",
      "1563/1563 [==============================] - 18s 12ms/step - loss: 0.4866 - accuracy: 0.8263 - val_loss: 0.8620 - val_accuracy: 0.7193\n",
      "Epoch 56/100\n",
      "1563/1563 [==============================] - 17s 11ms/step - loss: 0.4808 - accuracy: 0.8267 - val_loss: 0.8964 - val_accuracy: 0.7154\n",
      "Epoch 57/100\n",
      "1563/1563 [==============================] - 18s 12ms/step - loss: 0.4804 - accuracy: 0.8263 - val_loss: 0.8677 - val_accuracy: 0.7240\n",
      "Epoch 58/100\n",
      "1563/1563 [==============================] - 18s 12ms/step - loss: 0.4682 - accuracy: 0.8309 - val_loss: 0.8790 - val_accuracy: 0.7233\n",
      "Epoch 59/100\n",
      "1563/1563 [==============================] - 17s 11ms/step - loss: 0.4778 - accuracy: 0.8281 - val_loss: 0.8750 - val_accuracy: 0.7163\n",
      "Epoch 60/100\n",
      "1563/1563 [==============================] - 17s 11ms/step - loss: 0.4759 - accuracy: 0.8278 - val_loss: 0.8936 - val_accuracy: 0.7208\n",
      "Epoch 61/100\n",
      "1563/1563 [==============================] - 17s 11ms/step - loss: 0.4713 - accuracy: 0.8308 - val_loss: 0.8591 - val_accuracy: 0.7200\n",
      "Epoch 62/100\n",
      "1563/1563 [==============================] - 18s 11ms/step - loss: 0.4643 - accuracy: 0.8332 - val_loss: 0.8900 - val_accuracy: 0.7153\n",
      "Epoch 63/100\n",
      "1563/1563 [==============================] - 18s 11ms/step - loss: 0.4647 - accuracy: 0.8339 - val_loss: 0.8951 - val_accuracy: 0.7182\n",
      "Epoch 64/100\n",
      "1563/1563 [==============================] - 17s 11ms/step - loss: 0.4588 - accuracy: 0.8347 - val_loss: 0.8904 - val_accuracy: 0.7226\n",
      "Epoch 65/100\n",
      "1563/1563 [==============================] - 18s 12ms/step - loss: 0.4620 - accuracy: 0.8344 - val_loss: 0.9032 - val_accuracy: 0.7173\n",
      "Epoch 66/100\n",
      "1563/1563 [==============================] - 19s 12ms/step - loss: 0.4561 - accuracy: 0.8377 - val_loss: 0.8884 - val_accuracy: 0.7228\n",
      "Epoch 67/100\n",
      "1563/1563 [==============================] - 19s 12ms/step - loss: 0.4531 - accuracy: 0.8373 - val_loss: 0.8917 - val_accuracy: 0.7180\n",
      "Epoch 68/100\n",
      "1563/1563 [==============================] - 19s 12ms/step - loss: 0.4518 - accuracy: 0.8378 - val_loss: 0.9074 - val_accuracy: 0.7089\n",
      "Epoch 69/100\n",
      "1563/1563 [==============================] - 18s 12ms/step - loss: 0.4506 - accuracy: 0.8371 - val_loss: 0.9041 - val_accuracy: 0.7154\n",
      "Epoch 70/100\n",
      "1563/1563 [==============================] - 18s 11ms/step - loss: 0.4466 - accuracy: 0.8404 - val_loss: 0.9299 - val_accuracy: 0.7104\n",
      "Epoch 71/100\n",
      "1563/1563 [==============================] - 18s 12ms/step - loss: 0.4401 - accuracy: 0.8415 - val_loss: 0.9419 - val_accuracy: 0.7157\n",
      "Epoch 72/100\n",
      "1563/1563 [==============================] - 18s 11ms/step - loss: 0.4413 - accuracy: 0.8410 - val_loss: 0.9071 - val_accuracy: 0.7263\n",
      "Epoch 73/100\n",
      "1563/1563 [==============================] - 18s 11ms/step - loss: 0.4382 - accuracy: 0.8415 - val_loss: 0.9351 - val_accuracy: 0.7157\n",
      "Epoch 74/100\n",
      "1563/1563 [==============================] - 18s 11ms/step - loss: 0.4390 - accuracy: 0.8426 - val_loss: 0.9327 - val_accuracy: 0.7184\n",
      "Epoch 75/100\n",
      "1563/1563 [==============================] - 18s 11ms/step - loss: 0.4321 - accuracy: 0.8428 - val_loss: 0.9625 - val_accuracy: 0.7055\n",
      "Epoch 76/100\n",
      "1563/1563 [==============================] - 18s 11ms/step - loss: 0.4316 - accuracy: 0.8450 - val_loss: 0.9252 - val_accuracy: 0.7212\n",
      "Epoch 77/100\n",
      "1563/1563 [==============================] - 17s 11ms/step - loss: 0.4247 - accuracy: 0.8468 - val_loss: 0.9447 - val_accuracy: 0.7107\n",
      "Epoch 78/100\n",
      "1563/1563 [==============================] - 17s 11ms/step - loss: 0.4285 - accuracy: 0.8480 - val_loss: 0.9680 - val_accuracy: 0.7049\n",
      "Epoch 79/100\n",
      "1563/1563 [==============================] - 17s 11ms/step - loss: 0.4214 - accuracy: 0.8491 - val_loss: 0.9388 - val_accuracy: 0.7208\n",
      "Epoch 80/100\n",
      "1563/1563 [==============================] - 17s 11ms/step - loss: 0.4277 - accuracy: 0.8465 - val_loss: 0.9489 - val_accuracy: 0.7157\n",
      "Epoch 81/100\n",
      "1563/1563 [==============================] - 17s 11ms/step - loss: 0.4253 - accuracy: 0.8461 - val_loss: 0.9381 - val_accuracy: 0.7165\n",
      "Epoch 82/100\n",
      "1563/1563 [==============================] - 17s 11ms/step - loss: 0.4193 - accuracy: 0.8500 - val_loss: 0.9425 - val_accuracy: 0.7115\n",
      "Epoch 83/100\n",
      "1563/1563 [==============================] - 17s 11ms/step - loss: 0.4219 - accuracy: 0.8486 - val_loss: 0.9809 - val_accuracy: 0.7102\n",
      "Epoch 84/100\n",
      "1563/1563 [==============================] - 17s 11ms/step - loss: 0.4166 - accuracy: 0.8510 - val_loss: 0.9479 - val_accuracy: 0.7178\n",
      "Epoch 85/100\n",
      "1563/1563 [==============================] - 17s 11ms/step - loss: 0.4200 - accuracy: 0.8493 - val_loss: 0.9582 - val_accuracy: 0.7147\n",
      "Epoch 86/100\n",
      "1563/1563 [==============================] - 17s 11ms/step - loss: 0.4106 - accuracy: 0.8526 - val_loss: 0.9497 - val_accuracy: 0.7254\n",
      "Epoch 87/100\n",
      "1563/1563 [==============================] - 17s 11ms/step - loss: 0.4048 - accuracy: 0.8542 - val_loss: 0.9855 - val_accuracy: 0.7162\n",
      "Epoch 88/100\n",
      "1563/1563 [==============================] - 17s 11ms/step - loss: 0.4134 - accuracy: 0.8524 - val_loss: 1.0033 - val_accuracy: 0.7070\n",
      "Epoch 89/100\n",
      "1563/1563 [==============================] - 17s 11ms/step - loss: 0.4076 - accuracy: 0.8532 - val_loss: 0.9567 - val_accuracy: 0.7145\n",
      "Epoch 90/100\n",
      "1563/1563 [==============================] - 17s 11ms/step - loss: 0.4082 - accuracy: 0.8526 - val_loss: 0.9722 - val_accuracy: 0.7193\n",
      "Epoch 91/100\n",
      "1563/1563 [==============================] - 17s 11ms/step - loss: 0.4068 - accuracy: 0.8548 - val_loss: 0.9630 - val_accuracy: 0.7173\n",
      "Epoch 92/100\n",
      "1563/1563 [==============================] - 17s 11ms/step - loss: 0.4073 - accuracy: 0.8530 - val_loss: 0.9503 - val_accuracy: 0.7183\n",
      "Epoch 93/100\n",
      "1563/1563 [==============================] - 17s 11ms/step - loss: 0.4048 - accuracy: 0.8554 - val_loss: 0.9575 - val_accuracy: 0.7188\n",
      "Epoch 94/100\n",
      "1563/1563 [==============================] - 17s 11ms/step - loss: 0.4028 - accuracy: 0.8541 - val_loss: 0.9669 - val_accuracy: 0.7163\n",
      "Epoch 95/100\n",
      "1563/1563 [==============================] - 17s 11ms/step - loss: 0.4019 - accuracy: 0.8567 - val_loss: 0.9978 - val_accuracy: 0.7116\n",
      "Epoch 96/100\n",
      "1563/1563 [==============================] - 17s 11ms/step - loss: 0.4053 - accuracy: 0.8538 - val_loss: 1.0030 - val_accuracy: 0.7091\n",
      "Epoch 97/100\n",
      "1563/1563 [==============================] - 17s 11ms/step - loss: 0.4030 - accuracy: 0.8567 - val_loss: 0.9776 - val_accuracy: 0.7108\n",
      "Epoch 98/100\n",
      "1563/1563 [==============================] - 17s 11ms/step - loss: 0.4005 - accuracy: 0.8554 - val_loss: 0.9636 - val_accuracy: 0.7192\n",
      "Epoch 99/100\n",
      "1563/1563 [==============================] - 17s 11ms/step - loss: 0.3919 - accuracy: 0.8596 - val_loss: 1.0068 - val_accuracy: 0.7124\n",
      "Epoch 100/100\n",
      "1563/1563 [==============================] - 17s 11ms/step - loss: 0.3954 - accuracy: 0.8574 - val_loss: 1.0092 - val_accuracy: 0.7178\n"
     ]
    },
    {
     "data": {
      "text/plain": [
       "<keras.callbacks.History at 0x2f2c52040>"
      ]
     },
     "execution_count": 16,
     "metadata": {},
     "output_type": "execute_result"
    }
   ],
   "source": [
    "# compile the model\n",
    "batch_size = 32\n",
    "epochs = 100\n",
    "model.compile(optimizer='adam', loss='categorical_crossentropy', metrics=['accuracy'])\n",
    "model.fit(train_images, train_labels, batch_size=batch_size, epochs=epochs, validation_data=(test_images, test_labels))\n"
   ]
  },
  {
   "cell_type": "code",
   "execution_count": 13,
   "metadata": {},
   "outputs": [
    {
     "name": "stdout",
     "output_type": "stream",
     "text": [
      "313/313 [==============================] - 2s 7ms/step - loss: 0.9398 - accuracy: 0.7330\n",
      "Test accuracy: 0.7330000400543213\n"
     ]
    }
   ],
   "source": [
    "# evaluate the model\n",
    "test_loss, test_acc = model.evaluate(test_images, test_labels)\n",
    "print('Test accuracy:', test_acc)\n"
   ]
  },
  {
   "cell_type": "code",
   "execution_count": null,
   "metadata": {},
   "outputs": [],
   "source": []
  }
 ],
 "metadata": {
  "kernelspec": {
   "display_name": "Python 3",
   "language": "python",
   "name": "python3"
  },
  "language_info": {
   "codemirror_mode": {
    "name": "ipython",
    "version": 3
   },
   "file_extension": ".py",
   "mimetype": "text/x-python",
   "name": "python",
   "nbconvert_exporter": "python",
   "pygments_lexer": "ipython3",
   "version": "3.9.7"
  }
 },
 "nbformat": 4,
 "nbformat_minor": 4
}
