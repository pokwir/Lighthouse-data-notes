{
 "cells": [
  {
   "cell_type": "markdown",
   "metadata": {},
   "source": [
    "## Deep Learning Challenge"
   ]
  },
  {
   "cell_type": "markdown",
   "metadata": {},
   "source": [
    "### Loading the CIFAR10 data\n",
    "The data can be loaded directly from keras (`keras.datasets.cifar10`).\n",
    "\n",
    "```python\n",
    "cifar10 = keras.datasets.cifar10\n",
    "(train_images, train_labels), (test_images, test_labels) = cifar10.load_data()\n",
    "```"
   ]
  },
  {
   "cell_type": "code",
   "execution_count": 1,
   "metadata": {},
   "outputs": [],
   "source": [
    "from tensorflow.keras.datasets import cifar10\n",
    "from tensorflow.keras import models\n",
    "from tensorflow.keras import layers\n",
    "from tensorflow import keras\n",
    "from tensorflow.keras.utils import to_categorical\n",
    "import numpy as np"
   ]
  },
  {
   "cell_type": "code",
   "execution_count": 2,
   "metadata": {},
   "outputs": [],
   "source": [
    "cifar10 = keras.datasets.cifar10\n",
    "(train_images, train_labels), (test_images, test_labels) = cifar10.load_data()"
   ]
  },
  {
   "cell_type": "code",
   "execution_count": 3,
   "metadata": {},
   "outputs": [
    {
     "name": "stdout",
     "output_type": "stream",
     "text": [
      "(50000, 32, 32, 3)\n",
      "(50000, 1)\n"
     ]
    }
   ],
   "source": [
    "# check the shape of the data\n",
    "print(train_images.shape)\n",
    "print(train_labels.shape)"
   ]
  },
  {
   "cell_type": "code",
   "execution_count": 4,
   "metadata": {},
   "outputs": [
    {
     "data": {
      "image/png": "[encoded data removed]",
      "text/plain": [
       "<Figure size 432x288 with 1 Axes>"
      ]
     },
     "metadata": {
      "needs_background": "light"
     },
     "output_type": "display_data"
    }
   ],
   "source": [
    "# print the first image in the training set\n",
    "\n",
    "import matplotlib.pyplot as plt\n",
    "import matplotlib.image as mpimg\n",
    "imgplot = plt.imshow(test_images[200])\n",
    "plt.show()"
   ]
  },
  {
   "cell_type": "code",
   "execution_count": 5,
   "metadata": {},
   "outputs": [
    {
     "name": "stdout",
     "output_type": "stream",
     "text": [
      "[[6]\n",
      " [9]\n",
      " [9]\n",
      " [4]\n",
      " [1]\n",
      " [1]\n",
      " [2]\n",
      " [7]\n",
      " [8]\n",
      " [3]] [[3]\n",
      " [8]\n",
      " [8]\n",
      " [0]\n",
      " [6]\n",
      " [6]\n",
      " [1]\n",
      " [6]\n",
      " [3]\n",
      " [1]]\n"
     ]
    }
   ],
   "source": [
    "# explore the labels\n",
    "print(train_labels[0:10],test_labels[0:10]) # [9 0 0 3 0 2 7 2 5 5]"
   ]
  },
  {
   "cell_type": "code",
   "execution_count": 6,
   "metadata": {},
   "outputs": [
    {
     "name": "stdout",
     "output_type": "stream",
     "text": [
      "Number of classes:  10\n"
     ]
    }
   ],
   "source": [
    "# get the number of classes and print the class names\n",
    "num_classes = len(np.unique(train_labels))\n",
    "print(\"Number of classes: \", num_classes)\n"
   ]
  },
  {
   "cell_type": "code",
   "execution_count": 7,
   "metadata": {},
   "outputs": [
    {
     "name": "stdout",
     "output_type": "stream",
     "text": [
      "{0: 'airplane', 1: 'automobile', 2: 'bird', 3: 'cat', 4: 'deer', 5: 'dog', 6: 'frog', 7: 'horse', 8: 'ship', 9: 'truck'}\n"
     ]
    }
   ],
   "source": [
    "# get class names\n",
    "class_names = ['airplane','automobile','bird','cat','deer', 'dog','frog','horse','ship','truck']\n",
    "# create a dict to map class names to class ids\n",
    "class_dict = {i:class_name for i,class_name in enumerate(class_names)}\n",
    "print(class_dict)"
   ]
  },
  {
   "cell_type": "markdown",
   "metadata": {},
   "source": [
    "#### Task: Build a convulution neural network (CNN) to predict the object in the images. \n",
    "\n",
    "Try to do it on your own first before consulting with peers or tutorials on the internet. If you are stuck early, reach out to a mentor who will point you in the right direction."
   ]
  },
  {
   "cell_type": "code",
   "execution_count": 8,
   "metadata": {},
   "outputs": [],
   "source": [
    "from tensorflow.keras.models import Sequential        # Helper to build a network from a sequence of layers\n",
    "from tensorflow.keras.layers import Dense             # Fully-connected layer\n",
    "from tensorflow.keras.callbacks import EarlyStopping  # To stop training early if val loss stops decreasing"
   ]
  },
  {
   "cell_type": "code",
   "execution_count": 9,
   "metadata": {},
   "outputs": [
    {
     "name": "stdout",
     "output_type": "stream",
     "text": [
      "(50000, 32, 32, 3)\n",
      "(50000, 1)\n"
     ]
    }
   ],
   "source": [
    "# scale the images to be between 0 and 1\n",
    "train_images = train_images.astype('float32') / 255\n",
    "test_images = test_images.astype('float32') / 255\n",
    "\n",
    "# check the shape of the data\n",
    "print(train_images.shape)\n",
    "print(train_labels.shape)"
   ]
  },
  {
   "cell_type": "code",
   "execution_count": 10,
   "metadata": {},
   "outputs": [],
   "source": [
    "# convert the class vectors to binary class matrices\n",
    "train_labels = keras.utils.to_categorical(train_labels, num_classes)\n",
    "test_labels = keras.utils.to_categorical(test_labels, num_classes)\n"
   ]
  },
  {
   "cell_type": "code",
   "execution_count": 11,
   "metadata": {},
   "outputs": [
    {
     "name": "stdout",
     "output_type": "stream",
     "text": [
      "Metal device set to: Apple M1 Pro\n",
      "\n",
      "systemMemory: 16.00 GB\n",
      "maxCacheSize: 5.33 GB\n",
      "\n",
      "Model: \"sequential\"\n",
      "_________________________________________________________________\n",
      " Layer (type)                Output Shape              Param #   \n",
      "=================================================================\n",
      " conv2d (Conv2D)             (None, 30, 30, 32)        896       \n",
      "                                                                 \n",
      " max_pooling2d (MaxPooling2D  (None, 15, 15, 32)       0         \n",
      " )                                                               \n",
      "                                                                 \n",
      " conv2d_1 (Conv2D)           (None, 13, 13, 64)        18496     \n",
      "                                                                 \n",
      " max_pooling2d_1 (MaxPooling  (None, 6, 6, 64)         0         \n",
      " 2D)                                                             \n",
      "                                                                 \n",
      " conv2d_2 (Conv2D)           (None, 4, 4, 96)          55392     \n",
      "                                                                 \n",
      " max_pooling2d_2 (MaxPooling  (None, 2, 2, 96)         0         \n",
      " 2D)                                                             \n",
      "                                                                 \n",
      " flatten (Flatten)           (None, 384)               0         \n",
      "                                                                 \n",
      " dropout (Dropout)           (None, 384)               0         \n",
      "                                                                 \n",
      " dense (Dense)               (None, 10)                3850      \n",
      "                                                                 \n",
      "=================================================================\n",
      "Total params: 78,634\n",
      "Trainable params: 78,634\n",
      "Non-trainable params: 0\n",
      "_________________________________________________________________\n"
     ]
    }
   ],
   "source": [
    "# build the model\n",
    "model = models.Sequential()\n",
    "model.add(layers.Conv2D(32, (3, 3), activation='relu', input_shape=(32, 32, 3))) # 32 filters, each 3x3\n",
    "model.add(layers.MaxPooling2D((2, 2))) # 2x2 max pooling\n",
    "model.add(layers.Conv2D(64, (3, 3), activation='relu')) # 64 filters, each 3x3\n",
    "model.add(layers.MaxPooling2D((2, 2))) # 2x2 max pooling\n",
    "model.add(layers.Conv2D(96, (3, 3), activation='relu')) # 96 filters, each 3x3\n",
    "model.add(layers.MaxPooling2D((2, 2))) # 2x2 max pooling\n",
    "model.add(layers.Flatten()) # flatten to 1D\n",
    "model.add(layers.Dropout(0.2)) # dropout 50% of the units\n",
    "model.add(layers.Dense(10, activation='softmax')) # 10-way softmax classification\n",
    "model.summary()\n",
    "\n"
   ]
  },
  {
   "cell_type": "code",
   "execution_count": 12,
   "metadata": {},
   "outputs": [
    {
     "name": "stdout",
     "output_type": "stream",
     "text": [
      "Epoch 1/50\n"
     ]
    },
    {
     "name": "stderr",
     "output_type": "stream",
     "text": [
      "2023-05-28 15:49:20.819497: W tensorflow/tsl/platform/profile_utils/cpu_utils.cc:128] Failed to get CPU frequency: 0 Hz\n"
     ]
    },
    {
     "name": "stdout",
     "output_type": "stream",
     "text": [
      "521/521 [==============================] - 8s 14ms/step - loss: 1.6747 - accuracy: 0.3881 - val_loss: 1.3967 - val_accuracy: 0.4999\n",
      "Epoch 2/50\n",
      "521/521 [==============================] - 7s 13ms/step - loss: 1.3362 - accuracy: 0.5254 - val_loss: 1.2428 - val_accuracy: 0.5630\n",
      "Epoch 3/50\n",
      "521/521 [==============================] - 7s 13ms/step - loss: 1.2003 - accuracy: 0.5775 - val_loss: 1.1175 - val_accuracy: 0.6108\n",
      "Epoch 4/50\n",
      "521/521 [==============================] - 7s 13ms/step - loss: 1.1041 - accuracy: 0.6131 - val_loss: 1.0630 - val_accuracy: 0.6242\n",
      "Epoch 5/50\n",
      "521/521 [==============================] - 6s 12ms/step - loss: 1.0427 - accuracy: 0.6353 - val_loss: 1.0098 - val_accuracy: 0.6484\n",
      "Epoch 6/50\n",
      "521/521 [==============================] - 6s 12ms/step - loss: 0.9824 - accuracy: 0.6581 - val_loss: 0.9819 - val_accuracy: 0.6561\n",
      "Epoch 7/50\n",
      "521/521 [==============================] - 7s 13ms/step - loss: 0.9388 - accuracy: 0.6750 - val_loss: 0.9673 - val_accuracy: 0.6672\n",
      "Epoch 8/50\n",
      "521/521 [==============================] - 6s 12ms/step - loss: 0.8931 - accuracy: 0.6890 - val_loss: 0.9074 - val_accuracy: 0.6862\n",
      "Epoch 9/50\n",
      "521/521 [==============================] - 6s 12ms/step - loss: 0.8574 - accuracy: 0.7013 - val_loss: 0.8835 - val_accuracy: 0.6953\n",
      "Epoch 10/50\n",
      "521/521 [==============================] - 7s 13ms/step - loss: 0.8279 - accuracy: 0.7112 - val_loss: 0.8670 - val_accuracy: 0.7016\n",
      "Epoch 11/50\n",
      "521/521 [==============================] - 6s 12ms/step - loss: 0.7965 - accuracy: 0.7235 - val_loss: 0.8461 - val_accuracy: 0.7082\n",
      "Epoch 12/50\n",
      "521/521 [==============================] - 7s 13ms/step - loss: 0.7718 - accuracy: 0.7298 - val_loss: 0.8701 - val_accuracy: 0.6980\n",
      "Epoch 13/50\n",
      "521/521 [==============================] - 7s 13ms/step - loss: 0.7501 - accuracy: 0.7403 - val_loss: 0.8070 - val_accuracy: 0.7207\n",
      "Epoch 14/50\n",
      "521/521 [==============================] - 7s 13ms/step - loss: 0.7233 - accuracy: 0.7481 - val_loss: 0.8090 - val_accuracy: 0.7219\n",
      "Epoch 15/50\n",
      "521/521 [==============================] - 7s 12ms/step - loss: 0.7025 - accuracy: 0.7531 - val_loss: 0.8044 - val_accuracy: 0.7237\n",
      "Epoch 16/50\n",
      "521/521 [==============================] - 7s 13ms/step - loss: 0.6836 - accuracy: 0.7623 - val_loss: 0.8056 - val_accuracy: 0.7200\n",
      "Epoch 17/50\n",
      "521/521 [==============================] - 6s 12ms/step - loss: 0.6657 - accuracy: 0.7692 - val_loss: 0.7862 - val_accuracy: 0.7298\n",
      "Epoch 18/50\n",
      "521/521 [==============================] - 6s 12ms/step - loss: 0.6470 - accuracy: 0.7722 - val_loss: 0.7983 - val_accuracy: 0.7311\n",
      "Epoch 19/50\n",
      "521/521 [==============================] - 7s 13ms/step - loss: 0.6323 - accuracy: 0.7790 - val_loss: 0.8067 - val_accuracy: 0.7239\n",
      "Epoch 20/50\n",
      "521/521 [==============================] - 7s 13ms/step - loss: 0.6137 - accuracy: 0.7832 - val_loss: 0.7720 - val_accuracy: 0.7367\n",
      "Epoch 21/50\n",
      "521/521 [==============================] - 7s 13ms/step - loss: 0.6024 - accuracy: 0.7891 - val_loss: 0.7729 - val_accuracy: 0.7359\n",
      "Epoch 22/50\n",
      "521/521 [==============================] - 6s 12ms/step - loss: 0.5884 - accuracy: 0.7924 - val_loss: 0.7772 - val_accuracy: 0.7406\n",
      "Epoch 23/50\n",
      "521/521 [==============================] - 7s 13ms/step - loss: 0.5684 - accuracy: 0.7990 - val_loss: 0.8043 - val_accuracy: 0.7285\n",
      "Epoch 24/50\n",
      "521/521 [==============================] - 6s 12ms/step - loss: 0.5599 - accuracy: 0.8039 - val_loss: 0.8282 - val_accuracy: 0.7253\n",
      "Epoch 25/50\n",
      "521/521 [==============================] - 7s 13ms/step - loss: 0.5524 - accuracy: 0.8060 - val_loss: 0.7868 - val_accuracy: 0.7342\n",
      "Epoch 26/50\n",
      "521/521 [==============================] - 7s 13ms/step - loss: 0.5385 - accuracy: 0.8104 - val_loss: 0.7914 - val_accuracy: 0.7392\n",
      "Epoch 27/50\n",
      "521/521 [==============================] - 6s 12ms/step - loss: 0.5222 - accuracy: 0.8158 - val_loss: 0.7898 - val_accuracy: 0.7409\n",
      "Epoch 28/50\n",
      "521/521 [==============================] - 7s 13ms/step - loss: 0.5127 - accuracy: 0.8175 - val_loss: 0.8068 - val_accuracy: 0.7367\n",
      "Epoch 29/50\n",
      "521/521 [==============================] - 7s 13ms/step - loss: 0.4969 - accuracy: 0.8261 - val_loss: 0.8040 - val_accuracy: 0.7385\n",
      "Epoch 30/50\n",
      "521/521 [==============================] - 7s 12ms/step - loss: 0.4951 - accuracy: 0.8230 - val_loss: 0.8152 - val_accuracy: 0.7364\n",
      "Epoch 31/50\n",
      "521/521 [==============================] - 7s 13ms/step - loss: 0.4854 - accuracy: 0.8271 - val_loss: 0.8153 - val_accuracy: 0.7427\n",
      "Epoch 32/50\n",
      "521/521 [==============================] - 7s 13ms/step - loss: 0.4792 - accuracy: 0.8315 - val_loss: 0.8201 - val_accuracy: 0.7371\n",
      "Epoch 33/50\n",
      "521/521 [==============================] - 7s 13ms/step - loss: 0.4688 - accuracy: 0.8320 - val_loss: 0.8378 - val_accuracy: 0.7301\n",
      "Epoch 34/50\n",
      "521/521 [==============================] - 7s 13ms/step - loss: 0.4573 - accuracy: 0.8368 - val_loss: 0.8300 - val_accuracy: 0.7361\n",
      "Epoch 35/50\n",
      "521/521 [==============================] - 6s 12ms/step - loss: 0.4485 - accuracy: 0.8401 - val_loss: 0.8496 - val_accuracy: 0.7375\n",
      "Epoch 36/50\n",
      "521/521 [==============================] - 6s 12ms/step - loss: 0.4384 - accuracy: 0.8431 - val_loss: 0.8499 - val_accuracy: 0.7363\n",
      "Epoch 37/50\n",
      "521/521 [==============================] - 7s 13ms/step - loss: 0.4326 - accuracy: 0.8465 - val_loss: 0.8539 - val_accuracy: 0.7347\n",
      "Epoch 38/50\n",
      "521/521 [==============================] - 7s 13ms/step - loss: 0.4185 - accuracy: 0.8499 - val_loss: 0.8684 - val_accuracy: 0.7345\n",
      "Epoch 39/50\n",
      "521/521 [==============================] - 7s 13ms/step - loss: 0.4181 - accuracy: 0.8507 - val_loss: 0.8849 - val_accuracy: 0.7273\n",
      "Epoch 40/50\n",
      "521/521 [==============================] - 7s 13ms/step - loss: 0.4129 - accuracy: 0.8518 - val_loss: 0.8649 - val_accuracy: 0.7336\n",
      "Epoch 41/50\n",
      "521/521 [==============================] - 7s 13ms/step - loss: 0.4027 - accuracy: 0.8562 - val_loss: 0.8617 - val_accuracy: 0.7365\n",
      "Epoch 42/50\n",
      "521/521 [==============================] - 6s 12ms/step - loss: 0.3982 - accuracy: 0.8567 - val_loss: 0.8969 - val_accuracy: 0.7369\n",
      "Epoch 43/50\n",
      "521/521 [==============================] - 7s 13ms/step - loss: 0.3892 - accuracy: 0.8601 - val_loss: 0.9074 - val_accuracy: 0.7304\n",
      "Epoch 44/50\n",
      "521/521 [==============================] - 7s 13ms/step - loss: 0.3856 - accuracy: 0.8617 - val_loss: 0.8881 - val_accuracy: 0.7382\n",
      "Epoch 45/50\n",
      "521/521 [==============================] - 6s 12ms/step - loss: 0.3741 - accuracy: 0.8664 - val_loss: 0.9085 - val_accuracy: 0.7329\n",
      "Epoch 46/50\n",
      "521/521 [==============================] - 7s 13ms/step - loss: 0.3733 - accuracy: 0.8650 - val_loss: 0.9126 - val_accuracy: 0.7303\n",
      "Epoch 47/50\n",
      "521/521 [==============================] - 7s 13ms/step - loss: 0.3685 - accuracy: 0.8668 - val_loss: 0.8980 - val_accuracy: 0.7383\n",
      "Epoch 48/50\n",
      "521/521 [==============================] - 7s 12ms/step - loss: 0.3622 - accuracy: 0.8681 - val_loss: 0.9179 - val_accuracy: 0.7332\n",
      "Epoch 49/50\n",
      "521/521 [==============================] - 7s 13ms/step - loss: 0.3641 - accuracy: 0.8684 - val_loss: 0.9522 - val_accuracy: 0.7300\n",
      "Epoch 50/50\n",
      "521/521 [==============================] - 7s 13ms/step - loss: 0.3536 - accuracy: 0.8718 - val_loss: 0.9398 - val_accuracy: 0.7330\n"
     ]
    },
    {
     "data": {
      "text/plain": [
       "<keras.callbacks.History at 0x2e7ea9d60>"
      ]
     },
     "execution_count": 12,
     "metadata": {},
     "output_type": "execute_result"
    }
   ],
   "source": [
    "# compile the model\n",
    "batch_size = 96\n",
    "epochs = 50\n",
    "model.compile(optimizer='adam', loss='categorical_crossentropy', metrics=['accuracy'])\n",
    "model.fit(train_images, train_labels, batch_size=batch_size, epochs=epochs, validation_data=(test_images, test_labels))\n"
   ]
  },
  {
   "cell_type": "code",
   "execution_count": 13,
   "metadata": {},
   "outputs": [
    {
     "name": "stdout",
     "output_type": "stream",
     "text": [
      "313/313 [==============================] - 2s 7ms/step - loss: 0.9398 - accuracy: 0.7330\n",
      "Test accuracy: 0.7330000400543213\n"
     ]
    }
   ],
   "source": [
    "# evaluate the model\n",
    "test_loss, test_acc = model.evaluate(test_images, test_labels)\n",
    "print('Test accuracy:', test_acc)\n"
   ]
  },
  {
   "cell_type": "code",
   "execution_count": null,
   "metadata": {},
   "outputs": [],
   "source": []
  }
 ],
 "metadata": {
  "kernelspec": {
   "display_name": "Python 3",
   "language": "python",
   "name": "python3"
  },
  "language_info": {
   "codemirror_mode": {
    "name": "ipython",
    "version": 3
   },
   "file_extension": ".py",
   "mimetype": "text/x-python",
   "name": "python",
   "nbconvert_exporter": "python",
   "pygments_lexer": "ipython3",
   "version": "3.9.7"
  }
 },
 "nbformat": 4,
 "nbformat_minor": 4
}
