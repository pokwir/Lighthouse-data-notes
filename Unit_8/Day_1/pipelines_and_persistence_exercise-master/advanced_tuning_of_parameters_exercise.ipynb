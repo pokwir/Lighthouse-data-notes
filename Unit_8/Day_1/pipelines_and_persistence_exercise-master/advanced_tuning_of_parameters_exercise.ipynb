{
 "cells": [
  {
   "cell_type": "markdown",
   "metadata": {},
   "source": [
    "## Advanced tuning of parameters\n",
    "\n",
    "In this tutorial, we will apply the skills from previous tutorials and build a classifier using the `Pipelines` and `FeatureUnion` functions from sklearn."
   ]
  },
  {
   "cell_type": "code",
   "execution_count": 13,
   "metadata": {
    "ExecuteTime": {
     "end_time": "2020-04-27T12:42:41.683438Z",
     "start_time": "2020-04-27T12:42:40.277500Z"
    }
   },
   "outputs": [],
   "source": [
    "# IMPORT PACKAGES\n",
    "import os.path\n",
    "import pandas as pd\n",
    "import numpy as np"
   ]
  },
  {
   "cell_type": "code",
   "execution_count": 2,
   "metadata": {},
   "outputs": [],
   "source": [
    "from sklearn.preprocessing import StandardScaler, RobustScaler, QuantileTransformer\n",
    "from sklearn.feature_selection import SelectKBest, f_regression\n",
    "from sklearn.decomposition import PCA\n",
    "from sklearn.linear_model import Ridge"
   ]
  },
  {
   "cell_type": "markdown",
   "metadata": {},
   "source": [
    "### Data\n",
    "\n",
    "We will be building a binary classifier that predicts wheter a person has diabetes or not, using information on the patient's health. \n",
    "\n",
    "The data can be found [here](https://drive.google.com/file/d/1TvCKlmH3Z32XAKk-VUcZyYu95Ccyw3PO/view?usp=sharing). \n"
   ]
  },
  {
   "cell_type": "code",
   "execution_count": 45,
   "metadata": {},
   "outputs": [],
   "source": [
    "data = '/Users/patrickokwir/Desktop/Lighthouse-data-notes/Unit_8/Day_1/pipelines_and_persistence_exercise-master/pima-indians-diabetes.csv'"
   ]
  },
  {
   "cell_type": "code",
   "execution_count": 15,
   "metadata": {
    "ExecuteTime": {
     "end_time": "2020-04-27T12:42:42.514840Z",
     "start_time": "2020-04-27T12:42:42.076342Z"
    }
   },
   "outputs": [],
   "source": [
    "col_names = ['preg', 'plas', 'pres', 'skin', 'test', 'mass', 'pedi', 'age', 'class']"
   ]
  },
  {
   "cell_type": "code",
   "execution_count": 46,
   "metadata": {},
   "outputs": [],
   "source": [
    "# Load the data\n",
    "df = pd.read_csv(data, delimiter=';')"
   ]
  },
  {
   "cell_type": "code",
   "execution_count": 47,
   "metadata": {},
   "outputs": [
    {
     "data": {
      "text/html": [
       "<div>\n",
       "<style scoped>\n",
       "    .dataframe tbody tr th:only-of-type {\n",
       "        vertical-align: middle;\n",
       "    }\n",
       "\n",
       "    .dataframe tbody tr th {\n",
       "        vertical-align: top;\n",
       "    }\n",
       "\n",
       "    .dataframe thead th {\n",
       "        text-align: right;\n",
       "    }\n",
       "</style>\n",
       "<table border=\"1\" class=\"dataframe\">\n",
       "  <thead>\n",
       "    <tr style=\"text-align: right;\">\n",
       "      <th></th>\n",
       "      <th>preg</th>\n",
       "      <th>plas</th>\n",
       "      <th>pres</th>\n",
       "      <th>skin</th>\n",
       "      <th>test</th>\n",
       "      <th>mass</th>\n",
       "      <th>pedi</th>\n",
       "      <th>age</th>\n",
       "      <th>class</th>\n",
       "    </tr>\n",
       "  </thead>\n",
       "  <tbody>\n",
       "    <tr>\n",
       "      <th>0</th>\n",
       "      <td>6</td>\n",
       "      <td>148</td>\n",
       "      <td>72</td>\n",
       "      <td>35</td>\n",
       "      <td>0</td>\n",
       "      <td>33.6</td>\n",
       "      <td>0.627</td>\n",
       "      <td>50</td>\n",
       "      <td>1</td>\n",
       "    </tr>\n",
       "    <tr>\n",
       "      <th>1</th>\n",
       "      <td>1</td>\n",
       "      <td>85</td>\n",
       "      <td>66</td>\n",
       "      <td>29</td>\n",
       "      <td>0</td>\n",
       "      <td>26.6</td>\n",
       "      <td>0.351</td>\n",
       "      <td>31</td>\n",
       "      <td>0</td>\n",
       "    </tr>\n",
       "    <tr>\n",
       "      <th>2</th>\n",
       "      <td>8</td>\n",
       "      <td>183</td>\n",
       "      <td>64</td>\n",
       "      <td>0</td>\n",
       "      <td>0</td>\n",
       "      <td>23.3</td>\n",
       "      <td>0.672</td>\n",
       "      <td>32</td>\n",
       "      <td>1</td>\n",
       "    </tr>\n",
       "    <tr>\n",
       "      <th>3</th>\n",
       "      <td>1</td>\n",
       "      <td>89</td>\n",
       "      <td>66</td>\n",
       "      <td>23</td>\n",
       "      <td>94</td>\n",
       "      <td>28.1</td>\n",
       "      <td>0.167</td>\n",
       "      <td>21</td>\n",
       "      <td>0</td>\n",
       "    </tr>\n",
       "    <tr>\n",
       "      <th>4</th>\n",
       "      <td>0</td>\n",
       "      <td>137</td>\n",
       "      <td>40</td>\n",
       "      <td>35</td>\n",
       "      <td>168</td>\n",
       "      <td>43.1</td>\n",
       "      <td>2.288</td>\n",
       "      <td>33</td>\n",
       "      <td>1</td>\n",
       "    </tr>\n",
       "  </tbody>\n",
       "</table>\n",
       "</div>"
      ],
      "text/plain": [
       "   preg  plas  pres  skin  test  mass   pedi  age  class\n",
       "0     6   148    72    35     0  33.6  0.627   50      1\n",
       "1     1    85    66    29     0  26.6  0.351   31      0\n",
       "2     8   183    64     0     0  23.3  0.672   32      1\n",
       "3     1    89    66    23    94  28.1  0.167   21      0\n",
       "4     0   137    40    35   168  43.1  2.288   33      1"
      ]
     },
     "execution_count": 47,
     "metadata": {},
     "output_type": "execute_result"
    }
   ],
   "source": [
    "df.head()"
   ]
  },
  {
   "cell_type": "markdown",
   "metadata": {},
   "source": [
    "### Task\n",
    "\n",
    "Build classifier which predicts the target variable `class` using rest of the attributes. The model should be fitted using pipeline that contains:\n",
    "- PCA method\n",
    "- SelectKBest method\n",
    "- FeatureUnion\n",
    "- Random Forest\n",
    "\n",
    "Choose the best set of parameters using `Pipeline` and grid_search.\n",
    "\n",
    "> #### Note\n",
    "> **In this exercise, we are focusing on the implementation of pipeline. Since we have only 9 columns in our dataset the PCA is probably not the best technique to use during the data preparation from a methodology point of view.**"
   ]
  },
  {
   "cell_type": "code",
   "execution_count": 51,
   "metadata": {},
   "outputs": [],
   "source": [
    "# import pipeline\n",
    "from sklearn.pipeline import Pipeline\n",
    "# import random forest classifier\n",
    "from sklearn.ensemble import RandomForestClassifier\n",
    "# import train test split\n",
    "from sklearn.model_selection import train_test_split\n",
    "# import accuracy score\n",
    "from sklearn.metrics import accuracy_score\n",
    "# import gridsearchcv\n",
    "from sklearn.model_selection import GridSearchCV\n",
    "# import train test split\n",
    "from sklearn.model_selection import train_test_split\n",
    "# import accuracy score\n"
   ]
  },
  {
   "cell_type": "code",
   "execution_count": 53,
   "metadata": {},
   "outputs": [],
   "source": [
    "# split the data into training and test set\n",
    "X_train, X_test, y_train, y_test = train_test_split(df[col_names[:-1]], df['class'], test_size=0.2, random_state=0)"
   ]
  },
  {
   "cell_type": "code",
   "execution_count": 55,
   "metadata": {},
   "outputs": [
    {
     "name": "stdout",
     "output_type": "stream",
     "text": [
      "{'classifier__max_depth': 4, 'classifier__n_estimators': 200, 'selector__k': 6}\n",
      "Pipeline(steps=[('scaler', StandardScaler()),\n",
      "                ('selector',\n",
      "                 SelectKBest(k=6,\n",
      "                             score_func=<function f_regression at 0x14dad4790>)),\n",
      "                ('classifier',\n",
      "                 RandomForestClassifier(max_depth=4, n_estimators=200))])\n",
      "0.7720245235239238\n",
      "0.7922077922077922\n"
     ]
    }
   ],
   "source": [
    "# build pipeline for feature selection, parameter tuning, and model training\n",
    "pipe = Pipeline([\n",
    "    ('scaler', StandardScaler()),\n",
    "    ('selector', SelectKBest(f_regression)),\n",
    "    ('classifier', RandomForestClassifier())\n",
    "])\n",
    "\n",
    "# set parameters for feature selection\n",
    "k = [2, 3, 4, 5, 6, 7, 8]\n",
    "n_estimators = [10, 50, 100, 200, 300, 400, 500]\n",
    "max_depth = [2, 4, 6, 8, 10, 12, 14]\n",
    "cv = 5\n",
    "\n",
    "# create a dictionary of all the parameter options\n",
    "# Note has you can access the parameters of steps of a pipeline by using '__’\n",
    "parameters = dict(selector__k=k,\n",
    "                    classifier__n_estimators=n_estimators,\n",
    "                    classifier__max_depth=max_depth)\n",
    "\n",
    "# conduct parameter tuning using grid search\n",
    "# create a grid search object\n",
    "clf = GridSearchCV(pipe, parameters)\n",
    "\n",
    "# fit the grid search\n",
    "clf.fit(X_train, y_train)\n",
    "\n",
    "# print the best parameters\n",
    "print(clf.best_params_)\n",
    "\n",
    "# print the best estimator\n",
    "print(clf.best_estimator_)\n",
    "\n",
    "# print the best model\n",
    "print(clf.best_score_)\n",
    "\n",
    "# print the accuracy score\n",
    "print(accuracy_score(y_test, clf.predict(X_test)))\n",
    "\n",
    "\n",
    "\n"
   ]
  },
  {
   "cell_type": "code",
   "execution_count": 56,
   "metadata": {},
   "outputs": [],
   "source": [
    "from sklearn.pipeline import Pipeline, FeatureUnion"
   ]
  },
  {
   "cell_type": "code",
   "execution_count": 57,
   "metadata": {},
   "outputs": [
    {
     "name": "stdout",
     "output_type": "stream",
     "text": [
      "{'classifier__max_depth': 4, 'classifier__n_estimators': 50, 'feature_union__kbest__k': 7, 'feature_union__pca__n_components': 4}\n",
      "Pipeline(steps=[('scaler', StandardScaler()),\n",
      "                ('feature_union',\n",
      "                 FeatureUnion(transformer_list=[('pca', PCA(n_components=4)),\n",
      "                                                ('kbest',\n",
      "                                                 SelectKBest(k=7,\n",
      "                                                             score_func=<function f_regression at 0x14dad4790>))])),\n",
      "                ('classifier',\n",
      "                 RandomForestClassifier(max_depth=4, n_estimators=50))])\n",
      "0.7801012928162068\n",
      "0.7792207792207793\n"
     ]
    }
   ],
   "source": [
    "# build pipeline for feature union(k-best and PCA), parameter tuning, and model training\n",
    "pipe = Pipeline([\n",
    "    ('scaler', StandardScaler()),\n",
    "    ('feature_union', FeatureUnion([\n",
    "        ('pca', PCA()),\n",
    "        ('kbest', SelectKBest(f_regression))\n",
    "    ])),\n",
    "    ('classifier', RandomForestClassifier())\n",
    "])\n",
    "\n",
    "# set parameters for feature union\n",
    "k = [2, 3, 4, 5, 6, 7, 8]\n",
    "n_components = [2, 3, 4, 5, 6, 7, 8]\n",
    "n_estimators = [10, 50, 100, 200, 300, 400, 500]\n",
    "max_depth = [2, 4, 6, 8, 10, 12, 14]\n",
    "cv = 5\n",
    "\n",
    "# create a dictionary of all the parameter options\n",
    "# Note has you can access the parameters of steps of a pipeline by using '__’\n",
    "parameters = dict(feature_union__pca__n_components=n_components,\n",
    "                    feature_union__kbest__k=k,\n",
    "                    classifier__n_estimators=n_estimators,\n",
    "                    classifier__max_depth=max_depth)\n",
    "\n",
    "# conduct parameter tuning using grid search\n",
    "# create a grid search object\n",
    "clf = GridSearchCV(pipe, parameters)\n",
    "\n",
    "# fit the grid search\n",
    "clf.fit(X_train, y_train)\n",
    "\n",
    "# print the best parameters\n",
    "print(clf.best_params_)\n",
    "# print the best estimator\n",
    "print(clf.best_estimator_)\n",
    "# print the best model\n",
    "print(clf.best_score_)\n",
    "# print the accuracy score\n",
    "print(accuracy_score(y_test, clf.predict(X_test)))\n",
    "\n"
   ]
  },
  {
   "cell_type": "code",
   "execution_count": null,
   "metadata": {},
   "outputs": [],
   "source": []
  }
 ],
 "metadata": {
  "kernelspec": {
   "display_name": "Python 3",
   "language": "python",
   "name": "python3"
  },
  "language_info": {
   "codemirror_mode": {
    "name": "ipython",
    "version": 3
   },
   "file_extension": ".py",
   "mimetype": "text/x-python",
   "name": "python",
   "nbconvert_exporter": "python",
   "pygments_lexer": "ipython3",
   "version": "3.9.16"
  },
  "toc": {
   "base_numbering": 1,
   "nav_menu": {},
   "number_sections": true,
   "sideBar": true,
   "skip_h1_title": false,
   "title_cell": "Table of Contents",
   "title_sidebar": "Contents",
   "toc_cell": false,
   "toc_position": {},
   "toc_section_display": true,
   "toc_window_display": false
  },
  "varInspector": {
   "cols": {
    "lenName": 16,
    "lenType": 16,
    "lenVar": 40
   },
   "kernels_config": {
    "python": {
     "delete_cmd_postfix": "",
     "delete_cmd_prefix": "del ",
     "library": "var_list.py",
     "varRefreshCmd": "print(var_dic_list())"
    },
    "r": {
     "delete_cmd_postfix": ") ",
     "delete_cmd_prefix": "rm(",
     "library": "var_list.r",
     "varRefreshCmd": "cat(var_dic_list()) "
    }
   },
   "types_to_exclude": [
    "module",
    "function",
    "builtin_function_or_method",
    "instance",
    "_Feature"
   ],
   "window_display": false
  }
 },
 "nbformat": 4,
 "nbformat_minor": 4
}
