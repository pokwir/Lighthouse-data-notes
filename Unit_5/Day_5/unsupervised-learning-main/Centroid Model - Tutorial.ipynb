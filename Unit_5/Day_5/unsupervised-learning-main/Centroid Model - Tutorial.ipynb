{
 "cells": [
  {
   "cell_type": "markdown",
   "id": "d1c8b958",
   "metadata": {},
   "source": [
    "# Centroid Model"
   ]
  },
  {
   "cell_type": "markdown",
   "id": "be34945b",
   "metadata": {},
   "source": [
    "In the following notebook, we are going to learn how to deploy a k-means clustering algorithm from the 'sklearn' library on the synthesized data"
   ]
  },
  {
   "cell_type": "code",
   "execution_count": 2,
   "id": "4205c46f",
   "metadata": {},
   "outputs": [],
   "source": [
    "# Imports\n",
    "\n",
    "# import make_blobs from sklearn\n",
    "from sklearn.datasets import make_blobs\n",
    "\n",
    "# import matplotlib\n",
    "import matplotlib.pyplot as plt\n",
    "\n",
    "# import Kmeans from sklearn\n",
    "from sklearn.cluster import KMeans\n",
    "\n",
    "# import numpy\n",
    "import numpy as np\n"
   ]
  },
  {
   "cell_type": "code",
   "execution_count": 3,
   "id": "3d3df617",
   "metadata": {},
   "outputs": [],
   "source": [
    "#Generate Synthesized data using \"Make_blobs\" function\n",
    "\n",
    "X, y = make_blobs(n_samples=150,\n",
    "                  n_features=2,\n",
    "                  centers=3,\n",
    "                  cluster_std=0.5,\n",
    "                  random_state=0)\n"
   ]
  },
  {
   "cell_type": "code",
   "execution_count": 4,
   "id": "c7727ecd",
   "metadata": {},
   "outputs": [
    {
     "data": {
      "image/png": "[encoded data removed]",
      "text/plain": [
       "<Figure size 432x288 with 1 Axes>"
      ]
     },
     "metadata": {
      "needs_background": "light"
     },
     "output_type": "display_data"
    }
   ],
   "source": [
    "#Visualize the data\n",
    "plt.scatter(X[:,0],\n",
    "            X[:,1],\n",
    "            c='black',\n",
    "            marker='o')\n",
    "plt.grid()\n",
    "plt.show()\n"
   ]
  },
  {
   "cell_type": "markdown",
   "id": "bdf54096",
   "metadata": {},
   "source": [
    "We can see that we have 3 different clusters in our data. The ultimate goal is to identify these three clusters using \"K-means\" model"
   ]
  },
  {
   "cell_type": "code",
   "execution_count": 5,
   "id": "9fdcea4e",
   "metadata": {},
   "outputs": [],
   "source": [
    "# Fit the model\n",
    "\n",
    "km = KMeans(n_clusters=3, # how many clusters we expected \n",
    "            n_init=10, # how many initial runs\n",
    "            random_state=0)\n",
    "\n",
    "# fit and predict\n",
    "y_km = km.fit_predict(X)\n"
   ]
  },
  {
   "cell_type": "markdown",
   "id": "3d2a39bb",
   "metadata": {},
   "source": [
    " To plot how the `k-means` algorithm assigned the clusters to our data we need to define a function that does exactly this:"
   ]
  },
  {
   "cell_type": "code",
   "execution_count": 8,
   "id": "37a7e5b6",
   "metadata": {},
   "outputs": [],
   "source": [
    " def plot_clusters(X,y_res, plt_cluster_centers = False):\n",
    "    X_centroids = []\n",
    "    Y_centroids = []\n",
    "    \n",
    "    for cluster in set(y_res):\n",
    "        x = X[y_res == cluster,0]\n",
    "        y = X[y_res == cluster,1]\n",
    "        X_centroids.append(np.mean(x))\n",
    "        Y_centroids.append(np.mean(y))\n",
    "        \n",
    "        plt.scatter(x,\n",
    "                    y,\n",
    "                    s=50,\n",
    "                    marker='s',\n",
    "                    label=f'cluster {cluster}')\n",
    "        \n",
    "    if plt_cluster_centers:\n",
    "        plt.scatter(X_centroids,\n",
    "                    Y_centroids,\n",
    "                    marker='*',\n",
    "                    c='red',\n",
    "                    s=250,\n",
    "                    label='centroids')\n",
    "    plt.legend()\n",
    "    plt.grid()\n",
    "    plt.show()\n"
   ]
  },
  {
   "cell_type": "code",
   "execution_count": 9,
   "id": "5f317f6f",
   "metadata": {},
   "outputs": [
    {
     "data": {
      "image/png": "[encoded data removed]",
      "text/plain": [
       "<Figure size 432x288 with 1 Axes>"
      ]
     },
     "metadata": {
      "needs_background": "light"
     },
     "output_type": "display_data"
    }
   ],
   "source": [
    " # plot clustering result\n",
    "plot_clusters(X, y_km, plt_cluster_centers= True)\n"
   ]
  },
  {
   "cell_type": "markdown",
   "id": "9f2f6b10",
   "metadata": {},
   "source": [
    " We can see from the plot that `k-means` assigned clusters exactly as we expected. Cluster centroids are marked in the plot as red stars."
   ]
  },
  {
   "cell_type": "markdown",
   "id": "a915b2b2",
   "metadata": {},
   "source": [
    "## Elbow Rule\n",
    "\n",
    " In the previous example, we set the number of clusters to three because we knew this number from the data generation process. In a real-world application, we usually don't know the number of clusters before modeling. \n",
    " \n",
    " A great tool for deciding how many clusters to choose (and therefore to evaluate our model) is **the elbow rule** in a distortion plot. We will fit the data with various numbers of clusters and store the distortion. Distortion, in `sklearn` called **inertia**, tells how far away the points within a cluster are. Therefore, a small of inertia is aimed for. The range of inertia’s value starts from zero and goes up.\n"
   ]
  },
  {
   "cell_type": "code",
   "execution_count": 10,
   "id": "6eaa6d05",
   "metadata": {},
   "outputs": [],
   "source": [
    "def plot_distortion(X,max_clusters = 10):\n",
    "    distortions = []\n",
    "    for i in range(1, max_clusters +1):\n",
    "        km = KMeans(n_clusters=i,\n",
    "                    init='k-means++',\n",
    "                    n_init=10,\n",
    "                    random_state=0)\n",
    "        km.fit(X)\n",
    "        distortions.append(km.inertia_)\n",
    "        \n",
    "    plt.plot(range(1,max_clusters +1), distortions, marker='o')\n",
    "    plt.xlabel('Number of clusters')\n",
    "    plt.ylabel('Distortion')\n",
    "    plt.show() \n"
   ]
  },
  {
   "cell_type": "markdown",
   "id": "1b5cbfd7",
   "metadata": {},
   "source": [
    "The code above fits the data with the `k-means` algorithm and try different values of `k` (from 1 to 10). Values of `k` are stored with the inertia of clusters belongings to `k`. Let's plot the inertia for each of the tested values of `k`.\n"
   ]
  },
  {
   "cell_type": "code",
   "execution_count": 11,
   "id": "5af7b35a",
   "metadata": {},
   "outputs": [
    {
     "data": {
      "image/png": "[encoded data removed]",
      "text/plain": [
       "<Figure size 432x288 with 1 Axes>"
      ]
     },
     "metadata": {
      "needs_background": "light"
     },
     "output_type": "display_data"
    }
   ],
   "source": [
    "# elbow rule\n",
    "plot_distortion(X,max_clusters=10)\n"
   ]
  },
  {
   "cell_type": "markdown",
   "id": "20f01395",
   "metadata": {},
   "source": [
    " We can see in the plot that while the number of clusters increases the distortion goes down. We can also see that by reaching 3 clusters, the distortion is pretty low. If we try to add another cluster (no. 4), the distortion doesn't go down as much as before. That point in a plot is called **the elbow** and is the point we wanted to find as an optimal number of clusters. "
   ]
  },
  {
   "cell_type": "markdown",
   "id": "018b32d5",
   "metadata": {},
   "source": [
    "> #### Excersice\n",
    "> Change the number of clusters and describe the difference"
   ]
  },
  {
   "cell_type": "code",
   "execution_count": null,
   "id": "e80b0ba3",
   "metadata": {},
   "outputs": [],
   "source": []
  }
 ],
 "metadata": {
  "kernelspec": {
   "display_name": "Python 3 (ipykernel)",
   "language": "python",
   "name": "python3"
  },
  "language_info": {
   "codemirror_mode": {
    "name": "ipython",
    "version": 3
   },
   "file_extension": ".py",
   "mimetype": "text/x-python",
   "name": "python",
   "nbconvert_exporter": "python",
   "pygments_lexer": "ipython3",
   "version": "3.8.13"
  }
 },
 "nbformat": 4,
 "nbformat_minor": 5
}
