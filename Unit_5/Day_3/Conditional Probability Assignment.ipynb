{
 "cells": [
  {
   "attachments": {},
   "cell_type": "markdown",
   "metadata": {},
   "source": [
    "# Contitional Probability\n",
    "---"
   ]
  },
  {
   "attachments": {},
   "cell_type": "markdown",
   "metadata": {},
   "source": [
    "#### Soccer Game\n",
    "---"
   ]
  },
  {
   "attachments": {},
   "cell_type": "markdown",
   "metadata": {},
   "source": [
    "You are off to play soccer and want to be the goalkeeper but whether you get to play that position depends on who will be coaching today:\n",
    "\n",
    "- with `coach Sam,` the probability of `being the goalkeeper is 0.5`\n",
    "- with `coach Alex,` the probability of `being the goalkeeper is 0.3`\n",
    "- You also know that `Sam coaches more often – about six out of every ten games (a probability of 0.6).`\n",
    "\n",
    "So, what is the probability that you will be the goalkeeper today?"
   ]
  },
  {
   "cell_type": "code",
   "execution_count": 1,
   "metadata": {},
   "outputs": [],
   "source": [
    "# lets make a simulation\n",
    "import numpy as np"
   ]
  },
  {
   "attachments": {},
   "cell_type": "markdown",
   "metadata": {},
   "source": []
  },
  {
   "cell_type": "code",
   "execution_count": 2,
   "metadata": {},
   "outputs": [],
   "source": [
    "# how many times we run the simulation\n",
    "n_runs = 100000\n",
    "\n",
    "# initialize variables\n",
    "SAM = 0\n",
    "SAM_YES = 0\n",
    "SAM_NO = 0\n",
    "ALEX = 0\n",
    "ALEX_YES = 0\n",
    "ALEX_NO = 0\n",
    "YES = 0\n",
    "NO = 0"
   ]
  },
  {
   "cell_type": "code",
   "execution_count": 3,
   "metadata": {},
   "outputs": [],
   "source": [
    "# After we set all the variables to their initial value, we need to write a loop that will simulate the process.\n",
    "\n",
    "# process simulation\n",
    "for i in range(n_runs):\n",
    "    if np.random.random() < 0.6: \n",
    "        SAM += 1\n",
    "\n",
    "        # YES\n",
    "        if np.random.random() < 0.5:\n",
    "            SAM_YES += 1\n",
    "            YES +=1\n",
    "\n",
    "        # NO\n",
    "        else:\n",
    "            SAM_NO += 1\n",
    "            NO += 1\n",
    "\n",
    "    #Alex (probability of Alex being the coach)\n",
    "    else:\n",
    "        ALEX += 1\n",
    "\n",
    "        # YES\n",
    "        if np.random.random() < 0.3:\n",
    "            ALEX_YES += 1\n",
    "            YES += 1\n",
    "\n",
    "        # NO\n",
    "        else:\n",
    "            ALEX_NO += 1\n",
    "            NO +=1"
   ]
  },
  {
   "attachments": {},
   "cell_type": "markdown",
   "metadata": {},
   "source": [
    "The simulation above is based on a random number generator (np.random.random), which generates any number from the interval <0,1> with equal probability. If the generated number is less than 0.6 we can say that the coach is Sam (because Sam is the coach in 60% of games). Then we generate another random number and if the value is less than 0.5 (the chance of being the goalkeeper when Sam is coaching is 50%), it means you will be the goalkeeper. In that case, we will increase the value of variables SAM_YES and YES by one. It means that in this simulation run you are the goalkeeper and Sam is the coach. We run this process 100,000 times and check the result."
   ]
  },
  {
   "cell_type": "code",
   "execution_count": 4,
   "metadata": {},
   "outputs": [],
   "source": [
    "# create probabilities\n",
    "P_SAM = SAM / n_runs * 100\n",
    "P_SAM_YES = SAM_YES / n_runs * 100\n",
    "P_SAM_NO = SAM_NO / n_runs * 100\n",
    "P_ALEX = ALEX / n_runs * 100\n",
    "P_ALEX_YES = ALEX_YES / n_runs * 100\n",
    "P_ALEX_NO = ALEX_NO / n_runs * 100\n",
    "P_YES = YES / n_runs * 100\n",
    "P_NO = NO / n_runs * 100"
   ]
  },
  {
   "cell_type": "code",
   "execution_count": 5,
   "metadata": {},
   "outputs": [
    {
     "name": "stdout",
     "output_type": "stream",
     "text": [
      "Sam is the coach: 60.159%\n",
      "Sam is the coach and you are the goalkeeper: 30.157%\n",
      "Sam is the coach and you are not the goalkeeper: 30.002000000000002%\n",
      "Alex is the coach: 39.841%\n",
      "Alex is the coach and you are the goalkeeper: 11.964%\n",
      "Alex is the coach and you are not the goalkeeper: 27.877000000000002%\n",
      "You are the goalkeeper: 42.120999999999995%\n",
      "You are not the goalkeeper: 57.879000000000005\n"
     ]
    }
   ],
   "source": [
    "# print probabilities\n",
    "print(f'Sam is the coach: {P_SAM}%')\n",
    "print(f'Sam is the coach and you are the goalkeeper: {P_SAM_YES}%')\n",
    "print(f'Sam is the coach and you are not the goalkeeper: {P_SAM_NO}%')\n",
    "print(f'Alex is the coach: {P_ALEX}%')\n",
    "print(f'Alex is the coach and you are the goalkeeper: {P_ALEX_YES}%')\n",
    "print(f'Alex is the coach and you are not the goalkeeper: {P_ALEX_NO}%')\n",
    "print(f'You are the goalkeeper: {P_YES}%')\n",
    "print(f'You are not the goalkeeper: {P_NO}')"
   ]
  },
  {
   "attachments": {},
   "cell_type": "markdown",
   "metadata": {},
   "source": [
    "As we can see, the probability of being the goalkeeper is around 42%. We can also check the probability of Sam being the coach given that you are the goalkeeper."
   ]
  },
  {
   "cell_type": "code",
   "execution_count": 6,
   "metadata": {},
   "outputs": [
    {
     "name": "stdout",
     "output_type": "stream",
     "text": [
      "0.7159611595166308\n"
     ]
    }
   ],
   "source": [
    "# P(Sam | goalkeeper)\n",
    "P_SAM_GOAL = P_SAM_YES / P_YES\n",
    "print(P_SAM_GOAL)"
   ]
  },
  {
   "attachments": {},
   "cell_type": "markdown",
   "metadata": {},
   "source": [
    "We computed this probability as the probability of you being the goalkeeper while Sam is the coach, divided by the total probability that you are the goalkeeper. The probability is around 72%, which means that in 72 out of 100 games in which you are the goalkeeper, your coach is Sam."
   ]
  },
  {
   "cell_type": "code",
   "execution_count": null,
   "metadata": {},
   "outputs": [],
   "source": []
  }
 ],
 "metadata": {
  "kernelspec": {
   "display_name": "THE_ONE",
   "language": "python",
   "name": "python3"
  },
  "language_info": {
   "codemirror_mode": {
    "name": "ipython",
    "version": 3
   },
   "file_extension": ".py",
   "mimetype": "text/x-python",
   "name": "python",
   "nbconvert_exporter": "python",
   "pygments_lexer": "ipython3",
   "version": "3.8.16"
  },
  "orig_nbformat": 4
 },
 "nbformat": 4,
 "nbformat_minor": 2
}
