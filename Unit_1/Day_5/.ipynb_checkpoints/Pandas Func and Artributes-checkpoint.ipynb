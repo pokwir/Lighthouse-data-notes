{
 "cells": [
  {
   "cell_type": "markdown",
   "id": "d13c261a-5e88-4c2c-b272-f52d34ae72f4",
   "metadata": {},
   "source": [
    "# Pandas Functions and artributes"
   ]
  },
  {
   "cell_type": "markdown",
   "id": "a7066875-553b-4586-8dca-63708ec6cadc",
   "metadata": {},
   "source": [
    "1. pd.read_csv()\n",
    "- The read_csv function is simple way to read csv (comma separated values) files, which is a commonly used file format for storing data.\n",
    "\n"
   ]
  },
  {
   "cell_type": "code",
   "execution_count": 2,
   "id": "4cd379ec-fc04-48ca-bd7d-2e927aa19de8",
   "metadata": {},
   "outputs": [],
   "source": [
    "import pandas as pd\n",
    "df = pd.read_csv('csv_example')"
   ]
  },
  {
   "cell_type": "code",
   "execution_count": null,
   "id": "f975705a-597e-49c6-89a6-4a6c559e808a",
   "metadata": {},
   "outputs": [],
   "source": []
  },
  {
   "cell_type": "markdown",
   "id": "5e695d03-a93f-485b-a0ac-691156c3bdaa",
   "metadata": {},
   "source": [
    "2. df.head()\n",
    "- The head() method returns the first n rows. If no parameter is specified, the number of rows defaults to 5\n"
   ]
  },
  {
   "cell_type": "code",
   "execution_count": 4,
   "id": "6ff928cf-5934-4690-b7b4-cf71f5569893",
   "metadata": {},
   "outputs": [
    {
     "data": {
      "text/html": [
       "<div>\n",
       "<style scoped>\n",
       "    .dataframe tbody tr th:only-of-type {\n",
       "        vertical-align: middle;\n",
       "    }\n",
       "\n",
       "    .dataframe tbody tr th {\n",
       "        vertical-align: top;\n",
       "    }\n",
       "\n",
       "    .dataframe thead th {\n",
       "        text-align: right;\n",
       "    }\n",
       "</style>\n",
       "<table border=\"1\" class=\"dataframe\">\n",
       "  <thead>\n",
       "    <tr style=\"text-align: right;\">\n",
       "      <th></th>\n",
       "      <th>name</th>\n",
       "      <th>age</th>\n",
       "      <th>designation</th>\n",
       "    </tr>\n",
       "  </thead>\n",
       "  <tbody>\n",
       "    <tr>\n",
       "      <th>0</th>\n",
       "      <td>a</td>\n",
       "      <td>20</td>\n",
       "      <td>VP</td>\n",
       "    </tr>\n",
       "    <tr>\n",
       "      <th>1</th>\n",
       "      <td>b</td>\n",
       "      <td>27</td>\n",
       "      <td>CEO</td>\n",
       "    </tr>\n",
       "    <tr>\n",
       "      <th>2</th>\n",
       "      <td>c</td>\n",
       "      <td>35</td>\n",
       "      <td>CFO</td>\n",
       "    </tr>\n",
       "  </tbody>\n",
       "</table>\n",
       "</div>"
      ],
      "text/plain": [
       "  name  age designation\n",
       "0    a   20          VP\n",
       "1    b   27         CEO\n",
       "2    c   35         CFO"
      ]
     },
     "execution_count": 4,
     "metadata": {},
     "output_type": "execute_result"
    }
   ],
   "source": [
    "df.head (3)"
   ]
  },
  {
   "cell_type": "markdown",
   "id": "185c84b9-b261-4219-8787-e39a7ee8c85e",
   "metadata": {},
   "source": [
    "3. df.describe()\n",
    "- The describe() method generates descriptive statistics."
   ]
  },
  {
   "cell_type": "code",
   "execution_count": 7,
   "id": "4b9714cf-1b10-40dc-a787-b1a7fb01d884",
   "metadata": {},
   "outputs": [
    {
     "data": {
      "text/html": [
       "<div>\n",
       "<style scoped>\n",
       "    .dataframe tbody tr th:only-of-type {\n",
       "        vertical-align: middle;\n",
       "    }\n",
       "\n",
       "    .dataframe tbody tr th {\n",
       "        vertical-align: top;\n",
       "    }\n",
       "\n",
       "    .dataframe thead th {\n",
       "        text-align: right;\n",
       "    }\n",
       "</style>\n",
       "<table border=\"1\" class=\"dataframe\">\n",
       "  <thead>\n",
       "    <tr style=\"text-align: right;\">\n",
       "      <th></th>\n",
       "      <th>age</th>\n",
       "    </tr>\n",
       "  </thead>\n",
       "  <tbody>\n",
       "    <tr>\n",
       "      <th>count</th>\n",
       "      <td>7.000000</td>\n",
       "    </tr>\n",
       "    <tr>\n",
       "      <th>mean</th>\n",
       "      <td>30.142857</td>\n",
       "    </tr>\n",
       "    <tr>\n",
       "      <th>std</th>\n",
       "      <td>12.966991</td>\n",
       "    </tr>\n",
       "    <tr>\n",
       "      <th>min</th>\n",
       "      <td>18.000000</td>\n",
       "    </tr>\n",
       "    <tr>\n",
       "      <th>25%</th>\n",
       "      <td>20.500000</td>\n",
       "    </tr>\n",
       "    <tr>\n",
       "      <th>50%</th>\n",
       "      <td>27.000000</td>\n",
       "    </tr>\n",
       "    <tr>\n",
       "      <th>75%</th>\n",
       "      <td>35.000000</td>\n",
       "    </tr>\n",
       "    <tr>\n",
       "      <th>max</th>\n",
       "      <td>55.000000</td>\n",
       "    </tr>\n",
       "  </tbody>\n",
       "</table>\n",
       "</div>"
      ],
      "text/plain": [
       "             age\n",
       "count   7.000000\n",
       "mean   30.142857\n",
       "std    12.966991\n",
       "min    18.000000\n",
       "25%    20.500000\n",
       "50%    27.000000\n",
       "75%    35.000000\n",
       "max    55.000000"
      ]
     },
     "execution_count": 7,
     "metadata": {},
     "output_type": "execute_result"
    }
   ],
   "source": [
    "#df.describe(include = all)\n",
    "df.describe()"
   ]
  },
  {
   "cell_type": "markdown",
   "id": "79b79a3d-b4c9-4e4f-8014-4563f9bc0522",
   "metadata": {},
   "source": [
    "4. astype()\n",
    "- The astype() method is used to cast a Pandas object to a particular data type. It can be a very helpful function in case your data is not stored in the correct format (data type). For instance, if floating point numbers have somehow been misinterpreted by Python as strings, you can convert them back to floating point numbers with astype()."
   ]
  },
  {
   "cell_type": "code",
   "execution_count": 10,
   "id": "e18bbdc6-925b-41b4-bf7e-f850f6bc808a",
   "metadata": {},
   "outputs": [],
   "source": [
    "df['age'] = pd.to_datetime(df['age'])"
   ]
  },
  {
   "cell_type": "markdown",
   "id": "abe9e3f3-f534-40b7-918e-d554602b02d2",
   "metadata": {},
   "source": [
    "5. value_counts()\n",
    "- The value_counts() method returns a Pandas Series containing the count of unique values. Consider a dataset that contains customer information of 5,000 customers of a company. value_counts() will help us in identifying the number of occurrences of each unique value (customer) in a Series. It can be applied to columns containing data like province, the industry of employment, or the age of the customer.\n",
    "\n"
   ]
  },
  {
   "cell_type": "code",
   "execution_count": 11,
   "id": "d9a25c70-0987-48ee-9309-457d6c1ed052",
   "metadata": {},
   "outputs": [
    {
     "data": {
      "text/html": [
       "<div>\n",
       "<style scoped>\n",
       "    .dataframe tbody tr th:only-of-type {\n",
       "        vertical-align: middle;\n",
       "    }\n",
       "\n",
       "    .dataframe tbody tr th {\n",
       "        vertical-align: top;\n",
       "    }\n",
       "\n",
       "    .dataframe thead th {\n",
       "        text-align: right;\n",
       "    }\n",
       "</style>\n",
       "<table border=\"1\" class=\"dataframe\">\n",
       "  <thead>\n",
       "    <tr style=\"text-align: right;\">\n",
       "      <th></th>\n",
       "      <th>name</th>\n",
       "      <th>age</th>\n",
       "      <th>designation</th>\n",
       "    </tr>\n",
       "  </thead>\n",
       "  <tbody>\n",
       "    <tr>\n",
       "      <th>0</th>\n",
       "      <td>a</td>\n",
       "      <td>1970-01-01 00:00:00.000000020</td>\n",
       "      <td>VP</td>\n",
       "    </tr>\n",
       "    <tr>\n",
       "      <th>1</th>\n",
       "      <td>b</td>\n",
       "      <td>1970-01-01 00:00:00.000000027</td>\n",
       "      <td>CEO</td>\n",
       "    </tr>\n",
       "    <tr>\n",
       "      <th>2</th>\n",
       "      <td>c</td>\n",
       "      <td>1970-01-01 00:00:00.000000035</td>\n",
       "      <td>CFO</td>\n",
       "    </tr>\n",
       "    <tr>\n",
       "      <th>3</th>\n",
       "      <td>d</td>\n",
       "      <td>1970-01-01 00:00:00.000000055</td>\n",
       "      <td>VP</td>\n",
       "    </tr>\n",
       "    <tr>\n",
       "      <th>4</th>\n",
       "      <td>e</td>\n",
       "      <td>1970-01-01 00:00:00.000000018</td>\n",
       "      <td>VP</td>\n",
       "    </tr>\n",
       "    <tr>\n",
       "      <th>5</th>\n",
       "      <td>f</td>\n",
       "      <td>1970-01-01 00:00:00.000000021</td>\n",
       "      <td>CEO</td>\n",
       "    </tr>\n",
       "    <tr>\n",
       "      <th>6</th>\n",
       "      <td>g</td>\n",
       "      <td>1970-01-01 00:00:00.000000035</td>\n",
       "      <td>MD</td>\n",
       "    </tr>\n",
       "  </tbody>\n",
       "</table>\n",
       "</div>"
      ],
      "text/plain": [
       "  name                           age designation\n",
       "0    a 1970-01-01 00:00:00.000000020          VP\n",
       "1    b 1970-01-01 00:00:00.000000027         CEO\n",
       "2    c 1970-01-01 00:00:00.000000035         CFO\n",
       "3    d 1970-01-01 00:00:00.000000055          VP\n",
       "4    e 1970-01-01 00:00:00.000000018          VP\n",
       "5    f 1970-01-01 00:00:00.000000021         CEO\n",
       "6    g 1970-01-01 00:00:00.000000035          MD"
      ]
     },
     "execution_count": 11,
     "metadata": {},
     "output_type": "execute_result"
    }
   ],
   "source": [
    "df"
   ]
  },
  {
   "cell_type": "code",
   "execution_count": 12,
   "id": "f5ac9142-fc3e-43d3-ae69-12215489450f",
   "metadata": {},
   "outputs": [
    {
     "data": {
      "text/plain": [
       "designation\n",
       "VP     3\n",
       "CEO    2\n",
       "CFO    1\n",
       "MD     1\n",
       "Name: count, dtype: int64"
      ]
     },
     "execution_count": 12,
     "metadata": {},
     "output_type": "execute_result"
    }
   ],
   "source": [
    "df['designation'].value_counts()"
   ]
  },
  {
   "cell_type": "markdown",
   "id": "07d427c1-4b6f-4b0f-97b7-0d8029380677",
   "metadata": {},
   "source": [
    "6. drop_duplicates()\n",
    "- The drop_duplicates() method returns a Pandas DataFrame with duplicate rows removed. There is also an option to keep the first occurrence (record) of the duplicate or the last. You can also specify the inplace and ignore_index attribute. df.drop_duplicates(keep='last', inplace=True)"
   ]
  },
  {
   "cell_type": "code",
   "execution_count": 13,
   "id": "38b8183a-65f9-44a3-9d7e-aa0aa2ad8bb8",
   "metadata": {},
   "outputs": [],
   "source": [
    "df.drop_duplicates(keep='last', inplace=True)"
   ]
  },
  {
   "cell_type": "markdown",
   "id": "07652544-fe67-4512-b440-72b3495e26c5",
   "metadata": {},
   "source": [
    "7. groupby()\n",
    "- The groupby() method is used to group a Pandas DataFrame by 1 or more columns, and perform some mathematical operation on it. groupby() can be used to summarize data in a simple manner, and you will use it very often in your career."
   ]
  },
  {
   "cell_type": "markdown",
   "id": "40609dbd-f60b-4dd8-b9e2-cc117cb66a81",
   "metadata": {},
   "source": [
    "8. sort_values()\n",
    "- The sort_values() method is used to sort columns in a Pandas DataFrame (or a Pandas Series) by values in ascending or descending order. By specifying the inplace argument as True, you can make change it directly in the original DataFrame.\n",
    "\n"
   ]
  },
  {
   "cell_type": "code",
   "execution_count": 16,
   "id": "16f3bfbe-a85d-47ca-849f-3483848b8202",
   "metadata": {},
   "outputs": [],
   "source": [
    "df.sort_values(by = 'age', inplace=True)"
   ]
  },
  {
   "cell_type": "code",
   "execution_count": null,
   "id": "9367205e-3505-46f9-8a29-2da421d8a3b0",
   "metadata": {},
   "outputs": [],
   "source": []
  },
  {
   "cell_type": "markdown",
   "id": "1e96f8a9-a5e2-4c9b-8308-7edd6b748461",
   "metadata": {},
   "source": [
    "9. Selecting data\n",
    "- .loc is primarily label based, but may also be used with a boolean array. .loc will raise KeyError when the items are not found \n",
    "- .iloc is primarily integer position based (from 0 to length-1 of the axis), but may also be used with a boolean array. .iloc will raise IndexError if a requested indexer is out-of-bounds, except slice indexers which allow out-of-bounds indexing. (this conforms with Python/NumPy slice semantics)."
   ]
  },
  {
   "cell_type": "code",
   "execution_count": null,
   "id": "1ca7998d-b5e2-4a8f-916e-60b2b9d068f4",
   "metadata": {},
   "outputs": [],
   "source": []
  }
 ],
 "metadata": {
  "kernelspec": {
   "display_name": "THE_ONE",
   "language": "python",
   "name": "the_one"
  },
  "language_info": {
   "codemirror_mode": {
    "name": "ipython",
    "version": 3
   },
   "file_extension": ".py",
   "mimetype": "text/x-python",
   "name": "python",
   "nbconvert_exporter": "python",
   "pygments_lexer": "ipython3",
   "version": "3.8.16"
  }
 },
 "nbformat": 4,
 "nbformat_minor": 5
}
