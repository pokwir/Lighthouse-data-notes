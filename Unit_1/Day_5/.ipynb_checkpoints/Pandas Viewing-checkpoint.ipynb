{
 "cells": [
  {
   "cell_type": "markdown",
   "id": "2fb972e5-1696-45b1-8302-97899932a186",
   "metadata": {},
   "source": [
    "# Pandas Viewing"
   ]
  },
  {
   "cell_type": "code",
   "execution_count": 1,
   "id": "f4703859-f10a-4083-9366-596e9c2c6bbf",
   "metadata": {},
   "outputs": [],
   "source": [
    "import numpy as np\n",
    "import pandas as pd"
   ]
  },
  {
   "cell_type": "code",
   "execution_count": 2,
   "id": "9a5444c7-39dc-407d-bc30-a20ebed2ca7d",
   "metadata": {},
   "outputs": [],
   "source": [
    "# object creation \n",
    "\n",
    "s = pd.Series([1, 3, 5, np.nan, 6, 8])"
   ]
  },
  {
   "cell_type": "code",
   "execution_count": 3,
   "id": "fcb825f0-2b8b-4f0d-86f2-1a1ed619b7f3",
   "metadata": {},
   "outputs": [
    {
     "data": {
      "text/plain": [
       "0    1.0\n",
       "1    3.0\n",
       "2    5.0\n",
       "3    NaN\n",
       "4    6.0\n",
       "5    8.0\n",
       "dtype: float64"
      ]
     },
     "execution_count": 3,
     "metadata": {},
     "output_type": "execute_result"
    }
   ],
   "source": [
    "s"
   ]
  },
  {
   "cell_type": "code",
   "execution_count": 4,
   "id": "3aff4539-3a87-4797-a91d-67195a8b2dc9",
   "metadata": {},
   "outputs": [],
   "source": [
    "#Create a DataFrame by passing a Numpy array with a datetime index and labeled columns.\n",
    "\n",
    "dates = pd.date_range('20130101', periods=6)"
   ]
  },
  {
   "cell_type": "code",
   "execution_count": null,
   "id": "df6c56d9-2359-48e0-9290-6a1b6d8dc380",
   "metadata": {},
   "outputs": [],
   "source": []
  },
  {
   "cell_type": "code",
   "execution_count": 6,
   "id": "dedd0323-8960-4577-ac7b-59c6f7c732a7",
   "metadata": {},
   "outputs": [],
   "source": [
    "df = pd.DataFrame(np.random.randn(6, 4), index=dates, columns=list('ABCD'))"
   ]
  },
  {
   "cell_type": "code",
   "execution_count": 7,
   "id": "318bb22b-49e9-4fb1-8926-7a3f0eb77604",
   "metadata": {},
   "outputs": [
    {
     "data": {
      "text/html": [
       "<div>\n",
       "<style scoped>\n",
       "    .dataframe tbody tr th:only-of-type {\n",
       "        vertical-align: middle;\n",
       "    }\n",
       "\n",
       "    .dataframe tbody tr th {\n",
       "        vertical-align: top;\n",
       "    }\n",
       "\n",
       "    .dataframe thead th {\n",
       "        text-align: right;\n",
       "    }\n",
       "</style>\n",
       "<table border=\"1\" class=\"dataframe\">\n",
       "  <thead>\n",
       "    <tr style=\"text-align: right;\">\n",
       "      <th></th>\n",
       "      <th>A</th>\n",
       "      <th>B</th>\n",
       "      <th>C</th>\n",
       "      <th>D</th>\n",
       "    </tr>\n",
       "  </thead>\n",
       "  <tbody>\n",
       "    <tr>\n",
       "      <th>2013-01-01</th>\n",
       "      <td>-0.542314</td>\n",
       "      <td>-1.920692</td>\n",
       "      <td>0.780296</td>\n",
       "      <td>-0.601324</td>\n",
       "    </tr>\n",
       "    <tr>\n",
       "      <th>2013-01-02</th>\n",
       "      <td>-1.946832</td>\n",
       "      <td>0.174518</td>\n",
       "      <td>2.670988</td>\n",
       "      <td>-1.101166</td>\n",
       "    </tr>\n",
       "    <tr>\n",
       "      <th>2013-01-03</th>\n",
       "      <td>0.041852</td>\n",
       "      <td>-0.451127</td>\n",
       "      <td>2.423947</td>\n",
       "      <td>-0.279090</td>\n",
       "    </tr>\n",
       "    <tr>\n",
       "      <th>2013-01-04</th>\n",
       "      <td>0.067117</td>\n",
       "      <td>-1.534849</td>\n",
       "      <td>-0.652659</td>\n",
       "      <td>0.862541</td>\n",
       "    </tr>\n",
       "    <tr>\n",
       "      <th>2013-01-05</th>\n",
       "      <td>-0.533639</td>\n",
       "      <td>-0.200394</td>\n",
       "      <td>-1.737564</td>\n",
       "      <td>0.484345</td>\n",
       "    </tr>\n",
       "    <tr>\n",
       "      <th>2013-01-06</th>\n",
       "      <td>1.205692</td>\n",
       "      <td>-2.196950</td>\n",
       "      <td>-0.336152</td>\n",
       "      <td>0.111155</td>\n",
       "    </tr>\n",
       "  </tbody>\n",
       "</table>\n",
       "</div>"
      ],
      "text/plain": [
       "                   A         B         C         D\n",
       "2013-01-01 -0.542314 -1.920692  0.780296 -0.601324\n",
       "2013-01-02 -1.946832  0.174518  2.670988 -1.101166\n",
       "2013-01-03  0.041852 -0.451127  2.423947 -0.279090\n",
       "2013-01-04  0.067117 -1.534849 -0.652659  0.862541\n",
       "2013-01-05 -0.533639 -0.200394 -1.737564  0.484345\n",
       "2013-01-06  1.205692 -2.196950 -0.336152  0.111155"
      ]
     },
     "execution_count": 7,
     "metadata": {},
     "output_type": "execute_result"
    }
   ],
   "source": [
    "df"
   ]
  },
  {
   "cell_type": "code",
   "execution_count": 8,
   "id": "7191b9d7-afe5-43a5-9a3e-cf4fccf89347",
   "metadata": {},
   "outputs": [],
   "source": [
    "df2 = pd.DataFrame({'A': 1.0,\n",
    "                        'B': pd.Timestamp('20130102'),\n",
    "                        'C': pd.Series(1, index=list(range(4)), dtype='float32'),\n",
    "                        'D': np.array([3] * 4, dtype='int32'),\n",
    "                        'E': pd.Categorical([\"test\", \"train\", \"test\", \"train\"]),\n",
    "                        'F': 'foo'})"
   ]
  },
  {
   "cell_type": "code",
   "execution_count": 9,
   "id": "ffc65c66-1d26-4c55-a041-36430a4f78cb",
   "metadata": {},
   "outputs": [
    {
     "data": {
      "text/plain": [
       "A           float64\n",
       "B    datetime64[ns]\n",
       "C           float32\n",
       "D             int32\n",
       "E          category\n",
       "F            object\n",
       "dtype: object"
      ]
     },
     "execution_count": 9,
     "metadata": {},
     "output_type": "execute_result"
    }
   ],
   "source": [
    "df2.dtypes"
   ]
  },
  {
   "cell_type": "code",
   "execution_count": null,
   "id": "1af2a547-63c9-4a09-8f0a-26f149e9e760",
   "metadata": {},
   "outputs": [],
   "source": []
  },
  {
   "cell_type": "code",
   "execution_count": null,
   "id": "ad511633-e763-469c-bfa0-4dfc4c76211b",
   "metadata": {},
   "outputs": [],
   "source": []
  },
  {
   "cell_type": "code",
   "execution_count": null,
   "id": "f2a48e57-9cc8-4413-8f9a-d6e460d3d200",
   "metadata": {},
   "outputs": [],
   "source": []
  },
  {
   "cell_type": "markdown",
   "id": "fd56b0e1-3441-4477-9830-d06f52ee1f43",
   "metadata": {},
   "source": [
    "### Viewing Data"
   ]
  },
  {
   "cell_type": "code",
   "execution_count": 10,
   "id": "05ed7bf3-fcb0-48fe-ab6f-f3575be4311f",
   "metadata": {},
   "outputs": [
    {
     "data": {
      "text/html": [
       "<div>\n",
       "<style scoped>\n",
       "    .dataframe tbody tr th:only-of-type {\n",
       "        vertical-align: middle;\n",
       "    }\n",
       "\n",
       "    .dataframe tbody tr th {\n",
       "        vertical-align: top;\n",
       "    }\n",
       "\n",
       "    .dataframe thead th {\n",
       "        text-align: right;\n",
       "    }\n",
       "</style>\n",
       "<table border=\"1\" class=\"dataframe\">\n",
       "  <thead>\n",
       "    <tr style=\"text-align: right;\">\n",
       "      <th></th>\n",
       "      <th>A</th>\n",
       "      <th>B</th>\n",
       "      <th>C</th>\n",
       "      <th>D</th>\n",
       "    </tr>\n",
       "  </thead>\n",
       "  <tbody>\n",
       "    <tr>\n",
       "      <th>2013-01-01</th>\n",
       "      <td>-0.542314</td>\n",
       "      <td>-1.920692</td>\n",
       "      <td>0.780296</td>\n",
       "      <td>-0.601324</td>\n",
       "    </tr>\n",
       "    <tr>\n",
       "      <th>2013-01-02</th>\n",
       "      <td>-1.946832</td>\n",
       "      <td>0.174518</td>\n",
       "      <td>2.670988</td>\n",
       "      <td>-1.101166</td>\n",
       "    </tr>\n",
       "    <tr>\n",
       "      <th>2013-01-03</th>\n",
       "      <td>0.041852</td>\n",
       "      <td>-0.451127</td>\n",
       "      <td>2.423947</td>\n",
       "      <td>-0.279090</td>\n",
       "    </tr>\n",
       "    <tr>\n",
       "      <th>2013-01-04</th>\n",
       "      <td>0.067117</td>\n",
       "      <td>-1.534849</td>\n",
       "      <td>-0.652659</td>\n",
       "      <td>0.862541</td>\n",
       "    </tr>\n",
       "    <tr>\n",
       "      <th>2013-01-05</th>\n",
       "      <td>-0.533639</td>\n",
       "      <td>-0.200394</td>\n",
       "      <td>-1.737564</td>\n",
       "      <td>0.484345</td>\n",
       "    </tr>\n",
       "  </tbody>\n",
       "</table>\n",
       "</div>"
      ],
      "text/plain": [
       "                   A         B         C         D\n",
       "2013-01-01 -0.542314 -1.920692  0.780296 -0.601324\n",
       "2013-01-02 -1.946832  0.174518  2.670988 -1.101166\n",
       "2013-01-03  0.041852 -0.451127  2.423947 -0.279090\n",
       "2013-01-04  0.067117 -1.534849 -0.652659  0.862541\n",
       "2013-01-05 -0.533639 -0.200394 -1.737564  0.484345"
      ]
     },
     "execution_count": 10,
     "metadata": {},
     "output_type": "execute_result"
    }
   ],
   "source": [
    "df.head()"
   ]
  },
  {
   "cell_type": "code",
   "execution_count": 11,
   "id": "f5ce0e39-7a0f-4ab6-961d-d7a36c96e1d1",
   "metadata": {},
   "outputs": [
    {
     "data": {
      "text/html": [
       "<div>\n",
       "<style scoped>\n",
       "    .dataframe tbody tr th:only-of-type {\n",
       "        vertical-align: middle;\n",
       "    }\n",
       "\n",
       "    .dataframe tbody tr th {\n",
       "        vertical-align: top;\n",
       "    }\n",
       "\n",
       "    .dataframe thead th {\n",
       "        text-align: right;\n",
       "    }\n",
       "</style>\n",
       "<table border=\"1\" class=\"dataframe\">\n",
       "  <thead>\n",
       "    <tr style=\"text-align: right;\">\n",
       "      <th></th>\n",
       "      <th>A</th>\n",
       "      <th>B</th>\n",
       "      <th>C</th>\n",
       "      <th>D</th>\n",
       "    </tr>\n",
       "  </thead>\n",
       "  <tbody>\n",
       "    <tr>\n",
       "      <th>2013-01-04</th>\n",
       "      <td>0.067117</td>\n",
       "      <td>-1.534849</td>\n",
       "      <td>-0.652659</td>\n",
       "      <td>0.862541</td>\n",
       "    </tr>\n",
       "    <tr>\n",
       "      <th>2013-01-05</th>\n",
       "      <td>-0.533639</td>\n",
       "      <td>-0.200394</td>\n",
       "      <td>-1.737564</td>\n",
       "      <td>0.484345</td>\n",
       "    </tr>\n",
       "    <tr>\n",
       "      <th>2013-01-06</th>\n",
       "      <td>1.205692</td>\n",
       "      <td>-2.196950</td>\n",
       "      <td>-0.336152</td>\n",
       "      <td>0.111155</td>\n",
       "    </tr>\n",
       "  </tbody>\n",
       "</table>\n",
       "</div>"
      ],
      "text/plain": [
       "                   A         B         C         D\n",
       "2013-01-04  0.067117 -1.534849 -0.652659  0.862541\n",
       "2013-01-05 -0.533639 -0.200394 -1.737564  0.484345\n",
       "2013-01-06  1.205692 -2.196950 -0.336152  0.111155"
      ]
     },
     "execution_count": 11,
     "metadata": {},
     "output_type": "execute_result"
    }
   ],
   "source": [
    "df.tail(3)"
   ]
  },
  {
   "cell_type": "code",
   "execution_count": 12,
   "id": "e038ae36-2e57-4fec-8153-df171da26973",
   "metadata": {},
   "outputs": [
    {
     "data": {
      "text/plain": [
       "DatetimeIndex(['2013-01-01', '2013-01-02', '2013-01-03', '2013-01-04',\n",
       "               '2013-01-05', '2013-01-06'],\n",
       "              dtype='datetime64[ns]', freq='D')"
      ]
     },
     "execution_count": 12,
     "metadata": {},
     "output_type": "execute_result"
    }
   ],
   "source": [
    "df.index"
   ]
  },
  {
   "cell_type": "code",
   "execution_count": 13,
   "id": "d22788fb-46de-4ef8-ab02-7becfe1b5f33",
   "metadata": {},
   "outputs": [
    {
     "data": {
      "text/plain": [
       "Index(['A', 'B', 'C', 'D'], dtype='object')"
      ]
     },
     "execution_count": 13,
     "metadata": {},
     "output_type": "execute_result"
    }
   ],
   "source": [
    "df.columns"
   ]
  },
  {
   "cell_type": "code",
   "execution_count": null,
   "id": "1d5bd6d9-ccf4-4f00-afc8-d29d1a5fe852",
   "metadata": {},
   "outputs": [],
   "source": []
  },
  {
   "cell_type": "code",
   "execution_count": null,
   "id": "8a203117-6383-47ee-bc4a-92056430e021",
   "metadata": {},
   "outputs": [],
   "source": []
  },
  {
   "cell_type": "markdown",
   "id": "0bdb7a9a-eac4-47b7-86de-761600bb269a",
   "metadata": {},
   "source": [
    "- Convert DataFrame to numpy array."
   ]
  },
  {
   "cell_type": "code",
   "execution_count": 14,
   "id": "c680f7e2-897f-42fc-a9d4-21544177366e",
   "metadata": {},
   "outputs": [
    {
     "data": {
      "text/plain": [
       "array([[-0.54231408, -1.92069164,  0.78029629, -0.6013241 ],\n",
       "       [-1.94683181,  0.17451812,  2.67098761, -1.10116596],\n",
       "       [ 0.04185175, -0.4511274 ,  2.42394733, -0.27908971],\n",
       "       [ 0.06711725, -1.53484922, -0.65265948,  0.86254145],\n",
       "       [-0.53363921, -0.20039388, -1.7375642 ,  0.48434501],\n",
       "       [ 1.20569193, -2.19695002, -0.33615191,  0.1111552 ]])"
      ]
     },
     "execution_count": 14,
     "metadata": {},
     "output_type": "execute_result"
    }
   ],
   "source": [
    "df.to_numpy()"
   ]
  },
  {
   "cell_type": "code",
   "execution_count": 15,
   "id": "f8c4c4bc-823c-4ea5-9e41-15a8f96763c8",
   "metadata": {},
   "outputs": [
    {
     "data": {
      "text/html": [
       "<div>\n",
       "<style scoped>\n",
       "    .dataframe tbody tr th:only-of-type {\n",
       "        vertical-align: middle;\n",
       "    }\n",
       "\n",
       "    .dataframe tbody tr th {\n",
       "        vertical-align: top;\n",
       "    }\n",
       "\n",
       "    .dataframe thead th {\n",
       "        text-align: right;\n",
       "    }\n",
       "</style>\n",
       "<table border=\"1\" class=\"dataframe\">\n",
       "  <thead>\n",
       "    <tr style=\"text-align: right;\">\n",
       "      <th></th>\n",
       "      <th>A</th>\n",
       "      <th>B</th>\n",
       "      <th>C</th>\n",
       "      <th>D</th>\n",
       "    </tr>\n",
       "  </thead>\n",
       "  <tbody>\n",
       "    <tr>\n",
       "      <th>count</th>\n",
       "      <td>6.000000</td>\n",
       "      <td>6.000000</td>\n",
       "      <td>6.000000</td>\n",
       "      <td>6.000000</td>\n",
       "    </tr>\n",
       "    <tr>\n",
       "      <th>mean</th>\n",
       "      <td>-0.284687</td>\n",
       "      <td>-1.021582</td>\n",
       "      <td>0.524809</td>\n",
       "      <td>-0.087256</td>\n",
       "    </tr>\n",
       "    <tr>\n",
       "      <th>std</th>\n",
       "      <td>1.033702</td>\n",
       "      <td>0.988307</td>\n",
       "      <td>1.762050</td>\n",
       "      <td>0.720734</td>\n",
       "    </tr>\n",
       "    <tr>\n",
       "      <th>min</th>\n",
       "      <td>-1.946832</td>\n",
       "      <td>-2.196950</td>\n",
       "      <td>-1.737564</td>\n",
       "      <td>-1.101166</td>\n",
       "    </tr>\n",
       "    <tr>\n",
       "      <th>25%</th>\n",
       "      <td>-0.540145</td>\n",
       "      <td>-1.824231</td>\n",
       "      <td>-0.573533</td>\n",
       "      <td>-0.520766</td>\n",
       "    </tr>\n",
       "    <tr>\n",
       "      <th>50%</th>\n",
       "      <td>-0.245894</td>\n",
       "      <td>-0.992988</td>\n",
       "      <td>0.222072</td>\n",
       "      <td>-0.083967</td>\n",
       "    </tr>\n",
       "    <tr>\n",
       "      <th>75%</th>\n",
       "      <td>0.060801</td>\n",
       "      <td>-0.263077</td>\n",
       "      <td>2.013035</td>\n",
       "      <td>0.391048</td>\n",
       "    </tr>\n",
       "    <tr>\n",
       "      <th>max</th>\n",
       "      <td>1.205692</td>\n",
       "      <td>0.174518</td>\n",
       "      <td>2.670988</td>\n",
       "      <td>0.862541</td>\n",
       "    </tr>\n",
       "  </tbody>\n",
       "</table>\n",
       "</div>"
      ],
      "text/plain": [
       "              A         B         C         D\n",
       "count  6.000000  6.000000  6.000000  6.000000\n",
       "mean  -0.284687 -1.021582  0.524809 -0.087256\n",
       "std    1.033702  0.988307  1.762050  0.720734\n",
       "min   -1.946832 -2.196950 -1.737564 -1.101166\n",
       "25%   -0.540145 -1.824231 -0.573533 -0.520766\n",
       "50%   -0.245894 -0.992988  0.222072 -0.083967\n",
       "75%    0.060801 -0.263077  2.013035  0.391048\n",
       "max    1.205692  0.174518  2.670988  0.862541"
      ]
     },
     "execution_count": 15,
     "metadata": {},
     "output_type": "execute_result"
    }
   ],
   "source": [
    "df.describe()"
   ]
  },
  {
   "cell_type": "code",
   "execution_count": null,
   "id": "c7dd7e56-2b84-4efa-8b9a-67a1274b8e24",
   "metadata": {},
   "outputs": [],
   "source": []
  },
  {
   "cell_type": "code",
   "execution_count": null,
   "id": "37666d90-a938-4cd2-aaf2-bf5a0b731e4c",
   "metadata": {},
   "outputs": [],
   "source": []
  },
  {
   "cell_type": "markdown",
   "id": "7d47d271-3ed4-4a61-bf12-a9896b429657",
   "metadata": {},
   "source": [
    "- Transpose"
   ]
  },
  {
   "cell_type": "code",
   "execution_count": 16,
   "id": "37f24f29-24b7-4aa4-8eed-cd40f832ae5e",
   "metadata": {},
   "outputs": [
    {
     "data": {
      "text/html": [
       "<div>\n",
       "<style scoped>\n",
       "    .dataframe tbody tr th:only-of-type {\n",
       "        vertical-align: middle;\n",
       "    }\n",
       "\n",
       "    .dataframe tbody tr th {\n",
       "        vertical-align: top;\n",
       "    }\n",
       "\n",
       "    .dataframe thead th {\n",
       "        text-align: right;\n",
       "    }\n",
       "</style>\n",
       "<table border=\"1\" class=\"dataframe\">\n",
       "  <thead>\n",
       "    <tr style=\"text-align: right;\">\n",
       "      <th></th>\n",
       "      <th>2013-01-01</th>\n",
       "      <th>2013-01-02</th>\n",
       "      <th>2013-01-03</th>\n",
       "      <th>2013-01-04</th>\n",
       "      <th>2013-01-05</th>\n",
       "      <th>2013-01-06</th>\n",
       "    </tr>\n",
       "  </thead>\n",
       "  <tbody>\n",
       "    <tr>\n",
       "      <th>A</th>\n",
       "      <td>-0.542314</td>\n",
       "      <td>-1.946832</td>\n",
       "      <td>0.041852</td>\n",
       "      <td>0.067117</td>\n",
       "      <td>-0.533639</td>\n",
       "      <td>1.205692</td>\n",
       "    </tr>\n",
       "    <tr>\n",
       "      <th>B</th>\n",
       "      <td>-1.920692</td>\n",
       "      <td>0.174518</td>\n",
       "      <td>-0.451127</td>\n",
       "      <td>-1.534849</td>\n",
       "      <td>-0.200394</td>\n",
       "      <td>-2.196950</td>\n",
       "    </tr>\n",
       "    <tr>\n",
       "      <th>C</th>\n",
       "      <td>0.780296</td>\n",
       "      <td>2.670988</td>\n",
       "      <td>2.423947</td>\n",
       "      <td>-0.652659</td>\n",
       "      <td>-1.737564</td>\n",
       "      <td>-0.336152</td>\n",
       "    </tr>\n",
       "    <tr>\n",
       "      <th>D</th>\n",
       "      <td>-0.601324</td>\n",
       "      <td>-1.101166</td>\n",
       "      <td>-0.279090</td>\n",
       "      <td>0.862541</td>\n",
       "      <td>0.484345</td>\n",
       "      <td>0.111155</td>\n",
       "    </tr>\n",
       "  </tbody>\n",
       "</table>\n",
       "</div>"
      ],
      "text/plain": [
       "   2013-01-01  2013-01-02  2013-01-03  2013-01-04  2013-01-05  2013-01-06\n",
       "A   -0.542314   -1.946832    0.041852    0.067117   -0.533639    1.205692\n",
       "B   -1.920692    0.174518   -0.451127   -1.534849   -0.200394   -2.196950\n",
       "C    0.780296    2.670988    2.423947   -0.652659   -1.737564   -0.336152\n",
       "D   -0.601324   -1.101166   -0.279090    0.862541    0.484345    0.111155"
      ]
     },
     "execution_count": 16,
     "metadata": {},
     "output_type": "execute_result"
    }
   ],
   "source": [
    "df.T"
   ]
  },
  {
   "cell_type": "code",
   "execution_count": 18,
   "id": "5091b0c6-0112-4e9c-9c1b-e5e558f99b08",
   "metadata": {},
   "outputs": [],
   "source": [
    "#and sort by column name"
   ]
  },
  {
   "cell_type": "code",
   "execution_count": 19,
   "id": "109f2e54-a1e2-44f2-ad44-7d88633b104e",
   "metadata": {},
   "outputs": [
    {
     "data": {
      "text/html": [
       "<div>\n",
       "<style scoped>\n",
       "    .dataframe tbody tr th:only-of-type {\n",
       "        vertical-align: middle;\n",
       "    }\n",
       "\n",
       "    .dataframe tbody tr th {\n",
       "        vertical-align: top;\n",
       "    }\n",
       "\n",
       "    .dataframe thead th {\n",
       "        text-align: right;\n",
       "    }\n",
       "</style>\n",
       "<table border=\"1\" class=\"dataframe\">\n",
       "  <thead>\n",
       "    <tr style=\"text-align: right;\">\n",
       "      <th></th>\n",
       "      <th>D</th>\n",
       "      <th>C</th>\n",
       "      <th>B</th>\n",
       "      <th>A</th>\n",
       "    </tr>\n",
       "  </thead>\n",
       "  <tbody>\n",
       "    <tr>\n",
       "      <th>2013-01-01</th>\n",
       "      <td>-0.601324</td>\n",
       "      <td>0.780296</td>\n",
       "      <td>-1.920692</td>\n",
       "      <td>-0.542314</td>\n",
       "    </tr>\n",
       "    <tr>\n",
       "      <th>2013-01-02</th>\n",
       "      <td>-1.101166</td>\n",
       "      <td>2.670988</td>\n",
       "      <td>0.174518</td>\n",
       "      <td>-1.946832</td>\n",
       "    </tr>\n",
       "    <tr>\n",
       "      <th>2013-01-03</th>\n",
       "      <td>-0.279090</td>\n",
       "      <td>2.423947</td>\n",
       "      <td>-0.451127</td>\n",
       "      <td>0.041852</td>\n",
       "    </tr>\n",
       "    <tr>\n",
       "      <th>2013-01-04</th>\n",
       "      <td>0.862541</td>\n",
       "      <td>-0.652659</td>\n",
       "      <td>-1.534849</td>\n",
       "      <td>0.067117</td>\n",
       "    </tr>\n",
       "    <tr>\n",
       "      <th>2013-01-05</th>\n",
       "      <td>0.484345</td>\n",
       "      <td>-1.737564</td>\n",
       "      <td>-0.200394</td>\n",
       "      <td>-0.533639</td>\n",
       "    </tr>\n",
       "    <tr>\n",
       "      <th>2013-01-06</th>\n",
       "      <td>0.111155</td>\n",
       "      <td>-0.336152</td>\n",
       "      <td>-2.196950</td>\n",
       "      <td>1.205692</td>\n",
       "    </tr>\n",
       "  </tbody>\n",
       "</table>\n",
       "</div>"
      ],
      "text/plain": [
       "                   D         C         B         A\n",
       "2013-01-01 -0.601324  0.780296 -1.920692 -0.542314\n",
       "2013-01-02 -1.101166  2.670988  0.174518 -1.946832\n",
       "2013-01-03 -0.279090  2.423947 -0.451127  0.041852\n",
       "2013-01-04  0.862541 -0.652659 -1.534849  0.067117\n",
       "2013-01-05  0.484345 -1.737564 -0.200394 -0.533639\n",
       "2013-01-06  0.111155 -0.336152 -2.196950  1.205692"
      ]
     },
     "execution_count": 19,
     "metadata": {},
     "output_type": "execute_result"
    }
   ],
   "source": [
    "df.sort_index(axis=1, ascending=False)"
   ]
  },
  {
   "cell_type": "code",
   "execution_count": 20,
   "id": "3d1d8595-8084-446f-ab13-3b122f15bc47",
   "metadata": {},
   "outputs": [],
   "source": [
    "#We can also sort DataFrame by values in specific column."
   ]
  },
  {
   "cell_type": "code",
   "execution_count": 21,
   "id": "ab435d64-09b0-4ffc-81f5-6644d9b85aec",
   "metadata": {},
   "outputs": [
    {
     "data": {
      "text/html": [
       "<div>\n",
       "<style scoped>\n",
       "    .dataframe tbody tr th:only-of-type {\n",
       "        vertical-align: middle;\n",
       "    }\n",
       "\n",
       "    .dataframe tbody tr th {\n",
       "        vertical-align: top;\n",
       "    }\n",
       "\n",
       "    .dataframe thead th {\n",
       "        text-align: right;\n",
       "    }\n",
       "</style>\n",
       "<table border=\"1\" class=\"dataframe\">\n",
       "  <thead>\n",
       "    <tr style=\"text-align: right;\">\n",
       "      <th></th>\n",
       "      <th>A</th>\n",
       "      <th>B</th>\n",
       "      <th>C</th>\n",
       "      <th>D</th>\n",
       "    </tr>\n",
       "  </thead>\n",
       "  <tbody>\n",
       "    <tr>\n",
       "      <th>2013-01-06</th>\n",
       "      <td>1.205692</td>\n",
       "      <td>-2.196950</td>\n",
       "      <td>-0.336152</td>\n",
       "      <td>0.111155</td>\n",
       "    </tr>\n",
       "    <tr>\n",
       "      <th>2013-01-01</th>\n",
       "      <td>-0.542314</td>\n",
       "      <td>-1.920692</td>\n",
       "      <td>0.780296</td>\n",
       "      <td>-0.601324</td>\n",
       "    </tr>\n",
       "    <tr>\n",
       "      <th>2013-01-04</th>\n",
       "      <td>0.067117</td>\n",
       "      <td>-1.534849</td>\n",
       "      <td>-0.652659</td>\n",
       "      <td>0.862541</td>\n",
       "    </tr>\n",
       "    <tr>\n",
       "      <th>2013-01-03</th>\n",
       "      <td>0.041852</td>\n",
       "      <td>-0.451127</td>\n",
       "      <td>2.423947</td>\n",
       "      <td>-0.279090</td>\n",
       "    </tr>\n",
       "    <tr>\n",
       "      <th>2013-01-05</th>\n",
       "      <td>-0.533639</td>\n",
       "      <td>-0.200394</td>\n",
       "      <td>-1.737564</td>\n",
       "      <td>0.484345</td>\n",
       "    </tr>\n",
       "    <tr>\n",
       "      <th>2013-01-02</th>\n",
       "      <td>-1.946832</td>\n",
       "      <td>0.174518</td>\n",
       "      <td>2.670988</td>\n",
       "      <td>-1.101166</td>\n",
       "    </tr>\n",
       "  </tbody>\n",
       "</table>\n",
       "</div>"
      ],
      "text/plain": [
       "                   A         B         C         D\n",
       "2013-01-06  1.205692 -2.196950 -0.336152  0.111155\n",
       "2013-01-01 -0.542314 -1.920692  0.780296 -0.601324\n",
       "2013-01-04  0.067117 -1.534849 -0.652659  0.862541\n",
       "2013-01-03  0.041852 -0.451127  2.423947 -0.279090\n",
       "2013-01-05 -0.533639 -0.200394 -1.737564  0.484345\n",
       "2013-01-02 -1.946832  0.174518  2.670988 -1.101166"
      ]
     },
     "execution_count": 21,
     "metadata": {},
     "output_type": "execute_result"
    }
   ],
   "source": [
    "df.sort_values(by='B')"
   ]
  },
  {
   "cell_type": "code",
   "execution_count": null,
   "id": "9d73dc6d-c740-4530-b174-e53df68ac84d",
   "metadata": {},
   "outputs": [],
   "source": []
  }
 ],
 "metadata": {
  "kernelspec": {
   "display_name": "THE_ONE",
   "language": "python",
   "name": "the_one"
  },
  "language_info": {
   "codemirror_mode": {
    "name": "ipython",
    "version": 3
   },
   "file_extension": ".py",
   "mimetype": "text/x-python",
   "name": "python",
   "nbconvert_exporter": "python",
   "pygments_lexer": "ipython3",
   "version": "3.8.16"
  }
 },
 "nbformat": 4,
 "nbformat_minor": 5
}
