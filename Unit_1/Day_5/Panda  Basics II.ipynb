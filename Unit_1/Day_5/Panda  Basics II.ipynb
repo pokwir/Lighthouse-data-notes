{
 "cells": [
  {
   "cell_type": "code",
   "execution_count": 35,
   "id": "bc86993b-a400-45af-9312-eba43aea6d2c",
   "metadata": {},
   "outputs": [],
   "source": [
    "import numpy as np\n",
    "import pandas as pd\n",
    "\n",
    "from IPython.display import display, HTML"
   ]
  },
  {
   "cell_type": "markdown",
   "id": "305ebb0e-8d06-471c-9c1b-49162346066c",
   "metadata": {},
   "source": [
    "# Panda Basics II"
   ]
  },
  {
   "cell_type": "markdown",
   "id": "7429cf92-d80c-4ac9-a6af-97f5457a23e0",
   "metadata": {},
   "source": [
    "#### Boolean Comparisons"
   ]
  },
  {
   "cell_type": "markdown",
   "id": "c53587f1-f5aa-476d-83a6-dd33c4c370fb",
   "metadata": {},
   "source": [
    "Series and DataFrame have the binary comparison methods eq, ne, le, lt, ge, and gt whose behavior is vectorized:\n",
    "\n",
    "eq (equivalent to ==) — equals to\n",
    "\n",
    "ne (equivalent to !=) — not equals to\n",
    "\n",
    "le (equivalent to <=) — less than or equals to\n",
    "\n",
    "lt (equivalent to <) — less than\n",
    "\n",
    "ge (equivalent to >=) — greater than or equals to\n",
    "\n",
    "gt (equivalent to >) — greater than\n"
   ]
  },
  {
   "cell_type": "code",
   "execution_count": null,
   "id": "d518b314-9c69-46f9-9f00-bcd9fd3e325d",
   "metadata": {},
   "outputs": [],
   "source": []
  },
  {
   "cell_type": "markdown",
   "id": "62ccaedb-709f-4c0b-945c-234b0fb38345",
   "metadata": {},
   "source": [
    "pd.read_csv()\n",
    "The read_csv function is simple way to read csv (comma separated values) files, which is a commonly used file format for storing data.\n",
    "\n"
   ]
  },
  {
   "cell_type": "code",
   "execution_count": null,
   "id": "907d2f81-e552-428f-985a-bcc0fabbe9f2",
   "metadata": {},
   "outputs": [],
   "source": []
  },
  {
   "cell_type": "code",
   "execution_count": null,
   "id": "260d4805-d79e-460a-b9cb-9abfc12a506f",
   "metadata": {},
   "outputs": [],
   "source": []
  },
  {
   "cell_type": "code",
   "execution_count": 4,
   "id": "6f37d4eb-f278-4700-b03c-80185226721d",
   "metadata": {},
   "outputs": [],
   "source": [
    "df = pd.DataFrame({\n",
    "        'one': pd.Series(np.random.randn(3), index=['a', 'b', 'c']),\n",
    "        'two': pd.Series(np.random.randn(4), index=['a', 'b', 'c', 'd']),\n",
    "        'three': pd.Series(np.random.randn(3), index=['b', 'c', 'd'])})"
   ]
  },
  {
   "cell_type": "code",
   "execution_count": 5,
   "id": "977866f3-0a29-4748-bf6f-bb3dea157bc2",
   "metadata": {},
   "outputs": [
    {
     "data": {
      "text/html": [
       "<div>\n",
       "<style scoped>\n",
       "    .dataframe tbody tr th:only-of-type {\n",
       "        vertical-align: middle;\n",
       "    }\n",
       "\n",
       "    .dataframe tbody tr th {\n",
       "        vertical-align: top;\n",
       "    }\n",
       "\n",
       "    .dataframe thead th {\n",
       "        text-align: right;\n",
       "    }\n",
       "</style>\n",
       "<table border=\"1\" class=\"dataframe\">\n",
       "  <thead>\n",
       "    <tr style=\"text-align: right;\">\n",
       "      <th></th>\n",
       "      <th>one</th>\n",
       "      <th>two</th>\n",
       "      <th>three</th>\n",
       "    </tr>\n",
       "  </thead>\n",
       "  <tbody>\n",
       "    <tr>\n",
       "      <th>a</th>\n",
       "      <td>-0.948215</td>\n",
       "      <td>-0.570470</td>\n",
       "      <td>NaN</td>\n",
       "    </tr>\n",
       "    <tr>\n",
       "      <th>b</th>\n",
       "      <td>-0.219192</td>\n",
       "      <td>-0.734155</td>\n",
       "      <td>0.815758</td>\n",
       "    </tr>\n",
       "    <tr>\n",
       "      <th>c</th>\n",
       "      <td>-1.728600</td>\n",
       "      <td>-2.053497</td>\n",
       "      <td>0.185963</td>\n",
       "    </tr>\n",
       "    <tr>\n",
       "      <th>d</th>\n",
       "      <td>NaN</td>\n",
       "      <td>-1.855228</td>\n",
       "      <td>-1.477839</td>\n",
       "    </tr>\n",
       "  </tbody>\n",
       "</table>\n",
       "</div>"
      ],
      "text/plain": [
       "        one       two     three\n",
       "a -0.948215 -0.570470       NaN\n",
       "b -0.219192 -0.734155  0.815758\n",
       "c -1.728600 -2.053497  0.185963\n",
       "d       NaN -1.855228 -1.477839"
      ]
     },
     "execution_count": 5,
     "metadata": {},
     "output_type": "execute_result"
    }
   ],
   "source": [
    "df"
   ]
  },
  {
   "cell_type": "code",
   "execution_count": 6,
   "id": "2742fbad-f21b-4cd2-949d-5dca2969f6c5",
   "metadata": {},
   "outputs": [],
   "source": [
    "df2 = df.copy()"
   ]
  },
  {
   "cell_type": "code",
   "execution_count": 7,
   "id": "e6f24c3b-5120-4a31-8fe8-a494d578d0a7",
   "metadata": {},
   "outputs": [
    {
     "data": {
      "text/html": [
       "<div>\n",
       "<style scoped>\n",
       "    .dataframe tbody tr th:only-of-type {\n",
       "        vertical-align: middle;\n",
       "    }\n",
       "\n",
       "    .dataframe tbody tr th {\n",
       "        vertical-align: top;\n",
       "    }\n",
       "\n",
       "    .dataframe thead th {\n",
       "        text-align: right;\n",
       "    }\n",
       "</style>\n",
       "<table border=\"1\" class=\"dataframe\">\n",
       "  <thead>\n",
       "    <tr style=\"text-align: right;\">\n",
       "      <th></th>\n",
       "      <th>one</th>\n",
       "      <th>two</th>\n",
       "      <th>three</th>\n",
       "    </tr>\n",
       "  </thead>\n",
       "  <tbody>\n",
       "    <tr>\n",
       "      <th>a</th>\n",
       "      <td>False</td>\n",
       "      <td>False</td>\n",
       "      <td>False</td>\n",
       "    </tr>\n",
       "    <tr>\n",
       "      <th>b</th>\n",
       "      <td>False</td>\n",
       "      <td>False</td>\n",
       "      <td>False</td>\n",
       "    </tr>\n",
       "    <tr>\n",
       "      <th>c</th>\n",
       "      <td>False</td>\n",
       "      <td>False</td>\n",
       "      <td>False</td>\n",
       "    </tr>\n",
       "    <tr>\n",
       "      <th>d</th>\n",
       "      <td>False</td>\n",
       "      <td>False</td>\n",
       "      <td>False</td>\n",
       "    </tr>\n",
       "  </tbody>\n",
       "</table>\n",
       "</div>"
      ],
      "text/plain": [
       "     one    two  three\n",
       "a  False  False  False\n",
       "b  False  False  False\n",
       "c  False  False  False\n",
       "d  False  False  False"
      ]
     },
     "execution_count": 7,
     "metadata": {},
     "output_type": "execute_result"
    }
   ],
   "source": [
    "df.gt(df2)"
   ]
  },
  {
   "cell_type": "code",
   "execution_count": 8,
   "id": "77ab7d5d-d77e-4e7a-9574-5cb9a2ff1186",
   "metadata": {},
   "outputs": [
    {
     "data": {
      "text/html": [
       "<div>\n",
       "<style scoped>\n",
       "    .dataframe tbody tr th:only-of-type {\n",
       "        vertical-align: middle;\n",
       "    }\n",
       "\n",
       "    .dataframe tbody tr th {\n",
       "        vertical-align: top;\n",
       "    }\n",
       "\n",
       "    .dataframe thead th {\n",
       "        text-align: right;\n",
       "    }\n",
       "</style>\n",
       "<table border=\"1\" class=\"dataframe\">\n",
       "  <thead>\n",
       "    <tr style=\"text-align: right;\">\n",
       "      <th></th>\n",
       "      <th>one</th>\n",
       "      <th>two</th>\n",
       "      <th>three</th>\n",
       "    </tr>\n",
       "  </thead>\n",
       "  <tbody>\n",
       "    <tr>\n",
       "      <th>a</th>\n",
       "      <td>False</td>\n",
       "      <td>False</td>\n",
       "      <td>True</td>\n",
       "    </tr>\n",
       "    <tr>\n",
       "      <th>b</th>\n",
       "      <td>False</td>\n",
       "      <td>False</td>\n",
       "      <td>False</td>\n",
       "    </tr>\n",
       "    <tr>\n",
       "      <th>c</th>\n",
       "      <td>False</td>\n",
       "      <td>False</td>\n",
       "      <td>False</td>\n",
       "    </tr>\n",
       "    <tr>\n",
       "      <th>d</th>\n",
       "      <td>True</td>\n",
       "      <td>False</td>\n",
       "      <td>False</td>\n",
       "    </tr>\n",
       "  </tbody>\n",
       "</table>\n",
       "</div>"
      ],
      "text/plain": [
       "     one    two  three\n",
       "a  False  False   True\n",
       "b  False  False  False\n",
       "c  False  False  False\n",
       "d   True  False  False"
      ]
     },
     "execution_count": 8,
     "metadata": {},
     "output_type": "execute_result"
    }
   ],
   "source": [
    "df.ne(df2)"
   ]
  },
  {
   "cell_type": "markdown",
   "id": "8723e0f1-aa48-46ab-a8d9-2aefbcd3ce13",
   "metadata": {},
   "source": [
    "#### You can apply the reductions: empty, any(), all(), and bool() to provide a way to summarize a boolean result."
   ]
  },
  {
   "cell_type": "code",
   "execution_count": 9,
   "id": "26778d07-a3fc-482b-807a-ae48ba75dbc8",
   "metadata": {},
   "outputs": [
    {
     "data": {
      "text/plain": [
       "one      False\n",
       "two      False\n",
       "three    False\n",
       "dtype: bool"
      ]
     },
     "execution_count": 9,
     "metadata": {},
     "output_type": "execute_result"
    }
   ],
   "source": [
    "(df > 0).all()"
   ]
  },
  {
   "cell_type": "code",
   "execution_count": 10,
   "id": "c7eadaba-87cf-4c5d-bfec-c57b51da400a",
   "metadata": {},
   "outputs": [
    {
     "data": {
      "text/plain": [
       "one      False\n",
       "two      False\n",
       "three     True\n",
       "dtype: bool"
      ]
     },
     "execution_count": 10,
     "metadata": {},
     "output_type": "execute_result"
    }
   ],
   "source": [
    "(df > 0).any()"
   ]
  },
  {
   "cell_type": "code",
   "execution_count": 11,
   "id": "51f7582b-a4cd-4805-80c5-acf05d137417",
   "metadata": {},
   "outputs": [
    {
     "data": {
      "text/plain": [
       "True"
      ]
     },
     "execution_count": 11,
     "metadata": {},
     "output_type": "execute_result"
    }
   ],
   "source": [
    "(df > 0).any().any()"
   ]
  },
  {
   "cell_type": "markdown",
   "id": "f61ffd9a-bc5d-448f-9a19-f6b996d3b348",
   "metadata": {},
   "source": [
    "*To evaluate single-element pandas objects in a boolean context, use the method bool():*"
   ]
  },
  {
   "cell_type": "code",
   "execution_count": 12,
   "id": "2682b409-1a18-4109-a446-5f95f367d71a",
   "metadata": {},
   "outputs": [
    {
     "data": {
      "text/plain": [
       "True"
      ]
     },
     "execution_count": 12,
     "metadata": {},
     "output_type": "execute_result"
    }
   ],
   "source": [
    "pd.Series([True]).bool()"
   ]
  },
  {
   "cell_type": "code",
   "execution_count": 13,
   "id": "4152b1ed-5c29-4ff5-a883-26e28dd14174",
   "metadata": {},
   "outputs": [
    {
     "data": {
      "text/plain": [
       "False"
      ]
     },
     "execution_count": 13,
     "metadata": {},
     "output_type": "execute_result"
    }
   ],
   "source": [
    "pd.Series([False]).bool()"
   ]
  },
  {
   "cell_type": "code",
   "execution_count": 14,
   "id": "ab867418-d043-4e48-a6e4-aa6a8bbeff2d",
   "metadata": {},
   "outputs": [
    {
     "data": {
      "text/plain": [
       "True"
      ]
     },
     "execution_count": 14,
     "metadata": {},
     "output_type": "execute_result"
    }
   ],
   "source": [
    " pd.DataFrame([[True]]).bool()"
   ]
  },
  {
   "cell_type": "code",
   "execution_count": 15,
   "id": "56bff9d4-e9d3-413c-b89c-e5082ba8eb0e",
   "metadata": {},
   "outputs": [
    {
     "data": {
      "text/plain": [
       "False"
      ]
     },
     "execution_count": 15,
     "metadata": {},
     "output_type": "execute_result"
    }
   ],
   "source": [
    "pd.DataFrame([[False]]).bool()"
   ]
  },
  {
   "cell_type": "code",
   "execution_count": null,
   "id": "285798d5-14b5-47f6-90bd-6b5d92e65e95",
   "metadata": {},
   "outputs": [],
   "source": []
  },
  {
   "cell_type": "code",
   "execution_count": null,
   "id": "17b9ad20-f6a9-434d-b62b-b4ea806fa710",
   "metadata": {},
   "outputs": [],
   "source": []
  },
  {
   "cell_type": "markdown",
   "id": "4f7cd13d-2285-46e9-8300-7920096c2feb",
   "metadata": {},
   "source": [
    "### Objects comparison"
   ]
  },
  {
   "cell_type": "markdown",
   "id": "d368bcfc-9486-42bb-8092-4f6964907581",
   "metadata": {},
   "source": [
    "You can conveniently perform element-wise comparisons when comparing a pandas data structure with a scalar value:"
   ]
  },
  {
   "cell_type": "code",
   "execution_count": 16,
   "id": "a9619a3a-613a-4959-aecd-c3af81f747da",
   "metadata": {},
   "outputs": [
    {
     "data": {
      "text/plain": [
       "0     True\n",
       "1    False\n",
       "2    False\n",
       "dtype: bool"
      ]
     },
     "execution_count": 16,
     "metadata": {},
     "output_type": "execute_result"
    }
   ],
   "source": [
    "pd.Series(['foo', 'bar', 'baz']) == 'foo'"
   ]
  },
  {
   "cell_type": "markdown",
   "id": "07a77deb-d8c8-49c2-bc43-acc3064dab7c",
   "metadata": {},
   "source": [
    "Pandas also handles element-wise comparisons between different array-like objects of the same length:"
   ]
  },
  {
   "cell_type": "code",
   "execution_count": 36,
   "id": "12a03308-2a51-4ed5-b747-7f0d7d247e45",
   "metadata": {},
   "outputs": [
    {
     "data": {
      "text/plain": [
       "0     True\n",
       "1     True\n",
       "2    False\n",
       "dtype: bool"
      ]
     },
     "execution_count": 36,
     "metadata": {},
     "output_type": "execute_result"
    }
   ],
   "source": [
    "pd.Series(['foo', 'bar', 'baz']) == pd.Index(['foo', 'bar', 'qux'])"
   ]
  },
  {
   "cell_type": "code",
   "execution_count": null,
   "id": "1276fbab-801d-40c2-bf88-1f26c9571aea",
   "metadata": {},
   "outputs": [],
   "source": []
  },
  {
   "cell_type": "code",
   "execution_count": null,
   "id": "428b03d4-9861-4ada-bfce-304a371926e6",
   "metadata": {},
   "outputs": [],
   "source": []
  },
  {
   "cell_type": "markdown",
   "id": "da5713a5-a653-403d-8851-60540a878326",
   "metadata": {},
   "source": [
    "### Descriptive Statistics"
   ]
  },
  {
   "cell_type": "markdown",
   "id": "1c2f4c2e-c7cc-4504-a9cb-c0c8c94076b4",
   "metadata": {},
   "source": [
    "There exists a large number of methods for computing descriptive statistics and other related operations on Series, DataFrame. All of them are vectorized. Most of them are aggregations and produce a lower-dimensional result.\n",
    "\n",
    "Generally speaking, these methods take an axis as an argument and the axis can be specified by name or integer:"
   ]
  },
  {
   "cell_type": "code",
   "execution_count": 37,
   "id": "585f1f48-c1f2-411c-bc00-653437f6137c",
   "metadata": {},
   "outputs": [
    {
     "data": {
      "text/html": [
       "<div>\n",
       "<style scoped>\n",
       "    .dataframe tbody tr th:only-of-type {\n",
       "        vertical-align: middle;\n",
       "    }\n",
       "\n",
       "    .dataframe tbody tr th {\n",
       "        vertical-align: top;\n",
       "    }\n",
       "\n",
       "    .dataframe thead th {\n",
       "        text-align: right;\n",
       "    }\n",
       "</style>\n",
       "<table border=\"1\" class=\"dataframe\">\n",
       "  <thead>\n",
       "    <tr style=\"text-align: right;\">\n",
       "      <th></th>\n",
       "      <th>one</th>\n",
       "      <th>two</th>\n",
       "      <th>three</th>\n",
       "    </tr>\n",
       "  </thead>\n",
       "  <tbody>\n",
       "    <tr>\n",
       "      <th>a</th>\n",
       "      <td>-0.948215</td>\n",
       "      <td>-0.570470</td>\n",
       "      <td>NaN</td>\n",
       "    </tr>\n",
       "    <tr>\n",
       "      <th>b</th>\n",
       "      <td>-0.219192</td>\n",
       "      <td>-0.734155</td>\n",
       "      <td>0.815758</td>\n",
       "    </tr>\n",
       "    <tr>\n",
       "      <th>c</th>\n",
       "      <td>-1.728600</td>\n",
       "      <td>-2.053497</td>\n",
       "      <td>0.185963</td>\n",
       "    </tr>\n",
       "    <tr>\n",
       "      <th>d</th>\n",
       "      <td>NaN</td>\n",
       "      <td>-1.855228</td>\n",
       "      <td>-1.477839</td>\n",
       "    </tr>\n",
       "  </tbody>\n",
       "</table>\n",
       "</div>"
      ],
      "text/plain": [
       "        one       two     three\n",
       "a -0.948215 -0.570470       NaN\n",
       "b -0.219192 -0.734155  0.815758\n",
       "c -1.728600 -2.053497  0.185963\n",
       "d       NaN -1.855228 -1.477839"
      ]
     },
     "metadata": {},
     "output_type": "display_data"
    }
   ],
   "source": [
    "display(df)"
   ]
  },
  {
   "cell_type": "code",
   "execution_count": 21,
   "id": "1d643874-5c1c-4022-ad28-1bd6372a84b9",
   "metadata": {},
   "outputs": [
    {
     "data": {
      "text/plain": [
       "one     -0.965336\n",
       "two     -1.303338\n",
       "three   -0.158706\n",
       "dtype: float64"
      ]
     },
     "execution_count": 21,
     "metadata": {},
     "output_type": "execute_result"
    }
   ],
   "source": [
    "# Aggregate mean for each column\n",
    "df.mean(0)"
   ]
  },
  {
   "cell_type": "code",
   "execution_count": 22,
   "id": "4f354a2f-740c-41ee-a654-af3c45f4de60",
   "metadata": {},
   "outputs": [
    {
     "data": {
      "text/plain": [
       "a   -0.759343\n",
       "b   -0.045863\n",
       "c   -1.198711\n",
       "d   -1.666534\n",
       "dtype: float64"
      ]
     },
     "execution_count": 22,
     "metadata": {},
     "output_type": "execute_result"
    }
   ],
   "source": [
    "# Aggregate mean for each row\n",
    "df.mean(1)"
   ]
  },
  {
   "cell_type": "markdown",
   "id": "a005763d-ddfd-4881-88be-2cacf1ca8af4",
   "metadata": {},
   "source": [
    "By applying vectorized operations, we can describe various statistical procedures, like standardization (rendering data zero mean and standard deviation 1), very concisely:"
   ]
  },
  {
   "cell_type": "code",
   "execution_count": 23,
   "id": "6b302dbb-313b-4558-9451-ce8089352665",
   "metadata": {},
   "outputs": [],
   "source": [
    "ts_stand = (df - df.mean()) / df.std()"
   ]
  },
  {
   "cell_type": "code",
   "execution_count": 33,
   "id": "fe89c90b-688f-461c-b17c-717a7f48ee7a",
   "metadata": {},
   "outputs": [
    {
     "data": {
      "text/plain": [
       "one      1.0\n",
       "two      1.0\n",
       "three    1.0\n",
       "dtype: float64"
      ]
     },
     "execution_count": 33,
     "metadata": {},
     "output_type": "execute_result"
    }
   ],
   "source": [
    "ts_stand.std()"
   ]
  },
  {
   "cell_type": "markdown",
   "id": "02498f63-1e8d-4d9a-ae44-4eb3ce3c04bc",
   "metadata": {},
   "source": [
    "*Most popular descriptive statistics in Pandas*"
   ]
  },
  {
   "cell_type": "markdown",
   "id": "ba237f9b-e269-4aec-a924-d28d669485f8",
   "metadata": {},
   "source": [
    "*Most popular descriptive statistics in Pandas*\n",
    "\n",
    "| Function      | Description |\n",
    "| ----------- | ----------- |\n",
    "|sum()\t       |Return sum of values\n",
    "count()\t        |Return number of non-null observations\n",
    "mean()\t|Return mean of values\n",
    "median()\t|Return median of values\n",
    "mode()\t|Return mode of values\n",
    "std()\t|Return standard deviation of values\n",
    "min()\t|Return minimum\n",
    "max()\t|Return maximum\n",
    "abs()\t|Return absolute value\n",
    "prod()\t|Return Product of values\n",
    "cumsum()\t|Return cumulative sum\n",
    "cumprod()\t|Return cumulative product\n",
    "mad()\t|Mean absolute deviation\n",
    "var()\t|Unbiased variance\n",
    "skew()\t|Sample skewness\n",
    "kurt()\t|Sample kurtosis  |\n",
    "quantile()\t|Sample quantile  |\n",
    "cummax()\t|Cumulative maximum  |\n",
    "cummin()\t|Cumulative minimum  |\n",
    "describe()\t|Return summary of descriptive statistics  |   \n"
   ]
  },
  {
   "cell_type": "markdown",
   "id": "8b9bd678-2b3e-462e-8559-1e1042e0cd45",
   "metadata": {},
   "source": [
    "*Iterations*"
   ]
  },
  {
   "cell_type": "markdown",
   "id": "a4b43024-65d6-438f-94a2-50029a91741a",
   "metadata": {},
   "source": [
    "In short, basic iteration (for i in object) produces:\n",
    "\n",
    "Series: values\n",
    "DataFrame: column labels"
   ]
  },
  {
   "cell_type": "code",
   "execution_count": 38,
   "id": "0331f5d3-0ee7-49d7-9e41-074f93b95040",
   "metadata": {},
   "outputs": [],
   "source": [
    "df = pd.DataFrame({'col1': np.random.randn(3),\n",
    "                     'col2': np.random.randn(3)}, index=['a', 'b', 'c'])"
   ]
  },
  {
   "cell_type": "code",
   "execution_count": 39,
   "id": "a0331cf4-3039-4e3e-94e4-f8b19d5a1138",
   "metadata": {},
   "outputs": [
    {
     "name": "stdout",
     "output_type": "stream",
     "text": [
      "col1\n",
      "col2\n"
     ]
    }
   ],
   "source": [
    "for col in df:\n",
    "    print (col)"
   ]
  },
  {
   "cell_type": "code",
   "execution_count": 40,
   "id": "60977285-1a1e-4784-928d-da3773f24c1b",
   "metadata": {},
   "outputs": [],
   "source": [
    "# To iterate over the rows of a DataFrame, you can use the following methods:"
   ]
  },
  {
   "cell_type": "code",
   "execution_count": 41,
   "id": "e09e8cc5-450c-4712-b4f5-58574b6319f6",
   "metadata": {},
   "outputs": [],
   "source": [
    "#items(): to iterate over the (key, value) pairs.\n",
    "#iterrows(): Iterate over the rows of a DataFrame as (index, Series) pairs. \n",
    "            #This converts the rows to Series objects, which can change the dtypes and has some performance implications.\n",
    "#itertuples(): Iterate over the rows of a DataFrame as namedtuples of the values. \n",
    "                #This is a lot faster than iterrows() and is in most cases preferable to use to iterate over the values of a DataFrame."
   ]
  },
  {
   "cell_type": "markdown",
   "id": "ada1ac36-6401-40ca-8533-bfe2ace3fcda",
   "metadata": {},
   "source": [
    "items"
   ]
  },
  {
   "cell_type": "markdown",
   "id": "b4ab074b-2ba8-4360-bf0d-102b3c366197",
   "metadata": {},
   "source": [
    "Consistent with the dict-like interface, items() iterates through key-value pairs:\n",
    "\n",
    "Series: (index, scalar value) pairs\n",
    "DataFrame: (column, Series) pairs"
   ]
  },
  {
   "cell_type": "code",
   "execution_count": 42,
   "id": "a136731d-46d6-4c92-b0df-1cad306cf7a6",
   "metadata": {},
   "outputs": [],
   "source": [
    "df = pd.DataFrame({'a': [1, 2, 3], 'b': ['a', 'b', 'c']})"
   ]
  },
  {
   "cell_type": "code",
   "execution_count": 43,
   "id": "aa515244-f513-4be4-9649-1293c7899a3e",
   "metadata": {},
   "outputs": [
    {
     "name": "stdout",
     "output_type": "stream",
     "text": [
      "a\n",
      "0    1\n",
      "1    2\n",
      "2    3\n",
      "Name: a, dtype: int64\n",
      "b\n",
      "0    a\n",
      "1    b\n",
      "2    c\n",
      "Name: b, dtype: object\n"
     ]
    }
   ],
   "source": [
    "for label, ser in df.items():\n",
    "    print (label)\n",
    "    print (ser)"
   ]
  },
  {
   "cell_type": "markdown",
   "id": "cee63ccf-7709-4c06-95f7-1dbd57f1d6f8",
   "metadata": {},
   "source": [
    "\n",
    "\n",
    "\n",
    "**iterrows**\n",
    "\n",
    "\n",
    "iterrows() allows you to iterate through the rows of a DataFrame as Series objects. It returns an iterator yielding each index value along with a Series containing the data in each row:"
   ]
  },
  {
   "cell_type": "code",
   "execution_count": 44,
   "id": "b54819b6-6e6b-471e-9cc5-dfa7706ec962",
   "metadata": {},
   "outputs": [
    {
     "name": "stdout",
     "output_type": "stream",
     "text": [
      "0\n",
      "a    1\n",
      "b    a\n",
      "Name: 0, dtype: object\n",
      "1\n",
      "a    2\n",
      "b    b\n",
      "Name: 1, dtype: object\n",
      "2\n",
      "a    3\n",
      "b    c\n",
      "Name: 2, dtype: object\n"
     ]
    }
   ],
   "source": [
    "for row_index, row in df.iterrows():\n",
    "        print(row_index, row, sep='\\n')"
   ]
  },
  {
   "cell_type": "markdown",
   "id": "830c2120-bb88-4c50-8973-bcb8fea79f48",
   "metadata": {},
   "source": [
    "itertuple"
   ]
  },
  {
   "cell_type": "code",
   "execution_count": 45,
   "id": "461c5051-07cf-4ffa-bfdf-82512c1d3ad8",
   "metadata": {},
   "outputs": [
    {
     "name": "stdout",
     "output_type": "stream",
     "text": [
      "Pandas(Index=0, a=1, b='a')\n",
      "Pandas(Index=1, a=2, b='b')\n",
      "Pandas(Index=2, a=3, b='c')\n"
     ]
    }
   ],
   "source": [
    "for row in df.itertuples():\n",
    "        print(row)\n"
   ]
  },
  {
   "cell_type": "code",
   "execution_count": null,
   "id": "99ea7b61-7f28-4518-8e6c-b973583f8c84",
   "metadata": {},
   "outputs": [],
   "source": []
  }
 ],
 "metadata": {
  "kernelspec": {
   "display_name": "THE_ONE",
   "language": "python",
   "name": "the_one"
  },
  "language_info": {
   "codemirror_mode": {
    "name": "ipython",
    "version": 3
   },
   "file_extension": ".py",
   "mimetype": "text/x-python",
   "name": "python",
   "nbconvert_exporter": "python",
   "pygments_lexer": "ipython3",
   "version": "3.8.16"
  }
 },
 "nbformat": 4,
 "nbformat_minor": 5
}
