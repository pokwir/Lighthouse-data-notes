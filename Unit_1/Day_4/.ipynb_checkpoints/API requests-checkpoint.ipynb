{
 "cells": [
  {
   "cell_type": "code",
   "execution_count": 1,
   "id": "f5741aa6-3509-4533-ac8a-6718bb38dda1",
   "metadata": {},
   "outputs": [],
   "source": [
    "!source ~/.bash_profile\n",
    "import requests\n",
    "import os\n",
    "api_key = os.environ['FOURSQUARE_API_KEY']\n",
    "location = 'Toronto, Canada'\n",
    "url = \"https://api.foursquare.com/v3/places/search?near=\" + location\n",
    "headers = {'accept': 'application/json'}\n",
    "headers['Authorization'] = api_key\n",
    "result = requests.get(url, headers = headers)"
   ]
  },
  {
   "cell_type": "code",
   "execution_count": 2,
   "id": "1e200f75-3f23-4bef-923d-4c8de20dfe55",
   "metadata": {},
   "outputs": [
    {
     "name": "stdout",
     "output_type": "stream",
     "text": [
      "<Response [200]>\n"
     ]
    }
   ],
   "source": [
    "print (result)"
   ]
  },
  {
   "cell_type": "code",
   "execution_count": 3,
   "id": "d7b45d50-40ad-4193-a5c8-0c337a71c8dc",
   "metadata": {},
   "outputs": [
    {
     "name": "stdout",
     "output_type": "stream",
     "text": [
      "{'results': [{'fsq_id': '4ec17030f5b93923c238a507', 'categories': [{'id': 17059, 'name': 'Butcher', 'icon': {'prefix': 'https://ss3.4sqi.net/img/categories_v2/shops/food_butcher_', 'suffix': '.png'}}, {'id': 17069, 'name': 'Grocery Store / Supermarket', 'icon': {'prefix': 'https://ss3.4sqi.net/img/categories_v2/shops/food_grocery_', 'suffix': '.png'}}, {'id': 17077, 'name': 'Meat and Seafood Store', 'icon': {'prefix': 'https://ss3.4sqi.net/img/categories_v2/shops/foodanddrink_', 'suffix': '.png'}}], 'chains': [], 'distance': 1536, 'geocodes': {'drop_off': {'latitude': 43.701925, 'longitude': -79.397343}, 'main': {'latitude': 43.701982, 'longitude': -79.397087}, 'roof': {'latitude': 43.701982, 'longitude': -79.397087}}, 'link': '/v3/places/4ec17030f5b93923c238a507', 'location': {'address': '2055 Yonge St', 'country': 'CA', 'cross_street': 'Yonge & Davisville', 'formatted_address': '2055 Yonge St (Yonge & Davisville), Toronto ON M4S 2A2', 'locality': 'Toronto', 'postcode': 'M4S 2A2', 'region': 'ON'}, 'name': \"The Butcher's Son\", 'related_places': {}, 'timezone': 'America/Toronto'}, {'fsq_id': '5f47eddf704690529cef554e', 'categories': [{'id': 13034, 'name': 'Café', 'icon': {'prefix': 'https://ss3.4sqi.net/img/categories_v2/food/cafe_', 'suffix': '.png'}}, {'id': 13065, 'name': 'Restaurant', 'icon': {'prefix': 'https://ss3.4sqi.net/img/categories_v2/food/default_', 'suffix': '.png'}}], 'chains': [], 'distance': 1723, 'geocodes': {'main': {'latitude': 43.709302, 'longitude': -79.399145}, 'roof': {'latitude': 43.709302, 'longitude': -79.399145}}, 'link': '/v3/places/5f47eddf704690529cef554e', 'location': {'address': '2388 Yonge St', 'country': 'CA', 'cross_street': '', 'formatted_address': '2388 Yonge St, Toronto ON M4P 3J5', 'locality': 'Toronto', 'postcode': 'M4P 3J5', 'region': 'ON'}, 'name': 'Stock T.C', 'related_places': {'children': [{'fsq_id': '61283ef7eded2673ebb0da1e', 'name': 'Stock Bar'}]}, 'timezone': 'America/Toronto'}, {'fsq_id': '5282572111d2f33612220715', 'categories': [{'id': 13025, 'name': 'Wine Bar', 'icon': {'prefix': 'https://ss3.4sqi.net/img/categories_v2/food/winery_', 'suffix': '.png'}}, {'id': 13035, 'name': 'Coffee Shop', 'icon': {'prefix': 'https://ss3.4sqi.net/img/categories_v2/food/coffeeshop_', 'suffix': '.png'}}, {'id': 13065, 'name': 'Restaurant', 'icon': {'prefix': 'https://ss3.4sqi.net/img/categories_v2/food/default_', 'suffix': '.png'}}], 'chains': [], 'distance': 2854, 'geocodes': {'main': {'latitude': 43.681714, 'longitude': -79.391609}, 'roof': {'latitude': 43.681714, 'longitude': -79.391609}}, 'link': '/v3/places/5282572111d2f33612220715', 'location': {'address': '1208 Yonge St', 'country': 'CA', 'cross_street': 'Summerhill', 'formatted_address': '1208 Yonge St (Summerhill), Toronto ON M4T 1W1', 'locality': 'Toronto', 'postcode': 'M4T 1W1', 'region': 'ON'}, 'name': 'Boxcar Social', 'related_places': {}, 'timezone': 'America/Toronto'}, {'fsq_id': '540c8301498e51456f71ae7e', 'categories': [{'id': 13034, 'name': 'Café', 'icon': {'prefix': 'https://ss3.4sqi.net/img/categories_v2/food/cafe_', 'suffix': '.png'}}], 'chains': [], 'distance': 3534, 'geocodes': {'main': {'latitude': 43.668982, 'longitude': -79.426153}, 'roof': {'latitude': 43.668982, 'longitude': -79.426153}}, 'link': '/v3/places/540c8301498e51456f71ae7e', 'location': {'address': '1028 Shaw St', 'country': 'CA', 'cross_street': 'Yarmouth', 'formatted_address': '1028 Shaw St (Yarmouth), Toronto ON M6G 3N1', 'locality': 'Toronto', 'postcode': 'M6G 3N1', 'region': 'ON'}, 'name': 'Contra Cafe', 'related_places': {}, 'timezone': 'America/Toronto'}, {'fsq_id': '4dc03ef381545e1cc7e049e6', 'categories': [{'id': 11045, 'name': 'Bank', 'icon': {'prefix': 'https://ss3.4sqi.net/img/categories_v2/shops/financial_', 'suffix': '.png'}}], 'chains': [], 'distance': 530, 'geocodes': {'main': {'latitude': 43.700899, 'longitude': -79.426633}, 'roof': {'latitude': 43.700899, 'longitude': -79.426633}}, 'link': '/v3/places/4dc03ef381545e1cc7e049e6', 'location': {'address': '880 Eglinton Ave W', 'country': 'CA', 'cross_street': '', 'formatted_address': '880 Eglinton Ave W, Toronto ON M6C 2B6', 'locality': 'Toronto', 'postcode': 'M6C 2B6', 'region': 'ON'}, 'name': 'RBC Royal Bank', 'related_places': {}, 'timezone': 'America/Toronto'}, {'fsq_id': '51181178e4b02a04c18305e4', 'categories': [{'id': 17117, 'name': 'Sporting Goods Retail', 'icon': {'prefix': 'https://ss3.4sqi.net/img/categories_v2/shops/sports_outdoors_', 'suffix': '.png'}}], 'chains': [], 'distance': 1950, 'geocodes': {'drop_off': {'latitude': 43.712822, 'longitude': -79.399635}, 'main': {'latitude': 43.712883, 'longitude': -79.399342}, 'roof': {'latitude': 43.712883, 'longitude': -79.399342}}, 'link': '/v3/places/51181178e4b02a04c18305e4', 'location': {'address': '2529 Yonge St', 'country': 'CA', 'cross_street': '', 'formatted_address': '2529 Yonge St, Toronto ON M4P 2H9', 'locality': 'Toronto', 'postcode': 'M4P 2H9', 'region': 'ON'}, 'name': 'Sport Chek Yonge Street', 'related_places': {}, 'timezone': 'America/Toronto'}, {'fsq_id': '4b75c28af964a520ba222ee3', 'categories': [{'id': 13199, 'name': 'Indian Restaurant', 'icon': {'prefix': 'https://ss3.4sqi.net/img/categories_v2/food/indian_', 'suffix': '.png'}}], 'chains': [], 'distance': 3377, 'geocodes': {'drop_off': {'latitude': 43.704011, 'longitude': -79.37449}, 'main': {'latitude': 43.703946, 'longitude': -79.374655}, 'roof': {'latitude': 43.703946, 'longitude': -79.374655}}, 'link': '/v3/places/4b75c28af964a520ba222ee3', 'location': {'address': '1522 Bayview Ave', 'country': 'CA', 'cross_street': 'Davisville Avenue', 'formatted_address': '1522 Bayview Ave (Davisville Avenue), Toronto ON M4G 3B4', 'locality': 'Toronto', 'postcode': 'M4G 3B4', 'region': 'ON'}, 'name': 'Kamasutra Indian Restaurant & Wine Bar', 'related_places': {}, 'timezone': 'America/Toronto'}, {'fsq_id': '4b41079ff964a520b0bf25e3', 'categories': [{'id': 16032, 'name': 'Park', 'icon': {'prefix': 'https://ss3.4sqi.net/img/categories_v2/parks_outdoors/park_', 'suffix': '.png'}}], 'chains': [], 'distance': 4007, 'geocodes': {'main': {'latitude': 43.664775, 'longitude': -79.420709}, 'roof': {'latitude': 43.664775, 'longitude': -79.420709}}, 'link': '/v3/places/4b41079ff964a520b0bf25e3', 'location': {'address': '750 Bloor St W', 'country': 'CA', 'cross_street': 'btw Christie & Crawford', 'formatted_address': '750 Bloor St W (btw Christie & Crawford), Toronto ON M6G 3K4', 'locality': 'Toronto', 'postcode': 'M6G 3K4', 'region': 'ON'}, 'name': 'Christie Pits Park', 'related_places': {'children': []}, 'timezone': 'America/Toronto'}, {'fsq_id': '4b0edef7f964a520305c23e3', 'categories': [{'id': 17082, 'name': 'Furniture and Home Store', 'icon': {'prefix': 'https://ss3.4sqi.net/img/categories_v2/shops/furniture_', 'suffix': '.png'}}], 'chains': [], 'distance': 4145, 'geocodes': {'main': {'latitude': 43.726629, 'longitude': -79.452767}, 'roof': {'latitude': 43.726629, 'longitude': -79.452767}}, 'link': '/v3/places/4b0edef7f964a520305c23e3', 'location': {'address': '3401 Dufferin St', 'country': 'CA', 'cross_street': '', 'formatted_address': '3401 Dufferin St, Toronto ON M6A 2T9', 'locality': 'Toronto', 'postcode': 'M6A 2T9', 'region': 'ON'}, 'name': 'Crate and Barrel Yorkdale Shopping Centre', 'related_places': {'parent': {'fsq_id': '4ad4c062f964a52002f820e3', 'name': 'Yorkdale'}}, 'timezone': 'America/Toronto'}, {'fsq_id': '52c88ab711d22e372f645af6', 'categories': [{'id': 13072, 'name': 'Asian Restaurant', 'icon': {'prefix': 'https://ss3.4sqi.net/img/categories_v2/food/asian_', 'suffix': '.png'}}, {'id': 13102, 'name': 'Cantonese Restaurant', 'icon': {'prefix': 'https://ss3.4sqi.net/img/categories_v2/food/asian_', 'suffix': '.png'}}, {'id': 13106, 'name': 'Dim Sum Restaurant', 'icon': {'prefix': 'https://ss3.4sqi.net/img/categories_v2/food/dimsum_', 'suffix': '.png'}}], 'chains': [], 'distance': 2169, 'geocodes': {'drop_off': {'latitude': 43.688746, 'longitude': -79.394369}, 'main': {'latitude': 43.688692, 'longitude': -79.394499}, 'roof': {'latitude': 43.688692, 'longitude': -79.394499}}, 'link': '/v3/places/52c88ab711d22e372f645af6', 'location': {'address': '1496 Yonge St', 'country': 'CA', 'cross_street': 'St. Clair', 'formatted_address': '1496 Yonge St (St. Clair), Toronto ON M4T 1Z6', 'locality': 'Toronto', 'postcode': 'M4T 1Z6', 'region': 'ON'}, 'name': 'Kwan Dim Sum', 'related_places': {}, 'timezone': 'America/Toronto'}], 'context': {'geo_bounds': {'circle': {'center': {'latitude': 43.70011, 'longitude': -79.4163}, 'radius': 16290}}}}\n"
     ]
    }
   ],
   "source": [
    "print (result.json())"
   ]
  },
  {
   "cell_type": "code",
   "execution_count": 23,
   "id": "0f1f3b19-0536-4035-bc4f-9295c275037f",
   "metadata": {},
   "outputs": [],
   "source": []
  },
  {
   "cell_type": "code",
   "execution_count": null,
   "id": "ccdf1ae0-d8e8-49d2-b236-2794472cb157",
   "metadata": {},
   "outputs": [],
   "source": []
  },
  {
   "cell_type": "code",
   "execution_count": null,
   "id": "0e947314-4d1e-4de3-b92a-ff9f58c2c49b",
   "metadata": {},
   "outputs": [],
   "source": []
  },
  {
   "cell_type": "code",
   "execution_count": null,
   "id": "1badea44-771d-40fa-a40a-97c296971ee3",
   "metadata": {},
   "outputs": [],
   "source": []
  }
 ],
 "metadata": {
  "kernelspec": {
   "display_name": "THE_ONE",
   "language": "python",
   "name": "the_one"
  },
  "language_info": {
   "codemirror_mode": {
    "name": "ipython",
    "version": 3
   },
   "file_extension": ".py",
   "mimetype": "text/x-python",
   "name": "python",
   "nbconvert_exporter": "python",
   "pygments_lexer": "ipython3",
   "version": "3.8.16"
  }
 },
 "nbformat": 4,
 "nbformat_minor": 5
}
