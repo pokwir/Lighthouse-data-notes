{
 "cells": [
  {
   "cell_type": "code",
   "execution_count": 18,
   "id": "f5741aa6-3509-4533-ac8a-6718bb38dda1",
   "metadata": {},
   "outputs": [],
   "source": [
    "!source ~/.bash_profile\n",
    "import requests\n",
    "import os\n",
    "import json\n",
    "api_key = os.environ['FOURSQUARE_API_KEY']\n",
    "location = 'Toronto, Canada'\n",
    "url = \"https://api.foursquare.com/v3/places/search?near=\" + location\n",
    "headers = {'accept': 'application/json'}\n",
    "headers['Authorization'] = api_key\n",
    "result = requests.get(url, headers = headers)"
   ]
  },
  {
   "cell_type": "code",
   "execution_count": 15,
   "id": "1e200f75-3f23-4bef-923d-4c8de20dfe55",
   "metadata": {},
   "outputs": [
    {
     "name": "stdout",
     "output_type": "stream",
     "text": [
      "<Response [200]>\n"
     ]
    }
   ],
   "source": [
    "print (result)"
   ]
  },
  {
   "cell_type": "code",
   "execution_count": 24,
   "id": "d7b45d50-40ad-4193-a5c8-0c337a71c8dc",
   "metadata": {},
   "outputs": [
    {
     "name": "stdout",
     "output_type": "stream",
     "text": [
      "{'results': [{'fsq_id': '4ec17030f5b93923c238a507', 'categories': [{'id': 17059, 'name': 'Butcher', 'icon': {'prefix': 'https://ss3.4sqi.net/img/categories_v2/shops/food_butcher_', 'suffix': '.png'}}, {'id': 17069, 'name': 'Grocery Store / Supermarket', 'icon': {'prefix': 'https://ss3.4sqi.net/img/categories_v2/shops/food_grocery_', 'suffix': '.png'}}, {'id': 17077, 'name': 'Meat and Seafood Store', 'icon': {'prefix': 'https://ss3.4sqi.net/img/categories_v2/shops/foodanddrink_', 'suffix': '.png'}}], 'chains': [], 'distance': 1536, 'geocodes': {'drop_off': {'latitude': 43.701925, 'longitude': -79.397343}, 'main': {'latitude': 43.701982, 'longitude': -79.397087}, 'roof': {'latitude': 43.701982, 'longitude': -79.397087}}, 'link': '/v3/places/4ec17030f5b93923c238a507', 'location': {'address': '2055 Yonge St', 'country': 'CA', 'cross_street': 'Yonge & Davisville', 'formatted_address': '2055 Yonge St (Yonge & Davisville), Toronto ON M4S 2A2', 'locality': 'Toronto', 'postcode': 'M4S 2A2', 'region': 'ON'}, 'name': \"The Butcher's Son\", 'related_places': {}, 'timezone': 'America/Toronto'}, {'fsq_id': '5f47eddf704690529cef554e', 'categories': [{'id': 13034, 'name': 'Café', 'icon': {'prefix': 'https://ss3.4sqi.net/img/categories_v2/food/cafe_', 'suffix': '.png'}}, {'id': 13065, 'name': 'Restaurant', 'icon': {'prefix': 'https://ss3.4sqi.net/img/categories_v2/food/default_', 'suffix': '.png'}}], 'chains': [], 'distance': 1723, 'geocodes': {'main': {'latitude': 43.709302, 'longitude': -79.399145}, 'roof': {'latitude': 43.709302, 'longitude': -79.399145}}, 'link': '/v3/places/5f47eddf704690529cef554e', 'location': {'address': '2388 Yonge St', 'country': 'CA', 'cross_street': '', 'formatted_address': '2388 Yonge St, Toronto ON M4P 3J5', 'locality': 'Toronto', 'postcode': 'M4P 3J5', 'region': 'ON'}, 'name': 'Stock T.C', 'related_places': {'children': [{'fsq_id': '61283ef7eded2673ebb0da1e', 'name': 'Stock Bar'}]}, 'timezone': 'America/Toronto'}, {'fsq_id': '5282572111d2f33612220715', 'categories': [{'id': 13025, 'name': 'Wine Bar', 'icon': {'prefix': 'https://ss3.4sqi.net/img/categories_v2/food/winery_', 'suffix': '.png'}}, {'id': 13035, 'name': 'Coffee Shop', 'icon': {'prefix': 'https://ss3.4sqi.net/img/categories_v2/food/coffeeshop_', 'suffix': '.png'}}, {'id': 13065, 'name': 'Restaurant', 'icon': {'prefix': 'https://ss3.4sqi.net/img/categories_v2/food/default_', 'suffix': '.png'}}], 'chains': [], 'distance': 2854, 'geocodes': {'main': {'latitude': 43.681714, 'longitude': -79.391609}, 'roof': {'latitude': 43.681714, 'longitude': -79.391609}}, 'link': '/v3/places/5282572111d2f33612220715', 'location': {'address': '1208 Yonge St', 'country': 'CA', 'cross_street': 'Summerhill', 'formatted_address': '1208 Yonge St (Summerhill), Toronto ON M4T 1W1', 'locality': 'Toronto', 'postcode': 'M4T 1W1', 'region': 'ON'}, 'name': 'Boxcar Social', 'related_places': {}, 'timezone': 'America/Toronto'}, {'fsq_id': '540c8301498e51456f71ae7e', 'categories': [{'id': 13034, 'name': 'Café', 'icon': {'prefix': 'https://ss3.4sqi.net/img/categories_v2/food/cafe_', 'suffix': '.png'}}], 'chains': [], 'distance': 3534, 'geocodes': {'main': {'latitude': 43.668982, 'longitude': -79.426153}, 'roof': {'latitude': 43.668982, 'longitude': -79.426153}}, 'link': '/v3/places/540c8301498e51456f71ae7e', 'location': {'address': '1028 Shaw St', 'country': 'CA', 'cross_street': 'Yarmouth', 'formatted_address': '1028 Shaw St (Yarmouth), Toronto ON M6G 3N1', 'locality': 'Toronto', 'postcode': 'M6G 3N1', 'region': 'ON'}, 'name': 'Contra Cafe', 'related_places': {}, 'timezone': 'America/Toronto'}, {'fsq_id': '4dc03ef381545e1cc7e049e6', 'categories': [{'id': 11045, 'name': 'Bank', 'icon': {'prefix': 'https://ss3.4sqi.net/img/categories_v2/shops/financial_', 'suffix': '.png'}}], 'chains': [], 'distance': 530, 'geocodes': {'main': {'latitude': 43.700899, 'longitude': -79.426633}, 'roof': {'latitude': 43.700899, 'longitude': -79.426633}}, 'link': '/v3/places/4dc03ef381545e1cc7e049e6', 'location': {'address': '880 Eglinton Ave W', 'country': 'CA', 'cross_street': '', 'formatted_address': '880 Eglinton Ave W, Toronto ON M6C 2B6', 'locality': 'Toronto', 'postcode': 'M6C 2B6', 'region': 'ON'}, 'name': 'RBC Royal Bank', 'related_places': {}, 'timezone': 'America/Toronto'}, {'fsq_id': '51181178e4b02a04c18305e4', 'categories': [{'id': 17117, 'name': 'Sporting Goods Retail', 'icon': {'prefix': 'https://ss3.4sqi.net/img/categories_v2/shops/sports_outdoors_', 'suffix': '.png'}}], 'chains': [], 'distance': 1950, 'geocodes': {'drop_off': {'latitude': 43.712822, 'longitude': -79.399635}, 'main': {'latitude': 43.712883, 'longitude': -79.399342}, 'roof': {'latitude': 43.712883, 'longitude': -79.399342}}, 'link': '/v3/places/51181178e4b02a04c18305e4', 'location': {'address': '2529 Yonge St', 'country': 'CA', 'cross_street': '', 'formatted_address': '2529 Yonge St, Toronto ON M4P 2H9', 'locality': 'Toronto', 'postcode': 'M4P 2H9', 'region': 'ON'}, 'name': 'Sport Chek Yonge Street', 'related_places': {}, 'timezone': 'America/Toronto'}, {'fsq_id': '4b75c28af964a520ba222ee3', 'categories': [{'id': 13199, 'name': 'Indian Restaurant', 'icon': {'prefix': 'https://ss3.4sqi.net/img/categories_v2/food/indian_', 'suffix': '.png'}}], 'chains': [], 'distance': 3377, 'geocodes': {'drop_off': {'latitude': 43.704011, 'longitude': -79.37449}, 'main': {'latitude': 43.703946, 'longitude': -79.374655}, 'roof': {'latitude': 43.703946, 'longitude': -79.374655}}, 'link': '/v3/places/4b75c28af964a520ba222ee3', 'location': {'address': '1522 Bayview Ave', 'country': 'CA', 'cross_street': 'Davisville Avenue', 'formatted_address': '1522 Bayview Ave (Davisville Avenue), Toronto ON M4G 3B4', 'locality': 'Toronto', 'postcode': 'M4G 3B4', 'region': 'ON'}, 'name': 'Kamasutra Indian Restaurant & Wine Bar', 'related_places': {}, 'timezone': 'America/Toronto'}, {'fsq_id': '4b41079ff964a520b0bf25e3', 'categories': [{'id': 16032, 'name': 'Park', 'icon': {'prefix': 'https://ss3.4sqi.net/img/categories_v2/parks_outdoors/park_', 'suffix': '.png'}}], 'chains': [], 'distance': 4007, 'geocodes': {'main': {'latitude': 43.664775, 'longitude': -79.420709}, 'roof': {'latitude': 43.664775, 'longitude': -79.420709}}, 'link': '/v3/places/4b41079ff964a520b0bf25e3', 'location': {'address': '750 Bloor St W', 'country': 'CA', 'cross_street': 'btw Christie & Crawford', 'formatted_address': '750 Bloor St W (btw Christie & Crawford), Toronto ON M6G 3K4', 'locality': 'Toronto', 'postcode': 'M6G 3K4', 'region': 'ON'}, 'name': 'Christie Pits Park', 'related_places': {'children': []}, 'timezone': 'America/Toronto'}, {'fsq_id': '4b0edef7f964a520305c23e3', 'categories': [{'id': 17082, 'name': 'Furniture and Home Store', 'icon': {'prefix': 'https://ss3.4sqi.net/img/categories_v2/shops/furniture_', 'suffix': '.png'}}], 'chains': [], 'distance': 4145, 'geocodes': {'main': {'latitude': 43.726629, 'longitude': -79.452767}, 'roof': {'latitude': 43.726629, 'longitude': -79.452767}}, 'link': '/v3/places/4b0edef7f964a520305c23e3', 'location': {'address': '3401 Dufferin St', 'country': 'CA', 'cross_street': '', 'formatted_address': '3401 Dufferin St, Toronto ON M6A 2T9', 'locality': 'Toronto', 'postcode': 'M6A 2T9', 'region': 'ON'}, 'name': 'Crate and Barrel Yorkdale Shopping Centre', 'related_places': {'parent': {'fsq_id': '4ad4c062f964a52002f820e3', 'name': 'Yorkdale'}}, 'timezone': 'America/Toronto'}, {'fsq_id': '52c88ab711d22e372f645af6', 'categories': [{'id': 13072, 'name': 'Asian Restaurant', 'icon': {'prefix': 'https://ss3.4sqi.net/img/categories_v2/food/asian_', 'suffix': '.png'}}, {'id': 13102, 'name': 'Cantonese Restaurant', 'icon': {'prefix': 'https://ss3.4sqi.net/img/categories_v2/food/asian_', 'suffix': '.png'}}, {'id': 13106, 'name': 'Dim Sum Restaurant', 'icon': {'prefix': 'https://ss3.4sqi.net/img/categories_v2/food/dimsum_', 'suffix': '.png'}}], 'chains': [], 'distance': 2169, 'geocodes': {'drop_off': {'latitude': 43.688746, 'longitude': -79.394369}, 'main': {'latitude': 43.688692, 'longitude': -79.394499}, 'roof': {'latitude': 43.688692, 'longitude': -79.394499}}, 'link': '/v3/places/52c88ab711d22e372f645af6', 'location': {'address': '1496 Yonge St', 'country': 'CA', 'cross_street': 'St. Clair', 'formatted_address': '1496 Yonge St (St. Clair), Toronto ON M4T 1Z6', 'locality': 'Toronto', 'postcode': 'M4T 1Z6', 'region': 'ON'}, 'name': 'Kwan Dim Sum', 'related_places': {}, 'timezone': 'America/Toronto'}], 'context': {'geo_bounds': {'circle': {'center': {'latitude': 43.70011, 'longitude': -79.4163}, 'radius': 16290}}}}\n"
     ]
    },
    {
     "ename": "TypeError",
     "evalue": "the JSON object must be str, bytes or bytearray, not Response",
     "output_type": "error",
     "traceback": [
      "\u001b[0;31m---------------------------------------------------------------------------\u001b[0m",
      "\u001b[0;31mTypeError\u001b[0m                                 Traceback (most recent call last)",
      "Cell \u001b[0;32mIn[24], line 2\u001b[0m\n\u001b[1;32m      1\u001b[0m \u001b[38;5;28mprint\u001b[39m (result\u001b[38;5;241m.\u001b[39mjson()) \n\u001b[0;32m----> 2\u001b[0m Res_2 \u001b[38;5;241m=\u001b[39m \u001b[43mjson\u001b[49m\u001b[38;5;241;43m.\u001b[39;49m\u001b[43mloads\u001b[49m\u001b[43m(\u001b[49m\u001b[43mresult\u001b[49m\u001b[43m)\u001b[49m\n",
      "File \u001b[0;32m~/opt/anaconda3/envs/THE_ONE/lib/python3.8/json/__init__.py:341\u001b[0m, in \u001b[0;36mloads\u001b[0;34m(s, cls, object_hook, parse_float, parse_int, parse_constant, object_pairs_hook, **kw)\u001b[0m\n\u001b[1;32m    339\u001b[0m \u001b[38;5;28;01melse\u001b[39;00m:\n\u001b[1;32m    340\u001b[0m     \u001b[38;5;28;01mif\u001b[39;00m \u001b[38;5;129;01mnot\u001b[39;00m \u001b[38;5;28misinstance\u001b[39m(s, (\u001b[38;5;28mbytes\u001b[39m, \u001b[38;5;28mbytearray\u001b[39m)):\n\u001b[0;32m--> 341\u001b[0m         \u001b[38;5;28;01mraise\u001b[39;00m \u001b[38;5;167;01mTypeError\u001b[39;00m(\u001b[38;5;124mf\u001b[39m\u001b[38;5;124m'\u001b[39m\u001b[38;5;124mthe JSON object must be str, bytes or bytearray, \u001b[39m\u001b[38;5;124m'\u001b[39m\n\u001b[1;32m    342\u001b[0m                         \u001b[38;5;124mf\u001b[39m\u001b[38;5;124m'\u001b[39m\u001b[38;5;124mnot \u001b[39m\u001b[38;5;132;01m{\u001b[39;00ms\u001b[38;5;241m.\u001b[39m\u001b[38;5;18m__class__\u001b[39m\u001b[38;5;241m.\u001b[39m\u001b[38;5;18m__name__\u001b[39m\u001b[38;5;132;01m}\u001b[39;00m\u001b[38;5;124m'\u001b[39m)\n\u001b[1;32m    343\u001b[0m     s \u001b[38;5;241m=\u001b[39m s\u001b[38;5;241m.\u001b[39mdecode(detect_encoding(s), \u001b[38;5;124m'\u001b[39m\u001b[38;5;124msurrogatepass\u001b[39m\u001b[38;5;124m'\u001b[39m)\n\u001b[1;32m    345\u001b[0m \u001b[38;5;28;01mif\u001b[39;00m \u001b[38;5;124m\"\u001b[39m\u001b[38;5;124mencoding\u001b[39m\u001b[38;5;124m\"\u001b[39m \u001b[38;5;129;01min\u001b[39;00m kw:\n",
      "\u001b[0;31mTypeError\u001b[0m: the JSON object must be str, bytes or bytearray, not Response"
     ]
    }
   ],
   "source": [
    "print (result.json()) \n",
    "Res_2 = json.loads(result)"
   ]
  },
  {
   "cell_type": "code",
   "execution_count": 23,
   "id": "0f1f3b19-0536-4035-bc4f-9295c275037f",
   "metadata": {},
   "outputs": [],
   "source": []
  },
  {
   "cell_type": "code",
   "execution_count": null,
   "id": "ccdf1ae0-d8e8-49d2-b236-2794472cb157",
   "metadata": {},
   "outputs": [],
   "source": []
  },
  {
   "cell_type": "code",
   "execution_count": null,
   "id": "0e947314-4d1e-4de3-b92a-ff9f58c2c49b",
   "metadata": {},
   "outputs": [],
   "source": []
  },
  {
   "cell_type": "code",
   "execution_count": null,
   "id": "1badea44-771d-40fa-a40a-97c296971ee3",
   "metadata": {},
   "outputs": [],
   "source": []
  }
 ],
 "metadata": {
  "kernelspec": {
   "display_name": "THE_ONE",
   "language": "python",
   "name": "the_one"
  },
  "language_info": {
   "codemirror_mode": {
    "name": "ipython",
    "version": 3
   },
   "file_extension": ".py",
   "mimetype": "text/x-python",
   "name": "python",
   "nbconvert_exporter": "python",
   "pygments_lexer": "ipython3",
   "version": "3.8.16"
  }
 },
 "nbformat": 4,
 "nbformat_minor": 5
}
