{
 "cells": [
  {
   "cell_type": "markdown",
   "id": "721e8e09",
   "metadata": {},
   "source": [
    "## Lighthouse Labs\n",
    "### W02D2 Intro to Python\n",
    "Instructor: Simon Dawkins  \n"
   ]
  },
  {
   "cell_type": "markdown",
   "id": "f3b9ef84",
   "metadata": {},
   "source": [
    "### Python Basics\n",
    "\n",
    "In this notebook we will cover some of the basics of python. The topics we will cover listed below. \n",
    "- Python Syntax\n",
    "- Python Data Types\n",
    "- For Loops\n",
    "- While Loops\n",
    "- Control Flow (If and Else Statements)\n",
    "- Functions\n",
    "- Imports and Aliases (using datetime) \n",
    "\n",
    "We're mainly going to focus on the core operations, the ones that you will use most often. There is much, much more that you can do with all of the different data types in Python.\n",
    "\n",
    "There's a lot here so it may seem pretty dry, but it will be useful for you going forward as a quick Python cheatsheet.\n"
   ]
  },
  {
   "cell_type": "markdown",
   "id": "c8d5f940",
   "metadata": {},
   "source": [
    "Python programs are organized with one statement per line. Each statement occupies one line. \n",
    "- a line is a python expression"
   ]
  },
  {
   "cell_type": "markdown",
   "id": "c30a22ad",
   "metadata": {},
   "source": [
    "### Built in Data Types - Values and Objects\n",
    "\n",
    "We will been working with values, which are pieces of data that a computer program works with, such as a number or text.\n",
    "We will assign a lot of these values to objects (variables) with the assignment operator `=`.\n",
    "These values will always belong to a data type\n",
    "\n",
    "\n",
    "Here are some data types built-in to the Python language:\n",
    "\n",
    "* Integers - `int`\n",
    "* Floating-point numbers - `float`\n",
    "* Strings - `str`\n",
    "* Booleans - `bool` - two values: True and False.\n",
    "* Lists - `list`\n",
    "* Tuples - `tuple`\n",
    "* Sets - `set`\n",
    "* Dictionaries - `dict`\n",
    "\n",
    "\n",
    "\n"
   ]
  },
  {
   "cell_type": "markdown",
   "id": "7863f294",
   "metadata": {},
   "source": [
    "### Integers & Floats"
   ]
  },
  {
   "cell_type": "code",
   "execution_count": 1,
   "id": "56fe21d7",
   "metadata": {},
   "outputs": [
    {
     "data": {
      "text/plain": [
       "1"
      ]
     },
     "execution_count": 1,
     "metadata": {},
     "output_type": "execute_result"
    }
   ],
   "source": [
    "1"
   ]
  },
  {
   "cell_type": "code",
   "execution_count": 2,
   "id": "dc736a8f",
   "metadata": {},
   "outputs": [
    {
     "data": {
      "text/plain": [
       "2.5"
      ]
     },
     "execution_count": 2,
     "metadata": {},
     "output_type": "execute_result"
    }
   ],
   "source": [
    "2.5"
   ]
  },
  {
   "cell_type": "code",
   "execution_count": 2,
   "id": "b3c89d8a",
   "metadata": {},
   "outputs": [
    {
     "data": {
      "text/plain": [
       "int"
      ]
     },
     "execution_count": 2,
     "metadata": {},
     "output_type": "execute_result"
    }
   ],
   "source": [
    "type(-1)"
   ]
  },
  {
   "cell_type": "code",
   "execution_count": 3,
   "id": "46a3089f",
   "metadata": {},
   "outputs": [
    {
     "data": {
      "text/plain": [
       "float"
      ]
     },
     "execution_count": 3,
     "metadata": {},
     "output_type": "execute_result"
    }
   ],
   "source": [
    "type(.0)"
   ]
  },
  {
   "cell_type": "markdown",
   "id": "dae03dfb",
   "metadata": {},
   "source": [
    "#### Variables\n",
    "\n",
    "- Variables are names that we give to data. We use variables, in a sense, in English\n",
    "\n",
    "**Why use Variables?**\n",
    "- Helps organize our code\n",
    "- Store Data\n",
    "- Reuse data again and again"
   ]
  },
  {
   "cell_type": "code",
   "execution_count": 11,
   "id": "1df03ef8",
   "metadata": {},
   "outputs": [
    {
     "name": "stdout",
     "output_type": "stream",
     "text": [
      "variables are things that hold data, you can assign them, \n",
      "and change them. In order to assign them use the = sign\n"
     ]
    }
   ],
   "source": [
    "variable = '''variables are things that hold data, you can assign them, \n",
    "and change them. In order to assign them use the = sign'''\n",
    "\n",
    "print(variable)"
   ]
  },
  {
   "cell_type": "code",
   "execution_count": 1,
   "id": "0f7087ff",
   "metadata": {},
   "outputs": [
    {
     "name": "stdout",
     "output_type": "stream",
     "text": [
      "12\n"
     ]
    }
   ],
   "source": [
    "# Integers and floats (i.e. decimal numbers)\n",
    "a = -2\n",
    "b = 12.9\n",
    "\n",
    "# Arithmetic\n",
    "c = a + 1    # Arithmetic with literals and variables\n",
    "c = a + b    # Arithmetic with just variables\n",
    "c = c + a    # c becomes its old value + a\n",
    "c = a - b    # Subtraction\n",
    "c = a * b    # Multiplication\n",
    "c = b / a    # Division\n",
    "c = (a + b) * 2 - a    # Compound calculations\n",
    "c = b // a\n",
    "c = a ** b\n",
    "\n",
    "# Functions on numbers\n",
    "c = round(8.187, 2)    # Round up to the second decimal point\n",
    "\n",
    "# Casting between integers and floats\n",
    "c = float(a)\n",
    "d = int(b)    # Rounds it down\n",
    "print(d)"
   ]
  },
  {
   "cell_type": "markdown",
   "id": "8085d0da",
   "metadata": {},
   "source": [
    "### Strings"
   ]
  },
  {
   "cell_type": "code",
   "execution_count": 4,
   "id": "3f5d27bb",
   "metadata": {},
   "outputs": [
    {
     "name": "stdout",
     "output_type": "stream",
     "text": [
      "THE MEANING OF LIFE IS 42.\n"
     ]
    }
   ],
   "source": [
    "# Strings are a sequence of symbols in quotes\n",
    "# Without the quotes, Python tries to interpret text as variable names\n",
    "a = \"IMAGINATION is more important than knowledge\"\n",
    "\n",
    "\n",
    "# Strings can contain any symbols, not just letters\n",
    "b = 'The Meaning of Life is 42.'\n",
    "\n",
    "c = '''this\n",
    "is a\n",
    "multiline'''\n",
    "\n",
    "# single, double, triple single, and triple double quotes\n",
    "\n",
    "# Concatenation (combining)\n",
    "d = a + \", but not as important as learning to code\"\n",
    "\n",
    "\n",
    "# Functions on strings \n",
    "# Note: these functions don't change the original variables. \n",
    "# They spit out copies with the function applied\n",
    "e = b.upper()\n",
    "f = b.lower()\n",
    "g = c.capitalize()\n",
    "\n",
    "\n",
    "\n",
    "print(e)"
   ]
  },
  {
   "cell_type": "code",
   "execution_count": 23,
   "id": "d88d0075",
   "metadata": {},
   "outputs": [
    {
     "data": {
      "text/plain": [
       "str"
      ]
     },
     "execution_count": 23,
     "metadata": {},
     "output_type": "execute_result"
    }
   ],
   "source": [
    "# Type casting\n"
   ]
  },
  {
   "cell_type": "markdown",
   "id": "5bb9ec4f",
   "metadata": {},
   "source": [
    "## Advanced Data Types\n",
    "\n",
    "#### Lists\n",
    "\n",
    "- Mutable and ordered sequence of items\n",
    "- Can be indexed, sliced, and changed\n",
    "- Lists can be used for any type of object, from numbers and strings to more lists.\n",
    "- Sliced like strings"
   ]
  },
  {
   "cell_type": "code",
   "execution_count": 56,
   "id": "8cf4cf8b",
   "metadata": {},
   "outputs": [],
   "source": [
    "# Without lists, individual and unrelated variables\n",
    "# (imagine if you had hundreds of names)\n",
    "first_person = 'Mal'\n",
    "second_person = 'Zoe'\n",
    "third_person = 'Wash'\n",
    "fourth_person = 'Jayne'\n",
    "fifth_person = 'Kaylee'\n",
    "\n",
    "# Using lists, a data structure that contains many values\n",
    "people = ['Mal', 'Zoe', 'Wash', 'Jayne', 'Kaylee']\n",
    "\n",
    "# List creation\n",
    "empty_list = []            # Square brackets\n",
    "small_list = [2.3, 1.0]    # List elements separated by commas\n",
    "large_animals = ['African Elephant', 'Asian Elephant', 'White Rhinoceros',\n",
    "                 'Hippopotamus', 'Gaur', 'Giraffe', 'Walrus', 'Black Rhinoceros', \n",
    "                 'Saltwater Crocodile', 'Water Buffalo']\n"
   ]
  },
  {
   "cell_type": "code",
   "execution_count": 5,
   "id": "f5ce53fe",
   "metadata": {},
   "outputs": [],
   "source": [
    "# Access different elements in a list\n"
   ]
  },
  {
   "cell_type": "code",
   "execution_count": 6,
   "id": "60d3ccdf",
   "metadata": {},
   "outputs": [],
   "source": [
    "# Slicing\n"
   ]
  },
  {
   "cell_type": "code",
   "execution_count": 7,
   "id": "f7b7c16e",
   "metadata": {},
   "outputs": [],
   "source": [
    "# changing values\n"
   ]
  },
  {
   "cell_type": "code",
   "execution_count": 54,
   "id": "e9c689a9",
   "metadata": {},
   "outputs": [],
   "source": [
    "# deleting"
   ]
  },
  {
   "cell_type": "code",
   "execution_count": 8,
   "id": "b9d4cb27",
   "metadata": {},
   "outputs": [],
   "source": [
    "# extending via .append()\n"
   ]
  },
  {
   "cell_type": "code",
   "execution_count": 9,
   "id": "c14337da",
   "metadata": {},
   "outputs": [],
   "source": [
    "# extending via concatenation\n"
   ]
  },
  {
   "cell_type": "code",
   "execution_count": 10,
   "id": "780a9cb8",
   "metadata": {},
   "outputs": [],
   "source": [
    "# Lists within lists\n",
    "animal_kingdom = [\n",
    "  ['Elephant', 'Tiger', 'Dog', ['Cat', 'Big Cat']], \n",
    "  ['Whale', 'Dolphin', 'Shark', 'Eel'],\n",
    "  ['Eagle', 'Robin']\n",
    "]\n"
   ]
  },
  {
   "cell_type": "code",
   "execution_count": 11,
   "id": "0d6000e9",
   "metadata": {},
   "outputs": [],
   "source": [
    "# Treating strings like lists\n",
    "a = 'this is really symbols just a list of symbols called characters'\n",
    "\n",
    "\n",
    "# Splitting strings into lists\n",
    "\n",
    "\n",
    "# Splitting by a substring\n"
   ]
  },
  {
   "cell_type": "markdown",
   "id": "cb2a2ca0",
   "metadata": {},
   "source": [
    "## Tuple\n",
    "- immutable objects\n",
    "- Similar to a list, but without the funcitonalities.\n",
    "- indexing and splitting similar to lists\n",
    "- More efficient"
   ]
  },
  {
   "cell_type": "code",
   "execution_count": 91,
   "id": "f8939ab8",
   "metadata": {},
   "outputs": [
    {
     "name": "stdout",
     "output_type": "stream",
     "text": [
      "False\n"
     ]
    },
    {
     "data": {
      "text/plain": [
       "False"
      ]
     },
     "execution_count": 91,
     "metadata": {},
     "output_type": "execute_result"
    }
   ],
   "source": [
    "# Definition\n",
    "x = ('Simon', 'python', 'canada')\n",
    "\n",
    "# Getting the size of a tuple\n",
    "y = len(x)\n",
    "\n",
    "# Accessing one entry\n",
    "y = x[0]        # 'Simon'\n",
    "# x[1] = 'Cat'       # 'python'\n",
    "\n",
    "# Accessing a sequence of entries\n",
    "y = x[1:3]      # ('python', 'canada')\n",
    "\n",
    "# \"Unpacking\" tuples\n",
    "name, language, country = x    # name = 'Simon', language = 'python', and country = 'canada'\n",
    "\n",
    "# Combining tuples\n",
    "y = (8, 2) + x  # (8, 2, 'Simon', 'python', 'canada')\n",
    "\n",
    "# Checking membership\n",
    "y = 12 in x    # False (x does not contain the value 12)\n",
    "print(y)\n",
    "\n",
    "# You cannot modify tuple objects\n",
    "# They are 'immutable' (this is the essential difference from lists)\n",
    "# print(name, language, country)\n",
    "y"
   ]
  },
  {
   "cell_type": "markdown",
   "id": "997d7a83",
   "metadata": {},
   "source": [
    "\n",
    "\n",
    "It might seem weird that tuples are essentially just lists that can't be modified. What are they good for?  Essentially, the difference is that they're used for different purposes:\n",
    "\n",
    "When you use a tuple, you're telling the people who read your code \"this variable will not change\". In practice, people use lists for \"homogenous\" data (i.e. a collection of the same sort of stuff), whereas the entires in tuples are often \"heterogeneous\" and might represent very different things. In the example above, the first entry represents my name, the second entry represents the coding language I'm using, and the third entry represents the country I live in. It would be strange to define these different concepts in the same list. Tuples are often even composed of different data types. Tuples can be used as \"keys\" in dictionary data structures (which we'll see below), whereas lists cannot.\n",
    "\n",
    "These differences communicate the variable's function, and helps make your code more understandable.\n"
   ]
  },
  {
   "cell_type": "markdown",
   "id": "140ee287",
   "metadata": {},
   "source": [
    "## Dictionary (dict)\n",
    "\n",
    "- Similar to lists, but can be indexed using \"keys\" rather than their position. \n",
    "- \"keys\" can take on numerous data types (str, int, floats, tuples, lists) \n",
    "    - as long as the data type is \"hashable\""
   ]
  },
  {
   "cell_type": "code",
   "execution_count": 13,
   "id": "25c88531",
   "metadata": {},
   "outputs": [
    {
     "data": {
      "text/plain": [
       "42"
      ]
     },
     "execution_count": 13,
     "metadata": {},
     "output_type": "execute_result"
    }
   ],
   "source": [
    "# definition \n",
    "x = {'Student_ID': [1,2,3],\n",
    "    'Student_Name': 42,\n",
    "    'degree': ['marketing', 'computer science', 'snake studies']}\n",
    "x['Student_Name']"
   ]
  },
  {
   "cell_type": "code",
   "execution_count": 12,
   "id": "0537aba9",
   "metadata": {},
   "outputs": [],
   "source": [
    "# modifying values\n"
   ]
  },
  {
   "cell_type": "code",
   "execution_count": 105,
   "id": "c1f5fa7e",
   "metadata": {},
   "outputs": [
    {
     "data": {
      "text/plain": [
       "dict_keys(['Student_ID', 'Student_Name', 'degree'])"
      ]
     },
     "execution_count": 105,
     "metadata": {},
     "output_type": "execute_result"
    }
   ],
   "source": [
    "x.keys()"
   ]
  },
  {
   "cell_type": "code",
   "execution_count": 106,
   "id": "1f423d28",
   "metadata": {},
   "outputs": [
    {
     "data": {
      "text/plain": [
       "dict_values([[1, 5, 3], [42, 23, 45], ['marketing', 'computer science', 'snake studies']])"
      ]
     },
     "execution_count": 106,
     "metadata": {},
     "output_type": "execute_result"
    }
   ],
   "source": [
    "x.values()"
   ]
  },
  {
   "cell_type": "code",
   "execution_count": 15,
   "id": "3f2a4650",
   "metadata": {},
   "outputs": [
    {
     "data": {
      "text/plain": [
       "dict_items([('Student_ID', [1, 2, 3]), ('Student_Name', 42), ('degree', ['marketing', 'computer science', 'snake studies'])])"
      ]
     },
     "execution_count": 15,
     "metadata": {},
     "output_type": "execute_result"
    }
   ],
   "source": [
    "x.items() # returns a list of tuples"
   ]
  },
  {
   "cell_type": "markdown",
   "id": "d8ca1111",
   "metadata": {},
   "source": [
    "Note: Dictionaries are not \"ordered\" data types, and it is dangerous to write your code in a way that assumes they are. It makes no sense to say that the 'bonnie'th entry comes before the 'eric'th entry, even though this is how we have written it above."
   ]
  },
  {
   "cell_type": "markdown",
   "id": "882f5149",
   "metadata": {},
   "source": [
    "### Sets\n",
    "\n",
    "Data structure that:\n",
    "- are unordered, meaning there is no element 0 and element 1, and\n",
    "- The values contained are unique - meaning there are no duplicate entries.\n",
    "- Sets are made with curly brackets."
   ]
  },
  {
   "cell_type": "code",
   "execution_count": 110,
   "id": "91fd81ce",
   "metadata": {},
   "outputs": [
    {
     "data": {
      "text/plain": [
       "{1.0, 2, 'apPle', 'apple'}"
      ]
     },
     "execution_count": 110,
     "metadata": {},
     "output_type": "execute_result"
    }
   ],
   "source": [
    "my_set = {2, 1.0, 'apple', 1.0, 'apPle'}\n",
    "my_set"
   ]
  },
  {
   "cell_type": "markdown",
   "id": "8e27bec4",
   "metadata": {},
   "source": [
    "### Summary\n",
    "\n",
    "|Data Structure\t| Preserves order | Mutable | Symbol| Can contain duplicates | Can be sliced |\n",
    "|---------|------|------|------|------|------|\n",
    "|str\t|✓\t|☓\t|''  , \"\"|\t✓|✓|\n",
    "|list\t|✓\t|✓\t|[] |\t✓|✓|\n",
    "|tuple\t|✓\t|☓\t|() |\t✓|✓|\n",
    "|set\t|☓\t|✓\t|{} |\t☓|☓|\n",
    "|dict  |✓\t|✓\t|{ key : value} | \t☓| ☓|\n",
    "\n",
    "\n",
    "#### Booleans"
   ]
  },
  {
   "cell_type": "code",
   "execution_count": 117,
   "id": "85f2d40f",
   "metadata": {},
   "outputs": [
    {
     "data": {
      "text/plain": [
       "True"
      ]
     },
     "execution_count": 117,
     "metadata": {},
     "output_type": "execute_result"
    }
   ],
   "source": [
    "a = True\n",
    "b = False\n",
    "\n",
    "# ---------------------------------\n",
    "# Comparison Operators\n",
    "a = 14\n",
    "b = 5\n",
    "\n",
    "# Equal\n",
    "a == b\n",
    "\n",
    "# Not equal\n",
    "a != b\n",
    "\n",
    "# Greater than\n",
    "a > b\n",
    "\n",
    "# Greater than or equal to\n",
    "a >= b\n",
    "\n",
    "# Less than\n",
    "a < b\n",
    "\n",
    "# Less than or equal to\n",
    "a <= b\n",
    "\n",
    "# Equality with strings\n",
    "a = '1 2 3'\n",
    "b = 'one two 3'\n",
    "a == b\n",
    "a != b\n",
    "\n",
    "#---------------------------------\n",
    "# Logic operators (compound boolean expressions)\n",
    "\n",
    "# `and`\n",
    "temperature = 28\n",
    "sunny = True\n",
    "c = temperature > 25 and sunny == True\n",
    "sunny = False\n",
    "temperature > 25 and sunny\n",
    "\n",
    "# `or`\n",
    "has_coffee = True\n",
    "has_beer = True\n",
    "has_coffee or has_beer\n",
    "has_coffee = False\n",
    "has_coffee or has_beer\n"
   ]
  },
  {
   "cell_type": "markdown",
   "id": "63c2dd62",
   "metadata": {},
   "source": [
    "### Control structure (also refered to **control flow**): if/elif/else statements\n",
    "\n",
    "if statements are one of the most essential concepts in any programming language because they allow the code to execute differently depending on external values. The format of an if statement is as follows:\n",
    "\n",
    "- Essential Programming Concept, in any langauge. Allows the code to 'react' to circumstances.\n",
    "- Executes code only if a certain condition is met\n",
    "\n",
    "```python\n",
    "if [boolean expression]: # starts with if keyword then test condition\n",
    "    [what to do when the boolean expression evaluates to True]\n",
    "else:   # optional\n",
    "    [what to do when the boolean expression evaluates to False]\n",
    "```"
   ]
  },
  {
   "cell_type": "code",
   "execution_count": 121,
   "id": "d328d9c2",
   "metadata": {},
   "outputs": [
    {
     "name": "stdout",
     "output_type": "stream",
     "text": [
      "Linda has not passed\n"
     ]
    }
   ],
   "source": [
    "# Using the data structure above, let's output something different depending on \n",
    "# whether or not someone passed the course\n",
    "course_marks = {'Linda': 84, 'Andrew': 100, 'Jasmine': 12}\n",
    "pass_mark = 85\n",
    "\n",
    "\n",
    "if course_marks['Linda'] > pass_mark:\n",
    "    print(\"Linda has passed her course\")\n",
    "\n",
    "else:\n",
    "    print(\"Linda has not passed\")\n",
    "    \n",
    "\n"
   ]
  },
  {
   "cell_type": "markdown",
   "id": "b26415b9",
   "metadata": {},
   "source": [
    "#### IFs and ELIFS\n",
    "```python\n",
    "if [boolean expression]: #starts with if keyword then test condition\n",
    "    [what to do when the boolean expression evaluates to True]\n",
    "elif: [boolean expression]\n",
    "    [what to do when the boolean expression evaluates to True]\n",
    "else:   # optional\n",
    "    [what to do when the boolean expression evaluates to False]\n",
    "```\n",
    "\n"
   ]
  },
  {
   "cell_type": "code",
   "execution_count": 124,
   "id": "13725f32",
   "metadata": {},
   "outputs": [
    {
     "name": "stdout",
     "output_type": "stream",
     "text": [
      "C\n"
     ]
    }
   ],
   "source": [
    "course_marks = {'Linda': 72, 'Andrew': 100, 'Jasmine': 12}\n",
    "\n",
    "if course_marks['Linda'] >= 90:\n",
    "    print(\"A\")\n",
    "    \n",
    "elif course_marks['Linda'] >= 80:\n",
    "    print(\"B\")\n",
    "    \n",
    "elif course_marks['Linda'] >= 70:\n",
    "    print(\"C\")\n",
    "    \n",
    "else:\n",
    "    print('Fail')\n",
    "    \n"
   ]
  },
  {
   "cell_type": "markdown",
   "id": "2977b6a1",
   "metadata": {},
   "source": [
    "### Nested Ifs"
   ]
  },
  {
   "cell_type": "code",
   "execution_count": 125,
   "id": "60fbe6e1",
   "metadata": {},
   "outputs": [
    {
     "name": "stdout",
     "output_type": "stream",
     "text": [
      "negative\n"
     ]
    }
   ],
   "source": [
    "a = -1\n",
    "if a > 0:\n",
    "    print('positive')\n",
    "elif a == 0:\n",
    "    print('zero')\n",
    "else:\n",
    "    print('negative')"
   ]
  },
  {
   "cell_type": "code",
   "execution_count": 126,
   "id": "27237130",
   "metadata": {},
   "outputs": [
    {
     "name": "stdout",
     "output_type": "stream",
     "text": [
      "negative Number\n"
     ]
    }
   ],
   "source": [
    "a = -45\n",
    "\n",
    "if a >= 0:\n",
    "    if a == 0:\n",
    "        print('zero')\n",
    "    else:\n",
    "        print('Positive Number')\n",
    "        \n",
    "else:\n",
    "    print(\"negative Number\")"
   ]
  },
  {
   "cell_type": "markdown",
   "id": "cd0bb7c5",
   "metadata": {},
   "source": [
    "## Control Flow: For Loops (aka. definite iterations)\n",
    "\n",
    "If all we were able to do with lists, tuples, and dictionaries was store data in them, they would essentially\n",
    "just be useful for organizing our code. Luckily, we can iterate through them using \"for\" loops. The \"for\" loop\n",
    "has the following format:\n",
    "```python\n",
    "for [variable] in [iterable data structure (like a list): #starts with for statement followed by membership expression\n",
    "    [what you want to do using the current value each iteration]\n",
    "```"
   ]
  },
  {
   "cell_type": "code",
   "execution_count": 17,
   "id": "56b0d31c",
   "metadata": {},
   "outputs": [
    {
     "name": "stdout",
     "output_type": "stream",
     "text": [
      "s\n",
      "i\n",
      "m\n",
      "o\n",
      "n\n"
     ]
    }
   ],
   "source": [
    "# simple ones\n",
    "\n",
    "my_name = \"simon\"\n",
    "\n",
    "for char in my_name:\n",
    "    print(char)\n"
   ]
  },
  {
   "cell_type": "code",
   "execution_count": 135,
   "id": "3d61ea3f",
   "metadata": {},
   "outputs": [
    {
     "name": "stdout",
     "output_type": "stream",
     "text": [
      "Elephant\n",
      "Tiger\n",
      "Dog\n",
      "['Cat', 'Big Cat']\n",
      "Whale\n",
      "Dolphin\n",
      "Shark\n",
      "Eel\n",
      "Eagle\n",
      "Robin\n"
     ]
    }
   ],
   "source": [
    "animal_kingdom = [\n",
    "  ['Elephant', 'Tiger', 'Dog', ['Cat', 'Big Cat']], \n",
    "  ['Whale', 'Dolphin', 'Shark', 'Eel'],\n",
    "  ['Eagle', 'Robin']\n",
    "]\n",
    "\n",
    "\n",
    "for a_list in animal_kingdom: \n",
    "    for element in a_list:\n",
    "        print(element)"
   ]
  },
  {
   "cell_type": "code",
   "execution_count": 19,
   "id": "8dada10b",
   "metadata": {},
   "outputs": [
    {
     "name": "stdout",
     "output_type": "stream",
     "text": [
      "435\n"
     ]
    }
   ],
   "source": [
    "\n",
    "course_marks = [100, 90, 95, 80, 70]\n",
    "marks_sum = 0\n",
    "\n",
    "for mark in course_marks:\n",
    "    \n",
    "    marks_sum += mark\n",
    "    \n",
    "    \n",
    "\n",
    "print(marks_sum)\n"
   ]
  },
  {
   "cell_type": "code",
   "execution_count": 20,
   "id": "12593187",
   "metadata": {},
   "outputs": [
    {
     "name": "stdout",
     "output_type": "stream",
     "text": [
      "[72, 90, 2]\n"
     ]
    }
   ],
   "source": [
    "# Iterating through lists (or tuples) by their index (this is sometimes useful, \n",
    "# for instance if you want to change the values in the list)\n",
    "course_marks = [82, 100, 12]\n",
    "\n",
    "for i in range(len(course_marks)):\n",
    "    \n",
    "    course_marks[i] -= 10\n",
    "    \n",
    "print(course_marks)"
   ]
  },
  {
   "cell_type": "code",
   "execution_count": 150,
   "id": "4629c408",
   "metadata": {},
   "outputs": [
    {
     "data": {
      "text/plain": [
       "[2, 8, 14, 20, 26, 32, 38, 44, 50, 56, 62, 68, 74, 80, 86, 92, 98]"
      ]
     },
     "execution_count": 150,
     "metadata": {},
     "output_type": "execute_result"
    }
   ],
   "source": [
    "list(range(2,100,6))"
   ]
  },
  {
   "cell_type": "code",
   "execution_count": 155,
   "id": "126a3a0d",
   "metadata": {},
   "outputs": [
    {
     "name": "stdout",
     "output_type": "stream",
     "text": [
      "72\n",
      "100\n",
      "12\n"
     ]
    }
   ],
   "source": [
    "course_marks = {'Linda': 72, 'Andrew': 100, 'Jasmine': 12}\n",
    "\n",
    "# iterating through dictionary\n",
    "for student in course_marks.keys():\n",
    "    print(student)\n",
    "\n",
    "    \n",
    "# iterating through dictionary values\n",
    "# for value in course_marks.values():\n",
    "#     print(value)\n",
    "\n",
    "    \n",
    "# iterating through dictionary values\n",
    "\n",
    "for key in course_marks:\n",
    "    print(course_marks[key])"
   ]
  },
  {
   "cell_type": "markdown",
   "id": "3b6d075b",
   "metadata": {},
   "source": [
    "## Control Flow: While Loops (aka. indefinite iterations)\n",
    "\n",
    "Sometimes, we don't want our loop to iteratate through the values of some data structure, but\n",
    "instead want it to execute until some condition is no longer met. For this, we use a \"while\" loop, which has the\n",
    "following format:\n",
    "\n",
    "```python\n",
    "while [boolean expression]: #starts with a while keyword, followed by a test condition, ends with a colon :\n",
    "    [what you want to do each iteration] #loop body contains code that gets repeated. Must be indented 4 spaces.\n",
    "```"
   ]
  },
  {
   "cell_type": "code",
   "execution_count": 2,
   "id": "2d8e76d0",
   "metadata": {},
   "outputs": [
    {
     "name": "stdout",
     "output_type": "stream",
     "text": [
      "10\n",
      "9\n",
      "8\n",
      "7\n",
      "6\n",
      "5\n",
      "4\n",
      "3\n",
      "2\n",
      "1\n",
      "0\n"
     ]
    }
   ],
   "source": [
    "# Simple\n",
    "n = 10\n",
    "\n",
    "while n != -1:\n",
    "    print(n)\n",
    "    n -= 1"
   ]
  },
  {
   "cell_type": "code",
   "execution_count": 4,
   "id": "4a10355d",
   "metadata": {},
   "outputs": [],
   "source": [
    "# BE CAREFUL with INFINITE LOOPS, you'll break the matrix\n",
    "# Can be useful, for example with code that interacts with hardware may use an infinite loop to constantly check \n",
    "# whether a button or switch has been activated\n",
    "\n",
    "# CTRL + C forces a command line process to quit"
   ]
  },
  {
   "cell_type": "markdown",
   "id": "c3f5337d",
   "metadata": {},
   "source": [
    "## Functions\n",
    "Parts of code are bound to be reused. For instance, above, we keep rewriting the same exact code for computing the mean\n",
    "of a classes marks. Not only does this make our code longer, but it also makes it less readable. Every time we see\n",
    "the code for computing the mean, we have to read it a bit to know what it does.\n",
    "\n",
    "A **function** let's us define a chunk of code that takes some **inputs** and returns some **outputs**. Think of it as\n",
    "a mini-program that we can reuse as many times as we want in the rest of our code. This is one of the most powerful\n",
    "tools at your disposal as a programmer, and you should try to make a function out of any chunk of code that shares a\n",
    "concrete purpose. As a general rule, if you can give a simple name to what the chunk of code does, it should be a function.\n",
    "This is called **modular programming**, and it will make your code both easier to write and understand.\n",
    "\n",
    "The format of a function definition is as follows:\n",
    "```python\n",
    "def function_name(param_1, param_2, etc.):\n",
    "    [do something using the arguments]\n",
    "    return val_1, val_2, etc.\n",
    "```\n",
    "Note that a function need not take in any arguments at all, and need not return anything.\n",
    "\n",
    "Elsewhere in our program, we can \"call\" our function as follows, substituting any values we want\n",
    "for the arguments:\n",
    "```python\n",
    "output = function_name(value_1, value_2, etc.)\n",
    "```"
   ]
  },
  {
   "cell_type": "code",
   "execution_count": 21,
   "id": "3f979bc4",
   "metadata": {},
   "outputs": [],
   "source": [
    "def f():\n",
    "    print(\"hello world\")\n",
    "    "
   ]
  },
  {
   "cell_type": "code",
   "execution_count": 22,
   "id": "b64bbf10",
   "metadata": {},
   "outputs": [
    {
     "name": "stdout",
     "output_type": "stream",
     "text": [
      "Your Name Is 1\n"
     ]
    }
   ],
   "source": [
    "def what_is_my_name(name='Name'):\n",
    "    print(\"Your Name Is \" + str(name))\n",
    "    \n",
    "what_is_my_name(1)"
   ]
  },
  {
   "cell_type": "code",
   "execution_count": 23,
   "id": "14e35e05",
   "metadata": {},
   "outputs": [
    {
     "data": {
      "text/plain": [
       "{'student1': 35, 'student2': 99}"
      ]
     },
     "execution_count": 23,
     "metadata": {},
     "output_type": "execute_result"
    }
   ],
   "source": [
    "# Takes as input a list of numbers, and returns their mean\n",
    "def mean(numbers = [1,2,3,4]):\n",
    "    \"\"\"input: list of numbers\n",
    "    output: mean of list of numbers\n",
    "    \"\"\"  \n",
    "    numbers_sum = 0\n",
    "    for num in numbers:\n",
    "        numbers_sum += num\n",
    "    numbers_mean = numbers_sum / len(numbers)\n",
    "    return numbers_mean\n",
    "\n",
    "# Takes in a dictionary of string:number pairs and increments each number by \"increment\".\n",
    "# By default, we are setting \"increment\" to 1 (i.e. if this function is \"called\" without specifying\n",
    "# a value for \"increment\" it will just take on the value 1)\n",
    "def increment_marks(course_marks, increment=1):\n",
    "    for name, mark in course_marks.items():\n",
    "        if mark < 100:\n",
    "            course_marks[name] += increment\n",
    "    \n",
    "    # This function doesn't return anything\n",
    "    \n",
    "mean([2,5,4,77,8])\n",
    "\n",
    "marks2 = {'student1' : 34, 'student2' : 98}\n",
    "increment_marks(marks2)\n",
    "marks2\n"
   ]
  },
  {
   "cell_type": "code",
   "execution_count": null,
   "id": "70887b43",
   "metadata": {},
   "outputs": [],
   "source": [
    "# Let's use our functions to bump up everyone's grade until we have an average of 80 or above.\n",
    "# Notice how readable it is now that we've split up the individual pieces of logic\n",
    "# into their own functions\n",
    "course_marks = {'bonnie': 82, 'eric': 100, 'lynxi': 12}\n",
    "course_mean = mean(course_marks.values())\n",
    "\n",
    "while course_mean < 80:\n",
    "    increment_marks(course_marks)\n",
    "    course_mean = mean(course_marks.values())\n",
    "    \n",
    "print(course_marks)"
   ]
  },
  {
   "cell_type": "markdown",
   "id": "f0b96613",
   "metadata": {},
   "source": [
    "## Cooking Challenge\n",
    "\n",
    "Alberto is making spaghetti tonight and he needs to make sure that if he doesn't have enough of the ingredients in his pantry, he adds them to his shopping list.\n",
    "\n",
    "- For each item in the recipe, check if the ingredient is in Alberto's pantry.\n",
    "\n",
    "- If the recipe ingredient is in the pantry, check if the recipe requires more of the ingredient than what Alberto has in storage. If so, add the name and the quantity he needs to purchase as key-value pairs in the dictionary shopping_list.\n",
    "\n",
    "- If the recipe item is not in the pantry, add the ingredient and the quantity as **key-value pairs in the dictionary** shopping_list."
   ]
  },
  {
   "cell_type": "code",
   "execution_count": null,
   "id": "26551f64",
   "metadata": {},
   "outputs": [],
   "source": [
    "pantry = {'pasta': 3, 'garlic': 4,'sauce': 2,\n",
    "          'basil': 2, 'salt': 3, 'olive oil': 3,\n",
    "          'rice': 3, 'bread': 3, 'peanut butter': 1,\n",
    "          'flour': 1, 'eggs': 1, 'onions': 1, 'mushrooms': 3,\n",
    "          'broccoli': 2, 'butter': 2,'pickles': 6, 'milk': 2,\n",
    "          'chia seeds': 5}\n",
    "\n",
    "meal_recipe = {'pasta': 2, 'garlic': 2, 'sauce': 3,\n",
    "          'basil': 4, 'salt': 1, 'pepper': 2,\n",
    "          'olive oil': 2, 'onions': 2, 'mushrooms': 6}\n",
    "\n",
    "\n",
    "shopping_list = dict()"
   ]
  },
  {
   "cell_type": "markdown",
   "id": "f30f530f",
   "metadata": {},
   "source": [
    "```\n",
    "1. You have a meal recipe and you have a pantry.\n",
    "2. You read item by item in the meal recipe.\n",
    "3. FOR each item, you verify IF you have the item in your pantry.\n",
    "    3a. If you meet the previous condition, you verify IF you have enough of that item.\n",
    "4. ELSE you add the whole ingredient quantity to your shopping list.\n",
    "\n",
    "```"
   ]
  },
  {
   "cell_type": "code",
   "execution_count": null,
   "id": "550469b1",
   "metadata": {},
   "outputs": [],
   "source": [
    "### Solution\n"
   ]
  },
  {
   "cell_type": "code",
   "execution_count": null,
   "id": "40d16b14",
   "metadata": {},
   "outputs": [],
   "source": [
    "shopping_list"
   ]
  },
  {
   "cell_type": "markdown",
   "id": "3b266838",
   "metadata": {},
   "source": [
    "## Bonus data types: date and time\n",
    "Python contains built-in data types for handling date and time. This is great, because as any programmer eventually learns, \n",
    "dates and times are one of the most annoying things to deal with due to all the various exceptions (think time zones, leap years, daylight savings, etc.).\n",
    "\n",
    "Here, we're just going to go over some **very** basic uses of the `datetime` module in Python, but see [this helpful tutorial](https://www.programiz.com/python-programming/datetime)."
   ]
  },
  {
   "cell_type": "code",
   "execution_count": null,
   "id": "89c6d958",
   "metadata": {},
   "outputs": [],
   "source": [
    "import datetime as dt\n",
    "import pandas as pd\n",
    "import numpy as np\n",
    "\n",
    "# Get the current time in your computer's timezone\n",
    "now = dt.datetime.now()\n",
    "print(now)\n",
    "\n",
    "# Get parts of the datetime\n",
    "current_year = now.year\n",
    "print(current_year)\n",
    "\n",
    "# Get the current time in the standard UTC timezone\n",
    "utcnow = dt.datetime.utcnow()\n",
    "print(utcnow)\n",
    "\n",
    "# Just get the current date\n",
    "today = dt.date.today()\n",
    "print(today)\n",
    "\n",
    "# Create your own datetime object\n",
    "some_date = datetime.datetime(year=1994, month=11, day=23, hour=11)  # Can also specify minute, etc.\n",
    "print(some_date)\n",
    "\n",
    "# Compute the passage of time up to sub-millisecond precision\n",
    "start = datetime.datetime.now()\n",
    "x = 0\n",
    "for i in range(1000):\n",
    "    x += 1\n",
    "end = datetime.datetime.now()\n",
    "elapsed_time = end - start\n",
    "print(elapsed_time.total_seconds())"
   ]
  },
  {
   "cell_type": "code",
   "execution_count": 17,
   "id": "719cae78",
   "metadata": {},
   "outputs": [
    {
     "ename": "SyntaxError",
     "evalue": "invalid syntax (2420467876.py, line 1)",
     "output_type": "error",
     "traceback": [
      "\u001b[0;36m  Input \u001b[0;32mIn [17]\u001b[0;36m\u001b[0m\n\u001b[0;31m    ```some code\u001b[0m\n\u001b[0m    ^\u001b[0m\n\u001b[0;31mSyntaxError\u001b[0m\u001b[0;31m:\u001b[0m invalid syntax\n"
     ]
    }
   ],
   "source": [
    "```py\n",
    "some code\n",
    "more code\n",
    "end of code\n",
    "```"
   ]
  },
  {
   "cell_type": "code",
   "execution_count": null,
   "id": "f057cc89",
   "metadata": {},
   "outputs": [],
   "source": []
  }
 ],
 "metadata": {
  "kernelspec": {
   "display_name": "Python 3 (ipykernel)",
   "language": "python",
   "name": "python3"
  },
  "language_info": {
   "codemirror_mode": {
    "name": "ipython",
    "version": 3
   },
   "file_extension": ".py",
   "mimetype": "text/x-python",
   "name": "python",
   "nbconvert_exporter": "python",
   "pygments_lexer": "ipython3",
   "version": "3.9.7"
  }
 },
 "nbformat": 4,
 "nbformat_minor": 5
}
