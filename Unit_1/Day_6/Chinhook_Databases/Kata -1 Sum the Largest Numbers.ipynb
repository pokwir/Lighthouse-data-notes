{
 "cells": [
  {
   "cell_type": "markdown",
   "id": "812dad3a-e4a1-40b0-9c11-8e965d1fecd8",
   "metadata": {},
   "source": [
    "## Kata - 1 Sum the Largest Numbers"
   ]
  },
  {
   "cell_type": "code",
   "execution_count": 23,
   "id": "e558fee1-a815-463b-a6b4-6088efb810e7",
   "metadata": {},
   "outputs": [],
   "source": [
    "# Instruction\n",
    "#Create a function named sumLargestNumbers that will receive a list of numbers and return the sum of the two largest numbers in that array.\n",
    "\n",
    "def sumLargestNumbers(numbers):\n",
    "    return sum(sorted(numbers)[-2:])"
   ]
  },
  {
   "cell_type": "code",
   "execution_count": 25,
   "id": "0abb78dd-68e6-45cf-9b23-c621d26bd7e1",
   "metadata": {},
   "outputs": [
    {
     "name": "stdout",
     "output_type": "stream",
     "text": [
      "11\n"
     ]
    }
   ],
   "source": [
    "print(sumLargestNumbers([1, 10]))"
   ]
  },
  {
   "cell_type": "code",
   "execution_count": 26,
   "id": "d0afe36b-4808-45c6-8fc8-b079699ea459",
   "metadata": {},
   "outputs": [
    {
     "name": "stdout",
     "output_type": "stream",
     "text": [
      "5\n"
     ]
    }
   ],
   "source": [
    "print(sumLargestNumbers([1, 2, 3]))"
   ]
  },
  {
   "cell_type": "code",
   "execution_count": 27,
   "id": "32e011af-c907-4819-907b-fe5cecd432c1",
   "metadata": {},
   "outputs": [
    {
     "name": "stdout",
     "output_type": "stream",
     "text": [
      "126\n"
     ]
    }
   ],
   "source": [
    "print(sumLargestNumbers([10, 4, 34, 6, 92, 2]))"
   ]
  },
  {
   "cell_type": "code",
   "execution_count": null,
   "id": "9178f7f3-3dfa-4945-9317-950cba027f81",
   "metadata": {},
   "outputs": [],
   "source": []
  }
 ],
 "metadata": {
  "kernelspec": {
   "display_name": "THE_ONE",
   "language": "python",
   "name": "the_one"
  },
  "language_info": {
   "codemirror_mode": {
    "name": "ipython",
    "version": 3
   },
   "file_extension": ".py",
   "mimetype": "text/x-python",
   "name": "python",
   "nbconvert_exporter": "python",
   "pygments_lexer": "ipython3",
   "version": "3.8.16"
  }
 },
 "nbformat": 4,
 "nbformat_minor": 5
}
