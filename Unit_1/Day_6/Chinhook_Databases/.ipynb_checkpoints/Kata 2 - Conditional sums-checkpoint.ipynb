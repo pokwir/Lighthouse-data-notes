{
 "cells": [
  {
   "cell_type": "markdown",
   "id": "ebd4c32d-fff7-4ebb-a00b-c9eca9f74bdd",
   "metadata": {},
   "source": [
    "# Kata 2 - Conditional sums"
   ]
  },
  {
   "cell_type": "markdown",
   "id": "c5ecb55a-bc2e-40c0-b5bb-00ec45301bc5",
   "metadata": {},
   "source": [
    "Create a function named `conditionalSum` that will be given a list of numbers and a condition, in this case odd or even. Given this condition, add up only the values which match that condition. If no values match the condition, return 0."
   ]
  },
  {
   "cell_type": "code",
   "execution_count": 43,
   "id": "e85497d0-ac77-4d04-8d44-d39d725c0252",
   "metadata": {
    "tags": []
   },
   "outputs": [],
   "source": [
    "def conditionalSum(numbers, condition):\n",
    "    total = 0\n",
    "    for number in numbers:\n",
    "        if condition == 'even' and number % 2 == 0:\n",
    "            total += number\n",
    "        elif condition == 'odd' and number % 2 == 1:\n",
    "            total += number\n",
    "    return total"
   ]
  },
  {
   "cell_type": "code",
   "execution_count": 44,
   "id": "f4070fc0-9c43-474b-8945-18f4b891d9c4",
   "metadata": {},
   "outputs": [
    {
     "name": "stdout",
     "output_type": "stream",
     "text": [
      "6\n"
     ]
    }
   ],
   "source": [
    "print(conditionalSum([1, 2, 3, 4, 5], \"even\"))"
   ]
  },
  {
   "cell_type": "code",
   "execution_count": 45,
   "id": "abc7d175-be3f-4824-946a-277d60e730e6",
   "metadata": {},
   "outputs": [
    {
     "name": "stdout",
     "output_type": "stream",
     "text": [
      "9\n"
     ]
    }
   ],
   "source": [
    "print(conditionalSum([1, 2, 3, 4, 5], \"odd\"))"
   ]
  },
  {
   "cell_type": "code",
   "execution_count": 46,
   "id": "8e2d7518-2f05-4c56-8f32-b17b5b2b258e",
   "metadata": {},
   "outputs": [
    {
     "name": "stdout",
     "output_type": "stream",
     "text": [
      "144\n"
     ]
    }
   ],
   "source": [
    "print(conditionalSum([13, 88, 12, 44, 99], \"even\"))"
   ]
  },
  {
   "cell_type": "code",
   "execution_count": 47,
   "id": "53bac5d7-7284-48e0-a39a-54b8be2d8341",
   "metadata": {},
   "outputs": [
    {
     "name": "stdout",
     "output_type": "stream",
     "text": [
      "0\n"
     ]
    }
   ],
   "source": [
    "print(conditionalSum([], \"odd\"))"
   ]
  },
  {
   "cell_type": "code",
   "execution_count": null,
   "id": "a62cf0d5-43dd-4a0f-ae57-7c8dd527ceaa",
   "metadata": {},
   "outputs": [],
   "source": []
  }
 ],
 "metadata": {
  "kernelspec": {
   "display_name": "THE_ONE",
   "language": "python",
   "name": "the_one"
  },
  "language_info": {
   "codemirror_mode": {
    "name": "ipython",
    "version": 3
   },
   "file_extension": ".py",
   "mimetype": "text/x-python",
   "name": "python",
   "nbconvert_exporter": "python",
   "pygments_lexer": "ipython3",
   "version": "3.8.16"
  }
 },
 "nbformat": 4,
 "nbformat_minor": 5
}
