{
 "cells": [
  {
   "cell_type": "markdown",
   "id": "564463a0-c4b5-4350-b9d4-138b6a0f72d4",
   "metadata": {},
   "source": [
    "# Kata 3 - Vowels"
   ]
  },
  {
   "cell_type": "markdown",
   "id": "09c29b78-989c-4554-a1c6-9e9c3e905fbd",
   "metadata": {},
   "source": [
    "We will be counting the number of vowels that appear in a given string. For this exercise, consider the following to be vowels: a, e, i, o, and u."
   ]
  },
  {
   "cell_type": "markdown",
   "id": "92911127-5d7a-4a97-87b4-aad8ef2f64b7",
   "metadata": {},
   "source": [
    "- Create a function named `numberOfVowels` that will receive a string and return the number of vowels in that string."
   ]
  },
  {
   "cell_type": "code",
   "execution_count": 98,
   "id": "34743f9b-a8ab-4f66-b6a2-517b4b0d0a42",
   "metadata": {},
   "outputs": [],
   "source": [
    "def numberOfVowels(data):\n",
    "    count = 0\n",
    "    vowels = 'aeiou'\n",
    "    i = 0\n",
    "    while i < len(data):\n",
    "        if data[i] in vowels:\n",
    "            count += 1\n",
    "        i += 1\n",
    "    return count"
   ]
  },
  {
   "cell_type": "code",
   "execution_count": 99,
   "id": "34fcd871-28c0-4b4d-a47d-859dc513f234",
   "metadata": {},
   "outputs": [
    {
     "name": "stdout",
     "output_type": "stream",
     "text": [
      "3\n"
     ]
    }
   ],
   "source": [
    "print(numberOfVowels(\"orange\"))"
   ]
  },
  {
   "cell_type": "code",
   "execution_count": 100,
   "id": "62da3560-3a6b-43fb-9559-70a5cf145a81",
   "metadata": {},
   "outputs": [
    {
     "name": "stdout",
     "output_type": "stream",
     "text": [
      "5\n"
     ]
    }
   ],
   "source": [
    "print(numberOfVowels(\"lighthouse labs\"))"
   ]
  },
  {
   "cell_type": "code",
   "execution_count": 101,
   "id": "a219068f-ac39-4017-9ca4-7eff6a59083e",
   "metadata": {},
   "outputs": [
    {
     "name": "stdout",
     "output_type": "stream",
     "text": [
      "5\n"
     ]
    }
   ],
   "source": [
    "print(numberOfVowels(\"aeiou\"))"
   ]
  },
  {
   "cell_type": "code",
   "execution_count": null,
   "id": "efe7880d-230f-4e3e-8409-61af47b5e5ab",
   "metadata": {},
   "outputs": [],
   "source": []
  }
 ],
 "metadata": {
  "kernelspec": {
   "display_name": "THE_ONE",
   "language": "python",
   "name": "the_one"
  },
  "language_info": {
   "codemirror_mode": {
    "name": "ipython",
    "version": 3
   },
   "file_extension": ".py",
   "mimetype": "text/x-python",
   "name": "python",
   "nbconvert_exporter": "python",
   "pygments_lexer": "ipython3",
   "version": "3.8.16"
  }
 },
 "nbformat": 4,
 "nbformat_minor": 5
}
