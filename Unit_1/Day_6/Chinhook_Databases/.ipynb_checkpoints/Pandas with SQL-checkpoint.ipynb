{
 "cells": [
  {
   "cell_type": "markdown",
   "id": "9fab4e17-f084-47ea-951a-4dc0cc32f967",
   "metadata": {},
   "source": [
    "# Pandas with SQL\n",
    "\n",
    "In this hands-on activity, we'll practice working with databases with Pandas. We will also review how to connect to SQLite with the `sqlite3` module and try the same process with `SQLAlchemy`. Let's dive straight into it!"
   ]
  },
  {
   "cell_type": "code",
   "execution_count": 5,
   "id": "f89870c0-39d4-44fc-b943-d0203be5373f",
   "metadata": {},
   "outputs": [],
   "source": [
    "import sqlite3 as sqlite, pandas as pd\n",
    "from sqlalchemy import create_engine"
   ]
  },
  {
   "cell_type": "code",
   "execution_count": null,
   "id": "5a889aa1-bf07-4e2d-83d5-79cabad50537",
   "metadata": {},
   "outputs": [],
   "source": []
  },
  {
   "cell_type": "markdown",
   "id": "51c36c69-bd4f-4f75-859e-2a25333e9d5e",
   "metadata": {},
   "source": [
    "For demonstration purposes, we'll create a database, `population.db`, and insert one table with the name, Population, which represents the population in different countries."
   ]
  },
  {
   "cell_type": "code",
   "execution_count": null,
   "id": "e134e0c7-cf65-4a14-8c94-c06b5f040d10",
   "metadata": {},
   "outputs": [],
   "source": []
  },
  {
   "cell_type": "code",
   "execution_count": 6,
   "id": "d19906a2-15b1-453c-9651-fcf611e1a6a0",
   "metadata": {},
   "outputs": [],
   "source": [
    "with sqlite.connect('population.db') as con:\n",
    "    cur = con.cursor()    \n",
    "    cur.execute(\"CREATE TABLE IF NOT EXISTS Population(id INTEGER PRIMARY KEY, country TEXT, population INT)\")\n",
    "    cur.execute(\"INSERT INTO Population VALUES(NULL,'Germany',81197537)\")\n",
    "    cur.execute(\"INSERT INTO Population VALUES(NULL,'France', 66415161)\")\n",
    "    cur.execute(\"INSERT INTO Population VALUES(NULL,'Spain', 46439864)\")\n",
    "    cur.execute(\"INSERT INTO Population VALUES(NULL,'Italy', 60795612)\")\n",
    "    cur.execute(\"INSERT INTO Population VALUES(NULL,'Spain', 46439864)\")"
   ]
  },
  {
   "cell_type": "code",
   "execution_count": null,
   "id": "dafa1c36-96da-40c0-81a6-d4481deecc93",
   "metadata": {},
   "outputs": [],
   "source": []
  },
  {
   "cell_type": "code",
   "execution_count": null,
   "id": "b2047055-3ce5-42ac-9dbb-fccc16f73f68",
   "metadata": {},
   "outputs": [],
   "source": []
  },
  {
   "cell_type": "markdown",
   "id": "fa2d3ef4-2cc0-4890-acbb-888fa326a4d0",
   "metadata": {},
   "source": [
    "### Creating Connection with SQLAlchemy\n",
    "Another option is, to connect to the SQLite (or any other supported databases) database using SQLAlchemy. This type of connection is also recommended by Pandas."
   ]
  },
  {
   "cell_type": "code",
   "execution_count": 7,
   "id": "3c301c04-54d1-42de-9917-f2e6573930d1",
   "metadata": {},
   "outputs": [],
   "source": [
    "connection = create_engine('sqlite:///population.db')\n",
    "#  The only required parameter in the create_engine function is a connection string. "
   ]
  },
  {
   "cell_type": "code",
   "execution_count": null,
   "id": "7a1f731e-e11b-418a-beff-b57a3d2df1d9",
   "metadata": {},
   "outputs": [],
   "source": []
  },
  {
   "cell_type": "code",
   "execution_count": null,
   "id": "1f40a04e-f949-4681-9dbc-beacf93d80f2",
   "metadata": {},
   "outputs": [],
   "source": []
  },
  {
   "cell_type": "markdown",
   "id": "80641979-fcd5-4aee-8918-bebde8ff7eb7",
   "metadata": {},
   "source": [
    "### Reading SQL data with Pandas"
   ]
  },
  {
   "cell_type": "markdown",
   "id": "753bfd48-f5a0-4a0c-b384-e55d3ffc823c",
   "metadata": {},
   "source": [
    "1. Reading a querry\n",
    "`read_sql_querry()`\n",
    "This method requires two parameters as input. The first parameter is a string with a SQL query and the second one is a connection to the database"
   ]
  },
  {
   "cell_type": "code",
   "execution_count": 8,
   "id": "f975dfe5-908d-4ff7-adeb-cf39d497284d",
   "metadata": {},
   "outputs": [],
   "source": [
    "# Create the querry\n",
    "sql = 'Select * from Population'\n",
    "\n",
    "with create_engine('sqlite:///population.db').connect() as con:\n",
    "    df = pd.read_sql_query(sql, con)"
   ]
  },
  {
   "cell_type": "code",
   "execution_count": 9,
   "id": "2df58d27-1a41-4147-8ed9-9d0a869df97a",
   "metadata": {},
   "outputs": [
    {
     "data": {
      "text/html": [
       "<div>\n",
       "<style scoped>\n",
       "    .dataframe tbody tr th:only-of-type {\n",
       "        vertical-align: middle;\n",
       "    }\n",
       "\n",
       "    .dataframe tbody tr th {\n",
       "        vertical-align: top;\n",
       "    }\n",
       "\n",
       "    .dataframe thead th {\n",
       "        text-align: right;\n",
       "    }\n",
       "</style>\n",
       "<table border=\"1\" class=\"dataframe\">\n",
       "  <thead>\n",
       "    <tr style=\"text-align: right;\">\n",
       "      <th></th>\n",
       "      <th>id</th>\n",
       "      <th>country</th>\n",
       "      <th>population</th>\n",
       "    </tr>\n",
       "  </thead>\n",
       "  <tbody>\n",
       "    <tr>\n",
       "      <th>0</th>\n",
       "      <td>1</td>\n",
       "      <td>Germany</td>\n",
       "      <td>81197537</td>\n",
       "    </tr>\n",
       "    <tr>\n",
       "      <th>1</th>\n",
       "      <td>2</td>\n",
       "      <td>France</td>\n",
       "      <td>66415161</td>\n",
       "    </tr>\n",
       "    <tr>\n",
       "      <th>2</th>\n",
       "      <td>3</td>\n",
       "      <td>Spain</td>\n",
       "      <td>46439864</td>\n",
       "    </tr>\n",
       "    <tr>\n",
       "      <th>3</th>\n",
       "      <td>4</td>\n",
       "      <td>Italy</td>\n",
       "      <td>60795612</td>\n",
       "    </tr>\n",
       "    <tr>\n",
       "      <th>4</th>\n",
       "      <td>5</td>\n",
       "      <td>Spain</td>\n",
       "      <td>46439864</td>\n",
       "    </tr>\n",
       "  </tbody>\n",
       "</table>\n",
       "</div>"
      ],
      "text/plain": [
       "   id  country  population\n",
       "0   1  Germany    81197537\n",
       "1   2   France    66415161\n",
       "2   3    Spain    46439864\n",
       "3   4    Italy    60795612\n",
       "4   5    Spain    46439864"
      ]
     },
     "execution_count": 9,
     "metadata": {},
     "output_type": "execute_result"
    }
   ],
   "source": [
    "df"
   ]
  },
  {
   "cell_type": "code",
   "execution_count": null,
   "id": "1902df64-88d0-45bd-8ffb-09b220761061",
   "metadata": {},
   "outputs": [],
   "source": []
  },
  {
   "cell_type": "markdown",
   "id": "84c61b58-7063-48e6-aa40-3000c901ffd9",
   "metadata": {},
   "source": [
    "2. Read SQL Table\n",
    "`read_sql_table()`\n",
    "Compared to the read_sql_query() method, the first argument is the table name instead of the SQL query. The second argument stays the same."
   ]
  },
  {
   "cell_type": "code",
   "execution_count": 11,
   "id": "a39c852f-6e2f-486e-842c-ba6f799ce2a5",
   "metadata": {},
   "outputs": [],
   "source": [
    "# create the query\n",
    "table = 'Population'\n",
    "with create_engine('sqlite:///population.db').connect() as con:\n",
    "    df = pd.read_sql_table(table, con)"
   ]
  },
  {
   "cell_type": "code",
   "execution_count": 12,
   "id": "31e24c55-00bf-4beb-812a-40ce07931803",
   "metadata": {},
   "outputs": [
    {
     "data": {
      "text/html": [
       "<div>\n",
       "<style scoped>\n",
       "    .dataframe tbody tr th:only-of-type {\n",
       "        vertical-align: middle;\n",
       "    }\n",
       "\n",
       "    .dataframe tbody tr th {\n",
       "        vertical-align: top;\n",
       "    }\n",
       "\n",
       "    .dataframe thead th {\n",
       "        text-align: right;\n",
       "    }\n",
       "</style>\n",
       "<table border=\"1\" class=\"dataframe\">\n",
       "  <thead>\n",
       "    <tr style=\"text-align: right;\">\n",
       "      <th></th>\n",
       "      <th>id</th>\n",
       "      <th>country</th>\n",
       "      <th>population</th>\n",
       "    </tr>\n",
       "  </thead>\n",
       "  <tbody>\n",
       "    <tr>\n",
       "      <th>0</th>\n",
       "      <td>1</td>\n",
       "      <td>Germany</td>\n",
       "      <td>81197537</td>\n",
       "    </tr>\n",
       "    <tr>\n",
       "      <th>1</th>\n",
       "      <td>2</td>\n",
       "      <td>France</td>\n",
       "      <td>66415161</td>\n",
       "    </tr>\n",
       "    <tr>\n",
       "      <th>2</th>\n",
       "      <td>3</td>\n",
       "      <td>Spain</td>\n",
       "      <td>46439864</td>\n",
       "    </tr>\n",
       "    <tr>\n",
       "      <th>3</th>\n",
       "      <td>4</td>\n",
       "      <td>Italy</td>\n",
       "      <td>60795612</td>\n",
       "    </tr>\n",
       "    <tr>\n",
       "      <th>4</th>\n",
       "      <td>5</td>\n",
       "      <td>Spain</td>\n",
       "      <td>46439864</td>\n",
       "    </tr>\n",
       "  </tbody>\n",
       "</table>\n",
       "</div>"
      ],
      "text/plain": [
       "   id  country  population\n",
       "0   1  Germany    81197537\n",
       "1   2   France    66415161\n",
       "2   3    Spain    46439864\n",
       "3   4    Italy    60795612\n",
       "4   5    Spain    46439864"
      ]
     },
     "execution_count": 12,
     "metadata": {},
     "output_type": "execute_result"
    }
   ],
   "source": [
    "df"
   ]
  },
  {
   "cell_type": "code",
   "execution_count": null,
   "id": "d84be97c-a9e8-4802-9824-97befab0cf84",
   "metadata": {},
   "outputs": [],
   "source": []
  },
  {
   "cell_type": "code",
   "execution_count": null,
   "id": "0cf046fc-5765-4635-80a4-07ae37f43fcb",
   "metadata": {},
   "outputs": [],
   "source": []
  },
  {
   "cell_type": "markdown",
   "id": "2a5451f9-79e7-4241-913d-29a7614cbd59",
   "metadata": {},
   "source": [
    "3. Read SQL ` read_sql()`\n",
    "- This function is a combination of the two mentioned above. Depending on the type of the first argument (SQL query or table name), this function internally calls `read_sql_query()` instead of `read_sql_table().`"
   ]
  },
  {
   "cell_type": "code",
   "execution_count": 13,
   "id": "e6504a7a-92fb-4e40-ac58-b9b6a648dd21",
   "metadata": {},
   "outputs": [],
   "source": [
    "# create sql\n",
    "sql = 'select * from Population'\n",
    "\n",
    "with create_engine('sqlite:///population.db').connect() as con:\n",
    "    df = pd.read_sql(sql, con)"
   ]
  },
  {
   "cell_type": "code",
   "execution_count": 14,
   "id": "c92d7bb4-e12f-4478-875f-939d4ec1bbc0",
   "metadata": {},
   "outputs": [
    {
     "data": {
      "text/html": [
       "<div>\n",
       "<style scoped>\n",
       "    .dataframe tbody tr th:only-of-type {\n",
       "        vertical-align: middle;\n",
       "    }\n",
       "\n",
       "    .dataframe tbody tr th {\n",
       "        vertical-align: top;\n",
       "    }\n",
       "\n",
       "    .dataframe thead th {\n",
       "        text-align: right;\n",
       "    }\n",
       "</style>\n",
       "<table border=\"1\" class=\"dataframe\">\n",
       "  <thead>\n",
       "    <tr style=\"text-align: right;\">\n",
       "      <th></th>\n",
       "      <th>id</th>\n",
       "      <th>country</th>\n",
       "      <th>population</th>\n",
       "    </tr>\n",
       "  </thead>\n",
       "  <tbody>\n",
       "    <tr>\n",
       "      <th>0</th>\n",
       "      <td>1</td>\n",
       "      <td>Germany</td>\n",
       "      <td>81197537</td>\n",
       "    </tr>\n",
       "    <tr>\n",
       "      <th>1</th>\n",
       "      <td>2</td>\n",
       "      <td>France</td>\n",
       "      <td>66415161</td>\n",
       "    </tr>\n",
       "    <tr>\n",
       "      <th>2</th>\n",
       "      <td>3</td>\n",
       "      <td>Spain</td>\n",
       "      <td>46439864</td>\n",
       "    </tr>\n",
       "    <tr>\n",
       "      <th>3</th>\n",
       "      <td>4</td>\n",
       "      <td>Italy</td>\n",
       "      <td>60795612</td>\n",
       "    </tr>\n",
       "    <tr>\n",
       "      <th>4</th>\n",
       "      <td>5</td>\n",
       "      <td>Spain</td>\n",
       "      <td>46439864</td>\n",
       "    </tr>\n",
       "  </tbody>\n",
       "</table>\n",
       "</div>"
      ],
      "text/plain": [
       "   id  country  population\n",
       "0   1  Germany    81197537\n",
       "1   2   France    66415161\n",
       "2   3    Spain    46439864\n",
       "3   4    Italy    60795612\n",
       "4   5    Spain    46439864"
      ]
     },
     "execution_count": 14,
     "metadata": {},
     "output_type": "execute_result"
    }
   ],
   "source": [
    "df"
   ]
  },
  {
   "cell_type": "code",
   "execution_count": 15,
   "id": "350d9d41-9fb0-4925-a570-809739e4d7b0",
   "metadata": {},
   "outputs": [],
   "source": [
    "# Table Name \n",
    "\n",
    "table = 'Population'\n",
    "with create_engine('sqlite:///population.db').connect() as con:\n",
    "    df = pd.read_sql(table, con)"
   ]
  },
  {
   "cell_type": "code",
   "execution_count": 16,
   "id": "1eeaa9b4-f1d1-4227-bb59-ab1f7f611e15",
   "metadata": {},
   "outputs": [
    {
     "data": {
      "text/html": [
       "<div>\n",
       "<style scoped>\n",
       "    .dataframe tbody tr th:only-of-type {\n",
       "        vertical-align: middle;\n",
       "    }\n",
       "\n",
       "    .dataframe tbody tr th {\n",
       "        vertical-align: top;\n",
       "    }\n",
       "\n",
       "    .dataframe thead th {\n",
       "        text-align: right;\n",
       "    }\n",
       "</style>\n",
       "<table border=\"1\" class=\"dataframe\">\n",
       "  <thead>\n",
       "    <tr style=\"text-align: right;\">\n",
       "      <th></th>\n",
       "      <th>id</th>\n",
       "      <th>country</th>\n",
       "      <th>population</th>\n",
       "    </tr>\n",
       "  </thead>\n",
       "  <tbody>\n",
       "    <tr>\n",
       "      <th>0</th>\n",
       "      <td>1</td>\n",
       "      <td>Germany</td>\n",
       "      <td>81197537</td>\n",
       "    </tr>\n",
       "    <tr>\n",
       "      <th>1</th>\n",
       "      <td>2</td>\n",
       "      <td>France</td>\n",
       "      <td>66415161</td>\n",
       "    </tr>\n",
       "    <tr>\n",
       "      <th>2</th>\n",
       "      <td>3</td>\n",
       "      <td>Spain</td>\n",
       "      <td>46439864</td>\n",
       "    </tr>\n",
       "    <tr>\n",
       "      <th>3</th>\n",
       "      <td>4</td>\n",
       "      <td>Italy</td>\n",
       "      <td>60795612</td>\n",
       "    </tr>\n",
       "    <tr>\n",
       "      <th>4</th>\n",
       "      <td>5</td>\n",
       "      <td>Spain</td>\n",
       "      <td>46439864</td>\n",
       "    </tr>\n",
       "  </tbody>\n",
       "</table>\n",
       "</div>"
      ],
      "text/plain": [
       "   id  country  population\n",
       "0   1  Germany    81197537\n",
       "1   2   France    66415161\n",
       "2   3    Spain    46439864\n",
       "3   4    Italy    60795612\n",
       "4   5    Spain    46439864"
      ]
     },
     "execution_count": 16,
     "metadata": {},
     "output_type": "execute_result"
    }
   ],
   "source": [
    "df"
   ]
  },
  {
   "cell_type": "code",
   "execution_count": null,
   "id": "311065f0-559f-4d48-a56d-d7e5b520c378",
   "metadata": {},
   "outputs": [],
   "source": []
  }
 ],
 "metadata": {
  "kernelspec": {
   "display_name": "THE_ONE",
   "language": "python",
   "name": "the_one"
  },
  "language_info": {
   "codemirror_mode": {
    "name": "ipython",
    "version": 3
   },
   "file_extension": ".py",
   "mimetype": "text/x-python",
   "name": "python",
   "nbconvert_exporter": "python",
   "pygments_lexer": "ipython3",
   "version": "3.8.16"
  }
 },
 "nbformat": 4,
 "nbformat_minor": 5
}
