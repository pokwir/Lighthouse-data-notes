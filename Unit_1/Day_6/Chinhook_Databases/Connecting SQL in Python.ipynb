{
 "cells": [
  {
   "cell_type": "markdown",
   "id": "6116a999-1cd9-45aa-addb-bc1c169c7ff8",
   "metadata": {},
   "source": [
    "# Connecting to SQL Lite in Python"
   ]
  },
  {
   "cell_type": "code",
   "execution_count": 1,
   "id": "09b601c6-d664-4b99-a1cb-b685b1436e8e",
   "metadata": {},
   "outputs": [],
   "source": [
    "import sqlite3"
   ]
  },
  {
   "cell_type": "code",
   "execution_count": 4,
   "id": "8daee2c5-b117-4ead-bd3e-fd562b3b66e7",
   "metadata": {},
   "outputs": [],
   "source": [
    "def create_connection(path):\n",
    "    connection = None\n",
    "    try:\n",
    "        connection = sqlite3.connect('Chinhook_Databases')\n",
    "        print(\"Connection to SQLite DB successful\")\n",
    "    except Error as e:\n",
    "        print(f\"The error '{e}' occurred\")\n",
    "\n",
    "    return connection"
   ]
  },
  {
   "cell_type": "markdown",
   "id": "8be2a9ee-f332-4a91-8b11-ed300b394fce",
   "metadata": {},
   "source": [
    "* sqlite3.connect(path) returns a connection object, which is in turn returned by create_connection(). \n",
    "- This connection object can be used to execute queries on an SQLite database. The following script creates a connection to the SQLite database:"
   ]
  },
  {
   "cell_type": "code",
   "execution_count": 6,
   "id": "ed090f70-07c0-4f7c-b66c-79bd5aa8442c",
   "metadata": {},
   "outputs": [
    {
     "name": "stdout",
     "output_type": "stream",
     "text": [
      "Connection to SQLite DB successful\n"
     ]
    }
   ],
   "source": [
    "connection = create_connection(\"sm_app.sqlite\")"
   ]
  },
  {
   "cell_type": "code",
   "execution_count": null,
   "id": "0e58cfbc-1b39-4966-bd6c-efbbd69aba92",
   "metadata": {},
   "outputs": [],
   "source": []
  },
  {
   "cell_type": "code",
   "execution_count": null,
   "id": "ddb2989c-2135-4d0d-8aa3-8e6f4d161aab",
   "metadata": {},
   "outputs": [],
   "source": []
  },
  {
   "cell_type": "markdown",
   "id": "b7334f46-b6ca-4b1f-ab40-a835b52982fd",
   "metadata": {},
   "source": [
    "- To execute queries in SQLite, use cursor`.execute().` \n",
    "- In this section, we'll define a function `execute_query()` that uses this method. \n",
    "- Our function will accept the connection object and a query string, which we'll pass to cursor.execute()."
   ]
  },
  {
   "cell_type": "markdown",
   "id": "4cd64ea5-d700-415c-b636-62b6f1ccc78e",
   "metadata": {},
   "source": [
    "- `.execute()` can execute any query passed to it in the form of string. \n",
    "- We'll use this method to create tables in this section. In the upcoming sections, We'll use this same method to execute update and delete queries as well."
   ]
  },
  {
   "cell_type": "code",
   "execution_count": 7,
   "id": "9d8ad1ea-e379-4823-98f5-aead01716d49",
   "metadata": {},
   "outputs": [],
   "source": [
    "def execute_query(connection, query):\n",
    "    cursor = connection.cursor()\n",
    "    try:\n",
    "        cursor.execute(query)\n",
    "        connection.commit()\n",
    "        print(\"Query executed successfully\")\n",
    "    except Error as e:\n",
    "        print(f\"The error '{e}' occurred\")"
   ]
  },
  {
   "cell_type": "code",
   "execution_count": 8,
   "id": "ac44b704-3f62-449a-89d9-c85261b6034d",
   "metadata": {},
   "outputs": [],
   "source": [
    "create_users_table = \"\"\"\n",
    "CREATE TABLE IF NOT EXISTS users (\n",
    "  id INTEGER PRIMARY KEY AUTOINCREMENT,\n",
    "  name TEXT NOT NULL,\n",
    "  age INTEGER,\n",
    "  gender TEXT,\n",
    "  nationality TEXT\n",
    ");\n",
    "\"\"\""
   ]
  },
  {
   "cell_type": "code",
   "execution_count": null,
   "id": "30043fb1-8698-482e-80f2-5f2eb1a1610e",
   "metadata": {},
   "outputs": [],
   "source": []
  },
  {
   "cell_type": "markdown",
   "id": "85cc30dc-f988-47e7-bf7a-33054252599f",
   "metadata": {},
   "source": [
    "Finally, we'll call `executequery()` to create the table. We'll pass in the connection object that we created in the previous section, along with the `createusers_table` string that contains the create table query:"
   ]
  },
  {
   "cell_type": "code",
   "execution_count": 9,
   "id": "f5d81d91-f0e8-438a-aba8-0da7afd72101",
   "metadata": {},
   "outputs": [
    {
     "name": "stdout",
     "output_type": "stream",
     "text": [
      "Query executed successfully\n"
     ]
    }
   ],
   "source": [
    "execute_query(connection, create_users_table)"
   ]
  },
  {
   "cell_type": "code",
   "execution_count": 10,
   "id": "ee4f6588-a121-4412-8b09-e95bf53c763f",
   "metadata": {},
   "outputs": [],
   "source": [
    "create_posts_table = \"\"\"\n",
    "CREATE TABLE IF NOT EXISTS posts(\n",
    "  id INTEGER PRIMARY KEY AUTOINCREMENT, \n",
    "  title TEXT NOT NULL, \n",
    "  description TEXT NOT NULL, \n",
    "  user_id INTEGER NOT NULL, \n",
    "  FOREIGN KEY (user_id) REFERENCES users (id)\n",
    ");\n",
    "\"\"\""
   ]
  },
  {
   "cell_type": "code",
   "execution_count": 11,
   "id": "f583625a-42eb-46bb-b3bd-e3b666e35a13",
   "metadata": {},
   "outputs": [
    {
     "name": "stdout",
     "output_type": "stream",
     "text": [
      "Query executed successfully\n"
     ]
    }
   ],
   "source": [
    "execute_query(connection, create_posts_table)"
   ]
  },
  {
   "cell_type": "code",
   "execution_count": 12,
   "id": "75ecb645-39eb-4a3f-a69b-79dd35f1808c",
   "metadata": {},
   "outputs": [
    {
     "name": "stdout",
     "output_type": "stream",
     "text": [
      "Query executed successfully\n",
      "Query executed successfully\n"
     ]
    }
   ],
   "source": [
    "create_comments_table = \"\"\"\n",
    "CREATE TABLE IF NOT EXISTS comments (\n",
    "  id INTEGER PRIMARY KEY AUTOINCREMENT, \n",
    "  text TEXT NOT NULL, \n",
    "  user_id INTEGER NOT NULL, \n",
    "  post_id INTEGER NOT NULL, \n",
    "  FOREIGN KEY (user_id) REFERENCES users (id) FOREIGN KEY (post_id) REFERENCES posts (id)\n",
    ");\n",
    "\"\"\"\n",
    "\n",
    "create_likes_table = \"\"\"\n",
    "CREATE TABLE IF NOT EXISTS likes (\n",
    "  id INTEGER PRIMARY KEY AUTOINCREMENT, \n",
    "  user_id INTEGER NOT NULL, \n",
    "  post_id integer NOT NULL, \n",
    "  FOREIGN KEY (user_id) REFERENCES users (id) FOREIGN KEY (post_id) REFERENCES posts (id)\n",
    ");\n",
    "\"\"\"\n",
    "\n",
    "execute_query(connection, create_comments_table)  \n",
    "execute_query(connection, create_likes_table)"
   ]
  },
  {
   "cell_type": "markdown",
   "id": "c8c6903d-b7f2-4f55-a26e-f13abc660d69",
   "metadata": {},
   "source": [
    "- We can see that creating tables in SQLite is very similar to using raw SQL. All we have to do is store the query in a string variable and then pass that variable to `cursor.execute()`."
   ]
  },
  {
   "cell_type": "code",
   "execution_count": null,
   "id": "512b60ed-5536-4429-97e6-25fe08d6662b",
   "metadata": {},
   "outputs": [],
   "source": []
  },
  {
   "cell_type": "code",
   "execution_count": null,
   "id": "7425b4f5-875d-4dc8-bf46-05a19d0a94e4",
   "metadata": {},
   "outputs": [],
   "source": []
  },
  {
   "cell_type": "markdown",
   "id": "a70b0374-e949-4dd9-aa6b-9d0d97da02b5",
   "metadata": {},
   "source": [
    "## Inserting Records"
   ]
  },
  {
   "cell_type": "markdown",
   "id": "f5018380-162d-4f17-b63e-3ed16152774b",
   "metadata": {},
   "source": [
    "We have to store our `INSERT INTO` query in a string. Then, we can pass the connection object and query string to `execute_query()`. Let's insert five records into the users table:"
   ]
  },
  {
   "cell_type": "code",
   "execution_count": 13,
   "id": "75452b5d-ff82-4265-9154-fdea22b7d232",
   "metadata": {},
   "outputs": [
    {
     "name": "stdout",
     "output_type": "stream",
     "text": [
      "Query executed successfully\n"
     ]
    }
   ],
   "source": [
    "create_users = \"\"\"\n",
    "INSERT INTO\n",
    "  users (name, age, gender, nationality)\n",
    "VALUES\n",
    "  ('James', 25, 'male', 'USA'),\n",
    "  ('Leila', 32, 'female', 'France'),\n",
    "  ('Brigitte', 35, 'female', 'England'),\n",
    "  ('Mike', 40, 'male', 'Denmark'),\n",
    "  ('Elizabeth', 21, 'female', 'Canada');\n",
    "\"\"\"\n",
    "\n",
    "execute_query(connection, create_users)"
   ]
  },
  {
   "cell_type": "code",
   "execution_count": 14,
   "id": "421e87bd-4bc4-4a0e-808a-af0212a5711a",
   "metadata": {},
   "outputs": [
    {
     "name": "stdout",
     "output_type": "stream",
     "text": [
      "Query executed successfully\n"
     ]
    }
   ],
   "source": [
    "create_posts = \"\"\"\n",
    "INSERT INTO\n",
    "  posts (title, description, user_id)\n",
    "VALUES\n",
    "  (\"Happy\", \"I am feeling very happy today\", 1),\n",
    "  (\"Hot Weather\", \"The weather is very hot today\", 2),\n",
    "  (\"Help\", \"I need some help with my work\", 2),\n",
    "  (\"Great News\", \"I am getting married\", 1),\n",
    "  (\"Interesting Game\", \"It was a fantastic game of tennis\", 5),\n",
    "  (\"Party\", \"Anyone up for a late-night party today?\", 3);\n",
    "\"\"\"\n",
    "\n",
    "execute_query(connection, create_posts)"
   ]
  },
  {
   "cell_type": "code",
   "execution_count": 15,
   "id": "1a37bfae-56eb-4175-8792-3d2ec8b49455",
   "metadata": {},
   "outputs": [
    {
     "name": "stdout",
     "output_type": "stream",
     "text": [
      "Query executed successfully\n",
      "Query executed successfully\n"
     ]
    }
   ],
   "source": [
    "create_comments = \"\"\"\n",
    "INSERT INTO\n",
    "  comments (text, user_id, post_id)\n",
    "VALUES\n",
    "  ('Count me in', 1, 6),\n",
    "  ('What sort of help?', 5, 3),\n",
    "  ('Congrats buddy', 2, 4),\n",
    "  ('I was rooting for Nadal though', 4, 5),\n",
    "  ('Help with your thesis?', 2, 3),\n",
    "  ('Many congratulations', 5, 4);\n",
    "\"\"\"\n",
    "\n",
    "create_likes = \"\"\"\n",
    "INSERT INTO\n",
    "  likes (user_id, post_id)\n",
    "VALUES\n",
    "  (1, 6),\n",
    "  (2, 3),\n",
    "  (1, 5),\n",
    "  (5, 4),\n",
    "  (2, 4),\n",
    "  (4, 2),\n",
    "  (3, 6);\n",
    "\"\"\"\n",
    "\n",
    "execute_query(connection, create_comments)\n",
    "execute_query(connection, create_likes)"
   ]
  },
  {
   "cell_type": "code",
   "execution_count": null,
   "id": "8947597b-d868-4c21-860a-4d0dd51a23f1",
   "metadata": {},
   "outputs": [],
   "source": []
  },
  {
   "cell_type": "code",
   "execution_count": null,
   "id": "a9b39385-67cf-4d7b-9e3a-e1461595bbe6",
   "metadata": {},
   "outputs": [],
   "source": []
  },
  {
   "cell_type": "markdown",
   "id": "5157f6bd-a48d-429d-a430-a8e159894cb5",
   "metadata": {},
   "source": [
    "In both cases, we store our `INSERT INTO` query as a string and execute it with `execute_query().`\n",
    "\n"
   ]
  },
  {
   "cell_type": "code",
   "execution_count": null,
   "id": "89aec83b-15c5-469d-8a9a-c3ae25c7a09d",
   "metadata": {},
   "outputs": [],
   "source": []
  },
  {
   "cell_type": "code",
   "execution_count": null,
   "id": "34441e1c-bf6c-40b8-80af-596746441316",
   "metadata": {},
   "outputs": [],
   "source": []
  },
  {
   "cell_type": "markdown",
   "id": "890a071e-f138-440a-b628-51674f644fa3",
   "metadata": {},
   "source": [
    "## Selecting Records"
   ]
  },
  {
   "cell_type": "markdown",
   "id": "1c6b1ba9-3a73-4cc1-a931-4e6d9963d5db",
   "metadata": {},
   "source": [
    "To select records using SQLite, we can again use `cursor.execute().` However, after you’ve done this, we'll need to call `.fetchall()`. This method returns a list of tuples where each tuple is mapped to the corresponding row in the retrieved records.\n",
    "\n",
    "To simplify the process, we can create a function `execute_read_query():`"
   ]
  },
  {
   "cell_type": "code",
   "execution_count": 17,
   "id": "5402763c-6358-4b1d-afcc-db6d267b37ff",
   "metadata": {},
   "outputs": [],
   "source": [
    "def execute_read_query(connection, query):\n",
    "    cursor = connection.cursor()\n",
    "    result = None\n",
    "    try:\n",
    "        cursor.execute(query)\n",
    "        result = cursor.fetchall()\n",
    "        return result\n",
    "    except Error as e:\n",
    "        print(f\"The error '{e}' occurred\")"
   ]
  },
  {
   "cell_type": "code",
   "execution_count": 18,
   "id": "f126fd53-dd7d-476e-be97-bcb4bfd73628",
   "metadata": {},
   "outputs": [
    {
     "name": "stdout",
     "output_type": "stream",
     "text": [
      "(1, 'James', 25, 'male', 'USA')\n",
      "(2, 'Leila', 32, 'female', 'France')\n",
      "(3, 'Brigitte', 35, 'female', 'England')\n",
      "(4, 'Mike', 40, 'male', 'Denmark')\n",
      "(5, 'Elizabeth', 21, 'female', 'Canada')\n"
     ]
    }
   ],
   "source": [
    "select_users = \"SELECT * from users\"\n",
    "users = execute_read_query(connection, select_users)\n",
    "\n",
    "for user in users:\n",
    "    print(user)"
   ]
  },
  {
   "cell_type": "markdown",
   "id": "6d82a4ed-e94f-46c1-9974-2b2fc9fa9d04",
   "metadata": {},
   "source": [
    "In the above script, the `SELECT` query selects all the users from the users table. This is passed to the `execute_read_query(),` which returns all the records from the users table. The records are then traversed and printed to the console."
   ]
  },
  {
   "cell_type": "code",
   "execution_count": null,
   "id": "12982a77-2d8d-482b-934f-dae42353c004",
   "metadata": {},
   "outputs": [],
   "source": []
  },
  {
   "cell_type": "markdown",
   "id": "c5b54a52-ccde-462d-9c97-1dcfec0899a8",
   "metadata": {},
   "source": [
    "We did focus on more complex SQL queries already so we are not going to show it here. However, we can run ANY select statement in the same way, including\n",
    "\n",
    "- joins\n",
    "- subqueries\n",
    "- filtering\n",
    "- aggregate functions\n",
    "..."
   ]
  },
  {
   "cell_type": "code",
   "execution_count": null,
   "id": "da183f74-7bd3-4a4a-8570-7afb7119c63f",
   "metadata": {},
   "outputs": [],
   "source": []
  },
  {
   "cell_type": "code",
   "execution_count": null,
   "id": "4df26952-dfd9-45f9-ae09-86172bcc7ffe",
   "metadata": {},
   "outputs": [],
   "source": []
  },
  {
   "cell_type": "markdown",
   "id": "b2dc46c6-ea8e-4663-b883-8db8923b4a98",
   "metadata": {},
   "source": [
    "## Updating Table Records"
   ]
  },
  {
   "cell_type": "markdown",
   "id": "f78ac648-c086-403f-9ffb-9375aa3dade9",
   "metadata": {},
   "source": [
    "Updating records in SQLite is pretty straightforward. We can again make use of `execute_query().` As an example, we can update the description of the post with an id of 2. The following script updates the description:"
   ]
  },
  {
   "cell_type": "code",
   "execution_count": 19,
   "id": "d043859d-8f96-4f0f-a4c5-022624d58242",
   "metadata": {},
   "outputs": [
    {
     "name": "stdout",
     "output_type": "stream",
     "text": [
      "Query executed successfully\n"
     ]
    }
   ],
   "source": [
    "update_post_description = \"\"\"\n",
    "UPDATE\n",
    "  posts\n",
    "SET\n",
    "  description = \"The weather has become pleasant now\"\n",
    "WHERE\n",
    "  id = 2\n",
    "\"\"\"\n",
    "\n",
    "execute_query(connection, update_post_description)"
   ]
  },
  {
   "cell_type": "code",
   "execution_count": null,
   "id": "0951e823-6daa-4ec4-9e41-bdac38ede6e9",
   "metadata": {},
   "outputs": [],
   "source": []
  },
  {
   "cell_type": "code",
   "execution_count": null,
   "id": "18e69b40-6d38-4638-91fd-225d1f4d5c9f",
   "metadata": {},
   "outputs": [],
   "source": []
  },
  {
   "cell_type": "markdown",
   "id": "9f68a0ed-8a6c-40ac-9dc3-4fae4cc889c4",
   "metadata": {},
   "source": [
    "## Deleting Table Records"
   ]
  },
  {
   "cell_type": "markdown",
   "id": "c609aa12-fffe-49bf-967b-dcdad73a30ed",
   "metadata": {},
   "source": [
    "We can again use `execute_query()` to delete records from YOUR SQLite database. All we have to do is pass the connection object and the string query for the record you want to delete to `execute_query().` Then, `execute_query()` will create a cursor object using the connection and pass the string query to cursor.execute(), which will delete the records.\n",
    "\n"
   ]
  },
  {
   "cell_type": "code",
   "execution_count": 20,
   "id": "8f4a76a5-3052-4064-b0c3-0b1ec0bfe1ce",
   "metadata": {},
   "outputs": [
    {
     "name": "stdout",
     "output_type": "stream",
     "text": [
      "Query executed successfully\n"
     ]
    }
   ],
   "source": [
    "delete_comment = \"DELETE FROM comments WHERE id = 5\"\n",
    "execute_query(connection, delete_comment)"
   ]
  },
  {
   "cell_type": "code",
   "execution_count": null,
   "id": "167f285b-e25e-4b79-b861-8db55c90fe01",
   "metadata": {},
   "outputs": [],
   "source": []
  }
 ],
 "metadata": {
  "kernelspec": {
   "display_name": "THE_ONE",
   "language": "python",
   "name": "the_one"
  },
  "language_info": {
   "codemirror_mode": {
    "name": "ipython",
    "version": 3
   },
   "file_extension": ".py",
   "mimetype": "text/x-python",
   "name": "python",
   "nbconvert_exporter": "python",
   "pygments_lexer": "ipython3",
   "version": "3.8.16"
  }
 },
 "nbformat": 4,
 "nbformat_minor": 5
}
