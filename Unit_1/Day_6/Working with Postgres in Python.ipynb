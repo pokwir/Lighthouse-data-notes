{
 "cells": [
  {
   "cell_type": "markdown",
   "id": "77c77957-9b03-4160-8871-8179b6c3e52a",
   "metadata": {},
   "source": [
    "#  Working with PostgreSQL in Python"
   ]
  },
  {
   "cell_type": "code",
   "execution_count": null,
   "id": "d4a8b79a-0ac7-496c-9698-1698b473acca",
   "metadata": {},
   "outputs": [],
   "source": []
  },
  {
   "cell_type": "markdown",
   "id": "664eea74-12a8-4577-bad9-43cd6643e00d",
   "metadata": {},
   "source": [
    "### Connecting to a Database"
   ]
  },
  {
   "cell_type": "code",
   "execution_count": 2,
   "id": "131c17fa-e65b-4082-9e63-1a3a1b889e73",
   "metadata": {},
   "outputs": [
    {
     "name": "stdout",
     "output_type": "stream",
     "text": [
      "Database opened successfully\n"
     ]
    }
   ],
   "source": [
    "import psycopg2\n",
    "con = psycopg2.connect(database=\"postgres\", user=\"postgres\", password=\"  \", host=\"127.0.0.1\", port=\"5432\")\n",
    "print(\"Database opened successfully\")"
   ]
  },
  {
   "cell_type": "code",
   "execution_count": null,
   "id": "931687ef-0446-44bc-993e-9cb4d61ffb0e",
   "metadata": {},
   "outputs": [],
   "source": []
  },
  {
   "cell_type": "code",
   "execution_count": null,
   "id": "75a66c34-3a7e-4ff5-9d75-5ed0ff5364b1",
   "metadata": {},
   "outputs": [],
   "source": []
  },
  {
   "cell_type": "markdown",
   "id": "a7bb71a3-dea6-47f3-add5-2f9e13387878",
   "metadata": {},
   "source": [
    "The following is the list of parameters that have been passed to the `connect()` method:\n",
    "\n",
    "- database: The name of the database you need to connect to.\n",
    "- user: The username to be used for authentication.\n",
    "- password: The database password for the user.\n",
    "- host: The address of the database server. For example, a domain name, \"localhost\", or an IP address.\n",
    "- port: The port number. If you don't provide this, the default one will be used, which is 5432."
   ]
  },
  {
   "cell_type": "code",
   "execution_count": null,
   "id": "2ebc65dc-4789-4a5e-958c-89d1c6c772b5",
   "metadata": {},
   "outputs": [],
   "source": []
  },
  {
   "cell_type": "markdown",
   "id": "9c9b5124-aaa2-4bb6-9f0b-35982c59f0c0",
   "metadata": {},
   "source": [
    "To create a Postgres table in Python, we use the `CREATE TABLE` SQL statement. This query should be executed after establishing a connection to the database. We also create a cursor object by calling the `cursor()` method that `belongs` to the `connection` object. This `cursor` object is used to actually execute your commands."
   ]
  },
  {
   "cell_type": "code",
   "execution_count": null,
   "id": "ed1e81e8-a489-44bb-b475-0d0f2f53286c",
   "metadata": {
    "tags": []
   },
   "outputs": [],
   "source": []
  },
  {
   "cell_type": "code",
   "execution_count": 4,
   "id": "9519403b-07fe-4efd-9dec-1fbac947a97f",
   "metadata": {},
   "outputs": [
    {
     "name": "stdout",
     "output_type": "stream",
     "text": [
      "Database opened successfully\n",
      "Table created successfully\n"
     ]
    }
   ],
   "source": [
    "import psycopg2\n",
    "\n",
    "con = psycopg2.connect(database=\"postgres\", user=\"postgres\", password=\"  \", host=\"127.0.0.1\", port=\"5432\")\n",
    "print(\"Database opened successfully\")\n",
    "\n",
    "cur = con.cursor()\n",
    "cur.execute('''CREATE TABLE STUDENT\n",
    "      (ADMISSION INT PRIMARY KEY     NOT NULL,\n",
    "      NAME           TEXT    NOT NULL,\n",
    "      AGE            INT     NOT NULL,\n",
    "      COURSE        CHAR(50),\n",
    "      DEPARTMENT        CHAR(50));''')\n",
    "print(\"Table created successfully\")\n",
    "\n",
    "con.commit()\n",
    "con.close()"
   ]
  },
  {
   "cell_type": "markdown",
   "id": "65820434-0eb2-435f-b0a3-6248e8dd91dc",
   "metadata": {},
   "source": [
    "- The `commit()` method helps us apply the changes that we have made to the database, and these changes cannot be undone if commit() runs successfully. The `close()` method will close the connection to the database."
   ]
  },
  {
   "cell_type": "code",
   "execution_count": null,
   "id": "84a4cb77-385e-49e9-9436-15b303b1149c",
   "metadata": {},
   "outputs": [],
   "source": []
  },
  {
   "cell_type": "code",
   "execution_count": null,
   "id": "86c453bf-9b53-41a2-947d-881381e43cb9",
   "metadata": {},
   "outputs": [],
   "source": []
  },
  {
   "cell_type": "markdown",
   "id": "954fc9ba-04c5-4202-8fb2-64579faf5f65",
   "metadata": {},
   "source": [
    "### Inserting Data"
   ]
  },
  {
   "cell_type": "markdown",
   "id": "16c5884b-f9a9-4219-a5a8-5b3f8c3491aa",
   "metadata": {},
   "source": [
    "- We can insert either a single record or multiple records into a Postgres database table. `Again, we must first establish a connection to the database server by calling the connect() function.` Next, we should `create a cursor object by calling the cursor() method.` Lastly, we should `run the INSERT statement via the execute() method` to add the data into the table."
   ]
  },
  {
   "cell_type": "code",
   "execution_count": 6,
   "id": "8d7c7391-a050-45ab-8f12-e15bd1f71810",
   "metadata": {},
   "outputs": [
    {
     "name": "stdout",
     "output_type": "stream",
     "text": [
      "Database opened successfully\n",
      "Record inserted successfully\n"
     ]
    }
   ],
   "source": [
    "import psycopg2\n",
    "\n",
    "con = psycopg2.connect(database=\"postgres\", user=\"postgres\", password=\"  \", host=\"127.0.0.1\", port=\"5432\")\n",
    "print(\"Database opened successfully\")\n",
    "\n",
    "cur = con.cursor()\n",
    "\n",
    "cur.execute(\"INSERT INTO STUDENT (ADMISSION,NAME,AGE,COURSE,DEPARTMENT) VALUES (3420, 'John', 18, 'Computer Science', 'ICT')\");\n",
    "\n",
    "con.commit()\n",
    "print(\"Record inserted successfully\")\n",
    "con.close()"
   ]
  },
  {
   "cell_type": "code",
   "execution_count": null,
   "id": "876ae53a-1032-4de7-a1a2-b54bbe3d6c64",
   "metadata": {},
   "outputs": [],
   "source": []
  },
  {
   "cell_type": "markdown",
   "id": "0a6d90fb-6113-4ede-91d8-1d4db11fdbd5",
   "metadata": {},
   "source": [
    "It is also possible for us to insert multiple records with one command. "
   ]
  },
  {
   "cell_type": "code",
   "execution_count": 7,
   "id": "3a0e6a6c-4a00-4586-80d1-98dcc5830398",
   "metadata": {},
   "outputs": [
    {
     "name": "stdout",
     "output_type": "stream",
     "text": [
      "Database opened successfully\n",
      "Records inserted successfully\n"
     ]
    }
   ],
   "source": [
    "import psycopg2\n",
    "\n",
    "con = psycopg2.connect(database=\"postgres\", user=\"postgres\", password=\"  \", host=\"127.0.0.1\", port=\"5432\")\n",
    "print(\"Database opened successfully\")\n",
    "\n",
    "cur = con.cursor()\n",
    "\n",
    "cur.execute(\"INSERT INTO STUDENT (ADMISSION,NAME,AGE,COURSE,DEPARTMENT) VALUES (3419, 'Abel', 17, 'Computer Science', 'ICT')\");\n",
    "cur.execute(\"INSERT INTO STUDENT (ADMISSION,NAME,AGE,COURSE,DEPARTMENT) VALUES (3421, 'Joel', 17, 'Computer Science', 'ICT')\");\n",
    "cur.execute(\"INSERT INTO STUDENT (ADMISSION,NAME,AGE,COURSE,DEPARTMENT) VALUES (3422, 'Antony', 19, 'Electrical Engineering', 'Engineering')\");\n",
    "cur.execute(\"INSERT INTO STUDENT (ADMISSION,NAME,AGE,COURSE,DEPARTMENT) VALUES (3423, 'Alice', 18, 'Information Technology', 'ICT')\");\n",
    "\n",
    "con.commit()\n",
    "print(\"Records inserted successfully\")\n",
    "con.close()\n"
   ]
  },
  {
   "cell_type": "markdown",
   "id": "844c25c2-76fa-421b-8338-5b566b8b601c",
   "metadata": {},
   "source": [
    "Since the `commit()` method isn't called until after we \"execute\" all of the INSERT statements, `multiple records are inserted with a single call of the commit() method.`"
   ]
  },
  {
   "cell_type": "code",
   "execution_count": null,
   "id": "ab732314-5f1d-4d35-8511-341ad993700f",
   "metadata": {},
   "outputs": [],
   "source": []
  },
  {
   "cell_type": "code",
   "execution_count": null,
   "id": "54852b18-f0a2-4d39-8adf-109edc426cd9",
   "metadata": {},
   "outputs": [],
   "source": []
  },
  {
   "cell_type": "markdown",
   "id": "a99e126d-6317-4300-b722-78861902926b",
   "metadata": {},
   "source": [
    "### Retrieving Data"
   ]
  },
  {
   "cell_type": "markdown",
   "id": "6911b068-78bc-4a79-9ff9-43cd91107bf1",
   "metadata": {},
   "source": [
    "First, \n",
    "- establish a connection to the database using the connect() function. \n",
    "- Next, a new cursor should be created by calling the cursor() method. \n",
    "- The created cursor object can then be used to execute the SELECT statement for querying data from the database."
   ]
  },
  {
   "cell_type": "code",
   "execution_count": 8,
   "id": "180a0b5f-4422-4281-bf0e-bac12f73929f",
   "metadata": {},
   "outputs": [
    {
     "name": "stdout",
     "output_type": "stream",
     "text": [
      "Database opened successfully\n",
      "ADMISSION = 3420\n",
      "NAME = John\n",
      "AGE = 18\n",
      "COURSE = Computer Science                                  \n",
      "DEPARTMENT = ICT                                                \n",
      "\n",
      "ADMISSION = 3419\n",
      "NAME = Abel\n",
      "AGE = 17\n",
      "COURSE = Computer Science                                  \n",
      "DEPARTMENT = ICT                                                \n",
      "\n",
      "ADMISSION = 3421\n",
      "NAME = Joel\n",
      "AGE = 17\n",
      "COURSE = Computer Science                                  \n",
      "DEPARTMENT = ICT                                                \n",
      "\n",
      "ADMISSION = 3422\n",
      "NAME = Antony\n",
      "AGE = 19\n",
      "COURSE = Electrical Engineering                            \n",
      "DEPARTMENT = Engineering                                        \n",
      "\n",
      "ADMISSION = 3423\n",
      "NAME = Alice\n",
      "AGE = 18\n",
      "COURSE = Information Technology                            \n",
      "DEPARTMENT = ICT                                                \n",
      "\n",
      "Operation done successfully\n"
     ]
    }
   ],
   "source": [
    "# import psycopg2\n",
    "con = psycopg2.connect(database=\"postgres\", user=\"postgres\", password=\"  \", host=\"127.0.0.1\", port=\"5432\")\n",
    "print(\"Database opened successfully\")\n",
    "\n",
    "cur = con.cursor()\n",
    "cur.execute(\"SELECT admission, name, age, course, department from STUDENT\")\n",
    "rows = cur.fetchall()\n",
    "\n",
    "for row in rows:\n",
    "    print(\"ADMISSION =\", row[0])\n",
    "    print(\"NAME =\", row[1])\n",
    "    print(\"AGE =\", row[2])\n",
    "    print(\"COURSE =\", row[3])\n",
    "    print(\"DEPARTMENT =\", row[4], \"\\n\")\n",
    "\n",
    "print(\"Operation done successfully\")\n",
    "con.close()"
   ]
  },
  {
   "cell_type": "code",
   "execution_count": null,
   "id": "64ba4a94-ab09-4bc2-b478-6d826a08bb44",
   "metadata": {},
   "outputs": [],
   "source": []
  },
  {
   "cell_type": "code",
   "execution_count": null,
   "id": "a50b999f-cd2b-4bc4-99d3-4870b1b67647",
   "metadata": {},
   "outputs": [],
   "source": []
  },
  {
   "cell_type": "markdown",
   "id": "f0d0c131-42c4-4875-bae8-c09f0d74e97a",
   "metadata": {},
   "source": [
    "Here we have retrieved data from the database by specifying the table and names of the columns that we need to retrieve from the database table. `This data is returned to us as list of tuples,` with the \"top level\" list being the rows of data. Then each row is a tuple of the column data. If no rows are returned for the query then an empty list is returned by fetchall()."
   ]
  },
  {
   "cell_type": "code",
   "execution_count": null,
   "id": "b49ed860-b0ad-41b3-b172-98a4d4446bf8",
   "metadata": {},
   "outputs": [],
   "source": []
  },
  {
   "cell_type": "code",
   "execution_count": null,
   "id": "cec7ddde-ef09-4d6f-8480-a6d01bca5dd5",
   "metadata": {},
   "outputs": [],
   "source": []
  },
  {
   "cell_type": "markdown",
   "id": "98704344-cdba-4cfa-8068-951ec70342d3",
   "metadata": {},
   "source": [
    "### Updating Tables"
   ]
  },
  {
   "cell_type": "markdown",
   "id": "3c2d0c52-e583-4244-b701-fda7c1547673",
   "metadata": {},
   "source": [
    "We can update or modify the details of a record that has already been inserted into a database table. First, we have to establish a connection to the database using the connect() method. Next, we call the cursor() function to create a cursor object. Finally, we run the execute() method to execute the UPDATE statement with input values."
   ]
  },
  {
   "cell_type": "code",
   "execution_count": 9,
   "id": "ed00307e-7b19-4258-b60a-afc47465ec20",
   "metadata": {},
   "outputs": [
    {
     "name": "stdout",
     "output_type": "stream",
     "text": [
      "Database opened successfully\n",
      "Total updated rows: 1\n",
      "ADMISSION = 3419\n",
      "NAME = 17\n",
      "AGE = Abel\n",
      "COURSE = Abel\n",
      "DEPARTMENT = Computer Science                                   \n",
      "\n",
      "ADMISSION = 3421\n",
      "NAME = 17\n",
      "AGE = Joel\n",
      "COURSE = Joel\n",
      "DEPARTMENT = Computer Science                                   \n",
      "\n",
      "ADMISSION = 3422\n",
      "NAME = 19\n",
      "AGE = Antony\n",
      "COURSE = Antony\n",
      "DEPARTMENT = Electrical Engineering                             \n",
      "\n",
      "ADMISSION = 3423\n",
      "NAME = 18\n",
      "AGE = Alice\n",
      "COURSE = Alice\n",
      "DEPARTMENT = Information Technology                             \n",
      "\n",
      "ADMISSION = 3420\n",
      "NAME = 20\n",
      "AGE = John\n",
      "COURSE = John\n",
      "DEPARTMENT = Computer Science                                   \n",
      "\n",
      "Operation done successfully\n"
     ]
    }
   ],
   "source": [
    "import psycopg2\n",
    "\n",
    "con = psycopg2.connect(database=\"postgres\", user=\"postgres\", password=\"  \", host=\"127.0.0.1\", port=\"5432\")\n",
    "print(\"Database opened successfully\")\n",
    "\n",
    "cur = con.cursor()\n",
    "\n",
    "cur.execute(\"UPDATE STUDENT set AGE = 20 where ADMISSION = 3420\")\n",
    "con.commit()\n",
    "print(\"Total updated rows:\", cur.rowcount)\n",
    "\n",
    "cur.execute(\"SELECT admission, age, name, course, department from STUDENT\")\n",
    "rows = cur.fetchall()\n",
    "for row in rows:\n",
    "    print(\"ADMISSION =\", row[0])\n",
    "    print(\"NAME =\", row[1])\n",
    "    print(\"AGE =\", row[2])\n",
    "    print(\"COURSE =\", row[2])\n",
    "    print(\"DEPARTMENT =\", row[3], \"\\n\")\n",
    "\n",
    "print(\"Operation done successfully\")\n",
    "con.close()"
   ]
  },
  {
   "cell_type": "code",
   "execution_count": null,
   "id": "a8e3582a-fc56-4cce-bc79-df6b761a7b38",
   "metadata": {},
   "outputs": [],
   "source": []
  },
  {
   "cell_type": "code",
   "execution_count": null,
   "id": "1de6d428-591f-46d8-b916-6a92e9f74260",
   "metadata": {},
   "outputs": [],
   "source": []
  },
  {
   "cell_type": "markdown",
   "id": "305a8c34-c40f-4eb8-872b-4dae70f027a4",
   "metadata": {},
   "source": [
    "### Deleting Rows"
   ]
  },
  {
   "cell_type": "markdown",
   "id": "987afd73-4d6f-47ca-abd1-9c9ac4e2ee57",
   "metadata": {},
   "source": [
    "To delete a record from a Postgres database table, we should first \n",
    "- establish a connection to the database server. \n",
    "- Secondly, a cursor object should be created by calling the cursor() function. \n",
    "- We then run the DELETE statement to perform the deletion."
   ]
  },
  {
   "cell_type": "code",
   "execution_count": 10,
   "id": "20887637-2da3-4a71-ae18-817cc154d42f",
   "metadata": {},
   "outputs": [
    {
     "name": "stdout",
     "output_type": "stream",
     "text": [
      "Database opened successfully\n",
      "Total deleted rows: 1\n",
      "ADMISSION = 3419\n",
      "NAME = Abel\n",
      "AGE = 17\n",
      "COURSE = Computer Science                                  \n",
      "DEPARTMENT = ICT                                                \n",
      "\n",
      "ADMISSION = 3421\n",
      "NAME = Joel\n",
      "AGE = 17\n",
      "COURSE = Computer Science                                  \n",
      "DEPARTMENT = ICT                                                \n",
      "\n",
      "ADMISSION = 3422\n",
      "NAME = Antony\n",
      "AGE = 19\n",
      "COURSE = Electrical Engineering                            \n",
      "DEPARTMENT = Engineering                                        \n",
      "\n",
      "ADMISSION = 3423\n",
      "NAME = Alice\n",
      "AGE = 18\n",
      "COURSE = Information Technology                            \n",
      "DEPARTMENT = ICT                                                \n",
      "\n",
      "Deletion successful\n"
     ]
    }
   ],
   "source": [
    "con = psycopg2.connect(database=\"postgres\", user=\"postgres\", password=\"  \", host=\"127.0.0.1\", port=\"5432\")\n",
    "print(\"Database opened successfully\")\n",
    "\n",
    "cur = con.cursor()\n",
    "\n",
    "cur.execute(\"DELETE from STUDENT where ADMISSION=3420;\")\n",
    "con.commit()\n",
    "print(\"Total deleted rows:\", cur.rowcount)\n",
    "\n",
    "cur.execute(\"SELECT admission, name, age, course, department from STUDENT\")\n",
    "rows = cur.fetchall()\n",
    "for row in rows:\n",
    "    print(\"ADMISSION =\", row[0])\n",
    "    print(\"NAME =\", row[1])\n",
    "    print(\"AGE =\", row[2])\n",
    "    print(\"COURSE =\", row[3])\n",
    "    print(\"DEPARTMENT =\", row[4], \"\\n\")\n",
    "\n",
    "print(\"Deletion successful\")\n",
    "con.close()\n"
   ]
  },
  {
   "cell_type": "code",
   "execution_count": null,
   "id": "d4be9af2-1120-4be0-a6fe-737d695839cb",
   "metadata": {},
   "outputs": [],
   "source": []
  }
 ],
 "metadata": {
  "kernelspec": {
   "display_name": "THE_ONE",
   "language": "python",
   "name": "the_one"
  },
  "language_info": {
   "codemirror_mode": {
    "name": "ipython",
    "version": 3
   },
   "file_extension": ".py",
   "mimetype": "text/x-python",
   "name": "python",
   "nbconvert_exporter": "python",
   "pygments_lexer": "ipython3",
   "version": "3.8.16"
  }
 },
 "nbformat": 4,
 "nbformat_minor": 5
}
