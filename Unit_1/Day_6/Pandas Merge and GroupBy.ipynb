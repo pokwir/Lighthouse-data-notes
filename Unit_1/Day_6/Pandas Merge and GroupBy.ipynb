{
 "cells": [
  {
   "cell_type": "markdown",
   "id": "e4ed690d-4456-4d3e-801f-ddbbe333ea3c",
   "metadata": {},
   "source": [
    "# Pandas Merge and GroupBy"
   ]
  },
  {
   "cell_type": "markdown",
   "id": "8478b08a-659d-48df-b30c-80956f2377e3",
   "metadata": {},
   "source": [
    "### Concat() same as union in SQL"
   ]
  },
  {
   "cell_type": "code",
   "execution_count": 4,
   "id": "1448db53-8832-4ff3-a938-7e69b1c1527d",
   "metadata": {},
   "outputs": [],
   "source": [
    "import pandas as pd, numpy as np\n",
    "\n",
    "df = pd.DataFrame(np.random.randn(10, 4))"
   ]
  },
  {
   "cell_type": "code",
   "execution_count": 5,
   "id": "837d3ce0-43c2-4746-a37f-9d58f35a6935",
   "metadata": {},
   "outputs": [
    {
     "data": {
      "text/html": [
       "<div>\n",
       "<style scoped>\n",
       "    .dataframe tbody tr th:only-of-type {\n",
       "        vertical-align: middle;\n",
       "    }\n",
       "\n",
       "    .dataframe tbody tr th {\n",
       "        vertical-align: top;\n",
       "    }\n",
       "\n",
       "    .dataframe thead th {\n",
       "        text-align: right;\n",
       "    }\n",
       "</style>\n",
       "<table border=\"1\" class=\"dataframe\">\n",
       "  <thead>\n",
       "    <tr style=\"text-align: right;\">\n",
       "      <th></th>\n",
       "      <th>0</th>\n",
       "      <th>1</th>\n",
       "      <th>2</th>\n",
       "      <th>3</th>\n",
       "    </tr>\n",
       "  </thead>\n",
       "  <tbody>\n",
       "    <tr>\n",
       "      <th>0</th>\n",
       "      <td>-0.029745</td>\n",
       "      <td>0.064979</td>\n",
       "      <td>-0.835443</td>\n",
       "      <td>-1.827547</td>\n",
       "    </tr>\n",
       "    <tr>\n",
       "      <th>1</th>\n",
       "      <td>-2.061194</td>\n",
       "      <td>0.235757</td>\n",
       "      <td>-0.841971</td>\n",
       "      <td>-0.239369</td>\n",
       "    </tr>\n",
       "    <tr>\n",
       "      <th>2</th>\n",
       "      <td>0.868756</td>\n",
       "      <td>-0.418926</td>\n",
       "      <td>-0.616612</td>\n",
       "      <td>-0.443226</td>\n",
       "    </tr>\n",
       "    <tr>\n",
       "      <th>3</th>\n",
       "      <td>0.331649</td>\n",
       "      <td>-1.426765</td>\n",
       "      <td>-1.880597</td>\n",
       "      <td>-0.752639</td>\n",
       "    </tr>\n",
       "    <tr>\n",
       "      <th>4</th>\n",
       "      <td>0.393941</td>\n",
       "      <td>0.470096</td>\n",
       "      <td>0.478746</td>\n",
       "      <td>-0.425156</td>\n",
       "    </tr>\n",
       "    <tr>\n",
       "      <th>5</th>\n",
       "      <td>0.018812</td>\n",
       "      <td>-0.831884</td>\n",
       "      <td>0.604974</td>\n",
       "      <td>-1.377234</td>\n",
       "    </tr>\n",
       "    <tr>\n",
       "      <th>6</th>\n",
       "      <td>-0.653428</td>\n",
       "      <td>-0.949277</td>\n",
       "      <td>-1.437499</td>\n",
       "      <td>-0.653472</td>\n",
       "    </tr>\n",
       "    <tr>\n",
       "      <th>7</th>\n",
       "      <td>-1.314268</td>\n",
       "      <td>-0.892661</td>\n",
       "      <td>0.360582</td>\n",
       "      <td>0.735922</td>\n",
       "    </tr>\n",
       "    <tr>\n",
       "      <th>8</th>\n",
       "      <td>0.710240</td>\n",
       "      <td>1.369886</td>\n",
       "      <td>0.465722</td>\n",
       "      <td>-1.518588</td>\n",
       "    </tr>\n",
       "    <tr>\n",
       "      <th>9</th>\n",
       "      <td>0.069213</td>\n",
       "      <td>0.945934</td>\n",
       "      <td>-0.973135</td>\n",
       "      <td>-0.583926</td>\n",
       "    </tr>\n",
       "  </tbody>\n",
       "</table>\n",
       "</div>"
      ],
      "text/plain": [
       "          0         1         2         3\n",
       "0 -0.029745  0.064979 -0.835443 -1.827547\n",
       "1 -2.061194  0.235757 -0.841971 -0.239369\n",
       "2  0.868756 -0.418926 -0.616612 -0.443226\n",
       "3  0.331649 -1.426765 -1.880597 -0.752639\n",
       "4  0.393941  0.470096  0.478746 -0.425156\n",
       "5  0.018812 -0.831884  0.604974 -1.377234\n",
       "6 -0.653428 -0.949277 -1.437499 -0.653472\n",
       "7 -1.314268 -0.892661  0.360582  0.735922\n",
       "8  0.710240  1.369886  0.465722 -1.518588\n",
       "9  0.069213  0.945934 -0.973135 -0.583926"
      ]
     },
     "execution_count": 5,
     "metadata": {},
     "output_type": "execute_result"
    }
   ],
   "source": [
    "df"
   ]
  },
  {
   "cell_type": "code",
   "execution_count": 9,
   "id": "8d92be77-75fd-4349-82a2-39e992729f99",
   "metadata": {},
   "outputs": [],
   "source": [
    "pieces = [df[:3], df[3:7], df[7:]] # here we split the data into 3 pcs"
   ]
  },
  {
   "cell_type": "code",
   "execution_count": 10,
   "id": "af86d758-48c8-4027-bfc1-7def064a6471",
   "metadata": {},
   "outputs": [
    {
     "data": {
      "text/plain": [
       "[          0         1         2         3\n",
       " 0 -0.029745  0.064979 -0.835443 -1.827547\n",
       " 1 -2.061194  0.235757 -0.841971 -0.239369\n",
       " 2  0.868756 -0.418926 -0.616612 -0.443226,\n",
       "           0         1         2         3\n",
       " 3  0.331649 -1.426765 -1.880597 -0.752639\n",
       " 4  0.393941  0.470096  0.478746 -0.425156\n",
       " 5  0.018812 -0.831884  0.604974 -1.377234\n",
       " 6 -0.653428 -0.949277 -1.437499 -0.653472,\n",
       "           0         1         2         3\n",
       " 7 -1.314268 -0.892661  0.360582  0.735922\n",
       " 8  0.710240  1.369886  0.465722 -1.518588\n",
       " 9  0.069213  0.945934 -0.973135 -0.583926]"
      ]
     },
     "execution_count": 10,
     "metadata": {},
     "output_type": "execute_result"
    }
   ],
   "source": [
    "pieces"
   ]
  },
  {
   "cell_type": "code",
   "execution_count": 11,
   "id": "6759cc75-e818-4a43-9598-7a502b8cb1c7",
   "metadata": {},
   "outputs": [
    {
     "data": {
      "text/html": [
       "<div>\n",
       "<style scoped>\n",
       "    .dataframe tbody tr th:only-of-type {\n",
       "        vertical-align: middle;\n",
       "    }\n",
       "\n",
       "    .dataframe tbody tr th {\n",
       "        vertical-align: top;\n",
       "    }\n",
       "\n",
       "    .dataframe thead th {\n",
       "        text-align: right;\n",
       "    }\n",
       "</style>\n",
       "<table border=\"1\" class=\"dataframe\">\n",
       "  <thead>\n",
       "    <tr style=\"text-align: right;\">\n",
       "      <th></th>\n",
       "      <th>0</th>\n",
       "      <th>1</th>\n",
       "      <th>2</th>\n",
       "      <th>3</th>\n",
       "    </tr>\n",
       "  </thead>\n",
       "  <tbody>\n",
       "    <tr>\n",
       "      <th>0</th>\n",
       "      <td>-0.029745</td>\n",
       "      <td>0.064979</td>\n",
       "      <td>-0.835443</td>\n",
       "      <td>-1.827547</td>\n",
       "    </tr>\n",
       "    <tr>\n",
       "      <th>1</th>\n",
       "      <td>-2.061194</td>\n",
       "      <td>0.235757</td>\n",
       "      <td>-0.841971</td>\n",
       "      <td>-0.239369</td>\n",
       "    </tr>\n",
       "    <tr>\n",
       "      <th>2</th>\n",
       "      <td>0.868756</td>\n",
       "      <td>-0.418926</td>\n",
       "      <td>-0.616612</td>\n",
       "      <td>-0.443226</td>\n",
       "    </tr>\n",
       "    <tr>\n",
       "      <th>3</th>\n",
       "      <td>0.331649</td>\n",
       "      <td>-1.426765</td>\n",
       "      <td>-1.880597</td>\n",
       "      <td>-0.752639</td>\n",
       "    </tr>\n",
       "    <tr>\n",
       "      <th>4</th>\n",
       "      <td>0.393941</td>\n",
       "      <td>0.470096</td>\n",
       "      <td>0.478746</td>\n",
       "      <td>-0.425156</td>\n",
       "    </tr>\n",
       "    <tr>\n",
       "      <th>5</th>\n",
       "      <td>0.018812</td>\n",
       "      <td>-0.831884</td>\n",
       "      <td>0.604974</td>\n",
       "      <td>-1.377234</td>\n",
       "    </tr>\n",
       "    <tr>\n",
       "      <th>6</th>\n",
       "      <td>-0.653428</td>\n",
       "      <td>-0.949277</td>\n",
       "      <td>-1.437499</td>\n",
       "      <td>-0.653472</td>\n",
       "    </tr>\n",
       "    <tr>\n",
       "      <th>7</th>\n",
       "      <td>-1.314268</td>\n",
       "      <td>-0.892661</td>\n",
       "      <td>0.360582</td>\n",
       "      <td>0.735922</td>\n",
       "    </tr>\n",
       "    <tr>\n",
       "      <th>8</th>\n",
       "      <td>0.710240</td>\n",
       "      <td>1.369886</td>\n",
       "      <td>0.465722</td>\n",
       "      <td>-1.518588</td>\n",
       "    </tr>\n",
       "    <tr>\n",
       "      <th>9</th>\n",
       "      <td>0.069213</td>\n",
       "      <td>0.945934</td>\n",
       "      <td>-0.973135</td>\n",
       "      <td>-0.583926</td>\n",
       "    </tr>\n",
       "  </tbody>\n",
       "</table>\n",
       "</div>"
      ],
      "text/plain": [
       "          0         1         2         3\n",
       "0 -0.029745  0.064979 -0.835443 -1.827547\n",
       "1 -2.061194  0.235757 -0.841971 -0.239369\n",
       "2  0.868756 -0.418926 -0.616612 -0.443226\n",
       "3  0.331649 -1.426765 -1.880597 -0.752639\n",
       "4  0.393941  0.470096  0.478746 -0.425156\n",
       "5  0.018812 -0.831884  0.604974 -1.377234\n",
       "6 -0.653428 -0.949277 -1.437499 -0.653472\n",
       "7 -1.314268 -0.892661  0.360582  0.735922\n",
       "8  0.710240  1.369886  0.465722 -1.518588\n",
       "9  0.069213  0.945934 -0.973135 -0.583926"
      ]
     },
     "execution_count": 11,
     "metadata": {},
     "output_type": "execute_result"
    }
   ],
   "source": [
    "pd.concat(pieces) # we combine using concat"
   ]
  },
  {
   "cell_type": "markdown",
   "id": "31461bfe-f538-4d0b-8227-a8f6c945a73c",
   "metadata": {},
   "source": [
    "### Using .append()\n",
    "But even though adding a column to a DataFrame is relatively fast, adding a row requires a copy, and may be expensive. It's faster to concatenate two data-frames than to append rows."
   ]
  },
  {
   "cell_type": "code",
   "execution_count": 12,
   "id": "71fafac6-3456-403b-9397-dfc1ce088a3c",
   "metadata": {},
   "outputs": [],
   "source": [
    "left = pd.DataFrame({'key': ['foo', 'bar'], 'lval': [1, 2]})\n",
    "right = pd.DataFrame({'key': ['foo', 'bar'], 'rval': [4, 5]})"
   ]
  },
  {
   "cell_type": "code",
   "execution_count": 13,
   "id": "7d3f9a3f-e00e-4849-a0f4-c343c223bea9",
   "metadata": {},
   "outputs": [
    {
     "data": {
      "text/html": [
       "<div>\n",
       "<style scoped>\n",
       "    .dataframe tbody tr th:only-of-type {\n",
       "        vertical-align: middle;\n",
       "    }\n",
       "\n",
       "    .dataframe tbody tr th {\n",
       "        vertical-align: top;\n",
       "    }\n",
       "\n",
       "    .dataframe thead th {\n",
       "        text-align: right;\n",
       "    }\n",
       "</style>\n",
       "<table border=\"1\" class=\"dataframe\">\n",
       "  <thead>\n",
       "    <tr style=\"text-align: right;\">\n",
       "      <th></th>\n",
       "      <th>key</th>\n",
       "      <th>lval</th>\n",
       "      <th>rval</th>\n",
       "    </tr>\n",
       "  </thead>\n",
       "  <tbody>\n",
       "    <tr>\n",
       "      <th>0</th>\n",
       "      <td>foo</td>\n",
       "      <td>1</td>\n",
       "      <td>4</td>\n",
       "    </tr>\n",
       "    <tr>\n",
       "      <th>1</th>\n",
       "      <td>bar</td>\n",
       "      <td>2</td>\n",
       "      <td>5</td>\n",
       "    </tr>\n",
       "  </tbody>\n",
       "</table>\n",
       "</div>"
      ],
      "text/plain": [
       "   key  lval  rval\n",
       "0  foo     1     4\n",
       "1  bar     2     5"
      ]
     },
     "execution_count": 13,
     "metadata": {},
     "output_type": "execute_result"
    }
   ],
   "source": [
    "pd.merge(left, right, on = 'key') # Make an inner join between tables created above on column key:"
   ]
  },
  {
   "cell_type": "code",
   "execution_count": 14,
   "id": "190808c7-a715-43b8-847d-efaf6da8646a",
   "metadata": {},
   "outputs": [],
   "source": [
    "# nner join is done automatically with merge(). If you want to do other types of joins like the outer, left or right, you should use the parameter, how."
   ]
  },
  {
   "cell_type": "code",
   "execution_count": 15,
   "id": "1485b710-0911-4f67-9e56-95a700344027",
   "metadata": {},
   "outputs": [
    {
     "data": {
      "text/html": [
       "<div>\n",
       "<style scoped>\n",
       "    .dataframe tbody tr th:only-of-type {\n",
       "        vertical-align: middle;\n",
       "    }\n",
       "\n",
       "    .dataframe tbody tr th {\n",
       "        vertical-align: top;\n",
       "    }\n",
       "\n",
       "    .dataframe thead th {\n",
       "        text-align: right;\n",
       "    }\n",
       "</style>\n",
       "<table border=\"1\" class=\"dataframe\">\n",
       "  <thead>\n",
       "    <tr style=\"text-align: right;\">\n",
       "      <th></th>\n",
       "      <th>key</th>\n",
       "      <th>lval</th>\n",
       "      <th>rval</th>\n",
       "    </tr>\n",
       "  </thead>\n",
       "  <tbody>\n",
       "    <tr>\n",
       "      <th>0</th>\n",
       "      <td>foo</td>\n",
       "      <td>1</td>\n",
       "      <td>4</td>\n",
       "    </tr>\n",
       "    <tr>\n",
       "      <th>1</th>\n",
       "      <td>bar</td>\n",
       "      <td>2</td>\n",
       "      <td>5</td>\n",
       "    </tr>\n",
       "  </tbody>\n",
       "</table>\n",
       "</div>"
      ],
      "text/plain": [
       "   key  lval  rval\n",
       "0  foo     1     4\n",
       "1  bar     2     5"
      ]
     },
     "execution_count": 15,
     "metadata": {},
     "output_type": "execute_result"
    }
   ],
   "source": [
    "pd.merge(left, right, on='key', how='outer')"
   ]
  },
  {
   "cell_type": "code",
   "execution_count": null,
   "id": "074ccf0a-1756-4b0d-b200-938bcc5c14b7",
   "metadata": {},
   "outputs": [],
   "source": []
  },
  {
   "cell_type": "code",
   "execution_count": null,
   "id": "41dc6cf7-3a44-4e24-b016-28595b6107d4",
   "metadata": {},
   "outputs": [],
   "source": []
  },
  {
   "cell_type": "markdown",
   "id": "77ef61ab-bb0e-4487-8b34-47a77ac31a62",
   "metadata": {},
   "source": [
    "## Grouping"
   ]
  },
  {
   "cell_type": "markdown",
   "id": "7cc6a813-c97b-4e3c-b0a5-61ec537c76fa",
   "metadata": {},
   "source": [
    "#### By group by, we are referring to a process involving the following steps:\n",
    "\n",
    "- Splitting the data into groups based on some criteria\n",
    "- Applying a function to each group independently\n",
    "- Combining the results into a data structure"
   ]
  },
  {
   "cell_type": "code",
   "execution_count": 23,
   "id": "f96d32d3-65da-4585-9df8-51674402855c",
   "metadata": {},
   "outputs": [
    {
     "data": {
      "text/html": [
       "<div>\n",
       "<style scoped>\n",
       "    .dataframe tbody tr th:only-of-type {\n",
       "        vertical-align: middle;\n",
       "    }\n",
       "\n",
       "    .dataframe tbody tr th {\n",
       "        vertical-align: top;\n",
       "    }\n",
       "\n",
       "    .dataframe thead th {\n",
       "        text-align: right;\n",
       "    }\n",
       "</style>\n",
       "<table border=\"1\" class=\"dataframe\">\n",
       "  <thead>\n",
       "    <tr style=\"text-align: right;\">\n",
       "      <th></th>\n",
       "      <th>A</th>\n",
       "      <th>B</th>\n",
       "      <th>C</th>\n",
       "      <th>D</th>\n",
       "    </tr>\n",
       "  </thead>\n",
       "  <tbody>\n",
       "    <tr>\n",
       "      <th>0</th>\n",
       "      <td>foo</td>\n",
       "      <td>one</td>\n",
       "      <td>-0.540529</td>\n",
       "      <td>0.317737</td>\n",
       "    </tr>\n",
       "    <tr>\n",
       "      <th>1</th>\n",
       "      <td>bar</td>\n",
       "      <td>one</td>\n",
       "      <td>-1.436238</td>\n",
       "      <td>-1.219696</td>\n",
       "    </tr>\n",
       "    <tr>\n",
       "      <th>2</th>\n",
       "      <td>foo</td>\n",
       "      <td>two</td>\n",
       "      <td>-0.931946</td>\n",
       "      <td>1.261895</td>\n",
       "    </tr>\n",
       "    <tr>\n",
       "      <th>3</th>\n",
       "      <td>bar</td>\n",
       "      <td>three</td>\n",
       "      <td>-0.884532</td>\n",
       "      <td>0.209378</td>\n",
       "    </tr>\n",
       "    <tr>\n",
       "      <th>4</th>\n",
       "      <td>foo</td>\n",
       "      <td>two</td>\n",
       "      <td>-0.462059</td>\n",
       "      <td>-0.950376</td>\n",
       "    </tr>\n",
       "    <tr>\n",
       "      <th>5</th>\n",
       "      <td>bar</td>\n",
       "      <td>two</td>\n",
       "      <td>0.420590</td>\n",
       "      <td>-0.304385</td>\n",
       "    </tr>\n",
       "    <tr>\n",
       "      <th>6</th>\n",
       "      <td>foo</td>\n",
       "      <td>one</td>\n",
       "      <td>0.551568</td>\n",
       "      <td>0.513525</td>\n",
       "    </tr>\n",
       "    <tr>\n",
       "      <th>7</th>\n",
       "      <td>foo</td>\n",
       "      <td>three</td>\n",
       "      <td>-0.868709</td>\n",
       "      <td>0.048791</td>\n",
       "    </tr>\n",
       "  </tbody>\n",
       "</table>\n",
       "</div>"
      ],
      "text/plain": [
       "     A      B         C         D\n",
       "0  foo    one -0.540529  0.317737\n",
       "1  bar    one -1.436238 -1.219696\n",
       "2  foo    two -0.931946  1.261895\n",
       "3  bar  three -0.884532  0.209378\n",
       "4  foo    two -0.462059 -0.950376\n",
       "5  bar    two  0.420590 -0.304385\n",
       "6  foo    one  0.551568  0.513525\n",
       "7  foo  three -0.868709  0.048791"
      ]
     },
     "execution_count": 23,
     "metadata": {},
     "output_type": "execute_result"
    }
   ],
   "source": [
    "df = pd.DataFrame({'A': ['foo', 'bar', 'foo', 'bar',\n",
    "                             'foo', 'bar', 'foo', 'foo'],\n",
    "                        'B': ['one', 'one', 'two', 'three',\n",
    "                          'two', 'two', 'one', 'three'],\n",
    "                       'C': np.random.randn(8),\n",
    "                       'D': np.random.randn(8)})\n",
    "\n",
    "df"
   ]
  },
  {
   "cell_type": "code",
   "execution_count": 17,
   "id": "0c9f557d-0c93-4a3e-999e-194139820f94",
   "metadata": {},
   "outputs": [],
   "source": [
    "# Group the DataFrame by column A and sum the values of C and D."
   ]
  },
  {
   "cell_type": "code",
   "execution_count": 21,
   "id": "5c4d14ca-a63f-43e5-a8f0-27cd87e3b9a2",
   "metadata": {},
   "outputs": [
    {
     "data": {
      "text/html": [
       "<div>\n",
       "<style scoped>\n",
       "    .dataframe tbody tr th:only-of-type {\n",
       "        vertical-align: middle;\n",
       "    }\n",
       "\n",
       "    .dataframe tbody tr th {\n",
       "        vertical-align: top;\n",
       "    }\n",
       "\n",
       "    .dataframe thead th {\n",
       "        text-align: right;\n",
       "    }\n",
       "</style>\n",
       "<table border=\"1\" class=\"dataframe\">\n",
       "  <thead>\n",
       "    <tr style=\"text-align: right;\">\n",
       "      <th></th>\n",
       "      <th>B</th>\n",
       "      <th>C</th>\n",
       "      <th>D</th>\n",
       "    </tr>\n",
       "    <tr>\n",
       "      <th>A</th>\n",
       "      <th></th>\n",
       "      <th></th>\n",
       "      <th></th>\n",
       "    </tr>\n",
       "  </thead>\n",
       "  <tbody>\n",
       "    <tr>\n",
       "      <th>bar</th>\n",
       "      <td>onethreetwo</td>\n",
       "      <td>1.008215</td>\n",
       "      <td>0.317528</td>\n",
       "    </tr>\n",
       "    <tr>\n",
       "      <th>foo</th>\n",
       "      <td>onetwotwoonethree</td>\n",
       "      <td>0.281721</td>\n",
       "      <td>3.622120</td>\n",
       "    </tr>\n",
       "  </tbody>\n",
       "</table>\n",
       "</div>"
      ],
      "text/plain": [
       "                     B         C         D\n",
       "A                                         \n",
       "bar        onethreetwo  1.008215  0.317528\n",
       "foo  onetwotwoonethree  0.281721  3.622120"
      ]
     },
     "execution_count": 21,
     "metadata": {},
     "output_type": "execute_result"
    }
   ],
   "source": [
    "df.groupby('A').sum()"
   ]
  },
  {
   "cell_type": "markdown",
   "id": "b060affe-3751-4b41-abea-31caff8bce86",
   "metadata": {},
   "source": [
    "- We can also group by multiple columns. This operation will create a new DataFrame with Multilevel Index."
   ]
  },
  {
   "cell_type": "code",
   "execution_count": 19,
   "id": "815a996f-5110-447f-b73c-999b9ec46e6c",
   "metadata": {},
   "outputs": [
    {
     "data": {
      "text/html": [
       "<div>\n",
       "<style scoped>\n",
       "    .dataframe tbody tr th:only-of-type {\n",
       "        vertical-align: middle;\n",
       "    }\n",
       "\n",
       "    .dataframe tbody tr th {\n",
       "        vertical-align: top;\n",
       "    }\n",
       "\n",
       "    .dataframe thead th {\n",
       "        text-align: right;\n",
       "    }\n",
       "</style>\n",
       "<table border=\"1\" class=\"dataframe\">\n",
       "  <thead>\n",
       "    <tr style=\"text-align: right;\">\n",
       "      <th></th>\n",
       "      <th></th>\n",
       "      <th>C</th>\n",
       "      <th>D</th>\n",
       "    </tr>\n",
       "    <tr>\n",
       "      <th>A</th>\n",
       "      <th>B</th>\n",
       "      <th></th>\n",
       "      <th></th>\n",
       "    </tr>\n",
       "  </thead>\n",
       "  <tbody>\n",
       "    <tr>\n",
       "      <th rowspan=\"3\" valign=\"top\">bar</th>\n",
       "      <th>one</th>\n",
       "      <td>0.992418</td>\n",
       "      <td>-0.212261</td>\n",
       "    </tr>\n",
       "    <tr>\n",
       "      <th>three</th>\n",
       "      <td>-0.354946</td>\n",
       "      <td>-0.161320</td>\n",
       "    </tr>\n",
       "    <tr>\n",
       "      <th>two</th>\n",
       "      <td>0.370743</td>\n",
       "      <td>0.691109</td>\n",
       "    </tr>\n",
       "    <tr>\n",
       "      <th rowspan=\"3\" valign=\"top\">foo</th>\n",
       "      <th>one</th>\n",
       "      <td>-1.349069</td>\n",
       "      <td>1.365345</td>\n",
       "    </tr>\n",
       "    <tr>\n",
       "      <th>three</th>\n",
       "      <td>-0.142117</td>\n",
       "      <td>1.914279</td>\n",
       "    </tr>\n",
       "    <tr>\n",
       "      <th>two</th>\n",
       "      <td>1.772908</td>\n",
       "      <td>0.342496</td>\n",
       "    </tr>\n",
       "  </tbody>\n",
       "</table>\n",
       "</div>"
      ],
      "text/plain": [
       "                  C         D\n",
       "A   B                        \n",
       "bar one    0.992418 -0.212261\n",
       "    three -0.354946 -0.161320\n",
       "    two    0.370743  0.691109\n",
       "foo one   -1.349069  1.365345\n",
       "    three -0.142117  1.914279\n",
       "    two    1.772908  0.342496"
      ]
     },
     "execution_count": 19,
     "metadata": {},
     "output_type": "execute_result"
    }
   ],
   "source": [
    "df.groupby(['A', 'B']).sum()"
   ]
  },
  {
   "cell_type": "code",
   "execution_count": 22,
   "id": "98906a64-bcbc-44d6-b181-d9f45c593919",
   "metadata": {},
   "outputs": [
    {
     "data": {
      "text/html": [
       "<div>\n",
       "<style scoped>\n",
       "    .dataframe tbody tr th:only-of-type {\n",
       "        vertical-align: middle;\n",
       "    }\n",
       "\n",
       "    .dataframe tbody tr th {\n",
       "        vertical-align: top;\n",
       "    }\n",
       "\n",
       "    .dataframe thead th {\n",
       "        text-align: right;\n",
       "    }\n",
       "</style>\n",
       "<table border=\"1\" class=\"dataframe\">\n",
       "  <thead>\n",
       "    <tr style=\"text-align: right;\">\n",
       "      <th></th>\n",
       "      <th>C</th>\n",
       "      <th>D</th>\n",
       "    </tr>\n",
       "    <tr>\n",
       "      <th>A</th>\n",
       "      <th></th>\n",
       "      <th></th>\n",
       "    </tr>\n",
       "  </thead>\n",
       "  <tbody>\n",
       "    <tr>\n",
       "      <th>bar</th>\n",
       "      <td>1.008215</td>\n",
       "      <td>0.317528</td>\n",
       "    </tr>\n",
       "    <tr>\n",
       "      <th>foo</th>\n",
       "      <td>0.281721</td>\n",
       "      <td>3.622120</td>\n",
       "    </tr>\n",
       "  </tbody>\n",
       "</table>\n",
       "</div>"
      ],
      "text/plain": [
       "            C         D\n",
       "A                      \n",
       "bar  1.008215  0.317528\n",
       "foo  0.281721  3.622120"
      ]
     },
     "execution_count": 22,
     "metadata": {},
     "output_type": "execute_result"
    }
   ],
   "source": [
    "# If we want to omit column D from group by A. Notice the string column gets addes too\n",
    "df.groupby('A').sum(['C', 'D'])"
   ]
  },
  {
   "cell_type": "code",
   "execution_count": null,
   "id": "795a75f2-c4a6-4d48-bb6f-88982221266a",
   "metadata": {},
   "outputs": [],
   "source": []
  }
 ],
 "metadata": {
  "kernelspec": {
   "display_name": "THE_ONE",
   "language": "python",
   "name": "the_one"
  },
  "language_info": {
   "codemirror_mode": {
    "name": "ipython",
    "version": 3
   },
   "file_extension": ".py",
   "mimetype": "text/x-python",
   "name": "python",
   "nbconvert_exporter": "python",
   "pygments_lexer": "ipython3",
   "version": "3.8.16"
  }
 },
 "nbformat": 4,
 "nbformat_minor": 5
}
